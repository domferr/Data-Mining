{
 "cells": [
  {
   "cell_type": "code",
   "execution_count": 1,
   "id": "274e27f9-c19e-40f6-8039-249f1643ab3e",
   "metadata": {},
   "outputs": [],
   "source": [
    "%matplotlib inline\n",
    "import math\n",
    "import numpy as np\n",
    "import pandas as pd\n",
    "import matplotlib.pyplot as plt\n",
    "import plotly.express as plt_ex\n",
    "\n",
    "def countMissingValues(df, attr):\n",
    "    count = df[attr].isna().sum()\n",
    "    print(count, \"missing\", attr, \"values\")\n",
    "    return count"
   ]
  },
  {
   "cell_type": "code",
   "execution_count": 2,
   "id": "c5435894-44b3-4b22-a79c-e9ae29af8e92",
   "metadata": {},
   "outputs": [],
   "source": [
    "datasetTweetsCSVPath = \"./dataset/tweets.csv\""
   ]
  },
  {
   "cell_type": "code",
   "execution_count": 3,
   "id": "7ecbbe66-28c4-47e9-8f5c-7540de79245a",
   "metadata": {},
   "outputs": [],
   "source": [
    "df_tweets = pd.read_csv(datasetTweetsCSVPath, sep=',', index_col=0)"
   ]
  },
  {
   "cell_type": "code",
   "execution_count": 4,
   "id": "de120c1b-1741-4d3b-b424-9a0f678cf510",
   "metadata": {},
   "outputs": [
    {
     "data": {
      "text/plain": [
       "(13664696, 9)"
      ]
     },
     "execution_count": 4,
     "metadata": {},
     "output_type": "execute_result"
    }
   ],
   "source": [
    "df_tweets.shape"
   ]
  },
  {
   "cell_type": "code",
   "execution_count": 5,
   "id": "98e3eed4-bd1c-44a1-b1c2-cb20752ae7ae",
   "metadata": {},
   "outputs": [],
   "source": [
    "df_tweets.text = df_tweets.text.apply(lambda x:x.lower().strip() if type(x) == str else x)"
   ]
  },
  {
   "cell_type": "code",
   "execution_count": 6,
   "id": "f9299d95-9548-4fb8-a635-f05559c943a0",
   "metadata": {},
   "outputs": [],
   "source": [
    "df_tweets = df_tweets.drop_duplicates(keep='first')"
   ]
  },
  {
   "cell_type": "code",
   "execution_count": 7,
   "id": "935715ff-0928-4834-984b-26ebad537aba",
   "metadata": {},
   "outputs": [
    {
     "data": {
      "text/plain": [
       "(11712091, 9)"
      ]
     },
     "execution_count": 7,
     "metadata": {},
     "output_type": "execute_result"
    }
   ],
   "source": [
    "df_tweets.shape"
   ]
  },
  {
   "cell_type": "code",
   "execution_count": 8,
   "id": "886affb5-f122-48b1-810c-7fbb394cde6d",
   "metadata": {},
   "outputs": [
    {
     "data": {
      "text/html": [
       "<div>\n",
       "<style scoped>\n",
       "    .dataframe tbody tr th:only-of-type {\n",
       "        vertical-align: middle;\n",
       "    }\n",
       "\n",
       "    .dataframe tbody tr th {\n",
       "        vertical-align: top;\n",
       "    }\n",
       "\n",
       "    .dataframe thead th {\n",
       "        text-align: right;\n",
       "    }\n",
       "</style>\n",
       "<table border=\"1\" class=\"dataframe\">\n",
       "  <thead>\n",
       "    <tr style=\"text-align: right;\">\n",
       "      <th></th>\n",
       "      <th>user_id</th>\n",
       "      <th>retweet_count</th>\n",
       "      <th>reply_count</th>\n",
       "      <th>favorite_count</th>\n",
       "      <th>num_hashtags</th>\n",
       "      <th>num_urls</th>\n",
       "      <th>num_mentions</th>\n",
       "      <th>created_at</th>\n",
       "      <th>text</th>\n",
       "    </tr>\n",
       "    <tr>\n",
       "      <th>id</th>\n",
       "      <th></th>\n",
       "      <th></th>\n",
       "      <th></th>\n",
       "      <th></th>\n",
       "      <th></th>\n",
       "      <th></th>\n",
       "      <th></th>\n",
       "      <th></th>\n",
       "      <th></th>\n",
       "    </tr>\n",
       "  </thead>\n",
       "  <tbody>\n",
       "    <tr>\n",
       "      <th>1197679862</th>\n",
       "      <td>19300510</td>\n",
       "      <td>0</td>\n",
       "      <td>0</td>\n",
       "      <td>0</td>\n",
       "      <td>0</td>\n",
       "      <td>0</td>\n",
       "      <td>0</td>\n",
       "      <td>2014-02-13 01:59:29</td>\n",
       "      <td></td>\n",
       "    </tr>\n",
       "  </tbody>\n",
       "</table>\n",
       "</div>"
      ],
      "text/plain": [
       "             user_id retweet_count reply_count favorite_count num_hashtags  \\\n",
       "id                                                                           \n",
       "1197679862  19300510             0           0              0            0   \n",
       "\n",
       "           num_urls num_mentions           created_at text  \n",
       "id                                                          \n",
       "1197679862        0            0  2014-02-13 01:59:29       "
      ]
     },
     "execution_count": 8,
     "metadata": {},
     "output_type": "execute_result"
    }
   ],
   "source": [
    "df_tweets[df_tweets.text == \"\"]"
   ]
  },
  {
   "cell_type": "code",
   "execution_count": 9,
   "id": "395e4545-f483-4f9c-bb24-c23cd0fb3f88",
   "metadata": {},
   "outputs": [],
   "source": [
    "df_tweets.loc[df_tweets.text == \"\", \"text\"] = np.nan"
   ]
  },
  {
   "cell_type": "code",
   "execution_count": 10,
   "id": "dc648b3e-3fbd-402f-9a73-3f163c728bb3",
   "metadata": {},
   "outputs": [
    {
     "data": {
      "text/plain": [
       "user_id                      19300510\n",
       "retweet_count                       0\n",
       "reply_count                         0\n",
       "favorite_count                      0\n",
       "num_hashtags                        0\n",
       "num_urls                            0\n",
       "num_mentions                        0\n",
       "created_at        2014-02-13 01:59:29\n",
       "text                              NaN\n",
       "Name: 1197679862, dtype: object"
      ]
     },
     "execution_count": 10,
     "metadata": {},
     "output_type": "execute_result"
    }
   ],
   "source": [
    "df_tweets.loc[\"1197679862\"]"
   ]
  },
  {
   "cell_type": "code",
   "execution_count": 11,
   "id": "ef1e65d3-eedf-493b-9eb0-58508bad212f",
   "metadata": {},
   "outputs": [
    {
     "data": {
      "text/plain": [
       "530032"
      ]
     },
     "execution_count": 11,
     "metadata": {},
     "output_type": "execute_result"
    }
   ],
   "source": [
    "df_tweets.text.isna().sum()"
   ]
  },
  {
   "cell_type": "code",
   "execution_count": 12,
   "id": "f8946c34-33b0-4841-8f2a-aade9742d5bd",
   "metadata": {},
   "outputs": [],
   "source": [
    "def IsInteger(num):\n",
    "    try:\n",
    "        val = float(num)\n",
    "        return float.is_integer(val)\n",
    "    except ValueError:\n",
    "        return False\n",
    "\n",
    "def countIntegers(df, attr):\n",
    "    numbers = df_tweets[attr].apply(IsInteger).sum()\n",
    "    print(\"Number of not NaN integers\", numbers)\n",
    "    \n",
    "def object_to_numeric(df, attr):\n",
    "    print(\"Type before conversion:\", df[attr].dtype)\n",
    "    old_missingval = df[attr].isna().sum()\n",
    "    print(\"Missing values before conversion:\", old_missingval)\n",
    "    # coerces non-numeric junk to NaNs\n",
    "    df[attr] = pd.to_numeric(df[attr], errors='coerce', downcast='integer')\n",
    "    #df[attr].fillna(-1).astype(np.int64)\n",
    "    new_missingval = df[attr].isna().sum()\n",
    "    print(\"Missing values after conversion:\", new_missingval)\n",
    "    print(\"Type after conversion:\", df[attr].dtype)\n",
    "    print(\"Min:\", df[attr].min(), \"\\tMax:\", df[attr].max())"
   ]
  },
  {
   "cell_type": "code",
   "execution_count": 13,
   "id": "1f648347-fe66-44b4-8388-abf4aeb34606",
   "metadata": {},
   "outputs": [
    {
     "name": "stdout",
     "output_type": "stream",
     "text": [
      "Number of not NaN integers 11278203\n"
     ]
    }
   ],
   "source": [
    "countIntegers(df_tweets, \"user_id\")"
   ]
  },
  {
   "cell_type": "code",
   "execution_count": 14,
   "id": "869dee1f-6576-4f0e-87ac-e739d17fd08f",
   "metadata": {},
   "outputs": [
    {
     "name": "stdout",
     "output_type": "stream",
     "text": [
      "Type before conversion: object\n",
      "Missing values before conversion: 217276\n",
      "Missing values after conversion: 433888\n",
      "Type after conversion: float64\n",
      "Min: 0.0 \tMax: 2.9999999999999998e+296\n"
     ]
    }
   ],
   "source": [
    "object_to_numeric(df_tweets, \"user_id\")"
   ]
  },
  {
   "cell_type": "code",
   "execution_count": 15,
   "id": "9ca480e9-85b0-4b03-99a7-9abaec7285c8",
   "metadata": {},
   "outputs": [
    {
     "name": "stdout",
     "output_type": "stream",
     "text": [
      "Number of not NaN integers 11086634\n"
     ]
    }
   ],
   "source": [
    "countIntegers(df_tweets, \"retweet_count\")"
   ]
  },
  {
   "cell_type": "code",
   "execution_count": 16,
   "id": "c0f40215-f0af-4cb2-85ed-db72ebac0018",
   "metadata": {},
   "outputs": [
    {
     "name": "stdout",
     "output_type": "stream",
     "text": [
      "Type before conversion: object\n",
      "Missing values before conversion: 437134\n",
      "Missing values after conversion: 625456\n",
      "Type after conversion: float64\n",
      "Min: 0.0 \tMax: inf\n"
     ]
    }
   ],
   "source": [
    "object_to_numeric(df_tweets, \"retweet_count\")"
   ]
  },
  {
   "cell_type": "code",
   "execution_count": 36,
   "id": "cb3d2226-3d9c-4ea0-9965-5621ce937fd7",
   "metadata": {},
   "outputs": [
    {
     "data": {
      "text/html": [
       "<div>\n",
       "<style scoped>\n",
       "    .dataframe tbody tr th:only-of-type {\n",
       "        vertical-align: middle;\n",
       "    }\n",
       "\n",
       "    .dataframe tbody tr th {\n",
       "        vertical-align: top;\n",
       "    }\n",
       "\n",
       "    .dataframe thead th {\n",
       "        text-align: right;\n",
       "    }\n",
       "</style>\n",
       "<table border=\"1\" class=\"dataframe\">\n",
       "  <thead>\n",
       "    <tr style=\"text-align: right;\">\n",
       "      <th></th>\n",
       "      <th>user_id</th>\n",
       "      <th>retweet_count</th>\n",
       "      <th>reply_count</th>\n",
       "      <th>favorite_count</th>\n",
       "      <th>num_hashtags</th>\n",
       "      <th>num_urls</th>\n",
       "      <th>num_mentions</th>\n",
       "      <th>created_at</th>\n",
       "      <th>text</th>\n",
       "    </tr>\n",
       "    <tr>\n",
       "      <th>id</th>\n",
       "      <th></th>\n",
       "      <th></th>\n",
       "      <th></th>\n",
       "      <th></th>\n",
       "      <th></th>\n",
       "      <th></th>\n",
       "      <th></th>\n",
       "      <th></th>\n",
       "      <th></th>\n",
       "    </tr>\n",
       "  </thead>\n",
       "  <tbody>\n",
       "    <tr>\n",
       "      <th>25722144302443379</th>\n",
       "      <td>201350011.0</td>\n",
       "      <td>inf</td>\n",
       "      <td>NaN</td>\n",
       "      <td>NaN</td>\n",
       "      <td>NaN</td>\n",
       "      <td>NaN</td>\n",
       "      <td>NaN</td>\n",
       "      <td>2018-05-05 15:15:05</td>\n",
       "      <td>@enlajugadarcn @casaleantonio @jorgebermudezh ...</td>\n",
       "    </tr>\n",
       "  </tbody>\n",
       "</table>\n",
       "</div>"
      ],
      "text/plain": [
       "                       user_id  retweet_count  reply_count  favorite_count  \\\n",
       "id                                                                           \n",
       "25722144302443379  201350011.0            inf          NaN             NaN   \n",
       "\n",
       "                   num_hashtags  num_urls  num_mentions          created_at  \\\n",
       "id                                                                            \n",
       "25722144302443379           NaN       NaN           NaN 2018-05-05 15:15:05   \n",
       "\n",
       "                                                                text  \n",
       "id                                                                    \n",
       "25722144302443379  @enlajugadarcn @casaleantonio @jorgebermudezh ...  "
      ]
     },
     "execution_count": 36,
     "metadata": {},
     "output_type": "execute_result"
    }
   ],
   "source": [
    "df_tweets[df_tweets.retweet_count == np.inf]"
   ]
  },
  {
   "cell_type": "code",
   "execution_count": 37,
   "id": "a2338d05-2287-4943-a84b-e8ed262f21be",
   "metadata": {},
   "outputs": [],
   "source": [
    "df_tweets.loc[df_tweets.retweet_count == np.inf] = np.nan"
   ]
  },
  {
   "cell_type": "code",
   "execution_count": 38,
   "id": "613721b8-7516-4910-bcea-acba7a78b9f5",
   "metadata": {},
   "outputs": [
    {
     "data": {
      "text/html": [
       "<div>\n",
       "<style scoped>\n",
       "    .dataframe tbody tr th:only-of-type {\n",
       "        vertical-align: middle;\n",
       "    }\n",
       "\n",
       "    .dataframe tbody tr th {\n",
       "        vertical-align: top;\n",
       "    }\n",
       "\n",
       "    .dataframe thead th {\n",
       "        text-align: right;\n",
       "    }\n",
       "</style>\n",
       "<table border=\"1\" class=\"dataframe\">\n",
       "  <thead>\n",
       "    <tr style=\"text-align: right;\">\n",
       "      <th></th>\n",
       "      <th>user_id</th>\n",
       "      <th>retweet_count</th>\n",
       "      <th>reply_count</th>\n",
       "      <th>favorite_count</th>\n",
       "      <th>num_hashtags</th>\n",
       "      <th>num_urls</th>\n",
       "      <th>num_mentions</th>\n",
       "      <th>created_at</th>\n",
       "      <th>text</th>\n",
       "    </tr>\n",
       "    <tr>\n",
       "      <th>id</th>\n",
       "      <th></th>\n",
       "      <th></th>\n",
       "      <th></th>\n",
       "      <th></th>\n",
       "      <th></th>\n",
       "      <th></th>\n",
       "      <th></th>\n",
       "      <th></th>\n",
       "      <th></th>\n",
       "    </tr>\n",
       "  </thead>\n",
       "  <tbody>\n",
       "  </tbody>\n",
       "</table>\n",
       "</div>"
      ],
      "text/plain": [
       "Empty DataFrame\n",
       "Columns: [user_id, retweet_count, reply_count, favorite_count, num_hashtags, num_urls, num_mentions, created_at, text]\n",
       "Index: []"
      ]
     },
     "execution_count": 38,
     "metadata": {},
     "output_type": "execute_result"
    }
   ],
   "source": [
    "df_tweets[df_tweets.retweet_count == np.inf]"
   ]
  },
  {
   "cell_type": "code",
   "execution_count": 17,
   "id": "8eb8a0ec-ad01-41c4-b89e-c9b33f9f231b",
   "metadata": {},
   "outputs": [
    {
     "name": "stdout",
     "output_type": "stream",
     "text": [
      "Number of not NaN integers 10902591\n"
     ]
    }
   ],
   "source": [
    "countIntegers(df_tweets, \"reply_count\")"
   ]
  },
  {
   "cell_type": "code",
   "execution_count": 18,
   "id": "a1b37269-5a36-4e83-9fe1-12341cd5febb",
   "metadata": {},
   "outputs": [
    {
     "name": "stdout",
     "output_type": "stream",
     "text": [
      "Type before conversion: object\n",
      "Missing values before conversion: 647873\n",
      "Missing values after conversion: 809499\n",
      "Type after conversion: float64\n",
      "Min: 0.0 \tMax: inf\n"
     ]
    }
   ],
   "source": [
    "object_to_numeric(df_tweets, \"reply_count\")"
   ]
  },
  {
   "cell_type": "code",
   "execution_count": 39,
   "id": "a3afa496-ec36-4bb6-aa89-c53c70097f2b",
   "metadata": {},
   "outputs": [
    {
     "data": {
      "text/html": [
       "<div>\n",
       "<style scoped>\n",
       "    .dataframe tbody tr th:only-of-type {\n",
       "        vertical-align: middle;\n",
       "    }\n",
       "\n",
       "    .dataframe tbody tr th {\n",
       "        vertical-align: top;\n",
       "    }\n",
       "\n",
       "    .dataframe thead th {\n",
       "        text-align: right;\n",
       "    }\n",
       "</style>\n",
       "<table border=\"1\" class=\"dataframe\">\n",
       "  <thead>\n",
       "    <tr style=\"text-align: right;\">\n",
       "      <th></th>\n",
       "      <th>user_id</th>\n",
       "      <th>retweet_count</th>\n",
       "      <th>reply_count</th>\n",
       "      <th>favorite_count</th>\n",
       "      <th>num_hashtags</th>\n",
       "      <th>num_urls</th>\n",
       "      <th>num_mentions</th>\n",
       "      <th>created_at</th>\n",
       "      <th>text</th>\n",
       "    </tr>\n",
       "    <tr>\n",
       "      <th>id</th>\n",
       "      <th></th>\n",
       "      <th></th>\n",
       "      <th></th>\n",
       "      <th></th>\n",
       "      <th></th>\n",
       "      <th></th>\n",
       "      <th></th>\n",
       "      <th></th>\n",
       "      <th></th>\n",
       "    </tr>\n",
       "  </thead>\n",
       "  <tbody>\n",
       "    <tr>\n",
       "      <th>732386427</th>\n",
       "      <td>466377491.0</td>\n",
       "      <td>0.0</td>\n",
       "      <td>inf</td>\n",
       "      <td>1.0</td>\n",
       "      <td>0.0</td>\n",
       "      <td>NaN</td>\n",
       "      <td>0.0</td>\n",
       "      <td>2019-08-29 13:04:45</td>\n",
       "      <td>prima di andare via sorridi un po' ma comunque...</td>\n",
       "    </tr>\n",
       "  </tbody>\n",
       "</table>\n",
       "</div>"
      ],
      "text/plain": [
       "               user_id  retweet_count  reply_count  favorite_count  \\\n",
       "id                                                                   \n",
       "732386427  466377491.0            0.0          inf             1.0   \n",
       "\n",
       "           num_hashtags  num_urls  num_mentions          created_at  \\\n",
       "id                                                                    \n",
       "732386427           0.0       NaN           0.0 2019-08-29 13:04:45   \n",
       "\n",
       "                                                        text  \n",
       "id                                                            \n",
       "732386427  prima di andare via sorridi un po' ma comunque...  "
      ]
     },
     "execution_count": 39,
     "metadata": {},
     "output_type": "execute_result"
    }
   ],
   "source": [
    "df_tweets[df_tweets.reply_count == np.inf]"
   ]
  },
  {
   "cell_type": "code",
   "execution_count": 41,
   "id": "4ceb0b40-5051-4a1d-a4b9-3cb928459240",
   "metadata": {},
   "outputs": [],
   "source": [
    "df_tweets.loc[df_tweets.reply_count == np.inf] = np.nan"
   ]
  },
  {
   "cell_type": "code",
   "execution_count": 42,
   "id": "f06aa48f-6385-436d-91ba-71087cbefda3",
   "metadata": {},
   "outputs": [
    {
     "data": {
      "text/html": [
       "<div>\n",
       "<style scoped>\n",
       "    .dataframe tbody tr th:only-of-type {\n",
       "        vertical-align: middle;\n",
       "    }\n",
       "\n",
       "    .dataframe tbody tr th {\n",
       "        vertical-align: top;\n",
       "    }\n",
       "\n",
       "    .dataframe thead th {\n",
       "        text-align: right;\n",
       "    }\n",
       "</style>\n",
       "<table border=\"1\" class=\"dataframe\">\n",
       "  <thead>\n",
       "    <tr style=\"text-align: right;\">\n",
       "      <th></th>\n",
       "      <th>user_id</th>\n",
       "      <th>retweet_count</th>\n",
       "      <th>reply_count</th>\n",
       "      <th>favorite_count</th>\n",
       "      <th>num_hashtags</th>\n",
       "      <th>num_urls</th>\n",
       "      <th>num_mentions</th>\n",
       "      <th>created_at</th>\n",
       "      <th>text</th>\n",
       "    </tr>\n",
       "    <tr>\n",
       "      <th>id</th>\n",
       "      <th></th>\n",
       "      <th></th>\n",
       "      <th></th>\n",
       "      <th></th>\n",
       "      <th></th>\n",
       "      <th></th>\n",
       "      <th></th>\n",
       "      <th></th>\n",
       "      <th></th>\n",
       "    </tr>\n",
       "  </thead>\n",
       "  <tbody>\n",
       "  </tbody>\n",
       "</table>\n",
       "</div>"
      ],
      "text/plain": [
       "Empty DataFrame\n",
       "Columns: [user_id, retweet_count, reply_count, favorite_count, num_hashtags, num_urls, num_mentions, created_at, text]\n",
       "Index: []"
      ]
     },
     "execution_count": 42,
     "metadata": {},
     "output_type": "execute_result"
    }
   ],
   "source": [
    "df_tweets[df_tweets.reply_count == np.inf]"
   ]
  },
  {
   "cell_type": "code",
   "execution_count": 19,
   "id": "c2672d6e-c82a-4ed3-9d07-e7d67d7b7f6a",
   "metadata": {},
   "outputs": [
    {
     "name": "stdout",
     "output_type": "stream",
     "text": [
      "Number of not NaN integers 10903995\n"
     ]
    }
   ],
   "source": [
    "countIntegers(df_tweets, \"favorite_count\")"
   ]
  },
  {
   "cell_type": "code",
   "execution_count": 20,
   "id": "0d7796fe-9b8d-4a87-9a22-486705942c9e",
   "metadata": {},
   "outputs": [
    {
     "name": "stdout",
     "output_type": "stream",
     "text": [
      "Type before conversion: object\n",
      "Missing values before conversion: 647541\n",
      "Missing values after conversion: 808096\n",
      "Type after conversion: float64\n",
      "Min: -1.0 \tMax: 7e+211\n"
     ]
    }
   ],
   "source": [
    "object_to_numeric(df_tweets, \"favorite_count\")"
   ]
  },
  {
   "cell_type": "code",
   "execution_count": 44,
   "id": "06529022-10d4-44d5-9fac-bdf630d47b82",
   "metadata": {},
   "outputs": [
    {
     "data": {
      "text/html": [
       "<div>\n",
       "<style scoped>\n",
       "    .dataframe tbody tr th:only-of-type {\n",
       "        vertical-align: middle;\n",
       "    }\n",
       "\n",
       "    .dataframe tbody tr th {\n",
       "        vertical-align: top;\n",
       "    }\n",
       "\n",
       "    .dataframe thead th {\n",
       "        text-align: right;\n",
       "    }\n",
       "</style>\n",
       "<table border=\"1\" class=\"dataframe\">\n",
       "  <thead>\n",
       "    <tr style=\"text-align: right;\">\n",
       "      <th></th>\n",
       "      <th>user_id</th>\n",
       "      <th>retweet_count</th>\n",
       "      <th>reply_count</th>\n",
       "      <th>favorite_count</th>\n",
       "      <th>num_hashtags</th>\n",
       "      <th>num_urls</th>\n",
       "      <th>num_mentions</th>\n",
       "      <th>created_at</th>\n",
       "      <th>text</th>\n",
       "    </tr>\n",
       "    <tr>\n",
       "      <th>id</th>\n",
       "      <th></th>\n",
       "      <th></th>\n",
       "      <th></th>\n",
       "      <th></th>\n",
       "      <th></th>\n",
       "      <th></th>\n",
       "      <th></th>\n",
       "      <th></th>\n",
       "      <th></th>\n",
       "    </tr>\n",
       "  </thead>\n",
       "  <tbody>\n",
       "    <tr>\n",
       "      <th>521392611366797312</th>\n",
       "      <td>466480215.0</td>\n",
       "      <td>1.0</td>\n",
       "      <td>0.0</td>\n",
       "      <td>-1.0</td>\n",
       "      <td>0.0</td>\n",
       "      <td>0.0</td>\n",
       "      <td>0.0</td>\n",
       "      <td>2019-10-14 20:11:00</td>\n",
       "      <td>studiare studiar studi stud stu st sto stoc st...</td>\n",
       "    </tr>\n",
       "  </tbody>\n",
       "</table>\n",
       "</div>"
      ],
      "text/plain": [
       "                        user_id  retweet_count  reply_count  favorite_count  \\\n",
       "id                                                                            \n",
       "521392611366797312  466480215.0            1.0          0.0            -1.0   \n",
       "\n",
       "                    num_hashtags  num_urls  num_mentions          created_at  \\\n",
       "id                                                                             \n",
       "521392611366797312           0.0       0.0           0.0 2019-10-14 20:11:00   \n",
       "\n",
       "                                                                 text  \n",
       "id                                                                     \n",
       "521392611366797312  studiare studiar studi stud stu st sto stoc st...  "
      ]
     },
     "execution_count": 44,
     "metadata": {},
     "output_type": "execute_result"
    }
   ],
   "source": [
    "df_tweets[df_tweets.favorite_count == -1]"
   ]
  },
  {
   "cell_type": "code",
   "execution_count": 45,
   "id": "d54310ce-7100-41e1-abec-6d08ce1b5440",
   "metadata": {},
   "outputs": [],
   "source": [
    "df_tweets.loc[df_tweets.favorite_count == -1] = np.nan"
   ]
  },
  {
   "cell_type": "code",
   "execution_count": 46,
   "id": "c90caedf-503f-410a-9211-fcb90c73fbff",
   "metadata": {},
   "outputs": [
    {
     "data": {
      "text/html": [
       "<div>\n",
       "<style scoped>\n",
       "    .dataframe tbody tr th:only-of-type {\n",
       "        vertical-align: middle;\n",
       "    }\n",
       "\n",
       "    .dataframe tbody tr th {\n",
       "        vertical-align: top;\n",
       "    }\n",
       "\n",
       "    .dataframe thead th {\n",
       "        text-align: right;\n",
       "    }\n",
       "</style>\n",
       "<table border=\"1\" class=\"dataframe\">\n",
       "  <thead>\n",
       "    <tr style=\"text-align: right;\">\n",
       "      <th></th>\n",
       "      <th>user_id</th>\n",
       "      <th>retweet_count</th>\n",
       "      <th>reply_count</th>\n",
       "      <th>favorite_count</th>\n",
       "      <th>num_hashtags</th>\n",
       "      <th>num_urls</th>\n",
       "      <th>num_mentions</th>\n",
       "      <th>created_at</th>\n",
       "      <th>text</th>\n",
       "    </tr>\n",
       "    <tr>\n",
       "      <th>id</th>\n",
       "      <th></th>\n",
       "      <th></th>\n",
       "      <th></th>\n",
       "      <th></th>\n",
       "      <th></th>\n",
       "      <th></th>\n",
       "      <th></th>\n",
       "      <th></th>\n",
       "      <th></th>\n",
       "    </tr>\n",
       "  </thead>\n",
       "  <tbody>\n",
       "  </tbody>\n",
       "</table>\n",
       "</div>"
      ],
      "text/plain": [
       "Empty DataFrame\n",
       "Columns: [user_id, retweet_count, reply_count, favorite_count, num_hashtags, num_urls, num_mentions, created_at, text]\n",
       "Index: []"
      ]
     },
     "execution_count": 46,
     "metadata": {},
     "output_type": "execute_result"
    }
   ],
   "source": [
    "df_tweets[df_tweets.favorite_count == -1]"
   ]
  },
  {
   "cell_type": "code",
   "execution_count": 21,
   "id": "4cd3238c-d7d9-4397-9dc7-2a21cb02e33a",
   "metadata": {},
   "outputs": [
    {
     "name": "stdout",
     "output_type": "stream",
     "text": [
      "Number of not NaN integers 10548430\n"
     ]
    }
   ],
   "source": [
    "countIntegers(df_tweets, \"num_hashtags\")"
   ]
  },
  {
   "cell_type": "code",
   "execution_count": 22,
   "id": "5ba0feca-327d-4b5d-8e48-92fc1279ecc4",
   "metadata": {},
   "outputs": [
    {
     "name": "stdout",
     "output_type": "stream",
     "text": [
      "Type before conversion: object\n",
      "Missing values before conversion: 1057508\n",
      "Missing values after conversion: 1163661\n",
      "Type after conversion: float64\n",
      "Min: 0.0 \tMax: 7e+153\n"
     ]
    }
   ],
   "source": [
    "object_to_numeric(df_tweets, \"num_hashtags\")"
   ]
  },
  {
   "cell_type": "code",
   "execution_count": 23,
   "id": "23be39e9-ee40-427d-9ac0-aaa1955ceb1c",
   "metadata": {},
   "outputs": [
    {
     "name": "stdout",
     "output_type": "stream",
     "text": [
      "Number of not NaN integers 10903150\n"
     ]
    }
   ],
   "source": [
    "countIntegers(df_tweets, \"num_urls\")"
   ]
  },
  {
   "cell_type": "code",
   "execution_count": 24,
   "id": "68093d92-1ab2-4796-a4f7-16b48051c0af",
   "metadata": {},
   "outputs": [
    {
     "name": "stdout",
     "output_type": "stream",
     "text": [
      "Type before conversion: object\n",
      "Missing values before conversion: 648611\n",
      "Missing values after conversion: 808941\n",
      "Type after conversion: float64\n",
      "Min: 0.0 \tMax: 1e+210\n"
     ]
    }
   ],
   "source": [
    "object_to_numeric(df_tweets, \"num_urls\")"
   ]
  },
  {
   "cell_type": "code",
   "execution_count": 25,
   "id": "5af33eca-4b15-4c0f-bf3a-39674a95d45a",
   "metadata": {},
   "outputs": [
    {
     "name": "stdout",
     "output_type": "stream",
     "text": [
      "Number of not NaN integers 10724117\n"
     ]
    }
   ],
   "source": [
    "countIntegers(df_tweets, \"num_mentions\")"
   ]
  },
  {
   "cell_type": "code",
   "execution_count": 26,
   "id": "03b388ae-2d7c-439d-8ef0-5bad6d3d5af5",
   "metadata": {},
   "outputs": [
    {
     "name": "stdout",
     "output_type": "stream",
     "text": [
      "Type before conversion: object\n",
      "Missing values before conversion: 854149\n",
      "Missing values after conversion: 987974\n",
      "Type after conversion: float64\n",
      "Min: 0.0 \tMax: 6.0000000000000004e+97\n"
     ]
    }
   ],
   "source": [
    "object_to_numeric(df_tweets, \"num_mentions\")"
   ]
  },
  {
   "cell_type": "code",
   "execution_count": 27,
   "id": "42f82ae5-6986-436e-ae87-649108fdd65c",
   "metadata": {},
   "outputs": [
    {
     "name": "stdout",
     "output_type": "stream",
     "text": [
      "Min: 1953-04-17 12:24:33 \tMax: 2040-04-27 11:03:25\n"
     ]
    }
   ],
   "source": [
    "df_tweets.created_at = pd.to_datetime(df_tweets.created_at, format='%Y-%m-%d %H:%M:%S')\n",
    "print(\"Min:\", df_tweets.created_at.min(), \"\\tMax:\", df_tweets.created_at.max())"
   ]
  },
  {
   "cell_type": "code",
   "execution_count": 28,
   "id": "1dcad593-7a3f-4fd9-87b1-1dcf0e2a3ca2",
   "metadata": {},
   "outputs": [
    {
     "data": {
      "text/html": [
       "<div>\n",
       "<style scoped>\n",
       "    .dataframe tbody tr th:only-of-type {\n",
       "        vertical-align: middle;\n",
       "    }\n",
       "\n",
       "    .dataframe tbody tr th {\n",
       "        vertical-align: top;\n",
       "    }\n",
       "\n",
       "    .dataframe thead th {\n",
       "        text-align: right;\n",
       "    }\n",
       "</style>\n",
       "<table border=\"1\" class=\"dataframe\">\n",
       "  <thead>\n",
       "    <tr style=\"text-align: right;\">\n",
       "      <th></th>\n",
       "      <th>user_id</th>\n",
       "      <th>retweet_count</th>\n",
       "      <th>reply_count</th>\n",
       "      <th>favorite_count</th>\n",
       "      <th>num_hashtags</th>\n",
       "      <th>num_urls</th>\n",
       "      <th>num_mentions</th>\n",
       "      <th>created_at</th>\n",
       "      <th>text</th>\n",
       "    </tr>\n",
       "    <tr>\n",
       "      <th>id</th>\n",
       "      <th></th>\n",
       "      <th></th>\n",
       "      <th></th>\n",
       "      <th></th>\n",
       "      <th></th>\n",
       "      <th></th>\n",
       "      <th></th>\n",
       "      <th></th>\n",
       "      <th></th>\n",
       "    </tr>\n",
       "  </thead>\n",
       "  <tbody>\n",
       "    <tr>\n",
       "      <th>337410935437272894</th>\n",
       "      <td>1.482442e+07</td>\n",
       "      <td>0.0</td>\n",
       "      <td>0.0</td>\n",
       "      <td>0.0</td>\n",
       "      <td>1.0</td>\n",
       "      <td>0.0</td>\n",
       "      <td>1.0</td>\n",
       "      <td>1960-04-26 18:05:56</td>\n",
       "      <td>@arvixesupport shared ssl stopped working on a...</td>\n",
       "    </tr>\n",
       "    <tr>\n",
       "      <th>241606582771852729</th>\n",
       "      <td>1.480228e+08</td>\n",
       "      <td>0.0</td>\n",
       "      <td>0.0</td>\n",
       "      <td>0.0</td>\n",
       "      <td>0.0</td>\n",
       "      <td>0.0</td>\n",
       "      <td>0.0</td>\n",
       "      <td>2038-06-22 08:28:55</td>\n",
       "      <td>faqat nabz se haal zaahir na hoga\\nmera dil bh...</td>\n",
       "    </tr>\n",
       "    <tr>\n",
       "      <th>20477344093836797</th>\n",
       "      <td>1.462660e+07</td>\n",
       "      <td>0.0</td>\n",
       "      <td>0.0</td>\n",
       "      <td>0.0</td>\n",
       "      <td>0.0</td>\n",
       "      <td>0.0</td>\n",
       "      <td>1.0</td>\n",
       "      <td>1958-03-15 16:54:57</td>\n",
       "      <td>@nancyjensen harry &amp;amp; dwntwn 95% clear of s...</td>\n",
       "    </tr>\n",
       "    <tr>\n",
       "      <th>890932030</th>\n",
       "      <td>1.521942e+08</td>\n",
       "      <td>0.0</td>\n",
       "      <td>0.0</td>\n",
       "      <td>0.0</td>\n",
       "      <td>0.0</td>\n",
       "      <td>0.0</td>\n",
       "      <td>1.0</td>\n",
       "      <td>2040-02-29 13:20:29</td>\n",
       "      <td>@shuinkou ......./hopes senpie stay healthy......</td>\n",
       "    </tr>\n",
       "    <tr>\n",
       "      <th>814741272377044956</th>\n",
       "      <td>1.852826e+09</td>\n",
       "      <td>0.0</td>\n",
       "      <td>0.0</td>\n",
       "      <td>0.0</td>\n",
       "      <td>1.0</td>\n",
       "      <td>0.0</td>\n",
       "      <td>0.0</td>\n",
       "      <td>1959-05-02 23:16:40</td>\n",
       "      <td>her tl is sooo dead omgg #herbff</td>\n",
       "    </tr>\n",
       "    <tr>\n",
       "      <th>...</th>\n",
       "      <td>...</td>\n",
       "      <td>...</td>\n",
       "      <td>...</td>\n",
       "      <td>...</td>\n",
       "      <td>...</td>\n",
       "      <td>...</td>\n",
       "      <td>...</td>\n",
       "      <td>...</td>\n",
       "      <td>...</td>\n",
       "    </tr>\n",
       "    <tr>\n",
       "      <th>108516312</th>\n",
       "      <td>1.494211e+08</td>\n",
       "      <td>1.0</td>\n",
       "      <td>0.0</td>\n",
       "      <td>0.0</td>\n",
       "      <td>0.0</td>\n",
       "      <td>0.0</td>\n",
       "      <td>2.0</td>\n",
       "      <td>2040-04-20 01:24:22</td>\n",
       "      <td>@yungtrello @rekofromthe5 yes you are</td>\n",
       "    </tr>\n",
       "    <tr>\n",
       "      <th>81718936</th>\n",
       "      <td>5.054330e+08</td>\n",
       "      <td>0.0</td>\n",
       "      <td>0.0</td>\n",
       "      <td>0.0</td>\n",
       "      <td>0.0</td>\n",
       "      <td>0.0</td>\n",
       "      <td>0.0</td>\n",
       "      <td>1960-03-17 01:36:18</td>\n",
       "      <td>i hate when people eat and they talk. then the...</td>\n",
       "    </tr>\n",
       "    <tr>\n",
       "      <th>119550211118647</th>\n",
       "      <td>1.858934e+09</td>\n",
       "      <td>1730.0</td>\n",
       "      <td>0.0</td>\n",
       "      <td>0.0</td>\n",
       "      <td>0.0</td>\n",
       "      <td>0.0</td>\n",
       "      <td>1.0</td>\n",
       "      <td>1960-03-18 12:53:14</td>\n",
       "      <td>rt @chiiiout: i want to do so much more in thi...</td>\n",
       "    </tr>\n",
       "    <tr>\n",
       "      <th>924040103</th>\n",
       "      <td>1.616349e+08</td>\n",
       "      <td>4.0</td>\n",
       "      <td>0.0</td>\n",
       "      <td>2.0</td>\n",
       "      <td>0.0</td>\n",
       "      <td>0.0</td>\n",
       "      <td>0.0</td>\n",
       "      <td>1960-05-16 15:11:04</td>\n",
       "      <td>11:11 for mary jane veloso's life to be comple...</td>\n",
       "    </tr>\n",
       "    <tr>\n",
       "      <th>98528797</th>\n",
       "      <td>4.861113e+08</td>\n",
       "      <td>0.0</td>\n",
       "      <td>0.0</td>\n",
       "      <td>1.0</td>\n",
       "      <td>0.0</td>\n",
       "      <td>0.0</td>\n",
       "      <td>2.0</td>\n",
       "      <td>2040-03-10 23:44:16</td>\n",
       "      <td>@cnrsocial4 @socialsensing im fine thank you f...</td>\n",
       "    </tr>\n",
       "  </tbody>\n",
       "</table>\n",
       "<p>97605 rows × 9 columns</p>\n",
       "</div>"
      ],
      "text/plain": [
       "                         user_id  retweet_count  reply_count  favorite_count  \\\n",
       "id                                                                             \n",
       "337410935437272894  1.482442e+07            0.0          0.0             0.0   \n",
       "241606582771852729  1.480228e+08            0.0          0.0             0.0   \n",
       "20477344093836797   1.462660e+07            0.0          0.0             0.0   \n",
       "890932030           1.521942e+08            0.0          0.0             0.0   \n",
       "814741272377044956  1.852826e+09            0.0          0.0             0.0   \n",
       "...                          ...            ...          ...             ...   \n",
       "108516312           1.494211e+08            1.0          0.0             0.0   \n",
       "81718936            5.054330e+08            0.0          0.0             0.0   \n",
       "119550211118647     1.858934e+09         1730.0          0.0             0.0   \n",
       "924040103           1.616349e+08            4.0          0.0             2.0   \n",
       "98528797            4.861113e+08            0.0          0.0             1.0   \n",
       "\n",
       "                    num_hashtags  num_urls  num_mentions          created_at  \\\n",
       "id                                                                             \n",
       "337410935437272894           1.0       0.0           1.0 1960-04-26 18:05:56   \n",
       "241606582771852729           0.0       0.0           0.0 2038-06-22 08:28:55   \n",
       "20477344093836797            0.0       0.0           1.0 1958-03-15 16:54:57   \n",
       "890932030                    0.0       0.0           1.0 2040-02-29 13:20:29   \n",
       "814741272377044956           1.0       0.0           0.0 1959-05-02 23:16:40   \n",
       "...                          ...       ...           ...                 ...   \n",
       "108516312                    0.0       0.0           2.0 2040-04-20 01:24:22   \n",
       "81718936                     0.0       0.0           0.0 1960-03-17 01:36:18   \n",
       "119550211118647              0.0       0.0           1.0 1960-03-18 12:53:14   \n",
       "924040103                    0.0       0.0           0.0 1960-05-16 15:11:04   \n",
       "98528797                     0.0       0.0           2.0 2040-03-10 23:44:16   \n",
       "\n",
       "                                                                 text  \n",
       "id                                                                     \n",
       "337410935437272894  @arvixesupport shared ssl stopped working on a...  \n",
       "241606582771852729  faqat nabz se haal zaahir na hoga\\nmera dil bh...  \n",
       "20477344093836797   @nancyjensen harry &amp; dwntwn 95% clear of s...  \n",
       "890932030           @shuinkou ......./hopes senpie stay healthy......  \n",
       "814741272377044956                   her tl is sooo dead omgg #herbff  \n",
       "...                                                               ...  \n",
       "108516312                       @yungtrello @rekofromthe5 yes you are  \n",
       "81718936            i hate when people eat and they talk. then the...  \n",
       "119550211118647     rt @chiiiout: i want to do so much more in thi...  \n",
       "924040103           11:11 for mary jane veloso's life to be comple...  \n",
       "98528797            @cnrsocial4 @socialsensing im fine thank you f...  \n",
       "\n",
       "[97605 rows x 9 columns]"
      ]
     },
     "execution_count": 28,
     "metadata": {},
     "output_type": "execute_result"
    }
   ],
   "source": [
    "invalid_created_at = df_tweets.loc[(df_tweets[\"created_at\"] < '2012-01-01') | (df_tweets[\"created_at\"] > '2020-12-31')]\n",
    "invalid_created_at"
   ]
  },
  {
   "cell_type": "code",
   "execution_count": 29,
   "id": "c7f26dd7-ffb8-4ec5-8158-20d4ee55f1f8",
   "metadata": {},
   "outputs": [],
   "source": [
    "df_tweets.loc[invalid_created_at.index, \"created_at\"] = np.nan"
   ]
  },
  {
   "cell_type": "code",
   "execution_count": 30,
   "id": "70eccb43-d275-462c-8f76-b264791aff7a",
   "metadata": {},
   "outputs": [
    {
     "data": {
      "text/plain": [
       "97631"
      ]
     },
     "execution_count": 30,
     "metadata": {},
     "output_type": "execute_result"
    }
   ],
   "source": [
    "df_tweets.created_at.isna().sum()"
   ]
  },
  {
   "cell_type": "code",
   "execution_count": 34,
   "id": "5970c557-6663-4473-bb67-7cb3b3b3135e",
   "metadata": {},
   "outputs": [
    {
     "name": "stdout",
     "output_type": "stream",
     "text": [
      "Min: 2012-03-11 22:25:59 \tMax: 2020-05-03 10:36:12\n"
     ]
    }
   ],
   "source": [
    "print(\"Min:\", df_tweets.created_at.min(), \"\\tMax:\", df_tweets.created_at.max())"
   ]
  },
  {
   "cell_type": "code",
   "execution_count": 35,
   "id": "815d2471-6c61-4d1f-90e7-1f2b65da299f",
   "metadata": {},
   "outputs": [
    {
     "data": {
      "text/plain": [
       "user_id                  float64\n",
       "retweet_count            float64\n",
       "reply_count              float64\n",
       "favorite_count           float64\n",
       "num_hashtags             float64\n",
       "num_urls                 float64\n",
       "num_mentions             float64\n",
       "created_at        datetime64[ns]\n",
       "text                      object\n",
       "dtype: object"
      ]
     },
     "execution_count": 35,
     "metadata": {},
     "output_type": "execute_result"
    }
   ],
   "source": [
    "df_tweets.dtypes"
   ]
  },
  {
   "cell_type": "code",
   "execution_count": 73,
   "id": "fdf3bfc8-a89b-4094-bfc5-72af72ef2d70",
   "metadata": {},
   "outputs": [],
   "source": [
    "def hist(df, column):\n",
    "    numberOfBins = int(np.log2(len(df[column][df[column].notna()])) + 1)\n",
    "    print(\"Number of bins:\", numberOfBins)\n",
    "    df[column].plot(kind='hist', title=column, bins=numberOfBins)\n",
    "    plt.ylabel(\"count\")\n",
    "    plt.show()"
   ]
  },
  {
   "cell_type": "code",
   "execution_count": 75,
   "id": "b507010d-a7e8-4dd6-ae68-1531cb425250",
   "metadata": {},
   "outputs": [
    {
     "data": {
      "text/plain": [
       "<AxesSubplot: >"
      ]
     },
     "execution_count": 75,
     "metadata": {},
     "output_type": "execute_result"
    },
    {
     "data": {
      "image/png": "[encoded data removed]",
      "text/plain": [
       "<Figure size 640x480 with 1 Axes>"
      ]
     },
     "metadata": {},
     "output_type": "display_data"
    }
   ],
   "source": [
    "df_tweets.boxplot(column='retweet_count')"
   ]
  },
  {
   "cell_type": "code",
   "execution_count": 74,
   "id": "b4a81c0c-8815-463f-b390-df506c03f9ff",
   "metadata": {},
   "outputs": [
    {
     "name": "stdout",
     "output_type": "stream",
     "text": [
      "Number of bins: 24\n"
     ]
    },
    {
     "data": {
      "image/png": "[encoded data removed]",
      "text/plain": [
       "<Figure size 640x480 with 1 Axes>"
      ]
     },
     "metadata": {},
     "output_type": "display_data"
    }
   ],
   "source": [
    "hist(df_tweets, \"retweet_count\")"
   ]
  },
  {
   "cell_type": "code",
   "execution_count": 79,
   "id": "e8b110d3-9372-431a-acd9-43f5a60539fc",
   "metadata": {},
   "outputs": [],
   "source": [
    "def log_scale(df, column):\n",
    "    return pd.DataFrame(np.log10(1+df[column][df[column].notna()]))"
   ]
  },
  {
   "cell_type": "code",
   "execution_count": 81,
   "id": "8a9dfa5c-8f6c-47a8-8b80-531362c03cf7",
   "metadata": {},
   "outputs": [],
   "source": [
    "retweet_count_log_scale = log_scale(df_tweets, \"retweet_count\")"
   ]
  },
  {
   "cell_type": "code",
   "execution_count": 82,
   "id": "698ec604-8868-4cdb-845b-75369a834980",
   "metadata": {},
   "outputs": [
    {
     "data": {
      "text/plain": [
       "<AxesSubplot: >"
      ]
     },
     "execution_count": 82,
     "metadata": {},
     "output_type": "execute_result"
    },
    {
     "data": {
      "image/png": "[encoded data removed]",
      "text/plain": [
       "<Figure size 640x480 with 1 Axes>"
      ]
     },
     "metadata": {},
     "output_type": "display_data"
    }
   ],
   "source": [
    "retweet_count_log_scale.boxplot(column='retweet_count')"
   ]
  },
  {
   "cell_type": "code",
   "execution_count": 83,
   "id": "ef1152de-3920-4440-9ca6-f07546f44dcb",
   "metadata": {},
   "outputs": [
    {
     "name": "stdout",
     "output_type": "stream",
     "text": [
      "Number of bins: 24\n"
     ]
    },
    {
     "data": {
      "image/png": "[encoded data removed]",
      "text/plain": [
       "<Figure size 640x480 with 1 Axes>"
      ]
     },
     "metadata": {},
     "output_type": "display_data"
    }
   ],
   "source": [
    "hist(retweet_count_log_scale, \"retweet_count\")"
   ]
  },
  {
   "cell_type": "code",
   "execution_count": 76,
   "id": "65df275b-069c-4880-ba18-9186429472ec",
   "metadata": {},
   "outputs": [],
   "source": [
    "retweet_count_limited = df_tweets[df_tweets.retweet_count < 4000001]"
   ]
  },
  {
   "cell_type": "code",
   "execution_count": 77,
   "id": "a3860281-20e2-4c4a-9dba-2311d1ec74da",
   "metadata": {},
   "outputs": [
    {
     "data": {
      "text/plain": [
       "<AxesSubplot: >"
      ]
     },
     "execution_count": 77,
     "metadata": {},
     "output_type": "execute_result"
    },
    {
     "data": {
      "image/png": "[encoded data removed]",
      "text/plain": [
       "<Figure size 640x480 with 1 Axes>"
      ]
     },
     "metadata": {},
     "output_type": "display_data"
    }
   ],
   "source": [
    "retweet_count_limited.boxplot(column='retweet_count')"
   ]
  },
  {
   "cell_type": "code",
   "execution_count": 84,
   "id": "e3990b4e-439c-43fb-8df3-b013e1a385bc",
   "metadata": {},
   "outputs": [
    {
     "name": "stdout",
     "output_type": "stream",
     "text": [
      "Number of bins: 24\n"
     ]
    },
    {
     "data": {
      "image/png": "[encoded data removed]",
      "text/plain": [
       "<Figure size 640x480 with 1 Axes>"
      ]
     },
     "metadata": {},
     "output_type": "display_data"
    }
   ],
   "source": [
    "hist(retweet_count_limited, \"retweet_count\")"
   ]
  },
  {
   "cell_type": "code",
   "execution_count": 100,
   "id": "c55288ea-9517-4adc-873c-92edb3276bd1",
   "metadata": {},
   "outputs": [],
   "source": [
    "# compute the interquartile range and set the median to df.attr of the outliers \n",
    "def show_outliers(df, attr):\n",
    "    Q1 = df[attr].quantile(0.25)\n",
    "    Q3 = df[attr].quantile(0.75)\n",
    "    IQR = Q3 - Q1    #IQR is interquartile range\n",
    "    print(\"Q1:\", Q1, \"Q3:\", Q3, \"IQR:\", IQR)\n",
    "    #filter = (df[attr] >= Q1 - 1.5 * IQR) & (df[attr] <= Q3 + 1.5 * IQR)\n",
    "    #valid = df.loc[filter]\n",
    "    filter = (df[attr] < Q1 - 1.5 * IQR) | (df[attr] > Q3 + 1.5 * IQR)\n",
    "    outliers = df.loc[filter]\n",
    "    \n",
    "    print(\"We have\", len(outliers), \"outliers (over\", len(df), \"entries)\")\n",
    "    \n",
    "    return outliers"
   ]
  },
  {
   "cell_type": "code",
   "execution_count": 87,
   "id": "c73956e2-3cf9-4e2b-8f21-fbdcf4ddedf5",
   "metadata": {},
   "outputs": [
    {
     "data": {
      "text/plain": [
       "<AxesSubplot: >"
      ]
     },
     "execution_count": 87,
     "metadata": {},
     "output_type": "execute_result"
    },
    {
     "data": {
      "image/png": "[encoded data removed]",
      "text/plain": [
       "<Figure size 640x480 with 1 Axes>"
      ]
     },
     "metadata": {},
     "output_type": "display_data"
    }
   ],
   "source": [
    "limited_retweet_count_log_scale = log_scale(retweet_count_limited, \"retweet_count\")\n",
    "limited_retweet_count_log_scale.boxplot(column='retweet_count')"
   ]
  },
  {
   "cell_type": "code",
   "execution_count": 101,
   "id": "a8253666-5fa4-42a1-8d85-af85b61bd79e",
   "metadata": {},
   "outputs": [
    {
     "name": "stdout",
     "output_type": "stream",
     "text": [
      "Q1: 0.0 Q3: 0.3010299956639812 IQR: 0.3010299956639812\n",
      "We have 1529443 outliers (over 11086586 entries)\n"
     ]
    },
    {
     "data": {
      "text/html": [
       "<div>\n",
       "<style scoped>\n",
       "    .dataframe tbody tr th:only-of-type {\n",
       "        vertical-align: middle;\n",
       "    }\n",
       "\n",
       "    .dataframe tbody tr th {\n",
       "        vertical-align: top;\n",
       "    }\n",
       "\n",
       "    .dataframe thead th {\n",
       "        text-align: right;\n",
       "    }\n",
       "</style>\n",
       "<table border=\"1\" class=\"dataframe\">\n",
       "  <thead>\n",
       "    <tr style=\"text-align: right;\">\n",
       "      <th></th>\n",
       "      <th>user_id</th>\n",
       "      <th>retweet_count</th>\n",
       "      <th>reply_count</th>\n",
       "      <th>favorite_count</th>\n",
       "      <th>num_hashtags</th>\n",
       "      <th>num_urls</th>\n",
       "      <th>num_mentions</th>\n",
       "      <th>created_at</th>\n",
       "      <th>text</th>\n",
       "    </tr>\n",
       "    <tr>\n",
       "      <th>id</th>\n",
       "      <th></th>\n",
       "      <th></th>\n",
       "      <th></th>\n",
       "      <th></th>\n",
       "      <th></th>\n",
       "      <th></th>\n",
       "      <th></th>\n",
       "      <th></th>\n",
       "      <th></th>\n",
       "    </tr>\n",
       "  </thead>\n",
       "  <tbody>\n",
       "    <tr>\n",
       "      <th>575336690904006656</th>\n",
       "      <td>1.355538e+09</td>\n",
       "      <td>114.0</td>\n",
       "      <td>0.0</td>\n",
       "      <td>0.0</td>\n",
       "      <td>1.0</td>\n",
       "      <td>0.0</td>\n",
       "      <td>1.0</td>\n",
       "      <td>2020-03-11 16:45:31</td>\n",
       "      <td>rt @tibbs_montris: so ready for wednesday!</td>\n",
       "    </tr>\n",
       "    <tr>\n",
       "      <th>589284783542243328</th>\n",
       "      <td>4.294174e+08</td>\n",
       "      <td>75.0</td>\n",
       "      <td>0.0</td>\n",
       "      <td>0.0</td>\n",
       "      <td>0.0</td>\n",
       "      <td>0.0</td>\n",
       "      <td>1.0</td>\n",
       "      <td>2020-04-19 04:30:15</td>\n",
       "      <td>rt @inkmonstarr: goals so big you get uncomfor...</td>\n",
       "    </tr>\n",
       "    <tr>\n",
       "      <th>582372128709689344</th>\n",
       "      <td>1.182171e+09</td>\n",
       "      <td>356.0</td>\n",
       "      <td>0.0</td>\n",
       "      <td>0.0</td>\n",
       "      <td>0.0</td>\n",
       "      <td>0.0</td>\n",
       "      <td>1.0</td>\n",
       "      <td>2020-03-31 02:41:50</td>\n",
       "      <td>rt @sehunownsme: baekhyun was asked to introdu...</td>\n",
       "    </tr>\n",
       "    <tr>\n",
       "      <th>491190216657747968</th>\n",
       "      <td>5.642496e+08</td>\n",
       "      <td>13.0</td>\n",
       "      <td>0.0</td>\n",
       "      <td>27.0</td>\n",
       "      <td>0.0</td>\n",
       "      <td>0.0</td>\n",
       "      <td>0.0</td>\n",
       "      <td>2019-07-23 11:57:28</td>\n",
       "      <td>quasimodo ã¨ l'unico eroe disney che si chiama...</td>\n",
       "    </tr>\n",
       "    <tr>\n",
       "      <th>569163108129775616</th>\n",
       "      <td>9.108688e+07</td>\n",
       "      <td>5.0</td>\n",
       "      <td>0.0</td>\n",
       "      <td>2.0</td>\n",
       "      <td>0.0</td>\n",
       "      <td>0.0</td>\n",
       "      <td>0.0</td>\n",
       "      <td>2020-02-23 15:53:54</td>\n",
       "      <td>i miss you</td>\n",
       "    </tr>\n",
       "    <tr>\n",
       "      <th>...</th>\n",
       "      <td>...</td>\n",
       "      <td>...</td>\n",
       "      <td>...</td>\n",
       "      <td>...</td>\n",
       "      <td>...</td>\n",
       "      <td>...</td>\n",
       "      <td>...</td>\n",
       "      <td>...</td>\n",
       "      <td>...</td>\n",
       "    </tr>\n",
       "    <tr>\n",
       "      <th>585094354282287104</th>\n",
       "      <td>2.594420e+09</td>\n",
       "      <td>11.0</td>\n",
       "      <td>0.0</td>\n",
       "      <td>20.0</td>\n",
       "      <td>2.0</td>\n",
       "      <td>1.0</td>\n",
       "      <td>0.0</td>\n",
       "      <td>2020-04-07 14:58:59</td>\n",
       "      <td>a gorgeous pic. ✨ luv it.</td>\n",
       "    </tr>\n",
       "    <tr>\n",
       "      <th>468500086562230272</th>\n",
       "      <td>6.131139e+08</td>\n",
       "      <td>9.0</td>\n",
       "      <td>0.0</td>\n",
       "      <td>10.0</td>\n",
       "      <td>0.0</td>\n",
       "      <td>0.0</td>\n",
       "      <td>0.0</td>\n",
       "      <td>2019-05-21 21:14:59</td>\n",
       "      <td>peggio di non avere sentimenti per una persona...</td>\n",
       "    </tr>\n",
       "    <tr>\n",
       "      <th>550828715416891392</th>\n",
       "      <td>2.321395e+09</td>\n",
       "      <td>19.0</td>\n",
       "      <td>0.0</td>\n",
       "      <td>0.0</td>\n",
       "      <td>4.0</td>\n",
       "      <td>1.0</td>\n",
       "      <td>1.0</td>\n",
       "      <td>2020-01-04 01:39:34</td>\n",
       "      <td>rt @theneuroticchef: no drooling on my parmesa...</td>\n",
       "    </tr>\n",
       "    <tr>\n",
       "      <th>fzvypbmv</th>\n",
       "      <td>7.986130e+08</td>\n",
       "      <td>17.0</td>\n",
       "      <td>0.0</td>\n",
       "      <td>NaN</td>\n",
       "      <td>1.0</td>\n",
       "      <td>0.0</td>\n",
       "      <td>1.0</td>\n",
       "      <td>2020-04-13 16:35:53</td>\n",
       "      <td>rt @krisvoakes: this is completely embarrassin...</td>\n",
       "    </tr>\n",
       "    <tr>\n",
       "      <th>593042129447886849</th>\n",
       "      <td>5.737622e+07</td>\n",
       "      <td>233.0</td>\n",
       "      <td>0.0</td>\n",
       "      <td>0.0</td>\n",
       "      <td>0.0</td>\n",
       "      <td>0.0</td>\n",
       "      <td>1.0</td>\n",
       "      <td>2020-04-29 13:20:36</td>\n",
       "      <td>rt @chopsyturvey: a pregnant niece of mine jus...</td>\n",
       "    </tr>\n",
       "  </tbody>\n",
       "</table>\n",
       "<p>1540153 rows × 9 columns</p>\n",
       "</div>"
      ],
      "text/plain": [
       "                         user_id  retweet_count  reply_count  favorite_count  \\\n",
       "id                                                                             \n",
       "575336690904006656  1.355538e+09          114.0          0.0             0.0   \n",
       "589284783542243328  4.294174e+08           75.0          0.0             0.0   \n",
       "582372128709689344  1.182171e+09          356.0          0.0             0.0   \n",
       "491190216657747968  5.642496e+08           13.0          0.0            27.0   \n",
       "569163108129775616  9.108688e+07            5.0          0.0             2.0   \n",
       "...                          ...            ...          ...             ...   \n",
       "585094354282287104  2.594420e+09           11.0          0.0            20.0   \n",
       "468500086562230272  6.131139e+08            9.0          0.0            10.0   \n",
       "550828715416891392  2.321395e+09           19.0          0.0             0.0   \n",
       "fzvypbmv            7.986130e+08           17.0          0.0             NaN   \n",
       "593042129447886849  5.737622e+07          233.0          0.0             0.0   \n",
       "\n",
       "                    num_hashtags  num_urls  num_mentions          created_at  \\\n",
       "id                                                                             \n",
       "575336690904006656           1.0       0.0           1.0 2020-03-11 16:45:31   \n",
       "589284783542243328           0.0       0.0           1.0 2020-04-19 04:30:15   \n",
       "582372128709689344           0.0       0.0           1.0 2020-03-31 02:41:50   \n",
       "491190216657747968           0.0       0.0           0.0 2019-07-23 11:57:28   \n",
       "569163108129775616           0.0       0.0           0.0 2020-02-23 15:53:54   \n",
       "...                          ...       ...           ...                 ...   \n",
       "585094354282287104           2.0       1.0           0.0 2020-04-07 14:58:59   \n",
       "468500086562230272           0.0       0.0           0.0 2019-05-21 21:14:59   \n",
       "550828715416891392           4.0       1.0           1.0 2020-01-04 01:39:34   \n",
       "fzvypbmv                     1.0       0.0           1.0 2020-04-13 16:35:53   \n",
       "593042129447886849           0.0       0.0           1.0 2020-04-29 13:20:36   \n",
       "\n",
       "                                                                 text  \n",
       "id                                                                     \n",
       "575336690904006656         rt @tibbs_montris: so ready for wednesday!  \n",
       "589284783542243328  rt @inkmonstarr: goals so big you get uncomfor...  \n",
       "582372128709689344  rt @sehunownsme: baekhyun was asked to introdu...  \n",
       "491190216657747968  quasimodo ã¨ l'unico eroe disney che si chiama...  \n",
       "569163108129775616                                         i miss you  \n",
       "...                                                               ...  \n",
       "585094354282287104                          a gorgeous pic. ✨ luv it.  \n",
       "468500086562230272  peggio di non avere sentimenti per una persona...  \n",
       "550828715416891392  rt @theneuroticchef: no drooling on my parmesa...  \n",
       "fzvypbmv            rt @krisvoakes: this is completely embarrassin...  \n",
       "593042129447886849  rt @chopsyturvey: a pregnant niece of mine jus...  \n",
       "\n",
       "[1540153 rows x 9 columns]"
      ]
     },
     "execution_count": 101,
     "metadata": {},
     "output_type": "execute_result"
    }
   ],
   "source": [
    "outliers = show_outliers(limited_retweet_count_log_scale, \"retweet_count\")"
   ]
  },
  {
   "cell_type": "code",
   "execution_count": 110,
   "id": "16e11bb9-371e-49c5-be4b-fbc0f6a9b809",
   "metadata": {},
   "outputs": [
    {
     "data": {
      "text/plain": [
       "0.7781512503836436"
      ]
     },
     "execution_count": 110,
     "metadata": {},
     "output_type": "execute_result"
    }
   ],
   "source": [
    "outliers.retweet_count.min()"
   ]
  },
  {
   "cell_type": "code",
   "execution_count": 111,
   "id": "8dc57459-a786-4aac-9ea0-bcb50df8bc48",
   "metadata": {},
   "outputs": [
    {
     "data": {
      "text/plain": [
       "0.0"
      ]
     },
     "execution_count": 111,
     "metadata": {},
     "output_type": "execute_result"
    }
   ],
   "source": [
    "df_tweets.loc[outliers.index].retweet_count.min()"
   ]
  },
  {
   "cell_type": "code",
   "execution_count": null,
   "id": "7896448d-03ae-40c1-9897-2d1032e8bb1d",
   "metadata": {},
   "outputs": [],
   "source": [
    "minOutlier = outliers.retweet_count.min()\n",
    "len(df_tweets[outliers.retweet_count >= minOutlier])"
   ]
  },
  {
   "cell_type": "code",
   "execution_count": 104,
   "id": "cb03326c-76f8-46ad-9aaa-8d6706990733",
   "metadata": {},
   "outputs": [
    {
     "data": {
      "text/plain": [
       "1540153"
      ]
     },
     "execution_count": 104,
     "metadata": {},
     "output_type": "execute_result"
    }
   ],
   "source": [
    "len(df_tweets.loc[outliers.index])"
   ]
  },
  {
   "cell_type": "code",
   "execution_count": 105,
   "id": "b5324403-e4ac-40e7-a72d-cca9fd539831",
   "metadata": {},
   "outputs": [
    {
     "data": {
      "text/html": [
       "<div>\n",
       "<style scoped>\n",
       "    .dataframe tbody tr th:only-of-type {\n",
       "        vertical-align: middle;\n",
       "    }\n",
       "\n",
       "    .dataframe tbody tr th {\n",
       "        vertical-align: top;\n",
       "    }\n",
       "\n",
       "    .dataframe thead th {\n",
       "        text-align: right;\n",
       "    }\n",
       "</style>\n",
       "<table border=\"1\" class=\"dataframe\">\n",
       "  <thead>\n",
       "    <tr style=\"text-align: right;\">\n",
       "      <th></th>\n",
       "      <th>user_id</th>\n",
       "      <th>retweet_count</th>\n",
       "      <th>reply_count</th>\n",
       "      <th>favorite_count</th>\n",
       "      <th>num_hashtags</th>\n",
       "      <th>num_urls</th>\n",
       "      <th>num_mentions</th>\n",
       "    </tr>\n",
       "  </thead>\n",
       "  <tbody>\n",
       "    <tr>\n",
       "      <th>count</th>\n",
       "      <td>1.495046e+06</td>\n",
       "      <td>1.538688e+06</td>\n",
       "      <td>1.472062e+06</td>\n",
       "      <td>1.472179e+06</td>\n",
       "      <td>1.433363e+06</td>\n",
       "      <td>1.452508e+06</td>\n",
       "      <td>1.433429e+06</td>\n",
       "    </tr>\n",
       "    <tr>\n",
       "      <th>mean</th>\n",
       "      <td>9.384339e+08</td>\n",
       "      <td>4.147175e+03</td>\n",
       "      <td>3.948943e+03</td>\n",
       "      <td>2.477592e+03</td>\n",
       "      <td>4.883620e+89</td>\n",
       "      <td>4.543865e+69</td>\n",
       "      <td>2.381130e+03</td>\n",
       "    </tr>\n",
       "    <tr>\n",
       "      <th>std</th>\n",
       "      <td>9.236562e+08</td>\n",
       "      <td>3.772820e+04</td>\n",
       "      <td>3.494901e+06</td>\n",
       "      <td>2.497252e+06</td>\n",
       "      <td>5.846823e+92</td>\n",
       "      <td>5.476268e+72</td>\n",
       "      <td>2.527907e+06</td>\n",
       "    </tr>\n",
       "    <tr>\n",
       "      <th>min</th>\n",
       "      <td>0.000000e+00</td>\n",
       "      <td>0.000000e+00</td>\n",
       "      <td>0.000000e+00</td>\n",
       "      <td>0.000000e+00</td>\n",
       "      <td>0.000000e+00</td>\n",
       "      <td>0.000000e+00</td>\n",
       "      <td>0.000000e+00</td>\n",
       "    </tr>\n",
       "    <tr>\n",
       "      <th>25%</th>\n",
       "      <td>2.082007e+08</td>\n",
       "      <td>2.000000e+01</td>\n",
       "      <td>0.000000e+00</td>\n",
       "      <td>0.000000e+00</td>\n",
       "      <td>0.000000e+00</td>\n",
       "      <td>0.000000e+00</td>\n",
       "      <td>1.000000e+00</td>\n",
       "    </tr>\n",
       "    <tr>\n",
       "      <th>50%</th>\n",
       "      <td>5.369236e+08</td>\n",
       "      <td>1.480000e+02</td>\n",
       "      <td>0.000000e+00</td>\n",
       "      <td>0.000000e+00</td>\n",
       "      <td>0.000000e+00</td>\n",
       "      <td>0.000000e+00</td>\n",
       "      <td>1.000000e+00</td>\n",
       "    </tr>\n",
       "    <tr>\n",
       "      <th>75%</th>\n",
       "      <td>1.566113e+09</td>\n",
       "      <td>1.143000e+03</td>\n",
       "      <td>0.000000e+00</td>\n",
       "      <td>0.000000e+00</td>\n",
       "      <td>0.000000e+00</td>\n",
       "      <td>0.000000e+00</td>\n",
       "      <td>1.000000e+00</td>\n",
       "    </tr>\n",
       "    <tr>\n",
       "      <th>max</th>\n",
       "      <td>8.000000e+09</td>\n",
       "      <td>3.350111e+06</td>\n",
       "      <td>4.000000e+09</td>\n",
       "      <td>3.000000e+09</td>\n",
       "      <td>7.000000e+95</td>\n",
       "      <td>6.600000e+75</td>\n",
       "      <td>3.000000e+09</td>\n",
       "    </tr>\n",
       "  </tbody>\n",
       "</table>\n",
       "</div>"
      ],
      "text/plain": [
       "            user_id  retweet_count   reply_count  favorite_count  \\\n",
       "count  1.495046e+06   1.538688e+06  1.472062e+06    1.472179e+06   \n",
       "mean   9.384339e+08   4.147175e+03  3.948943e+03    2.477592e+03   \n",
       "std    9.236562e+08   3.772820e+04  3.494901e+06    2.497252e+06   \n",
       "min    0.000000e+00   0.000000e+00  0.000000e+00    0.000000e+00   \n",
       "25%    2.082007e+08   2.000000e+01  0.000000e+00    0.000000e+00   \n",
       "50%    5.369236e+08   1.480000e+02  0.000000e+00    0.000000e+00   \n",
       "75%    1.566113e+09   1.143000e+03  0.000000e+00    0.000000e+00   \n",
       "max    8.000000e+09   3.350111e+06  4.000000e+09    3.000000e+09   \n",
       "\n",
       "       num_hashtags      num_urls  num_mentions  \n",
       "count  1.433363e+06  1.452508e+06  1.433429e+06  \n",
       "mean   4.883620e+89  4.543865e+69  2.381130e+03  \n",
       "std    5.846823e+92  5.476268e+72  2.527907e+06  \n",
       "min    0.000000e+00  0.000000e+00  0.000000e+00  \n",
       "25%    0.000000e+00  0.000000e+00  1.000000e+00  \n",
       "50%    0.000000e+00  0.000000e+00  1.000000e+00  \n",
       "75%    0.000000e+00  0.000000e+00  1.000000e+00  \n",
       "max    7.000000e+95  6.600000e+75  3.000000e+09  "
      ]
     },
     "execution_count": 105,
     "metadata": {},
     "output_type": "execute_result"
    }
   ],
   "source": [
    "df_tweets.loc[outliers.index].describe()"
   ]
  },
  {
   "cell_type": "code",
   "execution_count": 102,
   "id": "9a2a88ab-d5cf-406a-906c-aada4c1d3206",
   "metadata": {},
   "outputs": [
    {
     "data": {
      "text/plain": [
       "0.0"
      ]
     },
     "execution_count": 102,
     "metadata": {},
     "output_type": "execute_result"
    }
   ],
   "source": [
    "df_tweets.loc[outliers.index].retweet_count.min()"
   ]
  },
  {
   "cell_type": "code",
   "execution_count": 103,
   "id": "81ddead4-d9d7-483a-a65d-de5f1aaa0155",
   "metadata": {},
   "outputs": [
    {
     "data": {
      "text/plain": [
       "3350111.0"
      ]
     },
     "execution_count": 103,
     "metadata": {},
     "output_type": "execute_result"
    }
   ],
   "source": [
    "df_tweets.loc[outliers.index].retweet_count.max()"
   ]
  },
  {
   "cell_type": "code",
   "execution_count": 86,
   "id": "4f10d1e7-d170-456d-a38c-34ca5ea65fb0",
   "metadata": {},
   "outputs": [
    {
     "name": "stdout",
     "output_type": "stream",
     "text": [
      "Number of bins: 24\n"
     ]
    },
    {
     "data": {
      "image/png": "[encoded data removed]",
      "text/plain": [
       "<Figure size 640x480 with 1 Axes>"
      ]
     },
     "metadata": {},
     "output_type": "display_data"
    }
   ],
   "source": [
    "hist(limited_retweet_count_log_scale, \"retweet_count\")"
   ]
  },
  {
   "cell_type": "code",
   "execution_count": 47,
   "id": "eefd4325-1830-4293-850d-e73e4a466ace",
   "metadata": {},
   "outputs": [],
   "source": [
    "# compute the interquartile range and set the median to df.attr of the outliers \n",
    "def process_outliers(df, attr):\n",
    "    Q1 = df[attr].quantile(0.25)\n",
    "    Q3 = df[attr].quantile(0.75)\n",
    "    IQR = Q3 - Q1    #IQR is interquartile range\n",
    "\n",
    "    #filter = (df[attr] >= Q1 - 1.5 * IQR) & (df[attr] <= Q3 + 1.5 * IQR)\n",
    "    #valid = df.loc[filter]\n",
    "    filter = (df[attr] < Q1 - 1.5 * IQR) | (df[attr] > Q3 + 1.5 * IQR)\n",
    "    outliers = df.loc[filter]\n",
    "    \n",
    "    print(\"We have\", len(outliers), \"outliers (over\", len(df), \"entries)\")\n",
    "    \n",
    "    median = df[attr].median()\n",
    "    print(\"Median with outliers:\", median)\n",
    "    df.loc[outliers.index, attr] = np.nan # set nan to outliers\n",
    "\n",
    "    median = df[attr].median()\n",
    "    print(\"Median without outliers:\", median)\n",
    "    \n",
    "    df.loc[outliers.index, attr] = median # set the median to outliers\n",
    "    return median"
   ]
  },
  {
   "cell_type": "code",
   "execution_count": 32,
   "id": "46208a42-0646-4946-b575-4dcfac0f4044",
   "metadata": {},
   "outputs": [
    {
     "data": {
      "text/html": [
       "<div>\n",
       "<style scoped>\n",
       "    .dataframe tbody tr th:only-of-type {\n",
       "        vertical-align: middle;\n",
       "    }\n",
       "\n",
       "    .dataframe tbody tr th {\n",
       "        vertical-align: top;\n",
       "    }\n",
       "\n",
       "    .dataframe thead th {\n",
       "        text-align: right;\n",
       "    }\n",
       "</style>\n",
       "<table border=\"1\" class=\"dataframe\">\n",
       "  <thead>\n",
       "    <tr style=\"text-align: right;\">\n",
       "      <th></th>\n",
       "      <th>user_id</th>\n",
       "      <th>retweet_count</th>\n",
       "      <th>reply_count</th>\n",
       "      <th>favorite_count</th>\n",
       "      <th>num_hashtags</th>\n",
       "      <th>num_urls</th>\n",
       "      <th>num_mentions</th>\n",
       "      <th>created_at</th>\n",
       "      <th>text</th>\n",
       "    </tr>\n",
       "    <tr>\n",
       "      <th>id</th>\n",
       "      <th></th>\n",
       "      <th></th>\n",
       "      <th></th>\n",
       "      <th></th>\n",
       "      <th></th>\n",
       "      <th></th>\n",
       "      <th></th>\n",
       "      <th></th>\n",
       "      <th></th>\n",
       "    </tr>\n",
       "  </thead>\n",
       "  <tbody>\n",
       "    <tr>\n",
       "      <th>509354017856950272</th>\n",
       "      <td>False</td>\n",
       "      <td>False</td>\n",
       "      <td>False</td>\n",
       "      <td>False</td>\n",
       "      <td>False</td>\n",
       "      <td>False</td>\n",
       "      <td>False</td>\n",
       "      <td>False</td>\n",
       "      <td>False</td>\n",
       "    </tr>\n",
       "    <tr>\n",
       "      <th>583002592529121280</th>\n",
       "      <td>False</td>\n",
       "      <td>False</td>\n",
       "      <td>False</td>\n",
       "      <td>False</td>\n",
       "      <td>False</td>\n",
       "      <td>False</td>\n",
       "      <td>False</td>\n",
       "      <td>False</td>\n",
       "      <td>False</td>\n",
       "    </tr>\n",
       "    <tr>\n",
       "      <th>461498835362013185</th>\n",
       "      <td>False</td>\n",
       "      <td>False</td>\n",
       "      <td>False</td>\n",
       "      <td>False</td>\n",
       "      <td>False</td>\n",
       "      <td>False</td>\n",
       "      <td>False</td>\n",
       "      <td>False</td>\n",
       "      <td>False</td>\n",
       "    </tr>\n",
       "    <tr>\n",
       "      <th>528808127366692864</th>\n",
       "      <td>False</td>\n",
       "      <td>False</td>\n",
       "      <td>False</td>\n",
       "      <td>False</td>\n",
       "      <td>False</td>\n",
       "      <td>False</td>\n",
       "      <td>False</td>\n",
       "      <td>False</td>\n",
       "      <td>False</td>\n",
       "    </tr>\n",
       "    <tr>\n",
       "      <th>575336690904006656</th>\n",
       "      <td>False</td>\n",
       "      <td>False</td>\n",
       "      <td>False</td>\n",
       "      <td>False</td>\n",
       "      <td>False</td>\n",
       "      <td>False</td>\n",
       "      <td>False</td>\n",
       "      <td>False</td>\n",
       "      <td>False</td>\n",
       "    </tr>\n",
       "  </tbody>\n",
       "</table>\n",
       "</div>"
      ],
      "text/plain": [
       "                    user_id  retweet_count  reply_count  favorite_count  \\\n",
       "id                                                                        \n",
       "509354017856950272    False          False        False           False   \n",
       "583002592529121280    False          False        False           False   \n",
       "461498835362013185    False          False        False           False   \n",
       "528808127366692864    False          False        False           False   \n",
       "575336690904006656    False          False        False           False   \n",
       "\n",
       "                    num_hashtags  num_urls  num_mentions  created_at   text  \n",
       "id                                                                           \n",
       "509354017856950272         False     False         False       False  False  \n",
       "583002592529121280         False     False         False       False  False  \n",
       "461498835362013185         False     False         False       False  False  \n",
       "528808127366692864         False     False         False       False  False  \n",
       "575336690904006656         False     False         False       False  False  "
      ]
     },
     "execution_count": 32,
     "metadata": {},
     "output_type": "execute_result"
    }
   ],
   "source": [
    "tweets_isna = df_tweets.isna()\n",
    "tweets_isna.head()"
   ]
  },
  {
   "cell_type": "code",
   "execution_count": 33,
   "id": "b2a1ae04-4b47-4cfa-a5c2-8b7a6d46ac18",
   "metadata": {},
   "outputs": [],
   "source": [
    "count_of_missing_val = tweets_isna.sum(axis = 1)"
   ]
  },
  {
   "cell_type": "code",
   "execution_count": 34,
   "id": "2a8ec26e-fac9-4736-90b2-dd04e32d9ebc",
   "metadata": {},
   "outputs": [
    {
     "data": {
      "text/plain": [
       "8"
      ]
     },
     "execution_count": 34,
     "metadata": {},
     "output_type": "execute_result"
    }
   ],
   "source": [
    "count_of_missing_val.max()"
   ]
  },
  {
   "cell_type": "code",
   "execution_count": 36,
   "id": "6f37d663-3564-4b95-a18e-004c3f84f4a6",
   "metadata": {},
   "outputs": [
    {
     "data": {
      "text/html": [
       "<div>\n",
       "<style scoped>\n",
       "    .dataframe tbody tr th:only-of-type {\n",
       "        vertical-align: middle;\n",
       "    }\n",
       "\n",
       "    .dataframe tbody tr th {\n",
       "        vertical-align: top;\n",
       "    }\n",
       "\n",
       "    .dataframe thead th {\n",
       "        text-align: right;\n",
       "    }\n",
       "</style>\n",
       "<table border=\"1\" class=\"dataframe\">\n",
       "  <thead>\n",
       "    <tr style=\"text-align: right;\">\n",
       "      <th></th>\n",
       "      <th>user_id</th>\n",
       "      <th>retweet_count</th>\n",
       "      <th>reply_count</th>\n",
       "      <th>favorite_count</th>\n",
       "      <th>num_hashtags</th>\n",
       "      <th>num_urls</th>\n",
       "      <th>num_mentions</th>\n",
       "      <th>created_at</th>\n",
       "      <th>text</th>\n",
       "    </tr>\n",
       "    <tr>\n",
       "      <th>id</th>\n",
       "      <th></th>\n",
       "      <th></th>\n",
       "      <th></th>\n",
       "      <th></th>\n",
       "      <th></th>\n",
       "      <th></th>\n",
       "      <th></th>\n",
       "      <th></th>\n",
       "      <th></th>\n",
       "    </tr>\n",
       "  </thead>\n",
       "  <tbody>\n",
       "    <tr>\n",
       "      <th>487190144</th>\n",
       "      <td>NaN</td>\n",
       "      <td>1.0</td>\n",
       "      <td>NaN</td>\n",
       "      <td>NaN</td>\n",
       "      <td>NaN</td>\n",
       "      <td>0.0</td>\n",
       "      <td>NaN</td>\n",
       "      <td>2019-10-30 06:11:12</td>\n",
       "      <td>NaN</td>\n",
       "    </tr>\n",
       "    <tr>\n",
       "      <th>949116854133810</th>\n",
       "      <td>NaN</td>\n",
       "      <td>0.0</td>\n",
       "      <td>0.0</td>\n",
       "      <td>NaN</td>\n",
       "      <td>NaN</td>\n",
       "      <td>NaN</td>\n",
       "      <td>NaN</td>\n",
       "      <td>2018-06-02 03:24:58</td>\n",
       "      <td>@danloving it’a a rarity, for sure. but for cr...</td>\n",
       "    </tr>\n",
       "    <tr>\n",
       "      <th>744248635197745</th>\n",
       "      <td>NaN</td>\n",
       "      <td>NaN</td>\n",
       "      <td>NaN</td>\n",
       "      <td>NaN</td>\n",
       "      <td>NaN</td>\n",
       "      <td>0.0</td>\n",
       "      <td>1.0</td>\n",
       "      <td>2019-07-30 18:58:59</td>\n",
       "      <td>@perfectdkids i'm not a bad kid</td>\n",
       "    </tr>\n",
       "    <tr>\n",
       "      <th>6069950098142551</th>\n",
       "      <td>7.254514e+08</td>\n",
       "      <td>NaN</td>\n",
       "      <td>0.0</td>\n",
       "      <td>NaN</td>\n",
       "      <td>NaN</td>\n",
       "      <td>NaN</td>\n",
       "      <td>NaN</td>\n",
       "      <td>2020-03-01 03:45:28</td>\n",
       "      <td>@todayisaray sorry, i was in the gym.</td>\n",
       "    </tr>\n",
       "    <tr>\n",
       "      <th>mar</th>\n",
       "      <td>2.211927e+09</td>\n",
       "      <td>0.0</td>\n",
       "      <td>NaN</td>\n",
       "      <td>NaN</td>\n",
       "      <td>NaN</td>\n",
       "      <td>NaN</td>\n",
       "      <td>NaN</td>\n",
       "      <td>2020-01-29 00:24:20</td>\n",
       "      <td>NaN</td>\n",
       "    </tr>\n",
       "    <tr>\n",
       "      <th>...</th>\n",
       "      <td>...</td>\n",
       "      <td>...</td>\n",
       "      <td>...</td>\n",
       "      <td>...</td>\n",
       "      <td>...</td>\n",
       "      <td>...</td>\n",
       "      <td>...</td>\n",
       "      <td>...</td>\n",
       "      <td>...</td>\n",
       "    </tr>\n",
       "    <tr>\n",
       "      <th>524128262</th>\n",
       "      <td>7.659171e+08</td>\n",
       "      <td>NaN</td>\n",
       "      <td>NaN</td>\n",
       "      <td>0.0</td>\n",
       "      <td>NaN</td>\n",
       "      <td>0.0</td>\n",
       "      <td>NaN</td>\n",
       "      <td>2020-04-04 05:47:00</td>\n",
       "      <td>NaN</td>\n",
       "    </tr>\n",
       "    <tr>\n",
       "      <th>6442256482</th>\n",
       "      <td>NaN</td>\n",
       "      <td>NaN</td>\n",
       "      <td>0.0</td>\n",
       "      <td>NaN</td>\n",
       "      <td>NaN</td>\n",
       "      <td>NaN</td>\n",
       "      <td>NaN</td>\n",
       "      <td>2020-03-31 04:36:19</td>\n",
       "      <td>history in the making.</td>\n",
       "    </tr>\n",
       "    <tr>\n",
       "      <th>5992581</th>\n",
       "      <td>9.643556e+07</td>\n",
       "      <td>0.0</td>\n",
       "      <td>NaN</td>\n",
       "      <td>0.0</td>\n",
       "      <td>NaN</td>\n",
       "      <td>NaN</td>\n",
       "      <td>NaN</td>\n",
       "      <td>2019-10-22 12:10:26</td>\n",
       "      <td>NaN</td>\n",
       "    </tr>\n",
       "    <tr>\n",
       "      <th>idjn</th>\n",
       "      <td>2.432829e+08</td>\n",
       "      <td>NaN</td>\n",
       "      <td>NaN</td>\n",
       "      <td>NaN</td>\n",
       "      <td>NaN</td>\n",
       "      <td>0.0</td>\n",
       "      <td>NaN</td>\n",
       "      <td>2019-09-07 02:31:17</td>\n",
       "      <td>nobody remembers the guy who finished second b...</td>\n",
       "    </tr>\n",
       "    <tr>\n",
       "      <th>718157017970961</th>\n",
       "      <td>9.178130e+07</td>\n",
       "      <td>0.0</td>\n",
       "      <td>NaN</td>\n",
       "      <td>NaN</td>\n",
       "      <td>NaN</td>\n",
       "      <td>0.0</td>\n",
       "      <td>NaN</td>\n",
       "      <td>2016-07-10 22:43:09</td>\n",
       "      <td>NaN</td>\n",
       "    </tr>\n",
       "  </tbody>\n",
       "</table>\n",
       "<p>656801 rows × 9 columns</p>\n",
       "</div>"
      ],
      "text/plain": [
       "                       user_id  retweet_count  reply_count  favorite_count  \\\n",
       "id                                                                           \n",
       "487190144                  NaN            1.0          NaN             NaN   \n",
       "949116854133810            NaN            0.0          0.0             NaN   \n",
       "744248635197745            NaN            NaN          NaN             NaN   \n",
       "6069950098142551  7.254514e+08            NaN          0.0             NaN   \n",
       "mar               2.211927e+09            0.0          NaN             NaN   \n",
       "...                        ...            ...          ...             ...   \n",
       "524128262         7.659171e+08            NaN          NaN             0.0   \n",
       "6442256482                 NaN            NaN          0.0             NaN   \n",
       "5992581           9.643556e+07            0.0          NaN             0.0   \n",
       "idjn              2.432829e+08            NaN          NaN             NaN   \n",
       "718157017970961   9.178130e+07            0.0          NaN             NaN   \n",
       "\n",
       "                  num_hashtags  num_urls  num_mentions          created_at  \\\n",
       "id                                                                           \n",
       "487190144                  NaN       0.0           NaN 2019-10-30 06:11:12   \n",
       "949116854133810            NaN       NaN           NaN 2018-06-02 03:24:58   \n",
       "744248635197745            NaN       0.0           1.0 2019-07-30 18:58:59   \n",
       "6069950098142551           NaN       NaN           NaN 2020-03-01 03:45:28   \n",
       "mar                        NaN       NaN           NaN 2020-01-29 00:24:20   \n",
       "...                        ...       ...           ...                 ...   \n",
       "524128262                  NaN       0.0           NaN 2020-04-04 05:47:00   \n",
       "6442256482                 NaN       NaN           NaN 2020-03-31 04:36:19   \n",
       "5992581                    NaN       NaN           NaN 2019-10-22 12:10:26   \n",
       "idjn                       NaN       0.0           NaN 2019-09-07 02:31:17   \n",
       "718157017970961            NaN       0.0           NaN 2016-07-10 22:43:09   \n",
       "\n",
       "                                                               text  \n",
       "id                                                                   \n",
       "487190144                                                       NaN  \n",
       "949116854133810   @danloving it’a a rarity, for sure. but for cr...  \n",
       "744248635197745                     @perfectdkids i'm not a bad kid  \n",
       "6069950098142551              @todayisaray sorry, i was in the gym.  \n",
       "mar                                                             NaN  \n",
       "...                                                             ...  \n",
       "524128262                                                       NaN  \n",
       "6442256482                                   history in the making.  \n",
       "5992581                                                         NaN  \n",
       "idjn              nobody remembers the guy who finished second b...  \n",
       "718157017970961                                                 NaN  \n",
       "\n",
       "[656801 rows x 9 columns]"
      ]
     },
     "execution_count": 36,
     "metadata": {},
     "output_type": "execute_result"
    }
   ],
   "source": [
    "df_tweets[count_of_missing_val >= 5]"
   ]
  },
  {
   "cell_type": "code",
   "execution_count": 38,
   "id": "2b982f7e-c7ea-4064-b265-07f74453e867",
   "metadata": {},
   "outputs": [
    {
     "name": "stdout",
     "output_type": "stream",
     "text": [
      "Dropping 656801 not good entries\n",
      "CPU times: user 2.02 s, sys: 704 ms, total: 2.72 s\n",
      "Wall time: 2.72 s\n"
     ]
    }
   ],
   "source": [
    "%%time\n",
    "number_of_good_entries = len(df_tweets[count_of_missing_val <= 4])\n",
    "rows, cols = df_tweets.shape\n",
    "print(\"Dropping\", (rows - number_of_good_entries), \"not good entries\")\n",
    "df_tweets = df_tweets[count_of_missing_val <= 4]"
   ]
  },
  {
   "cell_type": "code",
   "execution_count": 39,
   "id": "572e30fe-79c1-4518-b015-b43f80241542",
   "metadata": {},
   "outputs": [
    {
     "data": {
      "text/plain": [
       "4"
      ]
     },
     "execution_count": 39,
     "metadata": {},
     "output_type": "execute_result"
    }
   ],
   "source": [
    "tweets_isna = df_tweets.isna()\n",
    "count_of_missing_val = tweets_isna.sum(axis = 1)\n",
    "tweets_isna.head()\n",
    "count_of_missing_val.max()"
   ]
  },
  {
   "cell_type": "code",
   "execution_count": 40,
   "id": "a257a63c-8535-47df-8ce0-2714d08813e2",
   "metadata": {},
   "outputs": [
    {
     "data": {
      "text/html": [
       "<div>\n",
       "<style scoped>\n",
       "    .dataframe tbody tr th:only-of-type {\n",
       "        vertical-align: middle;\n",
       "    }\n",
       "\n",
       "    .dataframe tbody tr th {\n",
       "        vertical-align: top;\n",
       "    }\n",
       "\n",
       "    .dataframe thead th {\n",
       "        text-align: right;\n",
       "    }\n",
       "</style>\n",
       "<table border=\"1\" class=\"dataframe\">\n",
       "  <thead>\n",
       "    <tr style=\"text-align: right;\">\n",
       "      <th></th>\n",
       "      <th>user_id</th>\n",
       "      <th>retweet_count</th>\n",
       "      <th>reply_count</th>\n",
       "      <th>favorite_count</th>\n",
       "      <th>num_hashtags</th>\n",
       "      <th>num_urls</th>\n",
       "      <th>num_mentions</th>\n",
       "      <th>created_at</th>\n",
       "      <th>text</th>\n",
       "    </tr>\n",
       "    <tr>\n",
       "      <th>id</th>\n",
       "      <th></th>\n",
       "      <th></th>\n",
       "      <th></th>\n",
       "      <th></th>\n",
       "      <th></th>\n",
       "      <th></th>\n",
       "      <th></th>\n",
       "      <th></th>\n",
       "      <th></th>\n",
       "    </tr>\n",
       "  </thead>\n",
       "  <tbody>\n",
       "  </tbody>\n",
       "</table>\n",
       "</div>"
      ],
      "text/plain": [
       "Empty DataFrame\n",
       "Columns: [user_id, retweet_count, reply_count, favorite_count, num_hashtags, num_urls, num_mentions, created_at, text]\n",
       "Index: []"
      ]
     },
     "execution_count": 40,
     "metadata": {},
     "output_type": "execute_result"
    }
   ],
   "source": [
    "df_tweets[count_of_missing_val >= 5]"
   ]
  },
  {
   "cell_type": "code",
   "execution_count": 41,
   "id": "d906df52-96e2-4c94-be15-503f68fa88f7",
   "metadata": {},
   "outputs": [
    {
     "data": {
      "text/html": [
       "<div>\n",
       "<style scoped>\n",
       "    .dataframe tbody tr th:only-of-type {\n",
       "        vertical-align: middle;\n",
       "    }\n",
       "\n",
       "    .dataframe tbody tr th {\n",
       "        vertical-align: top;\n",
       "    }\n",
       "\n",
       "    .dataframe thead th {\n",
       "        text-align: right;\n",
       "    }\n",
       "</style>\n",
       "<table border=\"1\" class=\"dataframe\">\n",
       "  <thead>\n",
       "    <tr style=\"text-align: right;\">\n",
       "      <th></th>\n",
       "      <th>user_id</th>\n",
       "      <th>retweet_count</th>\n",
       "      <th>reply_count</th>\n",
       "      <th>favorite_count</th>\n",
       "      <th>num_hashtags</th>\n",
       "      <th>num_urls</th>\n",
       "      <th>num_mentions</th>\n",
       "      <th>created_at</th>\n",
       "      <th>text</th>\n",
       "    </tr>\n",
       "    <tr>\n",
       "      <th>id</th>\n",
       "      <th></th>\n",
       "      <th></th>\n",
       "      <th></th>\n",
       "      <th></th>\n",
       "      <th></th>\n",
       "      <th></th>\n",
       "      <th></th>\n",
       "      <th></th>\n",
       "      <th></th>\n",
       "    </tr>\n",
       "  </thead>\n",
       "  <tbody>\n",
       "    <tr>\n",
       "      <th>509354017856950272</th>\n",
       "      <td>3.277463e+08</td>\n",
       "      <td>0.0</td>\n",
       "      <td>0.0</td>\n",
       "      <td>0.0</td>\n",
       "      <td>0.0</td>\n",
       "      <td>0.0</td>\n",
       "      <td>0.0</td>\n",
       "      <td>2019-09-11 14:53:55</td>\n",
       "      <td>if man is a little lower than angels, then ang...</td>\n",
       "    </tr>\n",
       "    <tr>\n",
       "      <th>583002592529121280</th>\n",
       "      <td>3.337229e+08</td>\n",
       "      <td>1.0</td>\n",
       "      <td>0.0</td>\n",
       "      <td>0.0</td>\n",
       "      <td>0.0</td>\n",
       "      <td>0.0</td>\n",
       "      <td>1.0</td>\n",
       "      <td>2020-04-01 20:27:04</td>\n",
       "      <td>\"@bestwshhvids: how do you say these words wit...</td>\n",
       "    </tr>\n",
       "    <tr>\n",
       "      <th>461498835362013185</th>\n",
       "      <td>2.379756e+09</td>\n",
       "      <td>0.0</td>\n",
       "      <td>0.0</td>\n",
       "      <td>0.0</td>\n",
       "      <td>0.0</td>\n",
       "      <td>0.0</td>\n",
       "      <td>1.0</td>\n",
       "      <td>2019-05-02 13:34:31</td>\n",
       "      <td>@lolatcomedy awsome</td>\n",
       "    </tr>\n",
       "    <tr>\n",
       "      <th>528808127366692864</th>\n",
       "      <td>4.662269e+08</td>\n",
       "      <td>0.0</td>\n",
       "      <td>0.0</td>\n",
       "      <td>0.0</td>\n",
       "      <td>0.0</td>\n",
       "      <td>0.0</td>\n",
       "      <td>0.0</td>\n",
       "      <td>2019-11-04 07:17:37</td>\n",
       "      <td>stephen hawkins: i buchi neri non esistono se ...</td>\n",
       "    </tr>\n",
       "    <tr>\n",
       "      <th>575336690904006656</th>\n",
       "      <td>1.355538e+09</td>\n",
       "      <td>114.0</td>\n",
       "      <td>0.0</td>\n",
       "      <td>0.0</td>\n",
       "      <td>1.0</td>\n",
       "      <td>0.0</td>\n",
       "      <td>1.0</td>\n",
       "      <td>2020-03-11 16:45:31</td>\n",
       "      <td>rt @tibbs_montris: so ready for wednesday!</td>\n",
       "    </tr>\n",
       "    <tr>\n",
       "      <th>...</th>\n",
       "      <td>...</td>\n",
       "      <td>...</td>\n",
       "      <td>...</td>\n",
       "      <td>...</td>\n",
       "      <td>...</td>\n",
       "      <td>...</td>\n",
       "      <td>...</td>\n",
       "      <td>...</td>\n",
       "      <td>...</td>\n",
       "    </tr>\n",
       "    <tr>\n",
       "      <th>459163209170046976</th>\n",
       "      <td>8.657052e+06</td>\n",
       "      <td>0.0</td>\n",
       "      <td>0.0</td>\n",
       "      <td>1.0</td>\n",
       "      <td>0.0</td>\n",
       "      <td>0.0</td>\n",
       "      <td>1.0</td>\n",
       "      <td>2019-04-26 02:53:34</td>\n",
       "      <td>@_victoriamm twoot.</td>\n",
       "    </tr>\n",
       "    <tr>\n",
       "      <th>329829994169786368</th>\n",
       "      <td>2.209330e+08</td>\n",
       "      <td>0.0</td>\n",
       "      <td>0.0</td>\n",
       "      <td>0.0</td>\n",
       "      <td>0.0</td>\n",
       "      <td>0.0</td>\n",
       "      <td>0.0</td>\n",
       "      <td>2018-05-04 05:29:33</td>\n",
       "      <td>esta manana aun esta  muy frio ! miren esto ! ...</td>\n",
       "    </tr>\n",
       "    <tr>\n",
       "      <th>588535254207467520</th>\n",
       "      <td>5.874910e+08</td>\n",
       "      <td>0.0</td>\n",
       "      <td>0.0</td>\n",
       "      <td>0.0</td>\n",
       "      <td>0.0</td>\n",
       "      <td>0.0</td>\n",
       "      <td>1.0</td>\n",
       "      <td>2020-04-17 02:51:53</td>\n",
       "      <td>@warriors congrats, maybe i'll be able to get ...</td>\n",
       "    </tr>\n",
       "    <tr>\n",
       "      <th>441301348676415488</th>\n",
       "      <td>1.278956e+08</td>\n",
       "      <td>0.0</td>\n",
       "      <td>0.0</td>\n",
       "      <td>1.0</td>\n",
       "      <td>1.0</td>\n",
       "      <td>0.0</td>\n",
       "      <td>0.0</td>\n",
       "      <td>2019-03-07 19:56:55</td>\n",
       "      <td>shooting crew of porn movies. #theworstjobtohave</td>\n",
       "    </tr>\n",
       "    <tr>\n",
       "      <th>486479812614451200</th>\n",
       "      <td>4.654210e+08</td>\n",
       "      <td>3.0</td>\n",
       "      <td>0.0</td>\n",
       "      <td>4.0</td>\n",
       "      <td>0.0</td>\n",
       "      <td>0.0</td>\n",
       "      <td>0.0</td>\n",
       "      <td>2019-07-10 12:00:00</td>\n",
       "      <td>qualcuno dovrã  pur dire a quelli che \"twitter...</td>\n",
       "    </tr>\n",
       "  </tbody>\n",
       "</table>\n",
       "<p>11055290 rows × 9 columns</p>\n",
       "</div>"
      ],
      "text/plain": [
       "                         user_id  retweet_count  reply_count  favorite_count  \\\n",
       "id                                                                             \n",
       "509354017856950272  3.277463e+08            0.0          0.0             0.0   \n",
       "583002592529121280  3.337229e+08            1.0          0.0             0.0   \n",
       "461498835362013185  2.379756e+09            0.0          0.0             0.0   \n",
       "528808127366692864  4.662269e+08            0.0          0.0             0.0   \n",
       "575336690904006656  1.355538e+09          114.0          0.0             0.0   \n",
       "...                          ...            ...          ...             ...   \n",
       "459163209170046976  8.657052e+06            0.0          0.0             1.0   \n",
       "329829994169786368  2.209330e+08            0.0          0.0             0.0   \n",
       "588535254207467520  5.874910e+08            0.0          0.0             0.0   \n",
       "441301348676415488  1.278956e+08            0.0          0.0             1.0   \n",
       "486479812614451200  4.654210e+08            3.0          0.0             4.0   \n",
       "\n",
       "                    num_hashtags  num_urls  num_mentions          created_at  \\\n",
       "id                                                                             \n",
       "509354017856950272           0.0       0.0           0.0 2019-09-11 14:53:55   \n",
       "583002592529121280           0.0       0.0           1.0 2020-04-01 20:27:04   \n",
       "461498835362013185           0.0       0.0           1.0 2019-05-02 13:34:31   \n",
       "528808127366692864           0.0       0.0           0.0 2019-11-04 07:17:37   \n",
       "575336690904006656           1.0       0.0           1.0 2020-03-11 16:45:31   \n",
       "...                          ...       ...           ...                 ...   \n",
       "459163209170046976           0.0       0.0           1.0 2019-04-26 02:53:34   \n",
       "329829994169786368           0.0       0.0           0.0 2018-05-04 05:29:33   \n",
       "588535254207467520           0.0       0.0           1.0 2020-04-17 02:51:53   \n",
       "441301348676415488           1.0       0.0           0.0 2019-03-07 19:56:55   \n",
       "486479812614451200           0.0       0.0           0.0 2019-07-10 12:00:00   \n",
       "\n",
       "                                                                 text  \n",
       "id                                                                     \n",
       "509354017856950272  if man is a little lower than angels, then ang...  \n",
       "583002592529121280  \"@bestwshhvids: how do you say these words wit...  \n",
       "461498835362013185                                @lolatcomedy awsome  \n",
       "528808127366692864  stephen hawkins: i buchi neri non esistono se ...  \n",
       "575336690904006656         rt @tibbs_montris: so ready for wednesday!  \n",
       "...                                                               ...  \n",
       "459163209170046976                                @_victoriamm twoot.  \n",
       "329829994169786368  esta manana aun esta  muy frio ! miren esto ! ...  \n",
       "588535254207467520  @warriors congrats, maybe i'll be able to get ...  \n",
       "441301348676415488   shooting crew of porn movies. #theworstjobtohave  \n",
       "486479812614451200  qualcuno dovrã  pur dire a quelli che \"twitter...  \n",
       "\n",
       "[11055290 rows x 9 columns]"
      ]
     },
     "execution_count": 41,
     "metadata": {},
     "output_type": "execute_result"
    }
   ],
   "source": [
    "df_tweets"
   ]
  },
  {
   "cell_type": "code",
   "execution_count": 42,
   "id": "75cb70ff-ff83-443d-b3d4-17139b7ccb6a",
   "metadata": {},
   "outputs": [
    {
     "name": "stdout",
     "output_type": "stream",
     "text": [
      "13786\n"
     ]
    }
   ],
   "source": [
    "df_tweets_duplicated = df_tweets.duplicated(keep=\"first\")\n",
    "print(df_tweets_duplicated.sum())"
   ]
  },
  {
   "cell_type": "code",
   "execution_count": 43,
   "id": "b52115e1-cafd-490a-a629-378dcc4e9a2d",
   "metadata": {},
   "outputs": [
    {
     "data": {
      "text/html": [
       "<div>\n",
       "<style scoped>\n",
       "    .dataframe tbody tr th:only-of-type {\n",
       "        vertical-align: middle;\n",
       "    }\n",
       "\n",
       "    .dataframe tbody tr th {\n",
       "        vertical-align: top;\n",
       "    }\n",
       "\n",
       "    .dataframe thead th {\n",
       "        text-align: right;\n",
       "    }\n",
       "</style>\n",
       "<table border=\"1\" class=\"dataframe\">\n",
       "  <thead>\n",
       "    <tr style=\"text-align: right;\">\n",
       "      <th></th>\n",
       "      <th>user_id</th>\n",
       "      <th>retweet_count</th>\n",
       "      <th>reply_count</th>\n",
       "      <th>favorite_count</th>\n",
       "      <th>num_hashtags</th>\n",
       "      <th>num_urls</th>\n",
       "      <th>num_mentions</th>\n",
       "      <th>created_at</th>\n",
       "      <th>text</th>\n",
       "    </tr>\n",
       "    <tr>\n",
       "      <th>id</th>\n",
       "      <th></th>\n",
       "      <th></th>\n",
       "      <th></th>\n",
       "      <th></th>\n",
       "      <th></th>\n",
       "      <th></th>\n",
       "      <th></th>\n",
       "      <th></th>\n",
       "      <th></th>\n",
       "    </tr>\n",
       "  </thead>\n",
       "  <tbody>\n",
       "    <tr>\n",
       "      <th>zocbjwsq</th>\n",
       "      <td>3.671254e+08</td>\n",
       "      <td>0.0</td>\n",
       "      <td>0.0</td>\n",
       "      <td>0.0</td>\n",
       "      <td>0.0</td>\n",
       "      <td>0.0</td>\n",
       "      <td>0.0</td>\n",
       "      <td>2017-11-01 00:30:57</td>\n",
       "      <td>â«ðð°ð¶ð½ð¾ ð½ðµ ñð¾, ññð¾ ñð´ðµð»ð°ð»ð¸ ...</td>\n",
       "    </tr>\n",
       "    <tr>\n",
       "      <th>572049929700564992</th>\n",
       "      <td>5.637819e+08</td>\n",
       "      <td>0.0</td>\n",
       "      <td>0.0</td>\n",
       "      <td>0.0</td>\n",
       "      <td>1.0</td>\n",
       "      <td>1.0</td>\n",
       "      <td>1.0</td>\n",
       "      <td>2020-03-02 15:05:06</td>\n",
       "      <td>.@arieblitzmd: my video lecture on the 10 most...</td>\n",
       "    </tr>\n",
       "    <tr>\n",
       "      <th>467122382600011776</th>\n",
       "      <td>1.012081e+09</td>\n",
       "      <td>639.0</td>\n",
       "      <td>0.0</td>\n",
       "      <td>0.0</td>\n",
       "      <td>3.0</td>\n",
       "      <td>0.0</td>\n",
       "      <td>2.0</td>\n",
       "      <td>2019-05-18 02:00:29</td>\n",
       "      <td>rt @johncena: time to hear from you, #wwe univ...</td>\n",
       "    </tr>\n",
       "    <tr>\n",
       "      <th>589171465020387328</th>\n",
       "      <td>2.973667e+09</td>\n",
       "      <td>0.0</td>\n",
       "      <td>0.0</td>\n",
       "      <td>2.0</td>\n",
       "      <td>0.0</td>\n",
       "      <td>0.0</td>\n",
       "      <td>2.0</td>\n",
       "      <td>2020-04-18 20:59:58</td>\n",
       "      <td>@ellenpompeo @ellenpimpeo marina what did you ...</td>\n",
       "    </tr>\n",
       "    <tr>\n",
       "      <th>75562792835692914</th>\n",
       "      <td>3.873101e+06</td>\n",
       "      <td>0.0</td>\n",
       "      <td>0.0</td>\n",
       "      <td>0.0</td>\n",
       "      <td>0.0</td>\n",
       "      <td>0.0</td>\n",
       "      <td>0.0</td>\n",
       "      <td>NaT</td>\n",
       "      <td>=͟͟͞͞深=͟͟͞͞夜=͟͟͞͞徘=͟͟͞͞徊</td>\n",
       "    </tr>\n",
       "    <tr>\n",
       "      <th>...</th>\n",
       "      <td>...</td>\n",
       "      <td>...</td>\n",
       "      <td>...</td>\n",
       "      <td>...</td>\n",
       "      <td>...</td>\n",
       "      <td>...</td>\n",
       "      <td>...</td>\n",
       "      <td>...</td>\n",
       "      <td>...</td>\n",
       "    </tr>\n",
       "    <tr>\n",
       "      <th>mndqxvy</th>\n",
       "      <td>2.356949e+09</td>\n",
       "      <td>0.0</td>\n",
       "      <td>0.0</td>\n",
       "      <td>0.0</td>\n",
       "      <td>0.0</td>\n",
       "      <td>0.0</td>\n",
       "      <td>0.0</td>\n",
       "      <td>2019-05-01 23:16:30</td>\n",
       "      <td>\"the best way to teach people is by telling a ...</td>\n",
       "    </tr>\n",
       "    <tr>\n",
       "      <th>eexdktibbv</th>\n",
       "      <td>3.291884e+08</td>\n",
       "      <td>0.0</td>\n",
       "      <td>0.0</td>\n",
       "      <td>0.0</td>\n",
       "      <td>0.0</td>\n",
       "      <td>1.0</td>\n",
       "      <td>0.0</td>\n",
       "      <td>2019-09-14 16:07:39</td>\n",
       "      <td>fascinating history of espn  http://t.co/rikzl...</td>\n",
       "    </tr>\n",
       "    <tr>\n",
       "      <th>519502996070490112</th>\n",
       "      <td>3.341657e+08</td>\n",
       "      <td>0.0</td>\n",
       "      <td>0.0</td>\n",
       "      <td>0.0</td>\n",
       "      <td>0.0</td>\n",
       "      <td>0.0</td>\n",
       "      <td>0.0</td>\n",
       "      <td>2019-10-09 15:02:20</td>\n",
       "      <td>making money is a hobby that will complement a...</td>\n",
       "    </tr>\n",
       "    <tr>\n",
       "      <th>vlzxzj</th>\n",
       "      <td>7.259255e+08</td>\n",
       "      <td>0.0</td>\n",
       "      <td>0.0</td>\n",
       "      <td>0.0</td>\n",
       "      <td>0.0</td>\n",
       "      <td>0.0</td>\n",
       "      <td>1.0</td>\n",
       "      <td>2019-09-28 15:00:26</td>\n",
       "      <td>@claudiapezzutti io le avrei comprate se ci fo...</td>\n",
       "    </tr>\n",
       "    <tr>\n",
       "      <th>ynzpsyx</th>\n",
       "      <td>5.312363e+08</td>\n",
       "      <td>0.0</td>\n",
       "      <td>0.0</td>\n",
       "      <td>0.0</td>\n",
       "      <td>0.0</td>\n",
       "      <td>0.0</td>\n",
       "      <td>0.0</td>\n",
       "      <td>2019-11-01 14:15:50</td>\n",
       "      <td>conscience: the thing that hurts when everythi...</td>\n",
       "    </tr>\n",
       "  </tbody>\n",
       "</table>\n",
       "<p>13786 rows × 9 columns</p>\n",
       "</div>"
      ],
      "text/plain": [
       "                         user_id  retweet_count  reply_count  favorite_count  \\\n",
       "id                                                                             \n",
       "zocbjwsq            3.671254e+08            0.0          0.0             0.0   \n",
       "572049929700564992  5.637819e+08            0.0          0.0             0.0   \n",
       "467122382600011776  1.012081e+09          639.0          0.0             0.0   \n",
       "589171465020387328  2.973667e+09            0.0          0.0             2.0   \n",
       "75562792835692914   3.873101e+06            0.0          0.0             0.0   \n",
       "...                          ...            ...          ...             ...   \n",
       "mndqxvy             2.356949e+09            0.0          0.0             0.0   \n",
       "eexdktibbv          3.291884e+08            0.0          0.0             0.0   \n",
       "519502996070490112  3.341657e+08            0.0          0.0             0.0   \n",
       "vlzxzj              7.259255e+08            0.0          0.0             0.0   \n",
       "ynzpsyx             5.312363e+08            0.0          0.0             0.0   \n",
       "\n",
       "                    num_hashtags  num_urls  num_mentions          created_at  \\\n",
       "id                                                                             \n",
       "zocbjwsq                     0.0       0.0           0.0 2017-11-01 00:30:57   \n",
       "572049929700564992           1.0       1.0           1.0 2020-03-02 15:05:06   \n",
       "467122382600011776           3.0       0.0           2.0 2019-05-18 02:00:29   \n",
       "589171465020387328           0.0       0.0           2.0 2020-04-18 20:59:58   \n",
       "75562792835692914            0.0       0.0           0.0                 NaT   \n",
       "...                          ...       ...           ...                 ...   \n",
       "mndqxvy                      0.0       0.0           0.0 2019-05-01 23:16:30   \n",
       "eexdktibbv                   0.0       1.0           0.0 2019-09-14 16:07:39   \n",
       "519502996070490112           0.0       0.0           0.0 2019-10-09 15:02:20   \n",
       "vlzxzj                       0.0       0.0           1.0 2019-09-28 15:00:26   \n",
       "ynzpsyx                      0.0       0.0           0.0 2019-11-01 14:15:50   \n",
       "\n",
       "                                                                 text  \n",
       "id                                                                     \n",
       "zocbjwsq            â«ðð°ð¶ð½ð¾ ð½ðµ ñð¾, ññð¾ ñð´ðµð»ð°ð»ð¸ ...  \n",
       "572049929700564992  .@arieblitzmd: my video lecture on the 10 most...  \n",
       "467122382600011776  rt @johncena: time to hear from you, #wwe univ...  \n",
       "589171465020387328  @ellenpompeo @ellenpimpeo marina what did you ...  \n",
       "75562792835692914                            =͟͟͞͞深=͟͟͞͞夜=͟͟͞͞徘=͟͟͞͞徊  \n",
       "...                                                               ...  \n",
       "mndqxvy             \"the best way to teach people is by telling a ...  \n",
       "eexdktibbv          fascinating history of espn  http://t.co/rikzl...  \n",
       "519502996070490112  making money is a hobby that will complement a...  \n",
       "vlzxzj              @claudiapezzutti io le avrei comprate se ci fo...  \n",
       "ynzpsyx             conscience: the thing that hurts when everythi...  \n",
       "\n",
       "[13786 rows x 9 columns]"
      ]
     },
     "execution_count": 43,
     "metadata": {},
     "output_type": "execute_result"
    }
   ],
   "source": [
    "df_tweets[df_tweets_duplicated]"
   ]
  },
  {
   "cell_type": "code",
   "execution_count": 42,
   "id": "eddbb2c3-4271-4c35-8f95-b4954cc936f1",
   "metadata": {},
   "outputs": [],
   "source": [
    "duplicated_text = df_tweets[df_tweets.duplicated(['text'])]"
   ]
  },
  {
   "cell_type": "code",
   "execution_count": 43,
   "id": "7fc9e861-956f-4010-a0db-9950018911d0",
   "metadata": {},
   "outputs": [
    {
     "data": {
      "text/html": [
       "<div>\n",
       "<style scoped>\n",
       "    .dataframe tbody tr th:only-of-type {\n",
       "        vertical-align: middle;\n",
       "    }\n",
       "\n",
       "    .dataframe tbody tr th {\n",
       "        vertical-align: top;\n",
       "    }\n",
       "\n",
       "    .dataframe thead th {\n",
       "        text-align: right;\n",
       "    }\n",
       "</style>\n",
       "<table border=\"1\" class=\"dataframe\">\n",
       "  <thead>\n",
       "    <tr style=\"text-align: right;\">\n",
       "      <th></th>\n",
       "      <th>user_id</th>\n",
       "      <th>retweet_count</th>\n",
       "      <th>reply_count</th>\n",
       "      <th>favorite_count</th>\n",
       "      <th>num_hashtags</th>\n",
       "      <th>num_urls</th>\n",
       "      <th>num_mentions</th>\n",
       "      <th>created_at</th>\n",
       "      <th>text</th>\n",
       "    </tr>\n",
       "    <tr>\n",
       "      <th>id</th>\n",
       "      <th></th>\n",
       "      <th></th>\n",
       "      <th></th>\n",
       "      <th></th>\n",
       "      <th></th>\n",
       "      <th></th>\n",
       "      <th></th>\n",
       "      <th></th>\n",
       "      <th></th>\n",
       "    </tr>\n",
       "  </thead>\n",
       "  <tbody>\n",
       "    <tr>\n",
       "      <th>702764859</th>\n",
       "      <td>2.528823e+09</td>\n",
       "      <td>0.0</td>\n",
       "      <td>0.0</td>\n",
       "      <td>NaN</td>\n",
       "      <td>0.0</td>\n",
       "      <td>0.0</td>\n",
       "      <td>NaN</td>\n",
       "      <td>2020-03-25 03:41:01</td>\n",
       "      <td>NaN</td>\n",
       "    </tr>\n",
       "    <tr>\n",
       "      <th>524977054694256641</th>\n",
       "      <td>5.312194e+08</td>\n",
       "      <td>0.0</td>\n",
       "      <td>0.0</td>\n",
       "      <td>0.0</td>\n",
       "      <td>0.0</td>\n",
       "      <td>0.0</td>\n",
       "      <td>0.0</td>\n",
       "      <td>2019-10-24 17:34:18</td>\n",
       "      <td>any style that nike makes in all black, shoe, ...</td>\n",
       "    </tr>\n",
       "    <tr>\n",
       "      <th>514497968188444672</th>\n",
       "      <td>5.311671e+08</td>\n",
       "      <td>0.0</td>\n",
       "      <td>0.0</td>\n",
       "      <td>0.0</td>\n",
       "      <td>0.0</td>\n",
       "      <td>0.0</td>\n",
       "      <td>0.0</td>\n",
       "      <td>2019-09-25 19:34:09</td>\n",
       "      <td>the lead car is absolutely unique, except for ...</td>\n",
       "    </tr>\n",
       "    <tr>\n",
       "      <th>527884706415935489</th>\n",
       "      <td>5.854116e+08</td>\n",
       "      <td>0.0</td>\n",
       "      <td>0.0</td>\n",
       "      <td>0.0</td>\n",
       "      <td>0.0</td>\n",
       "      <td>0.0</td>\n",
       "      <td>0.0</td>\n",
       "      <td>2019-11-01 18:08:16</td>\n",
       "      <td>\"il mentitore dovrebbe tener presente che per ...</td>\n",
       "    </tr>\n",
       "    <tr>\n",
       "      <th>5834174488</th>\n",
       "      <td>NaN</td>\n",
       "      <td>0.0</td>\n",
       "      <td>0.0</td>\n",
       "      <td>NaN</td>\n",
       "      <td>0.0</td>\n",
       "      <td>0.0</td>\n",
       "      <td>0.0</td>\n",
       "      <td>2019-07-10 16:01:23</td>\n",
       "      <td>\"il mentitore dovrebbe tener presente che per ...</td>\n",
       "    </tr>\n",
       "    <tr>\n",
       "      <th>...</th>\n",
       "      <td>...</td>\n",
       "      <td>...</td>\n",
       "      <td>...</td>\n",
       "      <td>...</td>\n",
       "      <td>...</td>\n",
       "      <td>...</td>\n",
       "      <td>...</td>\n",
       "      <td>...</td>\n",
       "      <td>...</td>\n",
       "    </tr>\n",
       "    <tr>\n",
       "      <th>555379893504983040</th>\n",
       "      <td>1.397172e+07</td>\n",
       "      <td>0.0</td>\n",
       "      <td>0.0</td>\n",
       "      <td>0.0</td>\n",
       "      <td>1.0</td>\n",
       "      <td>1.0</td>\n",
       "      <td>0.0</td>\n",
       "      <td>2020-01-16 15:04:19</td>\n",
       "      <td>my fitbit #fitstats_en_us for 1/13/2015: 2,541...</td>\n",
       "    </tr>\n",
       "    <tr>\n",
       "      <th>838370060</th>\n",
       "      <td>4.662072e+08</td>\n",
       "      <td>0.0</td>\n",
       "      <td>0.0</td>\n",
       "      <td>NaN</td>\n",
       "      <td>NaN</td>\n",
       "      <td>0.0</td>\n",
       "      <td>0.0</td>\n",
       "      <td>2019-11-03 16:59:57</td>\n",
       "      <td>a volte mi piacerebbe sdoppiarmi per potermi a...</td>\n",
       "    </tr>\n",
       "    <tr>\n",
       "      <th>427109081338621952</th>\n",
       "      <td>2.272612e+09</td>\n",
       "      <td>1.0</td>\n",
       "      <td>0.0</td>\n",
       "      <td>3.0</td>\n",
       "      <td>0.0</td>\n",
       "      <td>0.0</td>\n",
       "      <td>0.0</td>\n",
       "      <td>2019-01-27 16:01:54</td>\n",
       "      <td>c'ã¨ un momento in cui sentire ed ascoltare si...</td>\n",
       "    </tr>\n",
       "    <tr>\n",
       "      <th>329829994169786368</th>\n",
       "      <td>2.209330e+08</td>\n",
       "      <td>0.0</td>\n",
       "      <td>0.0</td>\n",
       "      <td>0.0</td>\n",
       "      <td>0.0</td>\n",
       "      <td>0.0</td>\n",
       "      <td>0.0</td>\n",
       "      <td>2018-05-04 05:29:33</td>\n",
       "      <td>esta manana aun esta  muy frio ! miren esto ! ...</td>\n",
       "    </tr>\n",
       "    <tr>\n",
       "      <th>486479812614451200</th>\n",
       "      <td>4.654210e+08</td>\n",
       "      <td>3.0</td>\n",
       "      <td>0.0</td>\n",
       "      <td>4.0</td>\n",
       "      <td>0.0</td>\n",
       "      <td>0.0</td>\n",
       "      <td>0.0</td>\n",
       "      <td>2019-07-10 12:00:00</td>\n",
       "      <td>qualcuno dovrã  pur dire a quelli che \"twitter...</td>\n",
       "    </tr>\n",
       "  </tbody>\n",
       "</table>\n",
       "<p>4014052 rows × 9 columns</p>\n",
       "</div>"
      ],
      "text/plain": [
       "                         user_id  retweet_count  reply_count  favorite_count  \\\n",
       "id                                                                             \n",
       "702764859           2.528823e+09            0.0          0.0             NaN   \n",
       "524977054694256641  5.312194e+08            0.0          0.0             0.0   \n",
       "514497968188444672  5.311671e+08            0.0          0.0             0.0   \n",
       "527884706415935489  5.854116e+08            0.0          0.0             0.0   \n",
       "5834174488                   NaN            0.0          0.0             NaN   \n",
       "...                          ...            ...          ...             ...   \n",
       "555379893504983040  1.397172e+07            0.0          0.0             0.0   \n",
       "838370060           4.662072e+08            0.0          0.0             NaN   \n",
       "427109081338621952  2.272612e+09            1.0          0.0             3.0   \n",
       "329829994169786368  2.209330e+08            0.0          0.0             0.0   \n",
       "486479812614451200  4.654210e+08            3.0          0.0             4.0   \n",
       "\n",
       "                    num_hashtags  num_urls  num_mentions          created_at  \\\n",
       "id                                                                             \n",
       "702764859                    0.0       0.0           NaN 2020-03-25 03:41:01   \n",
       "524977054694256641           0.0       0.0           0.0 2019-10-24 17:34:18   \n",
       "514497968188444672           0.0       0.0           0.0 2019-09-25 19:34:09   \n",
       "527884706415935489           0.0       0.0           0.0 2019-11-01 18:08:16   \n",
       "5834174488                   0.0       0.0           0.0 2019-07-10 16:01:23   \n",
       "...                          ...       ...           ...                 ...   \n",
       "555379893504983040           1.0       1.0           0.0 2020-01-16 15:04:19   \n",
       "838370060                    NaN       0.0           0.0 2019-11-03 16:59:57   \n",
       "427109081338621952           0.0       0.0           0.0 2019-01-27 16:01:54   \n",
       "329829994169786368           0.0       0.0           0.0 2018-05-04 05:29:33   \n",
       "486479812614451200           0.0       0.0           0.0 2019-07-10 12:00:00   \n",
       "\n",
       "                                                                 text  \n",
       "id                                                                     \n",
       "702764859                                                         NaN  \n",
       "524977054694256641  any style that nike makes in all black, shoe, ...  \n",
       "514497968188444672  the lead car is absolutely unique, except for ...  \n",
       "527884706415935489  \"il mentitore dovrebbe tener presente che per ...  \n",
       "5834174488          \"il mentitore dovrebbe tener presente che per ...  \n",
       "...                                                               ...  \n",
       "555379893504983040  my fitbit #fitstats_en_us for 1/13/2015: 2,541...  \n",
       "838370060           a volte mi piacerebbe sdoppiarmi per potermi a...  \n",
       "427109081338621952  c'ã¨ un momento in cui sentire ed ascoltare si...  \n",
       "329829994169786368  esta manana aun esta  muy frio ! miren esto ! ...  \n",
       "486479812614451200  qualcuno dovrã  pur dire a quelli che \"twitter...  \n",
       "\n",
       "[4014052 rows x 9 columns]"
      ]
     },
     "execution_count": 43,
     "metadata": {},
     "output_type": "execute_result"
    }
   ],
   "source": [
    "duplicated_text"
   ]
  },
  {
   "cell_type": "code",
   "execution_count": null,
   "id": "b8e0498d-a89b-4708-b2aa-06ede2d4c341",
   "metadata": {},
   "outputs": [],
   "source": []
  }
 ],
 "metadata": {
  "kernelspec": {
   "display_name": "Python 3 (ipykernel)",
   "language": "python",
   "name": "python3"
  },
  "language_info": {
   "codemirror_mode": {
    "name": "ipython",
    "version": 3
   },
   "file_extension": ".py",
   "mimetype": "text/x-python",
   "name": "python",
   "nbconvert_exporter": "python",
   "pygments_lexer": "ipython3",
   "version": "3.10.6"
  }
 },
 "nbformat": 4,
 "nbformat_minor": 5
}
