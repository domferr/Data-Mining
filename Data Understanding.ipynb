{
 "cells": [
  {
   "cell_type": "code",
   "execution_count": 1,
   "id": "49754e41-f63d-4fd7-860a-de901b3eecb9",
   "metadata": {
    "tags": []
   },
   "outputs": [],
   "source": [
    "%matplotlib inline\n",
    "import math\n",
    "import numpy as np\n",
    "import pandas as pd\n",
    "import matplotlib.pyplot as plt"
   ]
  },
  {
   "cell_type": "code",
   "execution_count": 2,
   "id": "679f9741-d306-4a4e-8672-dc53ce977a14",
   "metadata": {
    "tags": []
   },
   "outputs": [],
   "source": [
    "datasetTweetsCSVPath = \"./dataset/tweets.csv\"\n",
    "datasetUsersCSVPath  = \"./dataset/users.csv\""
   ]
  },
  {
   "cell_type": "markdown",
   "id": "af633d32-3eed-4985-8d51-8de5a5a8af76",
   "metadata": {},
   "source": [
    "# Users: Overview"
   ]
  },
  {
   "cell_type": "markdown",
   "id": "7d76f649-f242-4ab6-93df-8d05aa345a1a",
   "metadata": {},
   "source": [
    "For each attribute\n",
    "- check correlation we have with other attributes. Above 0.75 you should drop a column\n",
    "- watch distribution (bars for categorical, instograms for numbers)\n",
    "- scatter plots for numerical attributes\n",
    "- boxplots to see outliers. suggestion: group them if needed"
   ]
  },
  {
   "cell_type": "code",
   "execution_count": 3,
   "id": "de1e96c1-ec3b-454b-95fd-c24ff14b1029",
   "metadata": {},
   "outputs": [
    {
     "name": "stdout",
     "output_type": "stream",
     "text": [
      "CPU times: user 55.5 ms, sys: 25.6 ms, total: 81.1 ms\n",
      "Wall time: 92.8 ms\n"
     ]
    }
   ],
   "source": [
    "%%time\n",
    "df_users = pd.read_csv(datasetUsersCSVPath, sep=',', index_col=0)"
   ]
  },
  {
   "cell_type": "code",
   "execution_count": 4,
   "id": "c2325ecc-c286-41e0-915c-9c04b998f42b",
   "metadata": {},
   "outputs": [
    {
     "data": {
      "text/html": [
       "<div>\n",
       "<style scoped>\n",
       "    .dataframe tbody tr th:only-of-type {\n",
       "        vertical-align: middle;\n",
       "    }\n",
       "\n",
       "    .dataframe tbody tr th {\n",
       "        vertical-align: top;\n",
       "    }\n",
       "\n",
       "    .dataframe thead th {\n",
       "        text-align: right;\n",
       "    }\n",
       "</style>\n",
       "<table border=\"1\" class=\"dataframe\">\n",
       "  <thead>\n",
       "    <tr style=\"text-align: right;\">\n",
       "      <th></th>\n",
       "      <th>name</th>\n",
       "      <th>lang</th>\n",
       "      <th>bot</th>\n",
       "      <th>created_at</th>\n",
       "      <th>statuses_count</th>\n",
       "    </tr>\n",
       "    <tr>\n",
       "      <th>id</th>\n",
       "      <th></th>\n",
       "      <th></th>\n",
       "      <th></th>\n",
       "      <th></th>\n",
       "      <th></th>\n",
       "    </tr>\n",
       "  </thead>\n",
       "  <tbody>\n",
       "    <tr>\n",
       "      <th>2353593986</th>\n",
       "      <td>Lamonica Raborn</td>\n",
       "      <td>en</td>\n",
       "      <td>1</td>\n",
       "      <td>2019-02-22 18:00:42</td>\n",
       "      <td>76.0</td>\n",
       "    </tr>\n",
       "    <tr>\n",
       "      <th>2358850842</th>\n",
       "      <td>Lourie Botton</td>\n",
       "      <td>en</td>\n",
       "      <td>0</td>\n",
       "      <td>2019-02-26 03:02:32</td>\n",
       "      <td>54.0</td>\n",
       "    </tr>\n",
       "    <tr>\n",
       "      <th>137959629</th>\n",
       "      <td>Dadan Syarifudin</td>\n",
       "      <td>en</td>\n",
       "      <td>1</td>\n",
       "      <td>2015-04-30 07:09:56</td>\n",
       "      <td>3.0</td>\n",
       "    </tr>\n",
       "    <tr>\n",
       "      <th>466124818</th>\n",
       "      <td>Carletto Focia</td>\n",
       "      <td>it</td>\n",
       "      <td>1</td>\n",
       "      <td>2017-01-18 02:49:18</td>\n",
       "      <td>50.0</td>\n",
       "    </tr>\n",
       "    <tr>\n",
       "      <th>2571493866</th>\n",
       "      <td>MBK Ebook</td>\n",
       "      <td>en</td>\n",
       "      <td>0</td>\n",
       "      <td>2019-06-18 19:30:21</td>\n",
       "      <td>7085.0</td>\n",
       "    </tr>\n",
       "  </tbody>\n",
       "</table>\n",
       "</div>"
      ],
      "text/plain": [
       "                        name lang  bot           created_at  statuses_count\n",
       "id                                                                         \n",
       "2353593986   Lamonica Raborn   en    1  2019-02-22 18:00:42            76.0\n",
       "2358850842     Lourie Botton   en    0  2019-02-26 03:02:32            54.0\n",
       "137959629   Dadan Syarifudin   en    1  2015-04-30 07:09:56             3.0\n",
       "466124818     Carletto Focia   it    1  2017-01-18 02:49:18            50.0\n",
       "2571493866         MBK Ebook   en    0  2019-06-18 19:30:21          7085.0"
      ]
     },
     "execution_count": 4,
     "metadata": {},
     "output_type": "execute_result"
    }
   ],
   "source": [
    "df_users.head()"
   ]
  },
  {
   "cell_type": "code",
   "execution_count": 5,
   "id": "639a2158-3fd6-4c94-a19a-6a24bdc526b1",
   "metadata": {},
   "outputs": [
    {
     "name": "stdout",
     "output_type": "stream",
     "text": [
      "<class 'pandas.core.frame.DataFrame'>\n",
      "Int64Index: 11508 entries, 2353593986 to 933183398\n",
      "Data columns (total 5 columns):\n",
      " #   Column          Non-Null Count  Dtype  \n",
      "---  ------          --------------  -----  \n",
      " 0   name            11507 non-null  object \n",
      " 1   lang            11508 non-null  object \n",
      " 2   bot             11508 non-null  int64  \n",
      " 3   created_at      11508 non-null  object \n",
      " 4   statuses_count  11109 non-null  float64\n",
      "dtypes: float64(1), int64(1), object(3)\n",
      "memory usage: 539.4+ KB\n"
     ]
    }
   ],
   "source": [
    "df_users.info()"
   ]
  },
  {
   "cell_type": "code",
   "execution_count": 6,
   "id": "58046b7a-4d2c-450b-a00a-12916eaa3ffe",
   "metadata": {},
   "outputs": [
    {
     "data": {
      "text/plain": [
       "name               object\n",
       "lang               object\n",
       "bot                 int64\n",
       "created_at         object\n",
       "statuses_count    float64\n",
       "dtype: object"
      ]
     },
     "execution_count": 6,
     "metadata": {},
     "output_type": "execute_result"
    }
   ],
   "source": [
    "df_users.dtypes"
   ]
  },
  {
   "cell_type": "code",
   "execution_count": 7,
   "id": "a4c758b3-1980-48a6-8ead-533dbc4bf27b",
   "metadata": {},
   "outputs": [
    {
     "data": {
      "text/html": [
       "<div>\n",
       "<style scoped>\n",
       "    .dataframe tbody tr th:only-of-type {\n",
       "        vertical-align: middle;\n",
       "    }\n",
       "\n",
       "    .dataframe tbody tr th {\n",
       "        vertical-align: top;\n",
       "    }\n",
       "\n",
       "    .dataframe thead th {\n",
       "        text-align: right;\n",
       "    }\n",
       "</style>\n",
       "<table border=\"1\" class=\"dataframe\">\n",
       "  <thead>\n",
       "    <tr style=\"text-align: right;\">\n",
       "      <th></th>\n",
       "      <th>name</th>\n",
       "      <th>lang</th>\n",
       "      <th>bot</th>\n",
       "      <th>created_at</th>\n",
       "      <th>statuses_count</th>\n",
       "    </tr>\n",
       "  </thead>\n",
       "  <tbody>\n",
       "    <tr>\n",
       "      <th>0</th>\n",
       "      <td>Sara</td>\n",
       "      <td>en</td>\n",
       "      <td>1</td>\n",
       "      <td>2017-06-25 15:33:05</td>\n",
       "      <td>43.0</td>\n",
       "    </tr>\n",
       "  </tbody>\n",
       "</table>\n",
       "</div>"
      ],
      "text/plain": [
       "   name lang  bot           created_at  statuses_count\n",
       "0  Sara   en    1  2017-06-25 15:33:05            43.0"
      ]
     },
     "execution_count": 7,
     "metadata": {},
     "output_type": "execute_result"
    }
   ],
   "source": [
    "df_users.mode()"
   ]
  },
  {
   "cell_type": "code",
   "execution_count": 14,
   "id": "9a040e5f-739d-4705-b2d4-f674ff328579",
   "metadata": {},
   "outputs": [],
   "source": [
    "# Make all the strings lower case and trim leading and trailing spaces\n",
    "df_users = df_users.applymap(lambda x:x.lower().strip() if type(x) == str else x)\n",
    "df_users = df_users.replace(r\"\\s{2,}\", \" \", regex=True)"
   ]
  },
  {
   "cell_type": "markdown",
   "id": "dce8ca5c-57b7-41d8-8fae-252c67be45a5",
   "metadata": {},
   "source": [
    "# Users: Attributes analysis"
   ]
  },
  {
   "cell_type": "markdown",
   "id": "86215f31-97db-4538-8213-c931d6178e72",
   "metadata": {},
   "source": [
    "## Index"
   ]
  },
  {
   "cell_type": "code",
   "execution_count": 8,
   "id": "cc230a13-8460-459b-80c8-ade873042d9c",
   "metadata": {},
   "outputs": [
    {
     "data": {
      "text/plain": [
       "11508"
      ]
     },
     "execution_count": 8,
     "metadata": {},
     "output_type": "execute_result"
    }
   ],
   "source": [
    "len(df_users.index)"
   ]
  },
  {
   "cell_type": "code",
   "execution_count": 9,
   "id": "7e8bd85c-4179-4d29-9292-d94c888a823e",
   "metadata": {},
   "outputs": [
    {
     "data": {
      "text/plain": [
       "dtype('int64')"
      ]
     },
     "execution_count": 9,
     "metadata": {},
     "output_type": "execute_result"
    }
   ],
   "source": [
    "df_users.index.dtype"
   ]
  },
  {
   "cell_type": "markdown",
   "id": "3a48bf6b-7c5c-4e32-b7e3-413ab6951f86",
   "metadata": {},
   "source": [
    "## Name"
   ]
  },
  {
   "cell_type": "code",
   "execution_count": 15,
   "id": "95d87b73-8d11-4455-8957-4b9e2448ccab",
   "metadata": {},
   "outputs": [
    {
     "name": "stdout",
     "output_type": "stream",
     "text": [
      "11300 unique names\n"
     ]
    }
   ],
   "source": [
    "print(len(df_users.name.unique()), \"unique names\") # please remember to do correlation between id and name and drop column if needed"
   ]
  },
  {
   "cell_type": "code",
   "execution_count": 18,
   "id": "7d239980-12ef-4752-85d6-0c56875a0ac9",
   "metadata": {},
   "outputs": [
    {
     "name": "stdout",
     "output_type": "stream",
     "text": [
      "1 missing names\n"
     ]
    },
    {
     "data": {
      "text/html": [
       "<div>\n",
       "<style scoped>\n",
       "    .dataframe tbody tr th:only-of-type {\n",
       "        vertical-align: middle;\n",
       "    }\n",
       "\n",
       "    .dataframe tbody tr th {\n",
       "        vertical-align: top;\n",
       "    }\n",
       "\n",
       "    .dataframe thead th {\n",
       "        text-align: right;\n",
       "    }\n",
       "</style>\n",
       "<table border=\"1\" class=\"dataframe\">\n",
       "  <thead>\n",
       "    <tr style=\"text-align: right;\">\n",
       "      <th></th>\n",
       "      <th>name</th>\n",
       "      <th>lang</th>\n",
       "      <th>bot</th>\n",
       "      <th>created_at</th>\n",
       "      <th>statuses_count</th>\n",
       "    </tr>\n",
       "    <tr>\n",
       "      <th>id</th>\n",
       "      <th></th>\n",
       "      <th></th>\n",
       "      <th></th>\n",
       "      <th></th>\n",
       "      <th></th>\n",
       "    </tr>\n",
       "  </thead>\n",
       "  <tbody>\n",
       "    <tr>\n",
       "      <th>2166124159</th>\n",
       "      <td>NaN</td>\n",
       "      <td>en</td>\n",
       "      <td>0</td>\n",
       "      <td>2018-11-02 06:39:14</td>\n",
       "      <td>6566.0</td>\n",
       "    </tr>\n",
       "  </tbody>\n",
       "</table>\n",
       "</div>"
      ],
      "text/plain": [
       "           name lang  bot           created_at  statuses_count\n",
       "id                                                            \n",
       "2166124159  NaN   en    0  2018-11-02 06:39:14          6566.0"
      ]
     },
     "execution_count": 18,
     "metadata": {},
     "output_type": "execute_result"
    }
   ],
   "source": [
    "print(df_users.name.isna().sum(), \"missing names\")\n",
    "df_users[df_users.name.isna()]\n",
    "# todo in the future: figure out the most common name that the users with 'en' language have"
   ]
  },
  {
   "cell_type": "markdown",
   "id": "2c0383c6-7010-44f5-b2d3-0aac9e97ecf4",
   "metadata": {},
   "source": [
    "## Lang"
   ]
  },
  {
   "cell_type": "code",
   "execution_count": 19,
   "id": "56401ec5-90f2-447e-a128-1f10a655c945",
   "metadata": {},
   "outputs": [
    {
     "name": "stdout",
     "output_type": "stream",
     "text": [
      "Languages: ['en' 'it' 'fr' 'ru' 'es' 'tr' 'en-gb' 'pt' 'nl' 'id' 'zh-tw' 'ja' 'de'\n",
      " 'ko' 'en-au' 'da' 'ar' 'select language...' 'zh-cn' 'pl' 'el' 'fil' 'sv'\n",
      " 'xx-lc']\n",
      "24 unique languages\n",
      "0 missing languages\n"
     ]
    }
   ],
   "source": [
    "uniqueLanguages = df_users.lang.unique()\n",
    "print(\"Languages:\", uniqueLanguages)\n",
    "print(len(uniqueLanguages), \"unique languages\") # TODO: it was 26, but they are 24\n",
    "print(df_users.lang.isna().sum(), \"missing languages\")"
   ]
  },
  {
   "cell_type": "code",
   "execution_count": 20,
   "id": "e99b4962-1ca8-4be6-8293-3a19e806eaaf",
   "metadata": {},
   "outputs": [
    {
     "data": {
      "image/png": "[encoded data removed]",
      "text/plain": [
       "<Figure size 640x480 with 1 Axes>"
      ]
     },
     "metadata": {},
     "output_type": "display_data"
    }
   ],
   "source": [
    "lowercase_languages.value_counts().plot(kind='bar', title='lang') \n",
    "plt.show()"
   ]
  },
  {
   "cell_type": "code",
   "execution_count": 21,
   "id": "72d9a82b-e3e0-40dd-9ccb-d9ba3d7109df",
   "metadata": {},
   "outputs": [
    {
     "data": {
      "text/plain": [
       "en                    9970\n",
       "it                     906\n",
       "es                     319\n",
       "pt                      65\n",
       "en-gb                   54\n",
       "ru                      42\n",
       "fr                      36\n",
       "ja                      33\n",
       "zh-tw                   20\n",
       "tr                      14\n",
       "id                      12\n",
       "ko                       9\n",
       "de                       8\n",
       "nl                       6\n",
       "ar                       3\n",
       "da                       2\n",
       "select language...       2\n",
       "en-au                    1\n",
       "zh-cn                    1\n",
       "pl                       1\n",
       "el                       1\n",
       "fil                      1\n",
       "sv                       1\n",
       "xx-lc                    1\n",
       "Name: lang, dtype: int64"
      ]
     },
     "execution_count": 21,
     "metadata": {},
     "output_type": "execute_result"
    }
   ],
   "source": [
    "languages_count = lowercase_languages.value_counts()\n",
    "languages_count"
   ]
  },
  {
   "cell_type": "code",
   "execution_count": 22,
   "id": "3def8074-7e4c-4879-b895-9c320f0b23e8",
   "metadata": {},
   "outputs": [
    {
     "name": "stdout",
     "output_type": "stream",
     "text": [
      "There are 2 invalid languages, 'Select Language...' and 'xx-lc'. There is a total of 3 users with invalid entries\n"
     ]
    }
   ],
   "source": [
    "invalidLanguageUsers = languages_count['select language...'] + languages_count['xx-lc']\n",
    "print(\"There are 2 invalid languages, 'Select Language...' and 'xx-lc'. There is a total of\", invalidLanguageUsers, \"users with invalid entries\")"
   ]
  },
  {
   "cell_type": "code",
   "execution_count": 23,
   "id": "2fa35261-748f-4032-9cdd-7988bb21094e",
   "metadata": {},
   "outputs": [
    {
     "data": {
      "text/html": [
       "<div>\n",
       "<style scoped>\n",
       "    .dataframe tbody tr th:only-of-type {\n",
       "        vertical-align: middle;\n",
       "    }\n",
       "\n",
       "    .dataframe tbody tr th {\n",
       "        vertical-align: top;\n",
       "    }\n",
       "\n",
       "    .dataframe thead th {\n",
       "        text-align: right;\n",
       "    }\n",
       "</style>\n",
       "<table border=\"1\" class=\"dataframe\">\n",
       "  <thead>\n",
       "    <tr style=\"text-align: right;\">\n",
       "      <th></th>\n",
       "      <th>name</th>\n",
       "      <th>lang</th>\n",
       "      <th>bot</th>\n",
       "      <th>created_at</th>\n",
       "      <th>statuses_count</th>\n",
       "    </tr>\n",
       "    <tr>\n",
       "      <th>id</th>\n",
       "      <th></th>\n",
       "      <th></th>\n",
       "      <th></th>\n",
       "      <th></th>\n",
       "      <th></th>\n",
       "    </tr>\n",
       "  </thead>\n",
       "  <tbody>\n",
       "    <tr>\n",
       "      <th>2956613720</th>\n",
       "      <td>leanne arker</td>\n",
       "      <td>select language...</td>\n",
       "      <td>0</td>\n",
       "      <td>2020-01-05 00:09:59</td>\n",
       "      <td>57.0</td>\n",
       "    </tr>\n",
       "    <tr>\n",
       "      <th>2904858613</th>\n",
       "      <td>brooke</td>\n",
       "      <td>select language...</td>\n",
       "      <td>0</td>\n",
       "      <td>2019-11-22 05:44:46</td>\n",
       "      <td>85.0</td>\n",
       "    </tr>\n",
       "    <tr>\n",
       "      <th>29552151</th>\n",
       "      <td>chloe</td>\n",
       "      <td>xx-lc</td>\n",
       "      <td>0</td>\n",
       "      <td>2014-04-09 21:36:02</td>\n",
       "      <td>15398.0</td>\n",
       "    </tr>\n",
       "  </tbody>\n",
       "</table>\n",
       "</div>"
      ],
      "text/plain": [
       "                    name                lang  bot           created_at  \\\n",
       "id                                                                       \n",
       "2956613720  leanne arker  select language...    0  2020-01-05 00:09:59   \n",
       "2904858613        brooke  select language...    0  2019-11-22 05:44:46   \n",
       "29552151           chloe               xx-lc    0  2014-04-09 21:36:02   \n",
       "\n",
       "            statuses_count  \n",
       "id                          \n",
       "2956613720            57.0  \n",
       "2904858613            85.0  \n",
       "29552151           15398.0  "
      ]
     },
     "execution_count": 23,
     "metadata": {},
     "output_type": "execute_result"
    }
   ],
   "source": [
    "usersWithInvalidLanguage = df_users.query(\"lang == 'select language...' | lang == 'xx-lc'\")\n",
    "usersWithInvalidLanguage"
   ]
  },
  {
   "cell_type": "markdown",
   "id": "7bbe5427-c521-40a7-b88e-d330b7c1a920",
   "metadata": {},
   "source": [
    "## Bot"
   ]
  },
  {
   "cell_type": "code",
   "execution_count": 24,
   "id": "07e393e2-7768-4089-bf0d-0af007582c29",
   "metadata": {},
   "outputs": [
    {
     "data": {
      "text/plain": [
       "array([1, 0])"
      ]
     },
     "execution_count": 24,
     "metadata": {},
     "output_type": "execute_result"
    }
   ],
   "source": [
    "df_users.bot.unique()"
   ]
  },
  {
   "cell_type": "code",
   "execution_count": 25,
   "id": "806200ec-4cb9-4ffa-8fd5-9217f691d206",
   "metadata": {},
   "outputs": [
    {
     "data": {
      "text/plain": [
       "1    6116\n",
       "0    5392\n",
       "Name: bot, dtype: int64"
      ]
     },
     "execution_count": 25,
     "metadata": {},
     "output_type": "execute_result"
    }
   ],
   "source": [
    "df_users.bot.value_counts()"
   ]
  },
  {
   "cell_type": "code",
   "execution_count": 26,
   "id": "5aa1083c-9e9e-408d-b918-2458755bf408",
   "metadata": {},
   "outputs": [
    {
     "name": "stdout",
     "output_type": "stream",
     "text": [
      "0 missing bot attributes\n"
     ]
    }
   ],
   "source": [
    "print(df_users.bot.isna().sum(), \"missing bot attributes\")"
   ]
  },
  {
   "cell_type": "code",
   "execution_count": 27,
   "id": "6a0de52c-efdc-40db-9539-b4e59e029729",
   "metadata": {},
   "outputs": [
    {
     "name": "stdout",
     "output_type": "stream",
     "text": [
      "14 languages 'spoken' by bots: ['en' 'it' 'fr' 'ru' 'es' 'pt' 'tr' 'ko' 'de' 'id' 'ja' 'nl' 'zh-cn'\n",
      " 'en-gb']\n"
     ]
    }
   ],
   "source": [
    "bots=df_users[df_users.bot==1]\n",
    "print(len(bots.lang.unique()), \"languages 'spoken' by bots:\", bots.lang.unique())"
   ]
  },
  {
   "cell_type": "code",
   "execution_count": 28,
   "id": "0d5c8684-dc98-4cf8-9858-0fad95789d20",
   "metadata": {},
   "outputs": [
    {
     "name": "stdout",
     "output_type": "stream",
     "text": [
      "Bots don't speak the following languages: ['zh-tw', 'en-au', 'da', 'ar', 'select language...', 'pl', 'el', 'fil', 'sv', 'xx-lc']\n"
     ]
    }
   ],
   "source": [
    "print(\"Bots don't speak the following languages:\", [language for language in uniqueLanguages if language not in bots.lang.unique()])"
   ]
  },
  {
   "cell_type": "code",
   "execution_count": 29,
   "id": "4c21544a-fb1f-408c-ab93-6ecb3b8c6403",
   "metadata": {},
   "outputs": [
    {
     "data": {
      "image/png": "[encoded data removed]",
      "text/plain": [
       "<Figure size 640x480 with 1 Axes>"
      ]
     },
     "metadata": {},
     "output_type": "display_data"
    }
   ],
   "source": [
    "bots.lang.value_counts().plot(kind='bar', title='Bot language') \n",
    "plt.show()"
   ]
  },
  {
   "cell_type": "markdown",
   "id": "34cb4a51-6ae9-45a5-84c6-980ae32f8db9",
   "metadata": {},
   "source": [
    "## Created_at"
   ]
  },
  {
   "cell_type": "code",
   "execution_count": 55,
   "id": "58edf647-43e1-443c-a1b0-7dd2fdbc772d",
   "metadata": {},
   "outputs": [
    {
     "data": {
      "text/plain": [
       "name                      object\n",
       "lang                      object\n",
       "bot                        int64\n",
       "created_at        datetime64[ns]\n",
       "statuses_count           float64\n",
       "dtype: object"
      ]
     },
     "execution_count": 55,
     "metadata": {},
     "output_type": "execute_result"
    }
   ],
   "source": [
    "df_users.created_at = pd.to_datetime(df_users.created_at, format='%Y-%m-%d %H:%M:%S')\n",
    "df_users.dtypes"
   ]
  },
  {
   "cell_type": "code",
   "execution_count": 50,
   "id": "ed9a96ed-f890-4d9c-8aac-ac2cb656b8d9",
   "metadata": {},
   "outputs": [
    {
     "data": {
      "text/plain": [
       "array(['2019-02-22T18:00:42.000000000', '2019-02-26T03:02:32.000000000',\n",
       "       '2015-04-30T07:09:56.000000000', ...,\n",
       "       '2015-03-29T17:01:24.000000000', '2019-03-13T02:44:13.000000000',\n",
       "       '2017-11-09T23:24:16.000000000'], dtype='datetime64[ns]')"
      ]
     },
     "execution_count": 50,
     "metadata": {},
     "output_type": "execute_result"
    }
   ],
   "source": [
    "df_users.created_at.unique()"
   ]
  },
  {
   "cell_type": "code",
   "execution_count": 51,
   "id": "1f715dc8-77c7-4ae7-917f-e7ea70055b07",
   "metadata": {},
   "outputs": [
    {
     "data": {
      "text/plain": [
       "2017-06-25 15:33:05    5\n",
       "2017-06-25 15:46:48    4\n",
       "2017-06-25 15:46:43    4\n",
       "2017-06-25 15:48:32    3\n",
       "2017-06-25 15:49:23    2\n",
       "                      ..\n",
       "2018-02-15 08:33:00    1\n",
       "2014-08-08 12:47:25    1\n",
       "2017-06-26 07:20:41    1\n",
       "2019-02-22 05:36:50    1\n",
       "2017-11-09 23:24:16    1\n",
       "Name: created_at, Length: 11423, dtype: int64"
      ]
     },
     "execution_count": 51,
     "metadata": {},
     "output_type": "execute_result"
    }
   ],
   "source": [
    "df_users.created_at.value_counts()"
   ]
  },
  {
   "cell_type": "code",
   "execution_count": 52,
   "id": "48a0e667-42d4-4997-8d79-21dd22703b23",
   "metadata": {},
   "outputs": [
    {
     "data": {
      "text/plain": [
       "2017-06-25 15:48:32    2\n",
       "2018-02-15 09:57:21    2\n",
       "2017-06-25 15:47:49    2\n",
       "2018-02-15 08:10:57    2\n",
       "2019-02-26 03:02:32    1\n",
       "                      ..\n",
       "2018-04-15 22:21:01    1\n",
       "2018-07-27 14:25:40    1\n",
       "2015-06-25 19:01:20    1\n",
       "2019-03-14 02:32:29    1\n",
       "2017-11-09 23:24:16    1\n",
       "Name: created_at, Length: 5388, dtype: int64"
      ]
     },
     "execution_count": 52,
     "metadata": {},
     "output_type": "execute_result"
    }
   ],
   "source": [
    "real_users=df_users[df_users.bot==0]\n",
    "real_users.created_at.value_counts()"
   ]
  },
  {
   "cell_type": "code",
   "execution_count": 53,
   "id": "d07bbe32-c4c3-4cd7-bdae-56507153d81d",
   "metadata": {},
   "outputs": [
    {
     "name": "stdout",
     "output_type": "stream",
     "text": [
      "0 missing created_at attributes\n"
     ]
    }
   ],
   "source": [
    "print(df_users.created_at.isna().sum(), \"missing created_at attributes\")"
   ]
  },
  {
   "cell_type": "code",
   "execution_count": 54,
   "id": "e2b6c370-62a3-4a78-8071-2a553628edb6",
   "metadata": {},
   "outputs": [
    {
     "data": {
      "text/html": [
       "<div>\n",
       "<style scoped>\n",
       "    .dataframe tbody tr th:only-of-type {\n",
       "        vertical-align: middle;\n",
       "    }\n",
       "\n",
       "    .dataframe tbody tr th {\n",
       "        vertical-align: top;\n",
       "    }\n",
       "\n",
       "    .dataframe thead th {\n",
       "        text-align: right;\n",
       "    }\n",
       "</style>\n",
       "<table border=\"1\" class=\"dataframe\">\n",
       "  <thead>\n",
       "    <tr style=\"text-align: right;\">\n",
       "      <th></th>\n",
       "      <th>bot</th>\n",
       "      <th>statuses_count</th>\n",
       "    </tr>\n",
       "  </thead>\n",
       "  <tbody>\n",
       "    <tr>\n",
       "      <th>count</th>\n",
       "      <td>11508.000000</td>\n",
       "      <td>11109.000000</td>\n",
       "    </tr>\n",
       "    <tr>\n",
       "      <th>mean</th>\n",
       "      <td>0.531456</td>\n",
       "      <td>5883.312359</td>\n",
       "    </tr>\n",
       "    <tr>\n",
       "      <th>std</th>\n",
       "      <td>0.499031</td>\n",
       "      <td>19073.007305</td>\n",
       "    </tr>\n",
       "    <tr>\n",
       "      <th>min</th>\n",
       "      <td>0.000000</td>\n",
       "      <td>0.000000</td>\n",
       "    </tr>\n",
       "    <tr>\n",
       "      <th>25%</th>\n",
       "      <td>0.000000</td>\n",
       "      <td>41.000000</td>\n",
       "    </tr>\n",
       "    <tr>\n",
       "      <th>50%</th>\n",
       "      <td>1.000000</td>\n",
       "      <td>68.000000</td>\n",
       "    </tr>\n",
       "    <tr>\n",
       "      <th>75%</th>\n",
       "      <td>1.000000</td>\n",
       "      <td>2916.000000</td>\n",
       "    </tr>\n",
       "    <tr>\n",
       "      <th>max</th>\n",
       "      <td>1.000000</td>\n",
       "      <td>399555.000000</td>\n",
       "    </tr>\n",
       "  </tbody>\n",
       "</table>\n",
       "</div>"
      ],
      "text/plain": [
       "                bot  statuses_count\n",
       "count  11508.000000    11109.000000\n",
       "mean       0.531456     5883.312359\n",
       "std        0.499031    19073.007305\n",
       "min        0.000000        0.000000\n",
       "25%        0.000000       41.000000\n",
       "50%        1.000000       68.000000\n",
       "75%        1.000000     2916.000000\n",
       "max        1.000000   399555.000000"
      ]
     },
     "execution_count": 54,
     "metadata": {},
     "output_type": "execute_result"
    }
   ],
   "source": [
    "df_users.describe()"
   ]
  },
  {
   "cell_type": "code",
   "execution_count": 9,
   "id": "12646b7f-38f9-4e28-ae88-d7f08069c113",
   "metadata": {},
   "outputs": [
    {
     "data": {
      "text/plain": [
       "array([1, 0])"
      ]
     },
     "execution_count": 9,
     "metadata": {},
     "output_type": "execute_result"
    }
   ],
   "source": [
    "df_users['bot'].unique()"
   ]
  },
  {
   "cell_type": "code",
   "execution_count": 10,
   "id": "99afe915-a4ee-41b2-98a7-c656e1a928c3",
   "metadata": {},
   "outputs": [
    {
     "data": {
      "text/plain": [
       "False"
      ]
     },
     "execution_count": 10,
     "metadata": {},
     "output_type": "execute_result"
    }
   ],
   "source": [
    "df_users[\"statuses_count\"].apply(float.is_integer).all()"
   ]
  },
  {
   "cell_type": "markdown",
   "id": "af199dc9-b7f0-49a8-841f-d2e330076769",
   "metadata": {},
   "source": [
    "# Tweets: Attributes analysis"
   ]
  },
  {
   "cell_type": "code",
   "execution_count": 12,
   "id": "484c8dc4-df05-44ac-befa-38fa9aee5bbb",
   "metadata": {},
   "outputs": [],
   "source": [
    "df_tweets = pd.read_csv(datasetTweetsCSVPath, sep=',', index_col=0)"
   ]
  },
  {
   "cell_type": "code",
   "execution_count": 13,
   "id": "29e5a2f1-356d-4d11-aec6-65a8b5df336b",
   "metadata": {},
   "outputs": [
    {
     "name": "stdout",
     "output_type": "stream",
     "text": [
      "rows = 13664696\n",
      "columns = 9\n"
     ]
    }
   ],
   "source": [
    "numberOfRows, numberOfColumns = df_tweets.shape\n",
    "print(\"rows =\", numberOfRows)\n",
    "print(\"columns =\", numberOfColumns)"
   ]
  },
  {
   "cell_type": "code",
   "execution_count": 14,
   "id": "2a6ffc47-e743-4906-8db5-5c71ae726b59",
   "metadata": {},
   "outputs": [
    {
     "data": {
      "text/html": [
       "<div>\n",
       "<style scoped>\n",
       "    .dataframe tbody tr th:only-of-type {\n",
       "        vertical-align: middle;\n",
       "    }\n",
       "\n",
       "    .dataframe tbody tr th {\n",
       "        vertical-align: top;\n",
       "    }\n",
       "\n",
       "    .dataframe thead th {\n",
       "        text-align: right;\n",
       "    }\n",
       "</style>\n",
       "<table border=\"1\" class=\"dataframe\">\n",
       "  <thead>\n",
       "    <tr style=\"text-align: right;\">\n",
       "      <th></th>\n",
       "      <th>user_id</th>\n",
       "      <th>retweet_count</th>\n",
       "      <th>reply_count</th>\n",
       "      <th>favorite_count</th>\n",
       "      <th>num_hashtags</th>\n",
       "      <th>num_urls</th>\n",
       "      <th>num_mentions</th>\n",
       "      <th>created_at</th>\n",
       "      <th>text</th>\n",
       "    </tr>\n",
       "    <tr>\n",
       "      <th>id</th>\n",
       "      <th></th>\n",
       "      <th></th>\n",
       "      <th></th>\n",
       "      <th></th>\n",
       "      <th></th>\n",
       "      <th></th>\n",
       "      <th></th>\n",
       "      <th></th>\n",
       "      <th></th>\n",
       "    </tr>\n",
       "  </thead>\n",
       "  <tbody>\n",
       "    <tr>\n",
       "      <th>509354017856950272</th>\n",
       "      <td>327746321</td>\n",
       "      <td>0</td>\n",
       "      <td>0</td>\n",
       "      <td>0</td>\n",
       "      <td>0</td>\n",
       "      <td>0</td>\n",
       "      <td>0</td>\n",
       "      <td>2019-09-11 14:53:55</td>\n",
       "      <td>If man is a little lower than angels, then ang...</td>\n",
       "    </tr>\n",
       "    <tr>\n",
       "      <th>583002592529121280</th>\n",
       "      <td>333722906</td>\n",
       "      <td>1</td>\n",
       "      <td>0</td>\n",
       "      <td>0</td>\n",
       "      <td>0</td>\n",
       "      <td>0</td>\n",
       "      <td>1</td>\n",
       "      <td>2020-04-01 20:27:04</td>\n",
       "      <td>\"@BestWSHHVids: how do you say these words wit...</td>\n",
       "    </tr>\n",
       "    <tr>\n",
       "      <th>461498835362013185</th>\n",
       "      <td>2379755827</td>\n",
       "      <td>0</td>\n",
       "      <td>0</td>\n",
       "      <td>0</td>\n",
       "      <td>0</td>\n",
       "      <td>0</td>\n",
       "      <td>1</td>\n",
       "      <td>2019-05-02 13:34:31</td>\n",
       "      <td>@LOLatComedy awsome</td>\n",
       "    </tr>\n",
       "    <tr>\n",
       "      <th>528808127366692864</th>\n",
       "      <td>466226882</td>\n",
       "      <td>0</td>\n",
       "      <td>0</td>\n",
       "      <td>0</td>\n",
       "      <td>0</td>\n",
       "      <td>0</td>\n",
       "      <td>0</td>\n",
       "      <td>2019-11-04 07:17:37</td>\n",
       "      <td>Stephen Hawkins: i buchi neri non esistono se ...</td>\n",
       "    </tr>\n",
       "    <tr>\n",
       "      <th>575336690904006656</th>\n",
       "      <td>1355537995</td>\n",
       "      <td>114</td>\n",
       "      <td>0</td>\n",
       "      <td>0</td>\n",
       "      <td>1</td>\n",
       "      <td>0</td>\n",
       "      <td>1</td>\n",
       "      <td>2020-03-11 16:45:31</td>\n",
       "      <td>RT @tibbs_montris: So ready for Wednesday!</td>\n",
       "    </tr>\n",
       "  </tbody>\n",
       "</table>\n",
       "</div>"
      ],
      "text/plain": [
       "                       user_id retweet_count reply_count favorite_count  \\\n",
       "id                                                                        \n",
       "509354017856950272   327746321             0           0              0   \n",
       "583002592529121280   333722906             1           0              0   \n",
       "461498835362013185  2379755827             0           0              0   \n",
       "528808127366692864   466226882             0           0              0   \n",
       "575336690904006656  1355537995           114           0              0   \n",
       "\n",
       "                   num_hashtags num_urls num_mentions           created_at  \\\n",
       "id                                                                           \n",
       "509354017856950272            0        0            0  2019-09-11 14:53:55   \n",
       "583002592529121280            0        0            1  2020-04-01 20:27:04   \n",
       "461498835362013185            0        0            1  2019-05-02 13:34:31   \n",
       "528808127366692864            0        0            0  2019-11-04 07:17:37   \n",
       "575336690904006656            1        0            1  2020-03-11 16:45:31   \n",
       "\n",
       "                                                                 text  \n",
       "id                                                                     \n",
       "509354017856950272  If man is a little lower than angels, then ang...  \n",
       "583002592529121280  \"@BestWSHHVids: how do you say these words wit...  \n",
       "461498835362013185                                @LOLatComedy awsome  \n",
       "528808127366692864  Stephen Hawkins: i buchi neri non esistono se ...  \n",
       "575336690904006656        RT @tibbs_montris: So ready for Wednesday!   "
      ]
     },
     "execution_count": 14,
     "metadata": {},
     "output_type": "execute_result"
    }
   ],
   "source": [
    "df_tweets.head()"
   ]
  },
  {
   "cell_type": "code",
   "execution_count": 15,
   "id": "f06c0248-abf1-4582-9f68-017661444c2f",
   "metadata": {},
   "outputs": [
    {
     "data": {
      "text/plain": [
       "user_id           object\n",
       "retweet_count     object\n",
       "reply_count       object\n",
       "favorite_count    object\n",
       "num_hashtags      object\n",
       "num_urls          object\n",
       "num_mentions      object\n",
       "created_at        object\n",
       "text              object\n",
       "dtype: object"
      ]
     },
     "execution_count": 15,
     "metadata": {},
     "output_type": "execute_result"
    }
   ],
   "source": [
    "df_tweets.dtypes"
   ]
  },
  {
   "cell_type": "code",
   "execution_count": 16,
   "id": "58bcf12e-774b-4ec8-a922-005afc2259fd",
   "metadata": {},
   "outputs": [
    {
     "name": "stdout",
     "output_type": "stream",
     "text": [
      "<class 'pandas.core.frame.DataFrame'>\n",
      "Index: 13664696 entries, 509354017856950272 to 486479812614451200\n",
      "Data columns (total 9 columns):\n",
      " #   Column          Dtype \n",
      "---  ------          ----- \n",
      " 0   user_id         object\n",
      " 1   retweet_count   object\n",
      " 2   reply_count     object\n",
      " 3   favorite_count  object\n",
      " 4   num_hashtags    object\n",
      " 5   num_urls        object\n",
      " 6   num_mentions    object\n",
      " 7   created_at      object\n",
      " 8   text            object\n",
      "dtypes: object(9)\n",
      "memory usage: 1.0+ GB\n"
     ]
    }
   ],
   "source": [
    "df_tweets.info()"
   ]
  },
  {
   "cell_type": "code",
   "execution_count": 17,
   "id": "6e70973a-fdfe-40b7-8671-6ee473bc8ff8",
   "metadata": {},
   "outputs": [
    {
     "data": {
      "text/plain": [
       "dtype('O')"
      ]
     },
     "execution_count": 17,
     "metadata": {},
     "output_type": "execute_result"
    }
   ],
   "source": [
    "df_tweets.index.dtype"
   ]
  },
  {
   "cell_type": "code",
   "execution_count": 18,
   "id": "a98696fa-3614-410b-aca2-c41f3b90069f",
   "metadata": {},
   "outputs": [
    {
     "data": {
      "text/plain": [
       "user_id            True\n",
       "retweet_count      True\n",
       "reply_count        True\n",
       "favorite_count     True\n",
       "num_hashtags       True\n",
       "num_urls           True\n",
       "num_mentions       True\n",
       "created_at        False\n",
       "text               True\n",
       "dtype: bool"
      ]
     },
     "execution_count": 18,
     "metadata": {},
     "output_type": "execute_result"
    }
   ],
   "source": [
    "df_tweets.isnull().any()"
   ]
  },
  {
   "cell_type": "code",
   "execution_count": 19,
   "id": "2921b51a-6ad8-4671-86bf-ea4d731aff3e",
   "metadata": {},
   "outputs": [
    {
     "name": "stdout",
     "output_type": "stream",
     "text": [
      "Number of distinct values in user_id: \t\t 222286 / 13664696\n",
      "Number of distinct values in retweet_count:\t 229168 / 13664696\n",
      "Number of distinct values in reply_count: \t 158620 / 13664696\n",
      "Number of distinct values in favorite_count: \t 158764 / 13664696\n",
      "Number of distinct values in num_hashtags: \t 104780 / 13664696\n",
      "Number of distinct values in num_urls: \t\t 157146 / 13664696\n",
      "Number of distinct values in num_mentions: \t 131539 / 13664696\n",
      "Number of distinct values in created_at: \t 8127084 / 13664696\n",
      "Number of distinct values in text: \t\t 6778479 / 13664696\n"
     ]
    }
   ],
   "source": [
    "print(\"Number of distinct values in user_id: \\t\\t\", len(df_tweets.user_id.unique()), \"/\", numberOfRows)\n",
    "print(\"Number of distinct values in retweet_count:\\t\", len(df_tweets.retweet_count.unique()), \"/\", numberOfRows)\n",
    "print(\"Number of distinct values in reply_count: \\t\", len(df_tweets.reply_count.unique()), \"/\", numberOfRows)\n",
    "print(\"Number of distinct values in favorite_count: \\t\", len(df_tweets.favorite_count.unique()), \"/\", numberOfRows)\n",
    "print(\"Number of distinct values in num_hashtags: \\t\", len(df_tweets.num_hashtags.unique()), \"/\", numberOfRows)\n",
    "print(\"Number of distinct values in num_urls: \\t\\t\", len(df_tweets.num_urls.unique()), \"/\", numberOfRows)\n",
    "print(\"Number of distinct values in num_mentions: \\t\", len(df_tweets.num_mentions.unique()), \"/\", numberOfRows)\n",
    "print(\"Number of distinct values in created_at: \\t\", len(df_tweets.created_at.unique()), \"/\", numberOfRows)\n",
    "print(\"Number of distinct values in text: \\t\\t\", len(df_tweets.text.unique()), \"/\", numberOfRows)"
   ]
  },
  {
   "cell_type": "code",
   "execution_count": 20,
   "id": "dfe39743-4c95-4de1-9f47-ad9779ae876f",
   "metadata": {},
   "outputs": [
    {
     "name": "stdout",
     "output_type": "stream",
     "text": [
      "There are duplicate tweets, maybe some missing tweets\n"
     ]
    }
   ],
   "source": [
    "distinct_number_of_tweets = len(df_tweets.text.unique())\n",
    "total_number_of_tweets    = numberOfRows\n",
    "if (distinct_number_of_tweets == total_number_of_tweets):\n",
    "    print(\"There aren't duplicate tweets\")\n",
    "else:\n",
    "    print(\"There are duplicate tweets, maybe some missing tweets\")"
   ]
  },
  {
   "cell_type": "code",
   "execution_count": 21,
   "id": "28aa0607-5ca9-41ae-917f-c1fc62ccabf1",
   "metadata": {},
   "outputs": [
    {
     "data": {
      "text/html": [
       "<div>\n",
       "<style scoped>\n",
       "    .dataframe tbody tr th:only-of-type {\n",
       "        vertical-align: middle;\n",
       "    }\n",
       "\n",
       "    .dataframe tbody tr th {\n",
       "        vertical-align: top;\n",
       "    }\n",
       "\n",
       "    .dataframe thead th {\n",
       "        text-align: right;\n",
       "    }\n",
       "</style>\n",
       "<table border=\"1\" class=\"dataframe\">\n",
       "  <thead>\n",
       "    <tr style=\"text-align: right;\">\n",
       "      <th></th>\n",
       "      <th>user_id</th>\n",
       "      <th>retweet_count</th>\n",
       "      <th>reply_count</th>\n",
       "      <th>favorite_count</th>\n",
       "      <th>num_hashtags</th>\n",
       "      <th>num_urls</th>\n",
       "      <th>num_mentions</th>\n",
       "      <th>created_at</th>\n",
       "      <th>text</th>\n",
       "    </tr>\n",
       "  </thead>\n",
       "  <tbody>\n",
       "    <tr>\n",
       "      <th>count</th>\n",
       "      <td>13447413</td>\n",
       "      <td>13227562</td>\n",
       "      <td>13016818</td>\n",
       "      <td>13017154</td>\n",
       "      <td>12607172</td>\n",
       "      <td>13016073</td>\n",
       "      <td>12810531</td>\n",
       "      <td>13664696</td>\n",
       "      <td>13126975</td>\n",
       "    </tr>\n",
       "    <tr>\n",
       "      <th>unique</th>\n",
       "      <td>222285</td>\n",
       "      <td>229167</td>\n",
       "      <td>158619</td>\n",
       "      <td>158763</td>\n",
       "      <td>104779</td>\n",
       "      <td>157145</td>\n",
       "      <td>131538</td>\n",
       "      <td>8127084</td>\n",
       "      <td>6778478</td>\n",
       "    </tr>\n",
       "    <tr>\n",
       "      <th>top</th>\n",
       "      <td>497404180</td>\n",
       "      <td>0</td>\n",
       "      <td>0</td>\n",
       "      <td>0</td>\n",
       "      <td>0</td>\n",
       "      <td>0</td>\n",
       "      <td>0</td>\n",
       "      <td>2020-04-04 03:43:02</td>\n",
       "      <td>Ci sedemmo dalla parte del torto, visto che tu...</td>\n",
       "    </tr>\n",
       "    <tr>\n",
       "      <th>freq</th>\n",
       "      <td>4600</td>\n",
       "      <td>9419784</td>\n",
       "      <td>11790440</td>\n",
       "      <td>9467209</td>\n",
       "      <td>10470209</td>\n",
       "      <td>9894198</td>\n",
       "      <td>7561627</td>\n",
       "      <td>133</td>\n",
       "      <td>6932</td>\n",
       "    </tr>\n",
       "  </tbody>\n",
       "</table>\n",
       "</div>"
      ],
      "text/plain": [
       "          user_id retweet_count reply_count favorite_count num_hashtags  \\\n",
       "count    13447413      13227562    13016818       13017154     12607172   \n",
       "unique     222285        229167      158619         158763       104779   \n",
       "top     497404180             0           0              0            0   \n",
       "freq         4600       9419784    11790440        9467209     10470209   \n",
       "\n",
       "        num_urls num_mentions           created_at  \\\n",
       "count   13016073     12810531             13664696   \n",
       "unique    157145       131538              8127084   \n",
       "top            0            0  2020-04-04 03:43:02   \n",
       "freq     9894198      7561627                  133   \n",
       "\n",
       "                                                     text  \n",
       "count                                            13126975  \n",
       "unique                                            6778478  \n",
       "top     Ci sedemmo dalla parte del torto, visto che tu...  \n",
       "freq                                                 6932  "
      ]
     },
     "execution_count": 21,
     "metadata": {},
     "output_type": "execute_result"
    }
   ],
   "source": [
    "df_tweets.describe()"
   ]
  },
  {
   "cell_type": "code",
   "execution_count": null,
   "id": "6ec6ce40-b6cc-44e9-b97e-e24cba3ed1b2",
   "metadata": {},
   "outputs": [],
   "source": []
  }
 ],
 "metadata": {
  "kernelspec": {
   "display_name": "Python 3 (ipykernel)",
   "language": "python",
   "name": "python3"
  },
  "language_info": {
   "codemirror_mode": {
    "name": "ipython",
    "version": 3
   },
   "file_extension": ".py",
   "mimetype": "text/x-python",
   "name": "python",
   "nbconvert_exporter": "python",
   "pygments_lexer": "ipython3",
   "version": "3.10.6"
  }
 },
 "nbformat": 4,
 "nbformat_minor": 5
}
