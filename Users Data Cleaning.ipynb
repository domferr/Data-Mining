{
 "cells": [
  {
   "cell_type": "code",
   "execution_count": 1,
   "id": "4bbea377-1cc4-4ca5-ba48-d2533cd65252",
   "metadata": {},
   "outputs": [],
   "source": [
    "%matplotlib inline\n",
    "import math\n",
    "import numpy as np\n",
    "import pandas as pd\n",
    "import matplotlib.pyplot as plt\n",
    "import plotly.express as plt_ex"
   ]
  },
  {
   "cell_type": "code",
   "execution_count": 2,
   "id": "c52752ba-0727-4dff-b4ec-a64fbce1d695",
   "metadata": {},
   "outputs": [],
   "source": [
    "datasetUsersCSVPath  = \"./dataset/users.csv\""
   ]
  },
  {
   "cell_type": "code",
   "execution_count": 3,
   "id": "cf138b72-2c93-4457-9af8-4db0efe7bc92",
   "metadata": {},
   "outputs": [
    {
     "name": "stdout",
     "output_type": "stream",
     "text": [
      "CPU times: user 58.9 ms, sys: 9.27 ms, total: 68.2 ms\n",
      "Wall time: 98.2 ms\n"
     ]
    }
   ],
   "source": [
    "%%time\n",
    "df_users = pd.read_csv(datasetUsersCSVPath, sep=',', index_col=0)"
   ]
  },
  {
   "cell_type": "code",
   "execution_count": 4,
   "id": "014a82f6-2281-483c-b713-9c6b2a528ba6",
   "metadata": {},
   "outputs": [],
   "source": [
    "# Make all the strings lower case and trim leading and trailing spaces\n",
    "df_users = df_users.applymap(lambda x:x.lower().strip() if type(x) == str else x)\n",
    "df_users = df_users.replace(r\"\\s{2,}\", \" \", regex=True)"
   ]
  },
  {
   "cell_type": "code",
   "execution_count": 5,
   "id": "0b944004-17c0-45f5-b6ad-1b64d6c88b98",
   "metadata": {},
   "outputs": [
    {
     "data": {
      "text/html": [
       "<div>\n",
       "<style scoped>\n",
       "    .dataframe tbody tr th:only-of-type {\n",
       "        vertical-align: middle;\n",
       "    }\n",
       "\n",
       "    .dataframe tbody tr th {\n",
       "        vertical-align: top;\n",
       "    }\n",
       "\n",
       "    .dataframe thead th {\n",
       "        text-align: right;\n",
       "    }\n",
       "</style>\n",
       "<table border=\"1\" class=\"dataframe\">\n",
       "  <thead>\n",
       "    <tr style=\"text-align: right;\">\n",
       "      <th></th>\n",
       "      <th>name</th>\n",
       "      <th>lang</th>\n",
       "      <th>bot</th>\n",
       "      <th>created_at</th>\n",
       "      <th>statuses_count</th>\n",
       "    </tr>\n",
       "    <tr>\n",
       "      <th>id</th>\n",
       "      <th></th>\n",
       "      <th></th>\n",
       "      <th></th>\n",
       "      <th></th>\n",
       "      <th></th>\n",
       "    </tr>\n",
       "  </thead>\n",
       "  <tbody>\n",
       "    <tr>\n",
       "      <th>2166124159</th>\n",
       "      <td>NaN</td>\n",
       "      <td>en</td>\n",
       "      <td>0</td>\n",
       "      <td>2018-11-02 06:39:14</td>\n",
       "      <td>6566.0</td>\n",
       "    </tr>\n",
       "  </tbody>\n",
       "</table>\n",
       "</div>"
      ],
      "text/plain": [
       "           name lang  bot           created_at  statuses_count\n",
       "id                                                            \n",
       "2166124159  NaN   en    0  2018-11-02 06:39:14          6566.0"
      ]
     },
     "execution_count": 5,
     "metadata": {},
     "output_type": "execute_result"
    }
   ],
   "source": [
    "df_users[df_users.name.isna()]"
   ]
  },
  {
   "cell_type": "code",
   "execution_count": 6,
   "id": "f0933b7a-10e2-4557-9b6c-43265ded2465",
   "metadata": {},
   "outputs": [
    {
     "data": {
      "text/plain": [
       "0"
      ]
     },
     "execution_count": 6,
     "metadata": {},
     "output_type": "execute_result"
    }
   ],
   "source": [
    "len(df_users[df_users.name == \"unknown\"])"
   ]
  },
  {
   "cell_type": "code",
   "execution_count": 7,
   "id": "26c8a1b9-8d7e-4e59-8a85-7db5d35b319c",
   "metadata": {},
   "outputs": [],
   "source": [
    "df_users.loc[df_users.name.isna(), \"name\"] = \"unknown\""
   ]
  },
  {
   "cell_type": "markdown",
   "id": "39f3525e-00a0-4942-a44c-19b244e28afc",
   "metadata": {},
   "source": [
    "## Lang"
   ]
  },
  {
   "cell_type": "code",
   "execution_count": 8,
   "id": "a38c43c0-93ad-446b-9252-c1b3b6cf50a9",
   "metadata": {},
   "outputs": [
    {
     "name": "stdout",
     "output_type": "stream",
     "text": [
      "Languages: ['en' 'it' 'fr' 'ru' 'es' 'tr' 'en-gb' 'pt' 'nl' 'id' 'zh-tw' 'ja' 'de'\n",
      " 'ko' 'en-au' 'da' 'ar' 'select language...' 'zh-cn' 'pl' 'el' 'fil' 'sv'\n",
      " 'xx-lc']\n",
      "24 unique languages\n",
      "0 missing languages\n"
     ]
    }
   ],
   "source": [
    "uniqueLanguages = df_users.lang.unique()\n",
    "print(\"Languages:\", uniqueLanguages)\n",
    "print(len(uniqueLanguages), \"unique languages\")\n",
    "print(df_users.lang.isna().sum(), \"missing languages\")"
   ]
  },
  {
   "cell_type": "code",
   "execution_count": 9,
   "id": "cdeb001f-6c66-4ebf-a32a-142a3e5adf85",
   "metadata": {},
   "outputs": [
    {
     "name": "stdout",
     "output_type": "stream",
     "text": [
      "There are 2 invalid languages, 'Select Language...' and 'xx-lc'. There is a total of 3 users with invalid entries\n"
     ]
    }
   ],
   "source": [
    "languages_count = df_users.lang.value_counts()\n",
    "invalidLanguageUsers = languages_count['select language...'] + languages_count['xx-lc']\n",
    "print(\"There are 2 invalid languages, 'Select Language...' and 'xx-lc'. There is a total of\", invalidLanguageUsers, \"users with invalid entries\")"
   ]
  },
  {
   "cell_type": "code",
   "execution_count": 10,
   "id": "e36be7c2-c8f5-4a9b-8ed2-8eff7640adc1",
   "metadata": {},
   "outputs": [
    {
     "data": {
      "text/html": [
       "<div>\n",
       "<style scoped>\n",
       "    .dataframe tbody tr th:only-of-type {\n",
       "        vertical-align: middle;\n",
       "    }\n",
       "\n",
       "    .dataframe tbody tr th {\n",
       "        vertical-align: top;\n",
       "    }\n",
       "\n",
       "    .dataframe thead th {\n",
       "        text-align: right;\n",
       "    }\n",
       "</style>\n",
       "<table border=\"1\" class=\"dataframe\">\n",
       "  <thead>\n",
       "    <tr style=\"text-align: right;\">\n",
       "      <th></th>\n",
       "      <th>name</th>\n",
       "      <th>lang</th>\n",
       "      <th>bot</th>\n",
       "      <th>created_at</th>\n",
       "      <th>statuses_count</th>\n",
       "    </tr>\n",
       "    <tr>\n",
       "      <th>id</th>\n",
       "      <th></th>\n",
       "      <th></th>\n",
       "      <th></th>\n",
       "      <th></th>\n",
       "      <th></th>\n",
       "    </tr>\n",
       "  </thead>\n",
       "  <tbody>\n",
       "    <tr>\n",
       "      <th>2956613720</th>\n",
       "      <td>leanne arker</td>\n",
       "      <td>select language...</td>\n",
       "      <td>0</td>\n",
       "      <td>2020-01-05 00:09:59</td>\n",
       "      <td>57.0</td>\n",
       "    </tr>\n",
       "    <tr>\n",
       "      <th>2904858613</th>\n",
       "      <td>brooke</td>\n",
       "      <td>select language...</td>\n",
       "      <td>0</td>\n",
       "      <td>2019-11-22 05:44:46</td>\n",
       "      <td>85.0</td>\n",
       "    </tr>\n",
       "  </tbody>\n",
       "</table>\n",
       "</div>"
      ],
      "text/plain": [
       "                    name                lang  bot           created_at  \\\n",
       "id                                                                       \n",
       "2956613720  leanne arker  select language...    0  2020-01-05 00:09:59   \n",
       "2904858613        brooke  select language...    0  2019-11-22 05:44:46   \n",
       "\n",
       "            statuses_count  \n",
       "id                          \n",
       "2956613720            57.0  \n",
       "2904858613            85.0  "
      ]
     },
     "execution_count": 10,
     "metadata": {},
     "output_type": "execute_result"
    }
   ],
   "source": [
    "df_users[df_users.lang == 'select language...']"
   ]
  },
  {
   "cell_type": "code",
   "execution_count": 11,
   "id": "10b3ecff-2d73-4468-a31b-adfc51f3b95f",
   "metadata": {},
   "outputs": [
    {
     "data": {
      "text/html": [
       "<div>\n",
       "<style scoped>\n",
       "    .dataframe tbody tr th:only-of-type {\n",
       "        vertical-align: middle;\n",
       "    }\n",
       "\n",
       "    .dataframe tbody tr th {\n",
       "        vertical-align: top;\n",
       "    }\n",
       "\n",
       "    .dataframe thead th {\n",
       "        text-align: right;\n",
       "    }\n",
       "</style>\n",
       "<table border=\"1\" class=\"dataframe\">\n",
       "  <thead>\n",
       "    <tr style=\"text-align: right;\">\n",
       "      <th></th>\n",
       "      <th>name</th>\n",
       "      <th>lang</th>\n",
       "      <th>bot</th>\n",
       "      <th>created_at</th>\n",
       "      <th>statuses_count</th>\n",
       "    </tr>\n",
       "    <tr>\n",
       "      <th>id</th>\n",
       "      <th></th>\n",
       "      <th></th>\n",
       "      <th></th>\n",
       "      <th></th>\n",
       "      <th></th>\n",
       "    </tr>\n",
       "  </thead>\n",
       "  <tbody>\n",
       "    <tr>\n",
       "      <th>29552151</th>\n",
       "      <td>chloe</td>\n",
       "      <td>xx-lc</td>\n",
       "      <td>0</td>\n",
       "      <td>2014-04-09 21:36:02</td>\n",
       "      <td>15398.0</td>\n",
       "    </tr>\n",
       "  </tbody>\n",
       "</table>\n",
       "</div>"
      ],
      "text/plain": [
       "           name   lang  bot           created_at  statuses_count\n",
       "id                                                              \n",
       "29552151  chloe  xx-lc    0  2014-04-09 21:36:02         15398.0"
      ]
     },
     "execution_count": 11,
     "metadata": {},
     "output_type": "execute_result"
    }
   ],
   "source": [
    "df_users[df_users.lang == 'xx-lc']"
   ]
  },
  {
   "cell_type": "code",
   "execution_count": 12,
   "id": "f57353ba-0009-47b9-89f4-da77ed50d88e",
   "metadata": {},
   "outputs": [],
   "source": [
    "df_users.loc[df_users.lang == 'select language...', \"lang\"] = \"en\"\n",
    "df_users.loc[df_users.lang == 'xx-lc', \"lang\"] = \"en\""
   ]
  },
  {
   "cell_type": "code",
   "execution_count": 13,
   "id": "a0810a82-97fb-463e-9878-52a8f9e442c0",
   "metadata": {},
   "outputs": [
    {
     "name": "stdout",
     "output_type": "stream",
     "text": [
      "           name lang  bot           created_at  statuses_count\n",
      "id                                                            \n",
      "29552151  chloe   en    0  2014-04-09 21:36:02         15398.0\n",
      "                    name lang  bot           created_at  statuses_count\n",
      "id                                                                     \n",
      "2956613720  leanne arker   en    0  2020-01-05 00:09:59            57.0\n",
      "              name lang  bot           created_at  statuses_count\n",
      "id                                                               \n",
      "2904858613  brooke   en    0  2019-11-22 05:44:46            85.0\n"
     ]
    }
   ],
   "source": [
    "print(df_users[df_users.index == 29552151])\n",
    "print(df_users[df_users.index == 2956613720])\n",
    "print(df_users[df_users.index == 2904858613])"
   ]
  },
  {
   "cell_type": "code",
   "execution_count": 14,
   "id": "980654d9-b1b8-4103-b894-5715abed16a0",
   "metadata": {},
   "outputs": [],
   "source": [
    "df_users.loc[df_users.lang == 'en-gb', \"lang\"] = \"en\"\n",
    "df_users.loc[df_users.lang == 'en-au', \"lang\"] = \"en\"\n",
    "df_users.loc[df_users.lang == 'zh-cn', \"lang\"] = \"zh\"\n",
    "df_users.loc[df_users.lang == 'zh-tw', \"lang\"] = \"zh\""
   ]
  },
  {
   "cell_type": "code",
   "execution_count": 15,
   "id": "7cbff15f-fe97-422e-80a6-883c96c9da7e",
   "metadata": {},
   "outputs": [
    {
     "data": {
      "image/png": "[encoded data removed]",
      "text/plain": [
       "<Figure size 640x480 with 1 Axes>"
      ]
     },
     "metadata": {},
     "output_type": "display_data"
    }
   ],
   "source": [
    "df_users.lang.value_counts().plot(kind='bar', title='lang') \n",
    "plt.show()"
   ]
  },
  {
   "cell_type": "code",
   "execution_count": 16,
   "id": "89fb536f-5aa7-456a-afcb-61666ceee973",
   "metadata": {},
   "outputs": [],
   "source": [
    "#real_users = df_users[df_users.bot == 0]\n",
    "#bots       = df_users[df_users.bot == 1]"
   ]
  },
  {
   "cell_type": "markdown",
   "id": "dcd7c746-55f9-4243-a6de-ce7c71409323",
   "metadata": {},
   "source": [
    "## Created_at"
   ]
  },
  {
   "cell_type": "code",
   "execution_count": 17,
   "id": "50139978-8d6d-4406-a0fa-9e1ba7242168",
   "metadata": {},
   "outputs": [
    {
     "data": {
      "text/plain": [
       "name                      object\n",
       "lang                      object\n",
       "bot                        int64\n",
       "created_at        datetime64[ns]\n",
       "statuses_count           float64\n",
       "dtype: object"
      ]
     },
     "execution_count": 17,
     "metadata": {},
     "output_type": "execute_result"
    }
   ],
   "source": [
    "df_users.created_at = pd.to_datetime(df_users.created_at, format='%Y-%m-%d %H:%M:%S')\n",
    "df_users.dtypes"
   ]
  },
  {
   "cell_type": "markdown",
   "id": "96f99bcc-1797-4a9a-852b-8497e7f932a3",
   "metadata": {},
   "source": [
    "## Statuses_count"
   ]
  },
  {
   "cell_type": "code",
   "execution_count": 18,
   "id": "fe21a24e-cbcd-4f8a-8761-354e0230c9a0",
   "metadata": {},
   "outputs": [
    {
     "name": "stdout",
     "output_type": "stream",
     "text": [
      "399 missing statuses_count values\n"
     ]
    }
   ],
   "source": [
    "print(df_users.statuses_count.isna().sum(), \"missing statuses_count values\")"
   ]
  },
  {
   "cell_type": "code",
   "execution_count": null,
   "id": "eebd6c14-836f-4a9b-a2dd-52d9a56df1d0",
   "metadata": {},
   "outputs": [],
   "source": [
    "#missing_values=df.isnull().sum()\n",
    "#missing_values[missing_values>0]/len(missing_values)*100"
   ]
  },
  {
   "cell_type": "code",
   "execution_count": 19,
   "id": "9651c009-98c8-454d-889d-cb9de290034a",
   "metadata": {},
   "outputs": [
    {
     "data": {
      "text/html": [
       "<div>\n",
       "<style scoped>\n",
       "    .dataframe tbody tr th:only-of-type {\n",
       "        vertical-align: middle;\n",
       "    }\n",
       "\n",
       "    .dataframe tbody tr th {\n",
       "        vertical-align: top;\n",
       "    }\n",
       "\n",
       "    .dataframe thead th {\n",
       "        text-align: right;\n",
       "    }\n",
       "</style>\n",
       "<table border=\"1\" class=\"dataframe\">\n",
       "  <thead>\n",
       "    <tr style=\"text-align: right;\">\n",
       "      <th></th>\n",
       "      <th>name</th>\n",
       "      <th>lang</th>\n",
       "      <th>bot</th>\n",
       "      <th>created_at</th>\n",
       "      <th>statuses_count</th>\n",
       "    </tr>\n",
       "    <tr>\n",
       "      <th>id</th>\n",
       "      <th></th>\n",
       "      <th></th>\n",
       "      <th></th>\n",
       "      <th></th>\n",
       "      <th></th>\n",
       "    </tr>\n",
       "  </thead>\n",
       "  <tbody>\n",
       "    <tr>\n",
       "      <th>616225564</th>\n",
       "      <td>anisha williams</td>\n",
       "      <td>en</td>\n",
       "      <td>0</td>\n",
       "      <td>2017-06-25 15:49:36</td>\n",
       "      <td>NaN</td>\n",
       "    </tr>\n",
       "    <tr>\n",
       "      <th>1370348599</th>\n",
       "      <td>robert brown</td>\n",
       "      <td>en</td>\n",
       "      <td>0</td>\n",
       "      <td>2018-04-23 19:05:48</td>\n",
       "      <td>NaN</td>\n",
       "    </tr>\n",
       "    <tr>\n",
       "      <th>617369459</th>\n",
       "      <td>sage pennington</td>\n",
       "      <td>en</td>\n",
       "      <td>0</td>\n",
       "      <td>2017-06-26 18:50:48</td>\n",
       "      <td>NaN</td>\n",
       "    </tr>\n",
       "    <tr>\n",
       "      <th>2362195375</th>\n",
       "      <td>delaine nock</td>\n",
       "      <td>en</td>\n",
       "      <td>0</td>\n",
       "      <td>2019-02-28 05:35:38</td>\n",
       "      <td>NaN</td>\n",
       "    </tr>\n",
       "    <tr>\n",
       "      <th>2351047069</th>\n",
       "      <td>tosha pacitti</td>\n",
       "      <td>en</td>\n",
       "      <td>0</td>\n",
       "      <td>2019-02-21 03:14:40</td>\n",
       "      <td>NaN</td>\n",
       "    </tr>\n",
       "  </tbody>\n",
       "</table>\n",
       "</div>"
      ],
      "text/plain": [
       "                       name lang  bot          created_at  statuses_count\n",
       "id                                                                       \n",
       "616225564   anisha williams   en    0 2017-06-25 15:49:36             NaN\n",
       "1370348599     robert brown   en    0 2018-04-23 19:05:48             NaN\n",
       "617369459   sage pennington   en    0 2017-06-26 18:50:48             NaN\n",
       "2362195375     delaine nock   en    0 2019-02-28 05:35:38             NaN\n",
       "2351047069    tosha pacitti   en    0 2019-02-21 03:14:40             NaN"
      ]
     },
     "execution_count": 19,
     "metadata": {},
     "output_type": "execute_result"
    }
   ],
   "source": [
    "df_users[df_users.statuses_count.isna()].head()"
   ]
  },
  {
   "cell_type": "code",
   "execution_count": 75,
   "id": "7e6d6d5a-9569-4a59-9ec8-18aa15c92605",
   "metadata": {},
   "outputs": [
    {
     "name": "stdout",
     "output_type": "stream",
     "text": [
      "8.164068845864731\n"
     ]
    },
    {
     "data": {
      "text/plain": [
       "count     11109.000000\n",
       "mean       5883.312359\n",
       "std       19073.007305\n",
       "min           0.000000\n",
       "25%          41.000000\n",
       "50%          68.000000\n",
       "75%        2916.000000\n",
       "max      399555.000000\n",
       "Name: statuses_count, dtype: float64"
      ]
     },
     "execution_count": 75,
     "metadata": {},
     "output_type": "execute_result"
    }
   ],
   "source": [
    "print(df_users.statuses_count.skew())\n",
    "df_users.statuses_count.describe()"
   ]
  },
  {
   "cell_type": "code",
   "execution_count": 36,
   "id": "048aa1fd-3c02-4087-96a8-384fbb4a1203",
   "metadata": {},
   "outputs": [
    {
     "data": {
      "text/plain": [
       "<AxesSubplot: title={'center': 'statuses_count'}, ylabel='Frequency'>"
      ]
     },
     "execution_count": 36,
     "metadata": {},
     "output_type": "execute_result"
    },
    {
     "data": {
      "image/png": "[encoded data removed]",
      "text/plain": [
       "<Figure size 640x480 with 1 Axes>"
      ]
     },
     "metadata": {},
     "output_type": "display_data"
    }
   ],
   "source": [
    "numberOfBins = int(np.log2(len(df_users.statuses_count[df_users.statuses_count.notna()])) + 1)\n",
    "df_users.statuses_count.plot(kind='hist', title='statuses_count', bins=numberOfBins)"
   ]
  },
  {
   "cell_type": "code",
   "execution_count": 50,
   "id": "1819c837-ff81-4774-9702-5fcf39cac6fe",
   "metadata": {},
   "outputs": [
    {
     "data": {
      "text/plain": [
       "<AxesSubplot: >"
      ]
     },
     "execution_count": 50,
     "metadata": {},
     "output_type": "execute_result"
    },
    {
     "data": {
      "image/png": "[encoded data removed]",
      "text/plain": [
       "<Figure size 640x480 with 1 Axes>"
      ]
     },
     "metadata": {},
     "output_type": "display_data"
    }
   ],
   "source": [
    "df_users.boxplot(column='statuses_count')"
   ]
  },
  {
   "cell_type": "markdown",
   "id": "5036b33f-5584-4612-b3c1-f7ac2b3203c5",
   "metadata": {},
   "source": [
    "## Bots"
   ]
  },
  {
   "cell_type": "code",
   "execution_count": 51,
   "id": "735ca9a9-aa40-42c3-a8c8-47a04ef2b5c7",
   "metadata": {},
   "outputs": [
    {
     "name": "stdout",
     "output_type": "stream",
     "text": [
      "Bots: statuses_count\n"
     ]
    },
    {
     "data": {
      "text/plain": [
       "<AxesSubplot: >"
      ]
     },
     "execution_count": 51,
     "metadata": {},
     "output_type": "execute_result"
    },
    {
     "data": {
      "image/png": "[encoded data removed]",
      "text/plain": [
       "<Figure size 640x480 with 1 Axes>"
      ]
     },
     "metadata": {},
     "output_type": "display_data"
    }
   ],
   "source": [
    "print(\"Bots: statuses_count\")\n",
    "df_bots = df_users[df_users.bot == 1]\n",
    "df_bots.boxplot(column='statuses_count')"
   ]
  },
  {
   "cell_type": "code",
   "execution_count": 78,
   "id": "03876ed5-026c-4bcc-b77b-4856d14023ba",
   "metadata": {},
   "outputs": [
    {
     "name": "stdout",
     "output_type": "stream",
     "text": [
      "147.0 -37.0\n"
     ]
    }
   ],
   "source": [
    "Q1 = df_bots.statuses_count.quantile(0.25)\n",
    "Q3 = df_bots.statuses_count.quantile(0.75)\n",
    "IQR = Q3 - Q1    #IQR is interquartile range.\n",
    "print(Q3 + 1.5 * IQR, Q1 - 1.5 * IQR)\n",
    "\n",
    "filter = (df_bots.statuses_count >= Q1 - 1.5 * IQR) & (df_bots.statuses_count <= Q3 + 1.5 * IQR)\n",
    "bots_statuses_count_valid = df_bots.loc[filter]\n",
    "filter = (df_bots.statuses_count < Q1 - 1.5 * IQR) | (df_bots.statuses_count > Q3 + 1.5 * IQR)\n",
    "bots_statuses_count_outliers = df_bots.loc[filter]"
   ]
  },
  {
   "cell_type": "code",
   "execution_count": 72,
   "id": "9f7cfe7a-67cc-417f-9a01-f5bc249cc0f8",
   "metadata": {},
   "outputs": [
    {
     "name": "stdout",
     "output_type": "stream",
     "text": [
      "Number of bots: 6116\n"
     ]
    }
   ],
   "source": [
    "print(\"Number of bots:\", len(df_bots))"
   ]
  },
  {
   "cell_type": "code",
   "execution_count": 61,
   "id": "1d342614-7488-48ca-b675-2c1c7bc2b58a",
   "metadata": {},
   "outputs": [
    {
     "name": "stdout",
     "output_type": "stream",
     "text": [
      "We have 1055 outliers\n"
     ]
    }
   ],
   "source": [
    "print(\"We have\", len(bots_statuses_count_outliers) , \"outliers\")"
   ]
  },
  {
   "cell_type": "code",
   "execution_count": 66,
   "id": "8179de71-bec4-4c01-b0a8-246f6c9c59e7",
   "metadata": {},
   "outputs": [
    {
     "name": "stdout",
     "output_type": "stream",
     "text": [
      "0 missing statuses_count values for bots\n",
      "1055 missing statuses_count values\n"
     ]
    }
   ],
   "source": [
    "print(df_bots.statuses_count.isna().sum(), \"missing statuses_count values for bots\")\n",
    "df_bots_no_outliers = df_bots.copy()\n",
    "df_bots_no_outliers.loc[bots_statuses_count_outliers.index, \"statuses_count\"] = np.nan\n",
    "print(df_bots_no_outliers.statuses_count.isna().sum(), \"missing statuses_count values\")"
   ]
  },
  {
   "cell_type": "code",
   "execution_count": 68,
   "id": "792fe484-023e-4adc-b90a-696c223cc086",
   "metadata": {},
   "outputs": [
    {
     "name": "stdout",
     "output_type": "stream",
     "text": [
      "Median with outliers: 53.0\n",
      "Median without outliers: 45.0\n"
     ]
    }
   ],
   "source": [
    "median = df_bots.statuses_count.median()\n",
    "print(\"Median with outliers:\", median)\n",
    "median = df_bots_no_outliers.statuses_count.median()\n",
    "print(\"Median without outliers:\", median)"
   ]
  },
  {
   "cell_type": "code",
   "execution_count": 70,
   "id": "43a7ea9d-198d-4f04-b16f-301bd6661dd6",
   "metadata": {},
   "outputs": [],
   "source": [
    "df_bots_no_outliers.loc[bots_statuses_count_outliers.index, \"statuses_count\"] = median"
   ]
  },
  {
   "cell_type": "markdown",
   "id": "7cc012d9-80d0-4f22-aedd-156f3582e549",
   "metadata": {},
   "source": [
    "# Real users"
   ]
  },
  {
   "cell_type": "code",
   "execution_count": 77,
   "id": "d17f3f9b-225a-48c4-acf9-369d3c942b02",
   "metadata": {},
   "outputs": [
    {
     "name": "stdout",
     "output_type": "stream",
     "text": [
      "Real users: statuses_count\n"
     ]
    },
    {
     "data": {
      "text/plain": [
       "<AxesSubplot: >"
      ]
     },
     "execution_count": 77,
     "metadata": {},
     "output_type": "execute_result"
    },
    {
     "data": {
      "image/png": "[encoded data removed]",
      "text/plain": [
       "<Figure size 640x480 with 1 Axes>"
      ]
     },
     "metadata": {},
     "output_type": "display_data"
    }
   ],
   "source": [
    "print(\"Real users: statuses_count\")\n",
    "df_real_users = df_users[df_users.bot == 0]\n",
    "df_real_users.boxplot(column='statuses_count')"
   ]
  },
  {
   "cell_type": "code",
   "execution_count": 79,
   "id": "8e67ba56-43d0-4ab3-b27b-08967366b516",
   "metadata": {},
   "outputs": [
    {
     "name": "stdout",
     "output_type": "stream",
     "text": [
      "28871.0 -17225.0\n"
     ]
    }
   ],
   "source": [
    "Q1 = df_real_users.statuses_count.quantile(0.25)\n",
    "Q3 = df_real_users.statuses_count.quantile(0.75)\n",
    "IQR = Q3 - Q1    #IQR is interquartile range.\n",
    "print(Q3 + 1.5 * IQR, Q1 - 1.5 * IQR)\n",
    "\n",
    "filter = (df_real_users.statuses_count >= Q1 - 1.5 * IQR) & (df_real_users.statuses_count <= Q3 + 1.5 * IQR)\n",
    "real_users_statuses_count_valid = df_real_users.loc[filter]\n",
    "filter = (df_real_users.statuses_count < Q1 - 1.5 * IQR) | (df_real_users.statuses_count > Q3 + 1.5 * IQR)\n",
    "real_users_statuses_count_outliers = df_real_users.loc[filter]"
   ]
  },
  {
   "cell_type": "code",
   "execution_count": 83,
   "id": "7615d751-a528-4f40-96a8-7a2568ee13d2",
   "metadata": {},
   "outputs": [
    {
     "name": "stdout",
     "output_type": "stream",
     "text": [
      "We have 554 outliers\n"
     ]
    }
   ],
   "source": [
    "print(\"We have\", len(real_users_statuses_count_outliers) , \"outliers\")"
   ]
  },
  {
   "cell_type": "code",
   "execution_count": 80,
   "id": "8b819089-ff27-4b07-9a90-58ec7b686561",
   "metadata": {},
   "outputs": [
    {
     "name": "stdout",
     "output_type": "stream",
     "text": [
      "Number of real users: 5392\n"
     ]
    }
   ],
   "source": [
    "print(\"Number of real users:\", len(df_real_users))"
   ]
  },
  {
   "cell_type": "code",
   "execution_count": 84,
   "id": "8d57c0fd-361e-4eab-bc63-f1a9f528e6e9",
   "metadata": {},
   "outputs": [
    {
     "name": "stdout",
     "output_type": "stream",
     "text": [
      "399 missing statuses_count values for users\n",
      "953 missing statuses_count values\n"
     ]
    }
   ],
   "source": [
    "print(df_real_users.statuses_count.isna().sum(), \"missing statuses_count values for users\")\n",
    "df_real_users_no_outliers = df_real_users.copy()\n",
    "df_real_users_no_outliers.loc[real_users_statuses_count_outliers.index, \"statuses_count\"] = np.nan\n",
    "print(df_real_users_no_outliers.statuses_count.isna().sum(), \"missing statuses_count values\")"
   ]
  },
  {
   "cell_type": "code",
   "execution_count": 85,
   "id": "c85e0f9a-b60c-46d0-873f-69138fe12e22",
   "metadata": {},
   "outputs": [
    {
     "name": "stdout",
     "output_type": "stream",
     "text": [
      "Median with outliers: 2041.0\n",
      "Median without outliers: 1107.0\n"
     ]
    }
   ],
   "source": [
    "median = df_real_users.statuses_count.median()\n",
    "print(\"Median with outliers:\", median)\n",
    "median = df_real_users_no_outliers.statuses_count.median()\n",
    "print(\"Median without outliers:\", median)"
   ]
  },
  {
   "cell_type": "code",
   "execution_count": 86,
   "id": "9b729553-044c-4ef2-9020-9e3b3e2ad3a1",
   "metadata": {},
   "outputs": [],
   "source": [
    "df_real_users_no_outliers.loc[df_real_users_no_outliers.index, \"statuses_count\"] = median"
   ]
  },
  {
   "cell_type": "code",
   "execution_count": 20,
   "id": "4cfff3fc-89c3-4717-8a96-4d980e053888",
   "metadata": {},
   "outputs": [
    {
     "name": "stdout",
     "output_type": "stream",
     "text": [
      "With missing values\n"
     ]
    },
    {
     "data": {
      "text/html": [
       "<div>\n",
       "<style scoped>\n",
       "    .dataframe tbody tr th:only-of-type {\n",
       "        vertical-align: middle;\n",
       "    }\n",
       "\n",
       "    .dataframe tbody tr th {\n",
       "        vertical-align: top;\n",
       "    }\n",
       "\n",
       "    .dataframe thead th {\n",
       "        text-align: right;\n",
       "    }\n",
       "</style>\n",
       "<table border=\"1\" class=\"dataframe\">\n",
       "  <thead>\n",
       "    <tr style=\"text-align: right;\">\n",
       "      <th></th>\n",
       "      <th>bot</th>\n",
       "      <th>statuses_count</th>\n",
       "    </tr>\n",
       "  </thead>\n",
       "  <tbody>\n",
       "    <tr>\n",
       "      <th>count</th>\n",
       "      <td>11508.000000</td>\n",
       "      <td>11109.000000</td>\n",
       "    </tr>\n",
       "    <tr>\n",
       "      <th>mean</th>\n",
       "      <td>0.531456</td>\n",
       "      <td>5883.312359</td>\n",
       "    </tr>\n",
       "    <tr>\n",
       "      <th>std</th>\n",
       "      <td>0.499031</td>\n",
       "      <td>19073.007305</td>\n",
       "    </tr>\n",
       "    <tr>\n",
       "      <th>min</th>\n",
       "      <td>0.000000</td>\n",
       "      <td>0.000000</td>\n",
       "    </tr>\n",
       "    <tr>\n",
       "      <th>25%</th>\n",
       "      <td>0.000000</td>\n",
       "      <td>41.000000</td>\n",
       "    </tr>\n",
       "    <tr>\n",
       "      <th>50%</th>\n",
       "      <td>1.000000</td>\n",
       "      <td>68.000000</td>\n",
       "    </tr>\n",
       "    <tr>\n",
       "      <th>75%</th>\n",
       "      <td>1.000000</td>\n",
       "      <td>2916.000000</td>\n",
       "    </tr>\n",
       "    <tr>\n",
       "      <th>max</th>\n",
       "      <td>1.000000</td>\n",
       "      <td>399555.000000</td>\n",
       "    </tr>\n",
       "  </tbody>\n",
       "</table>\n",
       "</div>"
      ],
      "text/plain": [
       "                bot  statuses_count\n",
       "count  11508.000000    11109.000000\n",
       "mean       0.531456     5883.312359\n",
       "std        0.499031    19073.007305\n",
       "min        0.000000        0.000000\n",
       "25%        0.000000       41.000000\n",
       "50%        1.000000       68.000000\n",
       "75%        1.000000     2916.000000\n",
       "max        1.000000   399555.000000"
      ]
     },
     "execution_count": 20,
     "metadata": {},
     "output_type": "execute_result"
    }
   ],
   "source": [
    "print(\"With missing values\")\n",
    "df_users.describe()"
   ]
  },
  {
   "cell_type": "code",
   "execution_count": 34,
   "id": "60777017-92e4-436b-9f86-b2dd9bc45ba4",
   "metadata": {},
   "outputs": [
    {
     "data": {
      "text/html": [
       "<div>\n",
       "<style scoped>\n",
       "    .dataframe tbody tr th:only-of-type {\n",
       "        vertical-align: middle;\n",
       "    }\n",
       "\n",
       "    .dataframe tbody tr th {\n",
       "        vertical-align: top;\n",
       "    }\n",
       "\n",
       "    .dataframe thead th {\n",
       "        text-align: right;\n",
       "    }\n",
       "</style>\n",
       "<table border=\"1\" class=\"dataframe\">\n",
       "  <thead>\n",
       "    <tr style=\"text-align: right;\">\n",
       "      <th></th>\n",
       "      <th>bot</th>\n",
       "      <th>statuses_count</th>\n",
       "    </tr>\n",
       "  </thead>\n",
       "  <tbody>\n",
       "    <tr>\n",
       "      <th>count</th>\n",
       "      <td>11508.000000</td>\n",
       "      <td>11109.000000</td>\n",
       "    </tr>\n",
       "    <tr>\n",
       "      <th>mean</th>\n",
       "      <td>0.531456</td>\n",
       "      <td>5883.312359</td>\n",
       "    </tr>\n",
       "    <tr>\n",
       "      <th>std</th>\n",
       "      <td>0.499031</td>\n",
       "      <td>19073.007305</td>\n",
       "    </tr>\n",
       "    <tr>\n",
       "      <th>min</th>\n",
       "      <td>0.000000</td>\n",
       "      <td>0.000000</td>\n",
       "    </tr>\n",
       "    <tr>\n",
       "      <th>25%</th>\n",
       "      <td>0.000000</td>\n",
       "      <td>41.000000</td>\n",
       "    </tr>\n",
       "    <tr>\n",
       "      <th>50%</th>\n",
       "      <td>1.000000</td>\n",
       "      <td>68.000000</td>\n",
       "    </tr>\n",
       "    <tr>\n",
       "      <th>75%</th>\n",
       "      <td>1.000000</td>\n",
       "      <td>2916.000000</td>\n",
       "    </tr>\n",
       "    <tr>\n",
       "      <th>max</th>\n",
       "      <td>1.000000</td>\n",
       "      <td>399555.000000</td>\n",
       "    </tr>\n",
       "  </tbody>\n",
       "</table>\n",
       "</div>"
      ],
      "text/plain": [
       "                bot  statuses_count\n",
       "count  11508.000000    11109.000000\n",
       "mean       0.531456     5883.312359\n",
       "std        0.499031    19073.007305\n",
       "min        0.000000        0.000000\n",
       "25%        0.000000       41.000000\n",
       "50%        1.000000       68.000000\n",
       "75%        1.000000     2916.000000\n",
       "max        1.000000   399555.000000"
      ]
     },
     "execution_count": 34,
     "metadata": {},
     "output_type": "execute_result"
    }
   ],
   "source": [
    "df_users[df_users.notna()].describe()"
   ]
  },
  {
   "cell_type": "code",
   "execution_count": 44,
   "id": "b0aa464b-e656-4074-8401-80b50227e32f",
   "metadata": {},
   "outputs": [
    {
     "name": "stdout",
     "output_type": "stream",
     "text": [
      "Median with outliers:  68.0\n"
     ]
    }
   ],
   "source": [
    "median = df_users.statuses_count.median()\n",
    "print(\"Median with outliers: \", median)"
   ]
  },
  {
   "cell_type": "code",
   "execution_count": 31,
   "id": "6511499a-60cb-4765-b8f4-1e6ed1b27900",
   "metadata": {},
   "outputs": [
    {
     "name": "stdout",
     "output_type": "stream",
     "text": [
      "7228.5 -4271.5\n"
     ]
    }
   ],
   "source": [
    "Q1 = df_users.statuses_count.quantile(0.25)\n",
    "Q3 = df_users.statuses_count.quantile(0.75)\n",
    "IQR = Q3 - Q1    #IQR is interquartile range.\n",
    "print(Q3 + 1.5 * IQR, Q1 - 1.5 * IQR)\n",
    "\n",
    "filter = (df_users.statuses_count >= Q1 - 1.5 * IQR) & (df_users.statuses_count <= Q3 + 1.5 * IQR)\n",
    "statuses_count_valid = df_users.loc[filter]\n",
    "filter = (df_users.statuses_count < Q1 - 1.5 * IQR) | (df_users.statuses_count > Q3 + 1.5 * IQR)\n",
    "statuses_count_outliers = df_users.loc[filter]"
   ]
  },
  {
   "cell_type": "code",
   "execution_count": 45,
   "id": "5ee76339-1b4c-4b37-b155-b624928c80ef",
   "metadata": {},
   "outputs": [
    {
     "name": "stdout",
     "output_type": "stream",
     "text": [
      "Median without outliers:  57.0\n"
     ]
    }
   ],
   "source": [
    "median = statuses_count_valid.statuses_count.median()\n",
    "print(\"Median without outliers: \", median)"
   ]
  },
  {
   "cell_type": "code",
   "execution_count": 37,
   "id": "e583cc37-544a-442d-8866-aa52a6bdaf6b",
   "metadata": {},
   "outputs": [
    {
     "data": {
      "text/plain": [
       "<AxesSubplot: title={'center': 'statuses_count'}, ylabel='Frequency'>"
      ]
     },
     "execution_count": 37,
     "metadata": {},
     "output_type": "execute_result"
    },
    {
     "data": {
      "image/png": "[encoded data removed]",
      "text/plain": [
       "<Figure size 640x480 with 1 Axes>"
      ]
     },
     "metadata": {},
     "output_type": "display_data"
    }
   ],
   "source": [
    "numberOfBins = int(np.log2(len(statuses_count_valid.statuses_count[statuses_count_valid.statuses_count.notna()])) + 1)\n",
    "statuses_count_valid.statuses_count.plot(kind='hist', title='statuses_count', bins=numberOfBins)"
   ]
  },
  {
   "cell_type": "code",
   "execution_count": 32,
   "id": "b98be2c4-b613-441e-9e0d-dff1938ca281",
   "metadata": {},
   "outputs": [
    {
     "data": {
      "text/html": [
       "<div>\n",
       "<style scoped>\n",
       "    .dataframe tbody tr th:only-of-type {\n",
       "        vertical-align: middle;\n",
       "    }\n",
       "\n",
       "    .dataframe tbody tr th {\n",
       "        vertical-align: top;\n",
       "    }\n",
       "\n",
       "    .dataframe thead th {\n",
       "        text-align: right;\n",
       "    }\n",
       "</style>\n",
       "<table border=\"1\" class=\"dataframe\">\n",
       "  <thead>\n",
       "    <tr style=\"text-align: right;\">\n",
       "      <th></th>\n",
       "      <th>bot</th>\n",
       "      <th>statuses_count</th>\n",
       "    </tr>\n",
       "  </thead>\n",
       "  <tbody>\n",
       "    <tr>\n",
       "      <th>count</th>\n",
       "      <td>9029.000000</td>\n",
       "      <td>9029.000000</td>\n",
       "    </tr>\n",
       "    <tr>\n",
       "      <th>mean</th>\n",
       "      <td>0.628530</td>\n",
       "      <td>582.452099</td>\n",
       "    </tr>\n",
       "    <tr>\n",
       "      <th>std</th>\n",
       "      <td>0.483224</td>\n",
       "      <td>1357.807664</td>\n",
       "    </tr>\n",
       "    <tr>\n",
       "      <th>min</th>\n",
       "      <td>0.000000</td>\n",
       "      <td>0.000000</td>\n",
       "    </tr>\n",
       "    <tr>\n",
       "      <th>25%</th>\n",
       "      <td>0.000000</td>\n",
       "      <td>34.000000</td>\n",
       "    </tr>\n",
       "    <tr>\n",
       "      <th>50%</th>\n",
       "      <td>1.000000</td>\n",
       "      <td>57.000000</td>\n",
       "    </tr>\n",
       "    <tr>\n",
       "      <th>75%</th>\n",
       "      <td>1.000000</td>\n",
       "      <td>150.000000</td>\n",
       "    </tr>\n",
       "    <tr>\n",
       "      <th>max</th>\n",
       "      <td>1.000000</td>\n",
       "      <td>7226.000000</td>\n",
       "    </tr>\n",
       "  </tbody>\n",
       "</table>\n",
       "</div>"
      ],
      "text/plain": [
       "               bot  statuses_count\n",
       "count  9029.000000     9029.000000\n",
       "mean      0.628530      582.452099\n",
       "std       0.483224     1357.807664\n",
       "min       0.000000        0.000000\n",
       "25%       0.000000       34.000000\n",
       "50%       1.000000       57.000000\n",
       "75%       1.000000      150.000000\n",
       "max       1.000000     7226.000000"
      ]
     },
     "execution_count": 32,
     "metadata": {},
     "output_type": "execute_result"
    }
   ],
   "source": [
    "statuses_count_valid.describe()"
   ]
  },
  {
   "cell_type": "code",
   "execution_count": 21,
   "id": "6ef821ae-b51c-4b61-a4b1-8d4959249f97",
   "metadata": {},
   "outputs": [
    {
     "name": "stdout",
     "output_type": "stream",
     "text": [
      "11508 integers\n"
     ]
    }
   ],
   "source": [
    "df_users_copy = df_users.copy()\n",
    "df_users_copy.loc[df_users.statuses_count.isna(), \"statuses_count\"] = 5883\n",
    "print(df_users_copy.statuses_count.apply(float.is_integer).sum(), \"integers\")\n",
    "df_users_copy.statuses_count = df_users_copy.statuses_count.astype(int)"
   ]
  },
  {
   "cell_type": "code",
   "execution_count": 22,
   "id": "2f193d1f-3f3c-4c35-8435-ee15d42de518",
   "metadata": {},
   "outputs": [
    {
     "data": {
      "text/plain": [
       "5883"
      ]
     },
     "execution_count": 22,
     "metadata": {},
     "output_type": "execute_result"
    }
   ],
   "source": [
    "df_users_copy.loc[616225564, \"statuses_count\"]"
   ]
  },
  {
   "cell_type": "code",
   "execution_count": 23,
   "id": "22d5fc80-f72a-4972-bf7c-6dcd13abeb22",
   "metadata": {},
   "outputs": [
    {
     "name": "stdout",
     "output_type": "stream",
     "text": [
      "Without missing values\n"
     ]
    },
    {
     "data": {
      "text/html": [
       "<div>\n",
       "<style scoped>\n",
       "    .dataframe tbody tr th:only-of-type {\n",
       "        vertical-align: middle;\n",
       "    }\n",
       "\n",
       "    .dataframe tbody tr th {\n",
       "        vertical-align: top;\n",
       "    }\n",
       "\n",
       "    .dataframe thead th {\n",
       "        text-align: right;\n",
       "    }\n",
       "</style>\n",
       "<table border=\"1\" class=\"dataframe\">\n",
       "  <thead>\n",
       "    <tr style=\"text-align: right;\">\n",
       "      <th></th>\n",
       "      <th>bot</th>\n",
       "      <th>statuses_count</th>\n",
       "    </tr>\n",
       "  </thead>\n",
       "  <tbody>\n",
       "    <tr>\n",
       "      <th>count</th>\n",
       "      <td>11508.000000</td>\n",
       "      <td>11508.000000</td>\n",
       "    </tr>\n",
       "    <tr>\n",
       "      <th>mean</th>\n",
       "      <td>0.531456</td>\n",
       "      <td>5883.301529</td>\n",
       "    </tr>\n",
       "    <tr>\n",
       "      <th>std</th>\n",
       "      <td>0.499031</td>\n",
       "      <td>18739.416078</td>\n",
       "    </tr>\n",
       "    <tr>\n",
       "      <th>min</th>\n",
       "      <td>0.000000</td>\n",
       "      <td>0.000000</td>\n",
       "    </tr>\n",
       "    <tr>\n",
       "      <th>25%</th>\n",
       "      <td>0.000000</td>\n",
       "      <td>42.000000</td>\n",
       "    </tr>\n",
       "    <tr>\n",
       "      <th>50%</th>\n",
       "      <td>1.000000</td>\n",
       "      <td>71.000000</td>\n",
       "    </tr>\n",
       "    <tr>\n",
       "      <th>75%</th>\n",
       "      <td>1.000000</td>\n",
       "      <td>4318.000000</td>\n",
       "    </tr>\n",
       "    <tr>\n",
       "      <th>max</th>\n",
       "      <td>1.000000</td>\n",
       "      <td>399555.000000</td>\n",
       "    </tr>\n",
       "  </tbody>\n",
       "</table>\n",
       "</div>"
      ],
      "text/plain": [
       "                bot  statuses_count\n",
       "count  11508.000000    11508.000000\n",
       "mean       0.531456     5883.301529\n",
       "std        0.499031    18739.416078\n",
       "min        0.000000        0.000000\n",
       "25%        0.000000       42.000000\n",
       "50%        1.000000       71.000000\n",
       "75%        1.000000     4318.000000\n",
       "max        1.000000   399555.000000"
      ]
     },
     "execution_count": 23,
     "metadata": {},
     "output_type": "execute_result"
    }
   ],
   "source": [
    "print(\"Without missing values\")\n",
    "df_users_copy.describe()"
   ]
  },
  {
   "cell_type": "code",
   "execution_count": 26,
   "id": "50e11598-da41-4a69-9aaf-87148207e1e5",
   "metadata": {},
   "outputs": [
    {
     "data": {
      "text/html": [
       "<div>\n",
       "<style scoped>\n",
       "    .dataframe tbody tr th:only-of-type {\n",
       "        vertical-align: middle;\n",
       "    }\n",
       "\n",
       "    .dataframe tbody tr th {\n",
       "        vertical-align: top;\n",
       "    }\n",
       "\n",
       "    .dataframe thead th {\n",
       "        text-align: right;\n",
       "    }\n",
       "</style>\n",
       "<table border=\"1\" class=\"dataframe\">\n",
       "  <thead>\n",
       "    <tr style=\"text-align: right;\">\n",
       "      <th></th>\n",
       "      <th>bot</th>\n",
       "      <th>statuses_count</th>\n",
       "    </tr>\n",
       "  </thead>\n",
       "  <tbody>\n",
       "    <tr>\n",
       "      <th>count</th>\n",
       "      <td>9029.000000</td>\n",
       "      <td>9029.000000</td>\n",
       "    </tr>\n",
       "    <tr>\n",
       "      <th>mean</th>\n",
       "      <td>0.628530</td>\n",
       "      <td>582.452099</td>\n",
       "    </tr>\n",
       "    <tr>\n",
       "      <th>std</th>\n",
       "      <td>0.483224</td>\n",
       "      <td>1357.807664</td>\n",
       "    </tr>\n",
       "    <tr>\n",
       "      <th>min</th>\n",
       "      <td>0.000000</td>\n",
       "      <td>0.000000</td>\n",
       "    </tr>\n",
       "    <tr>\n",
       "      <th>25%</th>\n",
       "      <td>0.000000</td>\n",
       "      <td>34.000000</td>\n",
       "    </tr>\n",
       "    <tr>\n",
       "      <th>50%</th>\n",
       "      <td>1.000000</td>\n",
       "      <td>57.000000</td>\n",
       "    </tr>\n",
       "    <tr>\n",
       "      <th>75%</th>\n",
       "      <td>1.000000</td>\n",
       "      <td>150.000000</td>\n",
       "    </tr>\n",
       "    <tr>\n",
       "      <th>max</th>\n",
       "      <td>1.000000</td>\n",
       "      <td>7226.000000</td>\n",
       "    </tr>\n",
       "  </tbody>\n",
       "</table>\n",
       "</div>"
      ],
      "text/plain": [
       "               bot  statuses_count\n",
       "count  9029.000000     9029.000000\n",
       "mean      0.628530      582.452099\n",
       "std       0.483224     1357.807664\n",
       "min       0.000000        0.000000\n",
       "25%       0.000000       34.000000\n",
       "50%       1.000000       57.000000\n",
       "75%       1.000000      150.000000\n",
       "max       1.000000     7226.000000"
      ]
     },
     "execution_count": 26,
     "metadata": {},
     "output_type": "execute_result"
    }
   ],
   "source": [
    "statuses_count_valid.describe()"
   ]
  },
  {
   "cell_type": "code",
   "execution_count": 27,
   "id": "3e0e0b61-68b3-409e-9aaf-fc72011fed73",
   "metadata": {},
   "outputs": [
    {
     "data": {
      "text/plain": [
       "2080"
      ]
     },
     "execution_count": 27,
     "metadata": {},
     "output_type": "execute_result"
    }
   ],
   "source": [
    "len(statuses_count_outliers)"
   ]
  },
  {
   "cell_type": "code",
   "execution_count": 28,
   "id": "62700c29-e850-469b-9084-4b0ca383d10a",
   "metadata": {},
   "outputs": [
    {
     "data": {
      "text/html": [
       "<div>\n",
       "<style scoped>\n",
       "    .dataframe tbody tr th:only-of-type {\n",
       "        vertical-align: middle;\n",
       "    }\n",
       "\n",
       "    .dataframe tbody tr th {\n",
       "        vertical-align: top;\n",
       "    }\n",
       "\n",
       "    .dataframe thead th {\n",
       "        text-align: right;\n",
       "    }\n",
       "</style>\n",
       "<table border=\"1\" class=\"dataframe\">\n",
       "  <thead>\n",
       "    <tr style=\"text-align: right;\">\n",
       "      <th></th>\n",
       "      <th>bot</th>\n",
       "      <th>statuses_count</th>\n",
       "    </tr>\n",
       "  </thead>\n",
       "  <tbody>\n",
       "    <tr>\n",
       "      <th>count</th>\n",
       "      <td>2080.000000</td>\n",
       "      <td>2080.000000</td>\n",
       "    </tr>\n",
       "    <tr>\n",
       "      <th>mean</th>\n",
       "      <td>0.212019</td>\n",
       "      <td>28893.633173</td>\n",
       "    </tr>\n",
       "    <tr>\n",
       "      <th>std</th>\n",
       "      <td>0.408837</td>\n",
       "      <td>35831.394074</td>\n",
       "    </tr>\n",
       "    <tr>\n",
       "      <th>min</th>\n",
       "      <td>0.000000</td>\n",
       "      <td>7236.000000</td>\n",
       "    </tr>\n",
       "    <tr>\n",
       "      <th>25%</th>\n",
       "      <td>0.000000</td>\n",
       "      <td>11302.500000</td>\n",
       "    </tr>\n",
       "    <tr>\n",
       "      <th>50%</th>\n",
       "      <td>0.000000</td>\n",
       "      <td>15987.000000</td>\n",
       "    </tr>\n",
       "    <tr>\n",
       "      <th>75%</th>\n",
       "      <td>0.000000</td>\n",
       "      <td>32103.000000</td>\n",
       "    </tr>\n",
       "    <tr>\n",
       "      <th>max</th>\n",
       "      <td>1.000000</td>\n",
       "      <td>399555.000000</td>\n",
       "    </tr>\n",
       "  </tbody>\n",
       "</table>\n",
       "</div>"
      ],
      "text/plain": [
       "               bot  statuses_count\n",
       "count  2080.000000     2080.000000\n",
       "mean      0.212019    28893.633173\n",
       "std       0.408837    35831.394074\n",
       "min       0.000000     7236.000000\n",
       "25%       0.000000    11302.500000\n",
       "50%       0.000000    15987.000000\n",
       "75%       0.000000    32103.000000\n",
       "max       1.000000   399555.000000"
      ]
     },
     "execution_count": 28,
     "metadata": {},
     "output_type": "execute_result"
    }
   ],
   "source": [
    "statuses_count_outliers.describe()"
   ]
  },
  {
   "cell_type": "code",
   "execution_count": 29,
   "id": "2be84a87-9d66-4ca3-ae36-88767ec6173f",
   "metadata": {},
   "outputs": [
    {
     "data": {
      "text/plain": [
       "<AxesSubplot: >"
      ]
     },
     "execution_count": 29,
     "metadata": {},
     "output_type": "execute_result"
    },
    {
     "data": {
      "image/png": "[encoded data removed]",
      "text/plain": [
       "<Figure size 640x480 with 1 Axes>"
      ]
     },
     "metadata": {},
     "output_type": "display_data"
    }
   ],
   "source": [
    "statuses_count_valid.boxplot(column='statuses_count')"
   ]
  },
  {
   "cell_type": "code",
   "execution_count": 30,
   "id": "48ea39de-a817-4c92-93a6-37c360983223",
   "metadata": {},
   "outputs": [
    {
     "ename": "SyntaxError",
     "evalue": "invalid syntax (1369462328.py, line 1)",
     "output_type": "error",
     "traceback": [
      "\u001b[0;36m  Cell \u001b[0;32mIn [30], line 1\u001b[0;36m\u001b[0m\n\u001b[0;31m    statuses_count_outliers.\u001b[0m\n\u001b[0m                            ^\u001b[0m\n\u001b[0;31mSyntaxError\u001b[0m\u001b[0;31m:\u001b[0m invalid syntax\n"
     ]
    }
   ],
   "source": [
    "statuses_count_outliers."
   ]
  },
  {
   "cell_type": "code",
   "execution_count": null,
   "id": "e2b2e241-a3eb-45ad-b445-0765566fe35a",
   "metadata": {},
   "outputs": [],
   "source": []
  }
 ],
 "metadata": {
  "kernelspec": {
   "display_name": "Python 3 (ipykernel)",
   "language": "python",
   "name": "python3"
  },
  "language_info": {
   "codemirror_mode": {
    "name": "ipython",
    "version": 3
   },
   "file_extension": ".py",
   "mimetype": "text/x-python",
   "name": "python",
   "nbconvert_exporter": "python",
   "pygments_lexer": "ipython3",
   "version": "3.10.6"
  }
 },
 "nbformat": 4,
 "nbformat_minor": 5
}
