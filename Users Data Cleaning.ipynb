{
 "cells": [
  {
   "cell_type": "code",
   "execution_count": 1,
   "id": "4bbea377-1cc4-4ca5-ba48-d2533cd65252",
   "metadata": {},
   "outputs": [],
   "source": [
    "%matplotlib inline\n",
    "import math\n",
    "import numpy as np\n",
    "import pandas as pd\n",
    "import matplotlib.pyplot as plt\n",
    "import plotly.express as plt_ex"
   ]
  },
  {
   "cell_type": "code",
   "execution_count": 2,
   "id": "c52752ba-0727-4dff-b4ec-a64fbce1d695",
   "metadata": {},
   "outputs": [],
   "source": [
    "datasetUsersCSVPath  = \"./dataset/users.csv\""
   ]
  },
  {
   "cell_type": "code",
   "execution_count": 3,
   "id": "cf138b72-2c93-4457-9af8-4db0efe7bc92",
   "metadata": {},
   "outputs": [
    {
     "name": "stdout",
     "output_type": "stream",
     "text": [
      "CPU times: user 18.4 ms, sys: 3.56 ms, total: 21.9 ms\n",
      "Wall time: 21.4 ms\n"
     ]
    }
   ],
   "source": [
    "%%time\n",
    "df_users = pd.read_csv(datasetUsersCSVPath, sep=',', index_col=0)"
   ]
  },
  {
   "cell_type": "code",
   "execution_count": 4,
   "id": "014a82f6-2281-483c-b713-9c6b2a528ba6",
   "metadata": {},
   "outputs": [],
   "source": [
    "# Make all the strings lower case and trim leading and trailing spaces\n",
    "df_users = df_users.applymap(lambda x:x.lower().strip() if type(x) == str else x)\n",
    "df_users = df_users.replace(r\"\\s{2,}\", \" \", regex=True)"
   ]
  },
  {
   "cell_type": "code",
   "execution_count": 5,
   "id": "0b944004-17c0-45f5-b6ad-1b64d6c88b98",
   "metadata": {},
   "outputs": [
    {
     "data": {
      "text/html": [
       "<div>\n",
       "<style scoped>\n",
       "    .dataframe tbody tr th:only-of-type {\n",
       "        vertical-align: middle;\n",
       "    }\n",
       "\n",
       "    .dataframe tbody tr th {\n",
       "        vertical-align: top;\n",
       "    }\n",
       "\n",
       "    .dataframe thead th {\n",
       "        text-align: right;\n",
       "    }\n",
       "</style>\n",
       "<table border=\"1\" class=\"dataframe\">\n",
       "  <thead>\n",
       "    <tr style=\"text-align: right;\">\n",
       "      <th></th>\n",
       "      <th>name</th>\n",
       "      <th>lang</th>\n",
       "      <th>bot</th>\n",
       "      <th>created_at</th>\n",
       "      <th>statuses_count</th>\n",
       "    </tr>\n",
       "    <tr>\n",
       "      <th>id</th>\n",
       "      <th></th>\n",
       "      <th></th>\n",
       "      <th></th>\n",
       "      <th></th>\n",
       "      <th></th>\n",
       "    </tr>\n",
       "  </thead>\n",
       "  <tbody>\n",
       "    <tr>\n",
       "      <th>2166124159</th>\n",
       "      <td>NaN</td>\n",
       "      <td>en</td>\n",
       "      <td>0</td>\n",
       "      <td>2018-11-02 06:39:14</td>\n",
       "      <td>6566.0</td>\n",
       "    </tr>\n",
       "  </tbody>\n",
       "</table>\n",
       "</div>"
      ],
      "text/plain": [
       "           name lang  bot           created_at  statuses_count\n",
       "id                                                            \n",
       "2166124159  NaN   en    0  2018-11-02 06:39:14          6566.0"
      ]
     },
     "execution_count": 5,
     "metadata": {},
     "output_type": "execute_result"
    }
   ],
   "source": [
    "df_users[df_users.name.isna()]"
   ]
  },
  {
   "cell_type": "code",
   "execution_count": 6,
   "id": "f0933b7a-10e2-4557-9b6c-43265ded2465",
   "metadata": {},
   "outputs": [
    {
     "data": {
      "text/plain": [
       "0"
      ]
     },
     "execution_count": 6,
     "metadata": {},
     "output_type": "execute_result"
    }
   ],
   "source": [
    "len(df_users[df_users.name == \"unknown\"])"
   ]
  },
  {
   "cell_type": "code",
   "execution_count": 7,
   "id": "26c8a1b9-8d7e-4e59-8a85-7db5d35b319c",
   "metadata": {},
   "outputs": [],
   "source": [
    "df_users.loc[df_users.name.isna(), \"name\"] = \"unknown\""
   ]
  },
  {
   "cell_type": "markdown",
   "id": "39f3525e-00a0-4942-a44c-19b244e28afc",
   "metadata": {},
   "source": [
    "## Lang"
   ]
  },
  {
   "cell_type": "code",
   "execution_count": 8,
   "id": "a38c43c0-93ad-446b-9252-c1b3b6cf50a9",
   "metadata": {},
   "outputs": [
    {
     "name": "stdout",
     "output_type": "stream",
     "text": [
      "Languages: ['en' 'it' 'fr' 'ru' 'es' 'tr' 'en-gb' 'pt' 'nl' 'id' 'zh-tw' 'ja' 'de'\n",
      " 'ko' 'en-au' 'da' 'ar' 'select language...' 'zh-cn' 'pl' 'el' 'fil' 'sv'\n",
      " 'xx-lc']\n",
      "24 unique languages\n",
      "0 missing languages\n"
     ]
    }
   ],
   "source": [
    "uniqueLanguages = df_users.lang.unique()\n",
    "print(\"Languages:\", uniqueLanguages)\n",
    "print(len(uniqueLanguages), \"unique languages\")\n",
    "print(df_users.lang.isna().sum(), \"missing languages\")"
   ]
  },
  {
   "cell_type": "code",
   "execution_count": 9,
   "id": "cdeb001f-6c66-4ebf-a32a-142a3e5adf85",
   "metadata": {},
   "outputs": [
    {
     "name": "stdout",
     "output_type": "stream",
     "text": [
      "There are 2 invalid languages, 'Select Language...' and 'xx-lc'. There is a total of 3 users with invalid entries\n"
     ]
    }
   ],
   "source": [
    "languages_count = df_users.lang.value_counts()\n",
    "invalidLanguageUsers = languages_count['select language...'] + languages_count['xx-lc']\n",
    "print(\"There are 2 invalid languages, 'Select Language...' and 'xx-lc'. There is a total of\", invalidLanguageUsers, \"users with invalid entries\")"
   ]
  },
  {
   "cell_type": "code",
   "execution_count": 10,
   "id": "e36be7c2-c8f5-4a9b-8ed2-8eff7640adc1",
   "metadata": {},
   "outputs": [
    {
     "data": {
      "text/html": [
       "<div>\n",
       "<style scoped>\n",
       "    .dataframe tbody tr th:only-of-type {\n",
       "        vertical-align: middle;\n",
       "    }\n",
       "\n",
       "    .dataframe tbody tr th {\n",
       "        vertical-align: top;\n",
       "    }\n",
       "\n",
       "    .dataframe thead th {\n",
       "        text-align: right;\n",
       "    }\n",
       "</style>\n",
       "<table border=\"1\" class=\"dataframe\">\n",
       "  <thead>\n",
       "    <tr style=\"text-align: right;\">\n",
       "      <th></th>\n",
       "      <th>name</th>\n",
       "      <th>lang</th>\n",
       "      <th>bot</th>\n",
       "      <th>created_at</th>\n",
       "      <th>statuses_count</th>\n",
       "    </tr>\n",
       "    <tr>\n",
       "      <th>id</th>\n",
       "      <th></th>\n",
       "      <th></th>\n",
       "      <th></th>\n",
       "      <th></th>\n",
       "      <th></th>\n",
       "    </tr>\n",
       "  </thead>\n",
       "  <tbody>\n",
       "    <tr>\n",
       "      <th>2956613720</th>\n",
       "      <td>leanne arker</td>\n",
       "      <td>select language...</td>\n",
       "      <td>0</td>\n",
       "      <td>2020-01-05 00:09:59</td>\n",
       "      <td>57.0</td>\n",
       "    </tr>\n",
       "    <tr>\n",
       "      <th>2904858613</th>\n",
       "      <td>brooke</td>\n",
       "      <td>select language...</td>\n",
       "      <td>0</td>\n",
       "      <td>2019-11-22 05:44:46</td>\n",
       "      <td>85.0</td>\n",
       "    </tr>\n",
       "  </tbody>\n",
       "</table>\n",
       "</div>"
      ],
      "text/plain": [
       "                    name                lang  bot           created_at  \\\n",
       "id                                                                       \n",
       "2956613720  leanne arker  select language...    0  2020-01-05 00:09:59   \n",
       "2904858613        brooke  select language...    0  2019-11-22 05:44:46   \n",
       "\n",
       "            statuses_count  \n",
       "id                          \n",
       "2956613720            57.0  \n",
       "2904858613            85.0  "
      ]
     },
     "execution_count": 10,
     "metadata": {},
     "output_type": "execute_result"
    }
   ],
   "source": [
    "df_users[df_users.lang == 'select language...']"
   ]
  },
  {
   "cell_type": "code",
   "execution_count": 11,
   "id": "10b3ecff-2d73-4468-a31b-adfc51f3b95f",
   "metadata": {},
   "outputs": [
    {
     "data": {
      "text/html": [
       "<div>\n",
       "<style scoped>\n",
       "    .dataframe tbody tr th:only-of-type {\n",
       "        vertical-align: middle;\n",
       "    }\n",
       "\n",
       "    .dataframe tbody tr th {\n",
       "        vertical-align: top;\n",
       "    }\n",
       "\n",
       "    .dataframe thead th {\n",
       "        text-align: right;\n",
       "    }\n",
       "</style>\n",
       "<table border=\"1\" class=\"dataframe\">\n",
       "  <thead>\n",
       "    <tr style=\"text-align: right;\">\n",
       "      <th></th>\n",
       "      <th>name</th>\n",
       "      <th>lang</th>\n",
       "      <th>bot</th>\n",
       "      <th>created_at</th>\n",
       "      <th>statuses_count</th>\n",
       "    </tr>\n",
       "    <tr>\n",
       "      <th>id</th>\n",
       "      <th></th>\n",
       "      <th></th>\n",
       "      <th></th>\n",
       "      <th></th>\n",
       "      <th></th>\n",
       "    </tr>\n",
       "  </thead>\n",
       "  <tbody>\n",
       "    <tr>\n",
       "      <th>29552151</th>\n",
       "      <td>chloe</td>\n",
       "      <td>xx-lc</td>\n",
       "      <td>0</td>\n",
       "      <td>2014-04-09 21:36:02</td>\n",
       "      <td>15398.0</td>\n",
       "    </tr>\n",
       "  </tbody>\n",
       "</table>\n",
       "</div>"
      ],
      "text/plain": [
       "           name   lang  bot           created_at  statuses_count\n",
       "id                                                              \n",
       "29552151  chloe  xx-lc    0  2014-04-09 21:36:02         15398.0"
      ]
     },
     "execution_count": 11,
     "metadata": {},
     "output_type": "execute_result"
    }
   ],
   "source": [
    "df_users[df_users.lang == 'xx-lc']"
   ]
  },
  {
   "cell_type": "code",
   "execution_count": 12,
   "id": "f57353ba-0009-47b9-89f4-da77ed50d88e",
   "metadata": {},
   "outputs": [],
   "source": [
    "df_users.loc[df_users.lang == 'select language...', \"lang\"] = \"en\"\n",
    "df_users.loc[df_users.lang == 'xx-lc', \"lang\"] = \"en\""
   ]
  },
  {
   "cell_type": "code",
   "execution_count": 13,
   "id": "a0810a82-97fb-463e-9878-52a8f9e442c0",
   "metadata": {},
   "outputs": [
    {
     "name": "stdout",
     "output_type": "stream",
     "text": [
      "           name lang  bot           created_at  statuses_count\n",
      "id                                                            \n",
      "29552151  chloe   en    0  2014-04-09 21:36:02         15398.0\n",
      "                    name lang  bot           created_at  statuses_count\n",
      "id                                                                     \n",
      "2956613720  leanne arker   en    0  2020-01-05 00:09:59            57.0\n",
      "              name lang  bot           created_at  statuses_count\n",
      "id                                                               \n",
      "2904858613  brooke   en    0  2019-11-22 05:44:46            85.0\n"
     ]
    }
   ],
   "source": [
    "print(df_users[df_users.index == 29552151])\n",
    "print(df_users[df_users.index == 2956613720])\n",
    "print(df_users[df_users.index == 2904858613])"
   ]
  },
  {
   "cell_type": "code",
   "execution_count": 14,
   "id": "980654d9-b1b8-4103-b894-5715abed16a0",
   "metadata": {},
   "outputs": [],
   "source": [
    "df_users.loc[df_users.lang == 'en-gb', \"lang\"] = \"en\"\n",
    "df_users.loc[df_users.lang == 'en-au', \"lang\"] = \"en\"\n",
    "df_users.loc[df_users.lang == 'zh-cn', \"lang\"] = \"zh\"\n",
    "df_users.loc[df_users.lang == 'zh-tw', \"lang\"] = \"zh\""
   ]
  },
  {
   "cell_type": "code",
   "execution_count": 15,
   "id": "7cbff15f-fe97-422e-80a6-883c96c9da7e",
   "metadata": {},
   "outputs": [
    {
     "data": {
      "image/png": "[encoded data removed]",
      "text/plain": [
       "<Figure size 640x480 with 1 Axes>"
      ]
     },
     "metadata": {},
     "output_type": "display_data"
    }
   ],
   "source": [
    "df_users.lang.value_counts().plot(kind='bar', title='lang') \n",
    "plt.show()"
   ]
  },
  {
   "cell_type": "code",
   "execution_count": 16,
   "id": "89fb536f-5aa7-456a-afcb-61666ceee973",
   "metadata": {},
   "outputs": [],
   "source": [
    "#real_users = df_users[df_users.bot == 0]\n",
    "#bots       = df_users[df_users.bot == 1]"
   ]
  },
  {
   "cell_type": "markdown",
   "id": "dcd7c746-55f9-4243-a6de-ce7c71409323",
   "metadata": {},
   "source": [
    "## Created_at"
   ]
  },
  {
   "cell_type": "code",
   "execution_count": 17,
   "id": "50139978-8d6d-4406-a0fa-9e1ba7242168",
   "metadata": {},
   "outputs": [
    {
     "data": {
      "text/plain": [
       "name                      object\n",
       "lang                      object\n",
       "bot                        int64\n",
       "created_at        datetime64[ns]\n",
       "statuses_count           float64\n",
       "dtype: object"
      ]
     },
     "execution_count": 17,
     "metadata": {},
     "output_type": "execute_result"
    }
   ],
   "source": [
    "df_users.created_at = pd.to_datetime(df_users.created_at, format='%Y-%m-%d %H:%M:%S')\n",
    "df_users.dtypes"
   ]
  },
  {
   "cell_type": "markdown",
   "id": "96f99bcc-1797-4a9a-852b-8497e7f932a3",
   "metadata": {},
   "source": [
    "## Statuses_count"
   ]
  },
  {
   "cell_type": "code",
   "execution_count": 18,
   "id": "fe21a24e-cbcd-4f8a-8761-354e0230c9a0",
   "metadata": {},
   "outputs": [
    {
     "name": "stdout",
     "output_type": "stream",
     "text": [
      "399 missing statuses_count values\n"
     ]
    }
   ],
   "source": [
    "print(df_users.statuses_count.isna().sum(), \"missing statuses_count values\")"
   ]
  },
  {
   "cell_type": "code",
   "execution_count": 27,
   "id": "9651c009-98c8-454d-889d-cb9de290034a",
   "metadata": {},
   "outputs": [
    {
     "data": {
      "text/html": [
       "<div>\n",
       "<style scoped>\n",
       "    .dataframe tbody tr th:only-of-type {\n",
       "        vertical-align: middle;\n",
       "    }\n",
       "\n",
       "    .dataframe tbody tr th {\n",
       "        vertical-align: top;\n",
       "    }\n",
       "\n",
       "    .dataframe thead th {\n",
       "        text-align: right;\n",
       "    }\n",
       "</style>\n",
       "<table border=\"1\" class=\"dataframe\">\n",
       "  <thead>\n",
       "    <tr style=\"text-align: right;\">\n",
       "      <th></th>\n",
       "      <th>name</th>\n",
       "      <th>lang</th>\n",
       "      <th>bot</th>\n",
       "      <th>created_at</th>\n",
       "      <th>statuses_count</th>\n",
       "    </tr>\n",
       "    <tr>\n",
       "      <th>id</th>\n",
       "      <th></th>\n",
       "      <th></th>\n",
       "      <th></th>\n",
       "      <th></th>\n",
       "      <th></th>\n",
       "    </tr>\n",
       "  </thead>\n",
       "  <tbody>\n",
       "    <tr>\n",
       "      <th>616225564</th>\n",
       "      <td>anisha williams</td>\n",
       "      <td>en</td>\n",
       "      <td>0</td>\n",
       "      <td>2017-06-25 15:49:36</td>\n",
       "      <td>NaN</td>\n",
       "    </tr>\n",
       "    <tr>\n",
       "      <th>1370348599</th>\n",
       "      <td>robert brown</td>\n",
       "      <td>en</td>\n",
       "      <td>0</td>\n",
       "      <td>2018-04-23 19:05:48</td>\n",
       "      <td>NaN</td>\n",
       "    </tr>\n",
       "    <tr>\n",
       "      <th>617369459</th>\n",
       "      <td>sage pennington</td>\n",
       "      <td>en</td>\n",
       "      <td>0</td>\n",
       "      <td>2017-06-26 18:50:48</td>\n",
       "      <td>NaN</td>\n",
       "    </tr>\n",
       "    <tr>\n",
       "      <th>2362195375</th>\n",
       "      <td>delaine nock</td>\n",
       "      <td>en</td>\n",
       "      <td>0</td>\n",
       "      <td>2019-02-28 05:35:38</td>\n",
       "      <td>NaN</td>\n",
       "    </tr>\n",
       "    <tr>\n",
       "      <th>2351047069</th>\n",
       "      <td>tosha pacitti</td>\n",
       "      <td>en</td>\n",
       "      <td>0</td>\n",
       "      <td>2019-02-21 03:14:40</td>\n",
       "      <td>NaN</td>\n",
       "    </tr>\n",
       "  </tbody>\n",
       "</table>\n",
       "</div>"
      ],
      "text/plain": [
       "                       name lang  bot          created_at  statuses_count\n",
       "id                                                                       \n",
       "616225564   anisha williams   en    0 2017-06-25 15:49:36             NaN\n",
       "1370348599     robert brown   en    0 2018-04-23 19:05:48             NaN\n",
       "617369459   sage pennington   en    0 2017-06-26 18:50:48             NaN\n",
       "2362195375     delaine nock   en    0 2019-02-28 05:35:38             NaN\n",
       "2351047069    tosha pacitti   en    0 2019-02-21 03:14:40             NaN"
      ]
     },
     "execution_count": 27,
     "metadata": {},
     "output_type": "execute_result"
    }
   ],
   "source": [
    "df_users[df_users.statuses_count.isna()].head()"
   ]
  },
  {
   "cell_type": "code",
   "execution_count": 44,
   "id": "4cfff3fc-89c3-4717-8a96-4d980e053888",
   "metadata": {},
   "outputs": [
    {
     "name": "stdout",
     "output_type": "stream",
     "text": [
      "With missing values\n"
     ]
    },
    {
     "data": {
      "text/html": [
       "<div>\n",
       "<style scoped>\n",
       "    .dataframe tbody tr th:only-of-type {\n",
       "        vertical-align: middle;\n",
       "    }\n",
       "\n",
       "    .dataframe tbody tr th {\n",
       "        vertical-align: top;\n",
       "    }\n",
       "\n",
       "    .dataframe thead th {\n",
       "        text-align: right;\n",
       "    }\n",
       "</style>\n",
       "<table border=\"1\" class=\"dataframe\">\n",
       "  <thead>\n",
       "    <tr style=\"text-align: right;\">\n",
       "      <th></th>\n",
       "      <th>bot</th>\n",
       "      <th>statuses_count</th>\n",
       "    </tr>\n",
       "  </thead>\n",
       "  <tbody>\n",
       "    <tr>\n",
       "      <th>count</th>\n",
       "      <td>11508.000000</td>\n",
       "      <td>11109.000000</td>\n",
       "    </tr>\n",
       "    <tr>\n",
       "      <th>mean</th>\n",
       "      <td>0.531456</td>\n",
       "      <td>5883.312359</td>\n",
       "    </tr>\n",
       "    <tr>\n",
       "      <th>std</th>\n",
       "      <td>0.499031</td>\n",
       "      <td>19073.007305</td>\n",
       "    </tr>\n",
       "    <tr>\n",
       "      <th>min</th>\n",
       "      <td>0.000000</td>\n",
       "      <td>0.000000</td>\n",
       "    </tr>\n",
       "    <tr>\n",
       "      <th>25%</th>\n",
       "      <td>0.000000</td>\n",
       "      <td>41.000000</td>\n",
       "    </tr>\n",
       "    <tr>\n",
       "      <th>50%</th>\n",
       "      <td>1.000000</td>\n",
       "      <td>68.000000</td>\n",
       "    </tr>\n",
       "    <tr>\n",
       "      <th>75%</th>\n",
       "      <td>1.000000</td>\n",
       "      <td>2916.000000</td>\n",
       "    </tr>\n",
       "    <tr>\n",
       "      <th>max</th>\n",
       "      <td>1.000000</td>\n",
       "      <td>399555.000000</td>\n",
       "    </tr>\n",
       "  </tbody>\n",
       "</table>\n",
       "</div>"
      ],
      "text/plain": [
       "                bot  statuses_count\n",
       "count  11508.000000    11109.000000\n",
       "mean       0.531456     5883.312359\n",
       "std        0.499031    19073.007305\n",
       "min        0.000000        0.000000\n",
       "25%        0.000000       41.000000\n",
       "50%        1.000000       68.000000\n",
       "75%        1.000000     2916.000000\n",
       "max        1.000000   399555.000000"
      ]
     },
     "execution_count": 44,
     "metadata": {},
     "output_type": "execute_result"
    }
   ],
   "source": [
    "print(\"With missing values\")\n",
    "df_users.describe()"
   ]
  },
  {
   "cell_type": "code",
   "execution_count": 45,
   "id": "6ef821ae-b51c-4b61-a4b1-8d4959249f97",
   "metadata": {},
   "outputs": [
    {
     "name": "stdout",
     "output_type": "stream",
     "text": [
      "11508 integers\n"
     ]
    }
   ],
   "source": [
    "df_users_copy = df_users.copy()\n",
    "df_users_copy.loc[df_users.statuses_count.isna(), \"statuses_count\"] = 5883\n",
    "print(df_users_copy.statuses_count.apply(float.is_integer).sum(), \"integers\")\n",
    "df_users_copy.statuses_count = df_users_copy.statuses_count.astype(int)"
   ]
  },
  {
   "cell_type": "code",
   "execution_count": 39,
   "id": "2f193d1f-3f3c-4c35-8435-ee15d42de518",
   "metadata": {},
   "outputs": [
    {
     "data": {
      "text/plain": [
       "5883"
      ]
     },
     "execution_count": 39,
     "metadata": {},
     "output_type": "execute_result"
    }
   ],
   "source": [
    "df_users_copy.loc[616225564, \"statuses_count\"]"
   ]
  },
  {
   "cell_type": "code",
   "execution_count": 43,
   "id": "22d5fc80-f72a-4972-bf7c-6dcd13abeb22",
   "metadata": {},
   "outputs": [
    {
     "name": "stdout",
     "output_type": "stream",
     "text": [
      "Without missing values\n"
     ]
    },
    {
     "data": {
      "text/html": [
       "<div>\n",
       "<style scoped>\n",
       "    .dataframe tbody tr th:only-of-type {\n",
       "        vertical-align: middle;\n",
       "    }\n",
       "\n",
       "    .dataframe tbody tr th {\n",
       "        vertical-align: top;\n",
       "    }\n",
       "\n",
       "    .dataframe thead th {\n",
       "        text-align: right;\n",
       "    }\n",
       "</style>\n",
       "<table border=\"1\" class=\"dataframe\">\n",
       "  <thead>\n",
       "    <tr style=\"text-align: right;\">\n",
       "      <th></th>\n",
       "      <th>bot</th>\n",
       "      <th>statuses_count</th>\n",
       "    </tr>\n",
       "  </thead>\n",
       "  <tbody>\n",
       "    <tr>\n",
       "      <th>count</th>\n",
       "      <td>11508.000000</td>\n",
       "      <td>11508.000000</td>\n",
       "    </tr>\n",
       "    <tr>\n",
       "      <th>mean</th>\n",
       "      <td>0.531456</td>\n",
       "      <td>5883.301529</td>\n",
       "    </tr>\n",
       "    <tr>\n",
       "      <th>std</th>\n",
       "      <td>0.499031</td>\n",
       "      <td>18739.416078</td>\n",
       "    </tr>\n",
       "    <tr>\n",
       "      <th>min</th>\n",
       "      <td>0.000000</td>\n",
       "      <td>0.000000</td>\n",
       "    </tr>\n",
       "    <tr>\n",
       "      <th>25%</th>\n",
       "      <td>0.000000</td>\n",
       "      <td>42.000000</td>\n",
       "    </tr>\n",
       "    <tr>\n",
       "      <th>50%</th>\n",
       "      <td>1.000000</td>\n",
       "      <td>71.000000</td>\n",
       "    </tr>\n",
       "    <tr>\n",
       "      <th>75%</th>\n",
       "      <td>1.000000</td>\n",
       "      <td>4318.000000</td>\n",
       "    </tr>\n",
       "    <tr>\n",
       "      <th>max</th>\n",
       "      <td>1.000000</td>\n",
       "      <td>399555.000000</td>\n",
       "    </tr>\n",
       "  </tbody>\n",
       "</table>\n",
       "</div>"
      ],
      "text/plain": [
       "                bot  statuses_count\n",
       "count  11508.000000    11508.000000\n",
       "mean       0.531456     5883.301529\n",
       "std        0.499031    18739.416078\n",
       "min        0.000000        0.000000\n",
       "25%        0.000000       42.000000\n",
       "50%        1.000000       71.000000\n",
       "75%        1.000000     4318.000000\n",
       "max        1.000000   399555.000000"
      ]
     },
     "execution_count": 43,
     "metadata": {},
     "output_type": "execute_result"
    }
   ],
   "source": [
    "print(\"Without missing values\")\n",
    "df_users_copy.describe()"
   ]
  },
  {
   "cell_type": "code",
   "execution_count": 59,
   "id": "73b931db-f655-492b-ae85-d51dd75159b3",
   "metadata": {},
   "outputs": [
    {
     "data": {
      "text/plain": [
       "<AxesSubplot: >"
      ]
     },
     "execution_count": 59,
     "metadata": {},
     "output_type": "execute_result"
    },
    {
     "data": {
      "image/png": "[encoded data removed]",
      "text/plain": [
       "<Figure size 640x480 with 1 Axes>"
      ]
     },
     "metadata": {},
     "output_type": "display_data"
    }
   ],
   "source": [
    "df_users.boxplot(column='statuses_count')"
   ]
  },
  {
   "cell_type": "code",
   "execution_count": 69,
   "id": "077c01cc-9aab-4a7e-846d-266ab15ed3fe",
   "metadata": {},
   "outputs": [
    {
     "name": "stdout",
     "output_type": "stream",
     "text": [
      "7228.5 -4271.5\n"
     ]
    }
   ],
   "source": [
    "Q1 = df_users.statuses_count.quantile(0.25)\n",
    "Q3 = df_users.statuses_count.quantile(0.75)\n",
    "IQR = Q3 - Q1    #IQR is interquartile range.\n",
    "print(Q3 + 1.5 * IQR, Q1 - 1.5 * IQR)\n",
    "\n",
    "filter = (df_users.statuses_count >= Q1 - 1.5 * IQR) & (df_users.statuses_count <= Q3 + 1.5 * IQR)\n",
    "statuses_count_valid = df_users.loc[filter]\n",
    "filter = (df_users.statuses_count < Q1 - 1.5 * IQR) | (df_users.statuses_count > Q3 + 1.5 * IQR)\n",
    "statuses_count_outliers = df_users.loc[filter]"
   ]
  },
  {
   "cell_type": "code",
   "execution_count": 58,
   "id": "50e11598-da41-4a69-9aaf-87148207e1e5",
   "metadata": {},
   "outputs": [
    {
     "data": {
      "text/html": [
       "<div>\n",
       "<style scoped>\n",
       "    .dataframe tbody tr th:only-of-type {\n",
       "        vertical-align: middle;\n",
       "    }\n",
       "\n",
       "    .dataframe tbody tr th {\n",
       "        vertical-align: top;\n",
       "    }\n",
       "\n",
       "    .dataframe thead th {\n",
       "        text-align: right;\n",
       "    }\n",
       "</style>\n",
       "<table border=\"1\" class=\"dataframe\">\n",
       "  <thead>\n",
       "    <tr style=\"text-align: right;\">\n",
       "      <th></th>\n",
       "      <th>bot</th>\n",
       "      <th>statuses_count</th>\n",
       "    </tr>\n",
       "  </thead>\n",
       "  <tbody>\n",
       "    <tr>\n",
       "      <th>count</th>\n",
       "      <td>9029.000000</td>\n",
       "      <td>9029.000000</td>\n",
       "    </tr>\n",
       "    <tr>\n",
       "      <th>mean</th>\n",
       "      <td>0.628530</td>\n",
       "      <td>582.452099</td>\n",
       "    </tr>\n",
       "    <tr>\n",
       "      <th>std</th>\n",
       "      <td>0.483224</td>\n",
       "      <td>1357.807664</td>\n",
       "    </tr>\n",
       "    <tr>\n",
       "      <th>min</th>\n",
       "      <td>0.000000</td>\n",
       "      <td>0.000000</td>\n",
       "    </tr>\n",
       "    <tr>\n",
       "      <th>25%</th>\n",
       "      <td>0.000000</td>\n",
       "      <td>34.000000</td>\n",
       "    </tr>\n",
       "    <tr>\n",
       "      <th>50%</th>\n",
       "      <td>1.000000</td>\n",
       "      <td>57.000000</td>\n",
       "    </tr>\n",
       "    <tr>\n",
       "      <th>75%</th>\n",
       "      <td>1.000000</td>\n",
       "      <td>150.000000</td>\n",
       "    </tr>\n",
       "    <tr>\n",
       "      <th>max</th>\n",
       "      <td>1.000000</td>\n",
       "      <td>7226.000000</td>\n",
       "    </tr>\n",
       "  </tbody>\n",
       "</table>\n",
       "</div>"
      ],
      "text/plain": [
       "               bot  statuses_count\n",
       "count  9029.000000     9029.000000\n",
       "mean      0.628530      582.452099\n",
       "std       0.483224     1357.807664\n",
       "min       0.000000        0.000000\n",
       "25%       0.000000       34.000000\n",
       "50%       1.000000       57.000000\n",
       "75%       1.000000      150.000000\n",
       "max       1.000000     7226.000000"
      ]
     },
     "execution_count": 58,
     "metadata": {},
     "output_type": "execute_result"
    }
   ],
   "source": [
    "statuses_count_valid.describe()"
   ]
  },
  {
   "cell_type": "code",
   "execution_count": 63,
   "id": "62700c29-e850-469b-9084-4b0ca383d10a",
   "metadata": {},
   "outputs": [
    {
     "data": {
      "text/html": [
       "<div>\n",
       "<style scoped>\n",
       "    .dataframe tbody tr th:only-of-type {\n",
       "        vertical-align: middle;\n",
       "    }\n",
       "\n",
       "    .dataframe tbody tr th {\n",
       "        vertical-align: top;\n",
       "    }\n",
       "\n",
       "    .dataframe thead th {\n",
       "        text-align: right;\n",
       "    }\n",
       "</style>\n",
       "<table border=\"1\" class=\"dataframe\">\n",
       "  <thead>\n",
       "    <tr style=\"text-align: right;\">\n",
       "      <th></th>\n",
       "      <th>bot</th>\n",
       "      <th>statuses_count</th>\n",
       "    </tr>\n",
       "  </thead>\n",
       "  <tbody>\n",
       "    <tr>\n",
       "      <th>count</th>\n",
       "      <td>2080.000000</td>\n",
       "      <td>2080.000000</td>\n",
       "    </tr>\n",
       "    <tr>\n",
       "      <th>mean</th>\n",
       "      <td>0.212019</td>\n",
       "      <td>28893.633173</td>\n",
       "    </tr>\n",
       "    <tr>\n",
       "      <th>std</th>\n",
       "      <td>0.408837</td>\n",
       "      <td>35831.394074</td>\n",
       "    </tr>\n",
       "    <tr>\n",
       "      <th>min</th>\n",
       "      <td>0.000000</td>\n",
       "      <td>7236.000000</td>\n",
       "    </tr>\n",
       "    <tr>\n",
       "      <th>25%</th>\n",
       "      <td>0.000000</td>\n",
       "      <td>11302.500000</td>\n",
       "    </tr>\n",
       "    <tr>\n",
       "      <th>50%</th>\n",
       "      <td>0.000000</td>\n",
       "      <td>15987.000000</td>\n",
       "    </tr>\n",
       "    <tr>\n",
       "      <th>75%</th>\n",
       "      <td>0.000000</td>\n",
       "      <td>32103.000000</td>\n",
       "    </tr>\n",
       "    <tr>\n",
       "      <th>max</th>\n",
       "      <td>1.000000</td>\n",
       "      <td>399555.000000</td>\n",
       "    </tr>\n",
       "  </tbody>\n",
       "</table>\n",
       "</div>"
      ],
      "text/plain": [
       "               bot  statuses_count\n",
       "count  2080.000000     2080.000000\n",
       "mean      0.212019    28893.633173\n",
       "std       0.408837    35831.394074\n",
       "min       0.000000     7236.000000\n",
       "25%       0.000000    11302.500000\n",
       "50%       0.000000    15987.000000\n",
       "75%       0.000000    32103.000000\n",
       "max       1.000000   399555.000000"
      ]
     },
     "execution_count": 63,
     "metadata": {},
     "output_type": "execute_result"
    }
   ],
   "source": [
    "statuses_count_outliers.describe()"
   ]
  },
  {
   "cell_type": "code",
   "execution_count": 61,
   "id": "2be84a87-9d66-4ca3-ae36-88767ec6173f",
   "metadata": {},
   "outputs": [
    {
     "data": {
      "text/plain": [
       "<AxesSubplot: >"
      ]
     },
     "execution_count": 61,
     "metadata": {},
     "output_type": "execute_result"
    },
    {
     "data": {
      "image/png": "[encoded data removed]",
      "text/plain": [
       "<Figure size 640x480 with 1 Axes>"
      ]
     },
     "metadata": {},
     "output_type": "display_data"
    }
   ],
   "source": [
    "statuses_count_valid.boxplot(column='statuses_count')"
   ]
  },
  {
   "cell_type": "code",
   "execution_count": 64,
   "id": "48ea39de-a817-4c92-93a6-37c360983223",
   "metadata": {},
   "outputs": [
    {
     "data": {
      "text/plain": [
       "<AxesSubplot: >"
      ]
     },
     "execution_count": 64,
     "metadata": {},
     "output_type": "execute_result"
    },
    {
     "data": {
      "image/png": "[encoded data removed]",
      "text/plain": [
       "<Figure size 640x480 with 1 Axes>"
      ]
     },
     "metadata": {},
     "output_type": "display_data"
    }
   ],
   "source": [
    "statuses_count_outliers."
   ]
  },
  {
   "cell_type": "code",
   "execution_count": null,
   "id": "e2b2e241-a3eb-45ad-b445-0765566fe35a",
   "metadata": {},
   "outputs": [],
   "source": []
  }
 ],
 "metadata": {
  "kernelspec": {
   "display_name": "Python 3 (ipykernel)",
   "language": "python",
   "name": "python3"
  },
  "language_info": {
   "codemirror_mode": {
    "name": "ipython",
    "version": 3
   },
   "file_extension": ".py",
   "mimetype": "text/x-python",
   "name": "python",
   "nbconvert_exporter": "python",
   "pygments_lexer": "ipython3",
   "version": "3.10.6"
  }
 },
 "nbformat": 4,
 "nbformat_minor": 5
}
