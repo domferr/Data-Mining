{
 "cells": [
  {
   "cell_type": "code",
   "execution_count": 1,
   "metadata": {},
   "outputs": [],
   "source": [
    "%matplotlib inline\n",
    "import math\n",
    "import numpy as np\n",
    "import pandas as pd\n",
    "import matplotlib.pyplot as plt\n",
    "\n",
    "resultDatasetPath = \"../dataset/tweets_clean_with_outliers.h5\""
   ]
  },
  {
   "cell_type": "code",
   "execution_count": 2,
   "metadata": {},
   "outputs": [
    {
     "name": "stdout",
     "output_type": "stream",
     "text": [
      "CPU times: user 4.87 s, sys: 4.93 s, total: 9.8 s\n",
      "Wall time: 10.4 s\n"
     ]
    }
   ],
   "source": [
    "%%time\n",
    "datasetTweetsCleanedPath = \"../dataset/tweets_clean_datatype.h5\"\n",
    "df_tweets = pd.read_hdf(datasetTweetsCleanedPath)"
   ]
  },
  {
   "cell_type": "code",
   "execution_count": 3,
   "metadata": {},
   "outputs": [
    {
     "data": {
      "text/html": [
       "<div>\n",
       "<style scoped>\n",
       "    .dataframe tbody tr th:only-of-type {\n",
       "        vertical-align: middle;\n",
       "    }\n",
       "\n",
       "    .dataframe tbody tr th {\n",
       "        vertical-align: top;\n",
       "    }\n",
       "\n",
       "    .dataframe thead th {\n",
       "        text-align: right;\n",
       "    }\n",
       "</style>\n",
       "<table border=\"1\" class=\"dataframe\">\n",
       "  <thead>\n",
       "    <tr style=\"text-align: right;\">\n",
       "      <th></th>\n",
       "      <th>user_id</th>\n",
       "      <th>retweet_count</th>\n",
       "      <th>reply_count</th>\n",
       "      <th>favorite_count</th>\n",
       "      <th>num_hashtags</th>\n",
       "      <th>num_urls</th>\n",
       "      <th>num_mentions</th>\n",
       "      <th>created_at</th>\n",
       "      <th>text</th>\n",
       "    </tr>\n",
       "  </thead>\n",
       "  <tbody>\n",
       "    <tr>\n",
       "      <th>0</th>\n",
       "      <td>False</td>\n",
       "      <td>False</td>\n",
       "      <td>False</td>\n",
       "      <td>False</td>\n",
       "      <td>False</td>\n",
       "      <td>False</td>\n",
       "      <td>False</td>\n",
       "      <td>False</td>\n",
       "      <td>False</td>\n",
       "    </tr>\n",
       "    <tr>\n",
       "      <th>1</th>\n",
       "      <td>False</td>\n",
       "      <td>False</td>\n",
       "      <td>False</td>\n",
       "      <td>False</td>\n",
       "      <td>False</td>\n",
       "      <td>False</td>\n",
       "      <td>False</td>\n",
       "      <td>False</td>\n",
       "      <td>False</td>\n",
       "    </tr>\n",
       "    <tr>\n",
       "      <th>2</th>\n",
       "      <td>False</td>\n",
       "      <td>False</td>\n",
       "      <td>False</td>\n",
       "      <td>False</td>\n",
       "      <td>False</td>\n",
       "      <td>False</td>\n",
       "      <td>False</td>\n",
       "      <td>False</td>\n",
       "      <td>False</td>\n",
       "    </tr>\n",
       "    <tr>\n",
       "      <th>3</th>\n",
       "      <td>False</td>\n",
       "      <td>False</td>\n",
       "      <td>False</td>\n",
       "      <td>False</td>\n",
       "      <td>False</td>\n",
       "      <td>False</td>\n",
       "      <td>False</td>\n",
       "      <td>False</td>\n",
       "      <td>False</td>\n",
       "    </tr>\n",
       "    <tr>\n",
       "      <th>4</th>\n",
       "      <td>False</td>\n",
       "      <td>False</td>\n",
       "      <td>False</td>\n",
       "      <td>False</td>\n",
       "      <td>False</td>\n",
       "      <td>False</td>\n",
       "      <td>False</td>\n",
       "      <td>False</td>\n",
       "      <td>False</td>\n",
       "    </tr>\n",
       "  </tbody>\n",
       "</table>\n",
       "</div>"
      ],
      "text/plain": [
       "   user_id  retweet_count  reply_count  favorite_count  num_hashtags  \\\n",
       "0    False          False        False           False         False   \n",
       "1    False          False        False           False         False   \n",
       "2    False          False        False           False         False   \n",
       "3    False          False        False           False         False   \n",
       "4    False          False        False           False         False   \n",
       "\n",
       "   num_urls  num_mentions  created_at   text  \n",
       "0     False         False       False  False  \n",
       "1     False         False       False  False  \n",
       "2     False         False       False  False  \n",
       "3     False         False       False  False  \n",
       "4     False         False       False  False  "
      ]
     },
     "execution_count": 3,
     "metadata": {},
     "output_type": "execute_result"
    }
   ],
   "source": [
    "tweets_isna = df_tweets.isna()\n",
    "tweets_isna.head()"
   ]
  },
  {
   "cell_type": "code",
   "execution_count": 4,
   "metadata": {},
   "outputs": [],
   "source": [
    "count_of_missing_val = tweets_isna.sum(axis = 1)"
   ]
  },
  {
   "cell_type": "code",
   "execution_count": 5,
   "metadata": {},
   "outputs": [
    {
     "data": {
      "text/plain": [
       "9"
      ]
     },
     "execution_count": 5,
     "metadata": {},
     "output_type": "execute_result"
    }
   ],
   "source": [
    "count_of_missing_val.max()"
   ]
  },
  {
   "cell_type": "code",
   "execution_count": 6,
   "metadata": {},
   "outputs": [
    {
     "data": {
      "text/plain": [
       "433645"
      ]
     },
     "execution_count": 6,
     "metadata": {},
     "output_type": "execute_result"
    }
   ],
   "source": [
    "df_tweets.user_id.isna().sum()"
   ]
  },
  {
   "cell_type": "code",
   "execution_count": 7,
   "metadata": {},
   "outputs": [
    {
     "data": {
      "text/html": [
       "<div>\n",
       "<style scoped>\n",
       "    .dataframe tbody tr th:only-of-type {\n",
       "        vertical-align: middle;\n",
       "    }\n",
       "\n",
       "    .dataframe tbody tr th {\n",
       "        vertical-align: top;\n",
       "    }\n",
       "\n",
       "    .dataframe thead th {\n",
       "        text-align: right;\n",
       "    }\n",
       "</style>\n",
       "<table border=\"1\" class=\"dataframe\">\n",
       "  <thead>\n",
       "    <tr style=\"text-align: right;\">\n",
       "      <th></th>\n",
       "      <th>user_id</th>\n",
       "      <th>retweet_count</th>\n",
       "      <th>reply_count</th>\n",
       "      <th>favorite_count</th>\n",
       "      <th>num_hashtags</th>\n",
       "      <th>num_urls</th>\n",
       "      <th>num_mentions</th>\n",
       "      <th>created_at</th>\n",
       "      <th>text</th>\n",
       "    </tr>\n",
       "  </thead>\n",
       "  <tbody>\n",
       "    <tr>\n",
       "      <th>42</th>\n",
       "      <td>NaN</td>\n",
       "      <td>1.0</td>\n",
       "      <td>NaN</td>\n",
       "      <td>NaN</td>\n",
       "      <td>NaN</td>\n",
       "      <td>0.0</td>\n",
       "      <td>NaN</td>\n",
       "      <td>2019-10-30 06:11:12</td>\n",
       "      <td>NaN</td>\n",
       "    </tr>\n",
       "    <tr>\n",
       "      <th>84</th>\n",
       "      <td>NaN</td>\n",
       "      <td>0.0</td>\n",
       "      <td>0.0</td>\n",
       "      <td>NaN</td>\n",
       "      <td>NaN</td>\n",
       "      <td>NaN</td>\n",
       "      <td>NaN</td>\n",
       "      <td>2018-06-02 03:24:58</td>\n",
       "      <td>@danloving it’a a rarity, for sure. but for cr...</td>\n",
       "    </tr>\n",
       "    <tr>\n",
       "      <th>127</th>\n",
       "      <td>NaN</td>\n",
       "      <td>NaN</td>\n",
       "      <td>NaN</td>\n",
       "      <td>NaN</td>\n",
       "      <td>NaN</td>\n",
       "      <td>0.0</td>\n",
       "      <td>1.0</td>\n",
       "      <td>2019-07-30 18:58:59</td>\n",
       "      <td>@perfectdkids i'm not a bad kid</td>\n",
       "    </tr>\n",
       "    <tr>\n",
       "      <th>129</th>\n",
       "      <td>7.254514e+08</td>\n",
       "      <td>NaN</td>\n",
       "      <td>0.0</td>\n",
       "      <td>NaN</td>\n",
       "      <td>NaN</td>\n",
       "      <td>NaN</td>\n",
       "      <td>NaN</td>\n",
       "      <td>2020-03-01 03:45:28</td>\n",
       "      <td>@todayisaray sorry, i was in the gym.</td>\n",
       "    </tr>\n",
       "    <tr>\n",
       "      <th>161</th>\n",
       "      <td>2.211927e+09</td>\n",
       "      <td>0.0</td>\n",
       "      <td>NaN</td>\n",
       "      <td>NaN</td>\n",
       "      <td>NaN</td>\n",
       "      <td>NaN</td>\n",
       "      <td>NaN</td>\n",
       "      <td>2020-01-29 00:24:20</td>\n",
       "      <td>NaN</td>\n",
       "    </tr>\n",
       "    <tr>\n",
       "      <th>...</th>\n",
       "      <td>...</td>\n",
       "      <td>...</td>\n",
       "      <td>...</td>\n",
       "      <td>...</td>\n",
       "      <td>...</td>\n",
       "      <td>...</td>\n",
       "      <td>...</td>\n",
       "      <td>...</td>\n",
       "      <td>...</td>\n",
       "    </tr>\n",
       "    <tr>\n",
       "      <th>11712036</th>\n",
       "      <td>7.659171e+08</td>\n",
       "      <td>NaN</td>\n",
       "      <td>NaN</td>\n",
       "      <td>0.0</td>\n",
       "      <td>NaN</td>\n",
       "      <td>0.0</td>\n",
       "      <td>NaN</td>\n",
       "      <td>2020-04-04 05:47:00</td>\n",
       "      <td>NaN</td>\n",
       "    </tr>\n",
       "    <tr>\n",
       "      <th>11712043</th>\n",
       "      <td>NaN</td>\n",
       "      <td>NaN</td>\n",
       "      <td>0.0</td>\n",
       "      <td>NaN</td>\n",
       "      <td>NaN</td>\n",
       "      <td>NaN</td>\n",
       "      <td>NaN</td>\n",
       "      <td>2020-03-31 04:36:19</td>\n",
       "      <td>history in the making.</td>\n",
       "    </tr>\n",
       "    <tr>\n",
       "      <th>11712059</th>\n",
       "      <td>9.643556e+07</td>\n",
       "      <td>0.0</td>\n",
       "      <td>NaN</td>\n",
       "      <td>0.0</td>\n",
       "      <td>NaN</td>\n",
       "      <td>NaN</td>\n",
       "      <td>NaN</td>\n",
       "      <td>2019-10-22 12:10:26</td>\n",
       "      <td>NaN</td>\n",
       "    </tr>\n",
       "    <tr>\n",
       "      <th>11712084</th>\n",
       "      <td>2.432829e+08</td>\n",
       "      <td>NaN</td>\n",
       "      <td>NaN</td>\n",
       "      <td>NaN</td>\n",
       "      <td>NaN</td>\n",
       "      <td>0.0</td>\n",
       "      <td>NaN</td>\n",
       "      <td>2019-09-07 02:31:17</td>\n",
       "      <td>nobody remembers the guy who finished second b...</td>\n",
       "    </tr>\n",
       "    <tr>\n",
       "      <th>11712088</th>\n",
       "      <td>9.178130e+07</td>\n",
       "      <td>0.0</td>\n",
       "      <td>NaN</td>\n",
       "      <td>NaN</td>\n",
       "      <td>NaN</td>\n",
       "      <td>0.0</td>\n",
       "      <td>NaN</td>\n",
       "      <td>2016-07-10 22:43:09</td>\n",
       "      <td>NaN</td>\n",
       "    </tr>\n",
       "  </tbody>\n",
       "</table>\n",
       "<p>656680 rows × 9 columns</p>\n",
       "</div>"
      ],
      "text/plain": [
       "               user_id  retweet_count  reply_count  favorite_count  \\\n",
       "42                 NaN            1.0          NaN             NaN   \n",
       "84                 NaN            0.0          0.0             NaN   \n",
       "127                NaN            NaN          NaN             NaN   \n",
       "129       7.254514e+08            NaN          0.0             NaN   \n",
       "161       2.211927e+09            0.0          NaN             NaN   \n",
       "...                ...            ...          ...             ...   \n",
       "11712036  7.659171e+08            NaN          NaN             0.0   \n",
       "11712043           NaN            NaN          0.0             NaN   \n",
       "11712059  9.643556e+07            0.0          NaN             0.0   \n",
       "11712084  2.432829e+08            NaN          NaN             NaN   \n",
       "11712088  9.178130e+07            0.0          NaN             NaN   \n",
       "\n",
       "          num_hashtags  num_urls  num_mentions          created_at  \\\n",
       "42                 NaN       0.0           NaN 2019-10-30 06:11:12   \n",
       "84                 NaN       NaN           NaN 2018-06-02 03:24:58   \n",
       "127                NaN       0.0           1.0 2019-07-30 18:58:59   \n",
       "129                NaN       NaN           NaN 2020-03-01 03:45:28   \n",
       "161                NaN       NaN           NaN 2020-01-29 00:24:20   \n",
       "...                ...       ...           ...                 ...   \n",
       "11712036           NaN       0.0           NaN 2020-04-04 05:47:00   \n",
       "11712043           NaN       NaN           NaN 2020-03-31 04:36:19   \n",
       "11712059           NaN       NaN           NaN 2019-10-22 12:10:26   \n",
       "11712084           NaN       0.0           NaN 2019-09-07 02:31:17   \n",
       "11712088           NaN       0.0           NaN 2016-07-10 22:43:09   \n",
       "\n",
       "                                                       text  \n",
       "42                                                      NaN  \n",
       "84        @danloving it’a a rarity, for sure. but for cr...  \n",
       "127                         @perfectdkids i'm not a bad kid  \n",
       "129                   @todayisaray sorry, i was in the gym.  \n",
       "161                                                     NaN  \n",
       "...                                                     ...  \n",
       "11712036                                                NaN  \n",
       "11712043                             history in the making.  \n",
       "11712059                                                NaN  \n",
       "11712084  nobody remembers the guy who finished second b...  \n",
       "11712088                                                NaN  \n",
       "\n",
       "[656680 rows x 9 columns]"
      ]
     },
     "execution_count": 7,
     "metadata": {},
     "output_type": "execute_result"
    }
   ],
   "source": [
    "df_tweets[count_of_missing_val >= 5]"
   ]
  },
  {
   "cell_type": "code",
   "execution_count": 8,
   "metadata": {},
   "outputs": [
    {
     "name": "stdout",
     "output_type": "stream",
     "text": [
      "Dropping 656680 not good entries\n",
      "CPU times: user 1.26 s, sys: 324 ms, total: 1.59 s\n",
      "Wall time: 1.52 s\n"
     ]
    }
   ],
   "source": [
    "%%time\n",
    "number_of_good_entries = len(df_tweets[count_of_missing_val <= 4])\n",
    "rows, cols = df_tweets.shape\n",
    "print(\"Dropping\", (rows - number_of_good_entries), \"not good entries\")\n",
    "df_tweets = df_tweets[count_of_missing_val <= 4]"
   ]
  },
  {
   "cell_type": "code",
   "execution_count": 9,
   "metadata": {},
   "outputs": [
    {
     "data": {
      "text/html": [
       "<div>\n",
       "<style scoped>\n",
       "    .dataframe tbody tr th:only-of-type {\n",
       "        vertical-align: middle;\n",
       "    }\n",
       "\n",
       "    .dataframe tbody tr th {\n",
       "        vertical-align: top;\n",
       "    }\n",
       "\n",
       "    .dataframe thead th {\n",
       "        text-align: right;\n",
       "    }\n",
       "</style>\n",
       "<table border=\"1\" class=\"dataframe\">\n",
       "  <thead>\n",
       "    <tr style=\"text-align: right;\">\n",
       "      <th></th>\n",
       "      <th>user_id</th>\n",
       "      <th>retweet_count</th>\n",
       "      <th>reply_count</th>\n",
       "      <th>favorite_count</th>\n",
       "      <th>num_hashtags</th>\n",
       "      <th>num_urls</th>\n",
       "      <th>num_mentions</th>\n",
       "      <th>created_at</th>\n",
       "      <th>text</th>\n",
       "    </tr>\n",
       "  </thead>\n",
       "  <tbody>\n",
       "    <tr>\n",
       "      <th>0</th>\n",
       "      <td>3.277463e+08</td>\n",
       "      <td>0.0</td>\n",
       "      <td>0.0</td>\n",
       "      <td>0.0</td>\n",
       "      <td>0.0</td>\n",
       "      <td>0.0</td>\n",
       "      <td>0.0</td>\n",
       "      <td>2019-09-11 14:53:55</td>\n",
       "      <td>if man is a little lower than angels, then ang...</td>\n",
       "    </tr>\n",
       "    <tr>\n",
       "      <th>1</th>\n",
       "      <td>3.337229e+08</td>\n",
       "      <td>1.0</td>\n",
       "      <td>0.0</td>\n",
       "      <td>0.0</td>\n",
       "      <td>0.0</td>\n",
       "      <td>0.0</td>\n",
       "      <td>1.0</td>\n",
       "      <td>2020-04-01 20:27:04</td>\n",
       "      <td>\"@bestwshhvids: how do you say these words wit...</td>\n",
       "    </tr>\n",
       "    <tr>\n",
       "      <th>2</th>\n",
       "      <td>2.379756e+09</td>\n",
       "      <td>0.0</td>\n",
       "      <td>0.0</td>\n",
       "      <td>0.0</td>\n",
       "      <td>0.0</td>\n",
       "      <td>0.0</td>\n",
       "      <td>1.0</td>\n",
       "      <td>2019-05-02 13:34:31</td>\n",
       "      <td>@lolatcomedy awsome</td>\n",
       "    </tr>\n",
       "    <tr>\n",
       "      <th>3</th>\n",
       "      <td>4.662269e+08</td>\n",
       "      <td>0.0</td>\n",
       "      <td>0.0</td>\n",
       "      <td>0.0</td>\n",
       "      <td>0.0</td>\n",
       "      <td>0.0</td>\n",
       "      <td>0.0</td>\n",
       "      <td>2019-11-04 07:17:37</td>\n",
       "      <td>stephen hawkins: i buchi neri non esistono se ...</td>\n",
       "    </tr>\n",
       "    <tr>\n",
       "      <th>4</th>\n",
       "      <td>1.355538e+09</td>\n",
       "      <td>114.0</td>\n",
       "      <td>0.0</td>\n",
       "      <td>0.0</td>\n",
       "      <td>1.0</td>\n",
       "      <td>0.0</td>\n",
       "      <td>1.0</td>\n",
       "      <td>2020-03-11 16:45:31</td>\n",
       "      <td>rt @tibbs_montris: so ready for wednesday!</td>\n",
       "    </tr>\n",
       "    <tr>\n",
       "      <th>...</th>\n",
       "      <td>...</td>\n",
       "      <td>...</td>\n",
       "      <td>...</td>\n",
       "      <td>...</td>\n",
       "      <td>...</td>\n",
       "      <td>...</td>\n",
       "      <td>...</td>\n",
       "      <td>...</td>\n",
       "      <td>...</td>\n",
       "    </tr>\n",
       "    <tr>\n",
       "      <th>11712085</th>\n",
       "      <td>8.657052e+06</td>\n",
       "      <td>0.0</td>\n",
       "      <td>0.0</td>\n",
       "      <td>1.0</td>\n",
       "      <td>0.0</td>\n",
       "      <td>0.0</td>\n",
       "      <td>1.0</td>\n",
       "      <td>2019-04-26 02:53:34</td>\n",
       "      <td>@_victoriamm twoot.</td>\n",
       "    </tr>\n",
       "    <tr>\n",
       "      <th>11712086</th>\n",
       "      <td>2.209330e+08</td>\n",
       "      <td>0.0</td>\n",
       "      <td>0.0</td>\n",
       "      <td>0.0</td>\n",
       "      <td>0.0</td>\n",
       "      <td>0.0</td>\n",
       "      <td>0.0</td>\n",
       "      <td>2018-05-04 05:29:33</td>\n",
       "      <td>esta manana aun esta  muy frio ! miren esto ! ...</td>\n",
       "    </tr>\n",
       "    <tr>\n",
       "      <th>11712087</th>\n",
       "      <td>5.874910e+08</td>\n",
       "      <td>0.0</td>\n",
       "      <td>0.0</td>\n",
       "      <td>0.0</td>\n",
       "      <td>0.0</td>\n",
       "      <td>0.0</td>\n",
       "      <td>1.0</td>\n",
       "      <td>2020-04-17 02:51:53</td>\n",
       "      <td>@warriors congrats, maybe i'll be able to get ...</td>\n",
       "    </tr>\n",
       "    <tr>\n",
       "      <th>11712089</th>\n",
       "      <td>1.278956e+08</td>\n",
       "      <td>0.0</td>\n",
       "      <td>0.0</td>\n",
       "      <td>1.0</td>\n",
       "      <td>1.0</td>\n",
       "      <td>0.0</td>\n",
       "      <td>0.0</td>\n",
       "      <td>2019-03-07 19:56:55</td>\n",
       "      <td>shooting crew of porn movies. #theworstjobtohave</td>\n",
       "    </tr>\n",
       "    <tr>\n",
       "      <th>11712090</th>\n",
       "      <td>4.654210e+08</td>\n",
       "      <td>3.0</td>\n",
       "      <td>0.0</td>\n",
       "      <td>4.0</td>\n",
       "      <td>0.0</td>\n",
       "      <td>0.0</td>\n",
       "      <td>0.0</td>\n",
       "      <td>2019-07-10 12:00:00</td>\n",
       "      <td>qualcuno dovrã  pur dire a quelli che \"twitter...</td>\n",
       "    </tr>\n",
       "  </tbody>\n",
       "</table>\n",
       "<p>11039900 rows × 9 columns</p>\n",
       "</div>"
      ],
      "text/plain": [
       "               user_id  retweet_count  reply_count  favorite_count  \\\n",
       "0         3.277463e+08            0.0          0.0             0.0   \n",
       "1         3.337229e+08            1.0          0.0             0.0   \n",
       "2         2.379756e+09            0.0          0.0             0.0   \n",
       "3         4.662269e+08            0.0          0.0             0.0   \n",
       "4         1.355538e+09          114.0          0.0             0.0   \n",
       "...                ...            ...          ...             ...   \n",
       "11712085  8.657052e+06            0.0          0.0             1.0   \n",
       "11712086  2.209330e+08            0.0          0.0             0.0   \n",
       "11712087  5.874910e+08            0.0          0.0             0.0   \n",
       "11712089  1.278956e+08            0.0          0.0             1.0   \n",
       "11712090  4.654210e+08            3.0          0.0             4.0   \n",
       "\n",
       "          num_hashtags  num_urls  num_mentions          created_at  \\\n",
       "0                  0.0       0.0           0.0 2019-09-11 14:53:55   \n",
       "1                  0.0       0.0           1.0 2020-04-01 20:27:04   \n",
       "2                  0.0       0.0           1.0 2019-05-02 13:34:31   \n",
       "3                  0.0       0.0           0.0 2019-11-04 07:17:37   \n",
       "4                  1.0       0.0           1.0 2020-03-11 16:45:31   \n",
       "...                ...       ...           ...                 ...   \n",
       "11712085           0.0       0.0           1.0 2019-04-26 02:53:34   \n",
       "11712086           0.0       0.0           0.0 2018-05-04 05:29:33   \n",
       "11712087           0.0       0.0           1.0 2020-04-17 02:51:53   \n",
       "11712089           1.0       0.0           0.0 2019-03-07 19:56:55   \n",
       "11712090           0.0       0.0           0.0 2019-07-10 12:00:00   \n",
       "\n",
       "                                                       text  \n",
       "0         if man is a little lower than angels, then ang...  \n",
       "1         \"@bestwshhvids: how do you say these words wit...  \n",
       "2                                       @lolatcomedy awsome  \n",
       "3         stephen hawkins: i buchi neri non esistono se ...  \n",
       "4                rt @tibbs_montris: so ready for wednesday!  \n",
       "...                                                     ...  \n",
       "11712085                                @_victoriamm twoot.  \n",
       "11712086  esta manana aun esta  muy frio ! miren esto ! ...  \n",
       "11712087  @warriors congrats, maybe i'll be able to get ...  \n",
       "11712089   shooting crew of porn movies. #theworstjobtohave  \n",
       "11712090  qualcuno dovrã  pur dire a quelli che \"twitter...  \n",
       "\n",
       "[11039900 rows x 9 columns]"
      ]
     },
     "execution_count": 9,
     "metadata": {},
     "output_type": "execute_result"
    }
   ],
   "source": [
    "df_tweets"
   ]
  },
  {
   "cell_type": "code",
   "execution_count": 10,
   "metadata": {},
   "outputs": [],
   "source": [
    "def hist(df, column):\n",
    "    numberOfBins = int(np.log2(len(df[column][df[column].notna()])) + 1)\n",
    "    print(\"Number of bins:\", numberOfBins)\n",
    "    df[column].plot(kind='hist', title=column, bins=numberOfBins)\n",
    "    plt.ylabel(\"count\")\n",
    "    plt.show()\n",
    "\n",
    "def boxplot(df, column):\n",
    "    df.boxplot(column=column)\n",
    "    plt.show()\n",
    "\n",
    "def log_scale(df, column):\n",
    "    return pd.DataFrame(np.log10(1+df[column][df[column].notna()]))\n",
    "\n",
    "def analyze_column(df, column):\n",
    "    hist(df, column)\n",
    "    \n",
    "    print(\"\\n\\nLog scale\")\n",
    "    column_log_scale = log_scale(df, column)\n",
    "    hist(column_log_scale, column)\n",
    "\n",
    "    median = df[column].median()\n",
    "    print(\"\\n\\nMedian:\", median)\n",
    "\n",
    "    return median\n",
    "\n",
    "def fillna_grouby_userid(df, attr, global_median):\n",
    "    print(\"Missing value before: \", df[attr].isna().sum())\n",
    "    df[attr].fillna(df.groupby([\"user_id\"])[attr].transform(lambda x: np.floor(np.nanmedian(x))), inplace=True)\n",
    "    df[attr].fillna(global_median, inplace=True)\n",
    "    print(\"Missing value after: \", df[attr].isna().sum())"
   ]
  },
  {
   "cell_type": "code",
   "execution_count": 11,
   "metadata": {},
   "outputs": [
    {
     "data": {
      "text/html": [
       "<div>\n",
       "<style scoped>\n",
       "    .dataframe tbody tr th:only-of-type {\n",
       "        vertical-align: middle;\n",
       "    }\n",
       "\n",
       "    .dataframe tbody tr th {\n",
       "        vertical-align: top;\n",
       "    }\n",
       "\n",
       "    .dataframe thead th {\n",
       "        text-align: right;\n",
       "    }\n",
       "</style>\n",
       "<table border=\"1\" class=\"dataframe\">\n",
       "  <thead>\n",
       "    <tr style=\"text-align: right;\">\n",
       "      <th></th>\n",
       "      <th>user_id</th>\n",
       "      <th>retweet_count</th>\n",
       "      <th>reply_count</th>\n",
       "      <th>favorite_count</th>\n",
       "      <th>num_hashtags</th>\n",
       "      <th>num_urls</th>\n",
       "      <th>num_mentions</th>\n",
       "    </tr>\n",
       "  </thead>\n",
       "  <tbody>\n",
       "    <tr>\n",
       "      <th>count</th>\n",
       "      <td>1.082618e+07</td>\n",
       "      <td>1.073683e+07</td>\n",
       "      <td>1.067923e+07</td>\n",
       "      <td>1.064842e+07</td>\n",
       "      <td>1.053345e+07</td>\n",
       "      <td>1.067953e+07</td>\n",
       "      <td>1.062243e+07</td>\n",
       "    </tr>\n",
       "    <tr>\n",
       "      <th>mean</th>\n",
       "      <td>2.771059e+289</td>\n",
       "      <td>5.741883e+02</td>\n",
       "      <td>2.668466e-01</td>\n",
       "      <td>2.429710e+00</td>\n",
       "      <td>1.761211e-01</td>\n",
       "      <td>1.644572e-01</td>\n",
       "      <td>5.257702e-01</td>\n",
       "    </tr>\n",
       "    <tr>\n",
       "      <th>std</th>\n",
       "      <td>inf</td>\n",
       "      <td>1.401326e+04</td>\n",
       "      <td>1.290290e+02</td>\n",
       "      <td>6.160311e+02</td>\n",
       "      <td>6.200865e-01</td>\n",
       "      <td>3.789912e-01</td>\n",
       "      <td>8.145838e-01</td>\n",
       "    </tr>\n",
       "    <tr>\n",
       "      <th>min</th>\n",
       "      <td>0.000000e+00</td>\n",
       "      <td>0.000000e+00</td>\n",
       "      <td>0.000000e+00</td>\n",
       "      <td>0.000000e+00</td>\n",
       "      <td>0.000000e+00</td>\n",
       "      <td>0.000000e+00</td>\n",
       "      <td>0.000000e+00</td>\n",
       "    </tr>\n",
       "    <tr>\n",
       "      <th>25%</th>\n",
       "      <td>2.325471e+08</td>\n",
       "      <td>0.000000e+00</td>\n",
       "      <td>0.000000e+00</td>\n",
       "      <td>0.000000e+00</td>\n",
       "      <td>0.000000e+00</td>\n",
       "      <td>0.000000e+00</td>\n",
       "      <td>0.000000e+00</td>\n",
       "    </tr>\n",
       "    <tr>\n",
       "      <th>50%</th>\n",
       "      <td>4.680803e+08</td>\n",
       "      <td>0.000000e+00</td>\n",
       "      <td>0.000000e+00</td>\n",
       "      <td>0.000000e+00</td>\n",
       "      <td>0.000000e+00</td>\n",
       "      <td>0.000000e+00</td>\n",
       "      <td>0.000000e+00</td>\n",
       "    </tr>\n",
       "    <tr>\n",
       "      <th>75%</th>\n",
       "      <td>1.228015e+09</td>\n",
       "      <td>1.000000e+00</td>\n",
       "      <td>0.000000e+00</td>\n",
       "      <td>0.000000e+00</td>\n",
       "      <td>0.000000e+00</td>\n",
       "      <td>0.000000e+00</td>\n",
       "      <td>1.000000e+00</td>\n",
       "    </tr>\n",
       "    <tr>\n",
       "      <th>max</th>\n",
       "      <td>3.000000e+296</td>\n",
       "      <td>3.350111e+06</td>\n",
       "      <td>2.000000e+05</td>\n",
       "      <td>9.224620e+05</td>\n",
       "      <td>3.800000e+01</td>\n",
       "      <td>4.000000e+01</td>\n",
       "      <td>4.000000e+01</td>\n",
       "    </tr>\n",
       "  </tbody>\n",
       "</table>\n",
       "</div>"
      ],
      "text/plain": [
       "             user_id  retweet_count   reply_count  favorite_count  \\\n",
       "count   1.082618e+07   1.073683e+07  1.067923e+07    1.064842e+07   \n",
       "mean   2.771059e+289   5.741883e+02  2.668466e-01    2.429710e+00   \n",
       "std              inf   1.401326e+04  1.290290e+02    6.160311e+02   \n",
       "min     0.000000e+00   0.000000e+00  0.000000e+00    0.000000e+00   \n",
       "25%     2.325471e+08   0.000000e+00  0.000000e+00    0.000000e+00   \n",
       "50%     4.680803e+08   0.000000e+00  0.000000e+00    0.000000e+00   \n",
       "75%     1.228015e+09   1.000000e+00  0.000000e+00    0.000000e+00   \n",
       "max    3.000000e+296   3.350111e+06  2.000000e+05    9.224620e+05   \n",
       "\n",
       "       num_hashtags      num_urls  num_mentions  \n",
       "count  1.053345e+07  1.067953e+07  1.062243e+07  \n",
       "mean   1.761211e-01  1.644572e-01  5.257702e-01  \n",
       "std    6.200865e-01  3.789912e-01  8.145838e-01  \n",
       "min    0.000000e+00  0.000000e+00  0.000000e+00  \n",
       "25%    0.000000e+00  0.000000e+00  0.000000e+00  \n",
       "50%    0.000000e+00  0.000000e+00  0.000000e+00  \n",
       "75%    0.000000e+00  0.000000e+00  1.000000e+00  \n",
       "max    3.800000e+01  4.000000e+01  4.000000e+01  "
      ]
     },
     "execution_count": 11,
     "metadata": {},
     "output_type": "execute_result"
    }
   ],
   "source": [
    "df_tweets.describe()"
   ]
  },
  {
   "cell_type": "markdown",
   "metadata": {},
   "source": [
    "## User id"
   ]
  },
  {
   "cell_type": "code",
   "execution_count": 12,
   "metadata": {},
   "outputs": [
    {
     "data": {
      "text/plain": [
       "213715"
      ]
     },
     "execution_count": 12,
     "metadata": {},
     "output_type": "execute_result"
    }
   ],
   "source": [
    "df_tweets.user_id.isna().sum()"
   ]
  },
  {
   "cell_type": "code",
   "execution_count": 13,
   "metadata": {},
   "outputs": [
    {
     "data": {
      "text/html": [
       "<div>\n",
       "<style scoped>\n",
       "    .dataframe tbody tr th:only-of-type {\n",
       "        vertical-align: middle;\n",
       "    }\n",
       "\n",
       "    .dataframe tbody tr th {\n",
       "        vertical-align: top;\n",
       "    }\n",
       "\n",
       "    .dataframe thead th {\n",
       "        text-align: right;\n",
       "    }\n",
       "</style>\n",
       "<table border=\"1\" class=\"dataframe\">\n",
       "  <thead>\n",
       "    <tr style=\"text-align: right;\">\n",
       "      <th></th>\n",
       "      <th>user_id</th>\n",
       "      <th>retweet_count</th>\n",
       "      <th>reply_count</th>\n",
       "      <th>favorite_count</th>\n",
       "      <th>num_hashtags</th>\n",
       "      <th>num_urls</th>\n",
       "      <th>num_mentions</th>\n",
       "      <th>created_at</th>\n",
       "      <th>text</th>\n",
       "    </tr>\n",
       "  </thead>\n",
       "  <tbody>\n",
       "  </tbody>\n",
       "</table>\n",
       "</div>"
      ],
      "text/plain": [
       "Empty DataFrame\n",
       "Columns: [user_id, retweet_count, reply_count, favorite_count, num_hashtags, num_urls, num_mentions, created_at, text]\n",
       "Index: []"
      ]
     },
     "execution_count": 13,
     "metadata": {},
     "output_type": "execute_result"
    }
   ],
   "source": [
    "df_tweets[df_tweets.user_id == -1]"
   ]
  },
  {
   "cell_type": "code",
   "execution_count": 14,
   "metadata": {},
   "outputs": [],
   "source": [
    "df_tweets.user_id.fillna(-1, inplace=True)"
   ]
  },
  {
   "cell_type": "code",
   "execution_count": 15,
   "metadata": {},
   "outputs": [
    {
     "data": {
      "text/plain": [
       "0"
      ]
     },
     "execution_count": 15,
     "metadata": {},
     "output_type": "execute_result"
    }
   ],
   "source": [
    "df_tweets.user_id.isna().sum()"
   ]
  },
  {
   "cell_type": "markdown",
   "metadata": {},
   "source": [
    "## Retweet_count"
   ]
  },
  {
   "cell_type": "code",
   "execution_count": 16,
   "metadata": {},
   "outputs": [
    {
     "name": "stdout",
     "output_type": "stream",
     "text": [
      "Number of bins: 24\n"
     ]
    },
    {
     "data": {
      "image/png": "[encoded data removed]",
      "text/plain": [
       "<Figure size 640x480 with 1 Axes>"
      ]
     },
     "metadata": {},
     "output_type": "display_data"
    },
    {
     "name": "stdout",
     "output_type": "stream",
     "text": [
      "\n",
      "\n",
      "Log scale\n",
      "Number of bins: 24\n"
     ]
    },
    {
     "data": {
      "image/png": "[encoded data removed]",
      "text/plain": [
       "<Figure size 640x480 with 1 Axes>"
      ]
     },
     "metadata": {},
     "output_type": "display_data"
    },
    {
     "name": "stdout",
     "output_type": "stream",
     "text": [
      "\n",
      "\n",
      "Median: 0.0\n"
     ]
    }
   ],
   "source": [
    "median = analyze_column(df_tweets, \"retweet_count\")"
   ]
  },
  {
   "cell_type": "code",
   "execution_count": 17,
   "metadata": {},
   "outputs": [
    {
     "name": "stderr",
     "output_type": "stream",
     "text": [
      "/home/dferraro/.local/lib/python3.10/site-packages/numpy/lib/nanfunctions.py:1217: RuntimeWarning: All-NaN slice encountered\n",
      "  r, k = function_base._ureduce(a, func=_nanmedian, axis=axis, out=out,\n"
     ]
    },
    {
     "data": {
      "text/plain": [
       "58211.0"
      ]
     },
     "execution_count": 17,
     "metadata": {},
     "output_type": "execute_result"
    }
   ],
   "source": [
    "median_by_user = df_tweets.groupby([\"user_id\"])[\"retweet_count\"].apply(lambda x: np.floor(np.nanmedian(x))) # Compute the median while ignoring NaNs\n",
    "median_by_user.value_counts()\n",
    "median_by_user.min()\n",
    "median_by_user.max()"
   ]
  },
  {
   "cell_type": "code",
   "execution_count": 18,
   "metadata": {},
   "outputs": [
    {
     "name": "stdout",
     "output_type": "stream",
     "text": [
      "Missing value before:  303066\n"
     ]
    },
    {
     "name": "stderr",
     "output_type": "stream",
     "text": [
      "/home/dferraro/.local/lib/python3.10/site-packages/numpy/lib/nanfunctions.py:1217: RuntimeWarning: All-NaN slice encountered\n",
      "  r, k = function_base._ureduce(a, func=_nanmedian, axis=axis, out=out,\n"
     ]
    },
    {
     "name": "stdout",
     "output_type": "stream",
     "text": [
      "Missing value after:  0\n"
     ]
    }
   ],
   "source": [
    "fillna_grouby_userid(df_tweets, \"retweet_count\", median)"
   ]
  },
  {
   "cell_type": "markdown",
   "metadata": {},
   "source": [
    "## Reply_count"
   ]
  },
  {
   "cell_type": "code",
   "execution_count": 19,
   "metadata": {},
   "outputs": [
    {
     "name": "stdout",
     "output_type": "stream",
     "text": [
      "Number of bins: 24\n"
     ]
    },
    {
     "data": {
      "image/png": "[encoded data removed]",
      "text/plain": [
       "<Figure size 640x480 with 1 Axes>"
      ]
     },
     "metadata": {},
     "output_type": "display_data"
    },
    {
     "name": "stdout",
     "output_type": "stream",
     "text": [
      "\n",
      "\n",
      "Log scale\n",
      "Number of bins: 24\n"
     ]
    },
    {
     "data": {
      "image/png": "[encoded data removed]",
      "text/plain": [
       "<Figure size 640x480 with 1 Axes>"
      ]
     },
     "metadata": {},
     "output_type": "display_data"
    },
    {
     "name": "stdout",
     "output_type": "stream",
     "text": [
      "\n",
      "\n",
      "Median: 0.0\n"
     ]
    }
   ],
   "source": [
    "median = analyze_column(df_tweets, \"reply_count\")"
   ]
  },
  {
   "cell_type": "code",
   "execution_count": 20,
   "metadata": {},
   "outputs": [
    {
     "data": {
      "text/plain": [
       "0.0       10660755\n",
       "1.0          14205\n",
       "2.0           1319\n",
       "3.0            460\n",
       "4.0            233\n",
       "            ...   \n",
       "508.0            1\n",
       "2755.0           1\n",
       "218.0            1\n",
       "758.0            1\n",
       "178.0            1\n",
       "Name: reply_count, Length: 623, dtype: int64"
      ]
     },
     "execution_count": 20,
     "metadata": {},
     "output_type": "execute_result"
    }
   ],
   "source": [
    "df_tweets.reply_count.value_counts()"
   ]
  },
  {
   "cell_type": "code",
   "execution_count": 21,
   "metadata": {},
   "outputs": [
    {
     "name": "stdout",
     "output_type": "stream",
     "text": [
      "Missing value before:  360674\n"
     ]
    },
    {
     "name": "stderr",
     "output_type": "stream",
     "text": [
      "/home/dferraro/.local/lib/python3.10/site-packages/numpy/lib/nanfunctions.py:1217: RuntimeWarning: All-NaN slice encountered\n",
      "  r, k = function_base._ureduce(a, func=_nanmedian, axis=axis, out=out,\n"
     ]
    },
    {
     "name": "stdout",
     "output_type": "stream",
     "text": [
      "Missing value after:  0\n"
     ]
    }
   ],
   "source": [
    "fillna_grouby_userid(df_tweets, \"reply_count\", median)"
   ]
  },
  {
   "cell_type": "markdown",
   "metadata": {},
   "source": [
    "## Favorite_count"
   ]
  },
  {
   "cell_type": "code",
   "execution_count": 22,
   "metadata": {},
   "outputs": [
    {
     "name": "stdout",
     "output_type": "stream",
     "text": [
      "Number of bins: 24\n"
     ]
    },
    {
     "data": {
      "image/png": "[encoded data removed]",
      "text/plain": [
       "<Figure size 640x480 with 1 Axes>"
      ]
     },
     "metadata": {},
     "output_type": "display_data"
    },
    {
     "name": "stdout",
     "output_type": "stream",
     "text": [
      "\n",
      "\n",
      "Log scale\n",
      "Number of bins: 24\n"
     ]
    },
    {
     "data": {
      "image/png": "[encoded data removed]",
      "text/plain": [
       "<Figure size 640x480 with 1 Axes>"
      ]
     },
     "metadata": {},
     "output_type": "display_data"
    },
    {
     "name": "stdout",
     "output_type": "stream",
     "text": [
      "\n",
      "\n",
      "Median: 0.0\n"
     ]
    }
   ],
   "source": [
    "median = analyze_column(df_tweets, \"favorite_count\")"
   ]
  },
  {
   "cell_type": "code",
   "execution_count": 23,
   "metadata": {},
   "outputs": [
    {
     "name": "stdout",
     "output_type": "stream",
     "text": [
      "Missing value before:  391476\n"
     ]
    },
    {
     "name": "stderr",
     "output_type": "stream",
     "text": [
      "/home/dferraro/.local/lib/python3.10/site-packages/numpy/lib/nanfunctions.py:1217: RuntimeWarning: All-NaN slice encountered\n",
      "  r, k = function_base._ureduce(a, func=_nanmedian, axis=axis, out=out,\n"
     ]
    },
    {
     "name": "stdout",
     "output_type": "stream",
     "text": [
      "Missing value after:  0\n"
     ]
    }
   ],
   "source": [
    "fillna_grouby_userid(df_tweets, \"favorite_count\", median)"
   ]
  },
  {
   "cell_type": "markdown",
   "metadata": {},
   "source": [
    "## num_hashtags"
   ]
  },
  {
   "cell_type": "code",
   "execution_count": 24,
   "metadata": {},
   "outputs": [
    {
     "name": "stdout",
     "output_type": "stream",
     "text": [
      "Number of bins: 24\n"
     ]
    },
    {
     "data": {
      "image/png": "[encoded data removed]",
      "text/plain": [
       "<Figure size 640x480 with 1 Axes>"
      ]
     },
     "metadata": {},
     "output_type": "display_data"
    },
    {
     "name": "stdout",
     "output_type": "stream",
     "text": [
      "\n",
      "\n",
      "Log scale\n",
      "Number of bins: 24\n"
     ]
    },
    {
     "data": {
      "image/png": "[encoded data removed]",
      "text/plain": [
       "<Figure size 640x480 with 1 Axes>"
      ]
     },
     "metadata": {},
     "output_type": "display_data"
    },
    {
     "name": "stdout",
     "output_type": "stream",
     "text": [
      "\n",
      "\n",
      "Median: 0.0\n"
     ]
    }
   ],
   "source": [
    "median = analyze_column(df_tweets, \"num_hashtags\")"
   ]
  },
  {
   "cell_type": "code",
   "execution_count": 25,
   "metadata": {},
   "outputs": [
    {
     "name": "stderr",
     "output_type": "stream",
     "text": [
      "/home/dferraro/.local/lib/python3.10/site-packages/numpy/lib/nanfunctions.py:1217: RuntimeWarning: All-NaN slice encountered\n",
      "  r, k = function_base._ureduce(a, func=_nanmedian, axis=axis, out=out,\n"
     ]
    },
    {
     "data": {
      "text/plain": [
       "0.0    11589\n",
       "1.0      229\n",
       "2.0       32\n",
       "3.0        8\n",
       "7.0        1\n",
       "4.0        1\n",
       "6.0        1\n",
       "Name: num_hashtags, dtype: int64"
      ]
     },
     "execution_count": 25,
     "metadata": {},
     "output_type": "execute_result"
    }
   ],
   "source": [
    "median_by_user = df_tweets.groupby([\"user_id\"])[\"num_hashtags\"].apply(lambda x: np.floor(np.nanmedian(x))) # Compute the median while ignoring NaNs\n",
    "median_by_user.value_counts()"
   ]
  },
  {
   "cell_type": "code",
   "execution_count": 26,
   "metadata": {},
   "outputs": [
    {
     "name": "stdout",
     "output_type": "stream",
     "text": [
      "Missing value before:  506451\n"
     ]
    },
    {
     "name": "stderr",
     "output_type": "stream",
     "text": [
      "/home/dferraro/.local/lib/python3.10/site-packages/numpy/lib/nanfunctions.py:1217: RuntimeWarning: All-NaN slice encountered\n",
      "  r, k = function_base._ureduce(a, func=_nanmedian, axis=axis, out=out,\n"
     ]
    },
    {
     "name": "stdout",
     "output_type": "stream",
     "text": [
      "Missing value after:  0\n"
     ]
    }
   ],
   "source": [
    "fillna_grouby_userid(df_tweets, \"num_hashtags\", median)"
   ]
  },
  {
   "cell_type": "markdown",
   "metadata": {},
   "source": [
    "## num_urls"
   ]
  },
  {
   "cell_type": "code",
   "execution_count": 27,
   "metadata": {},
   "outputs": [
    {
     "name": "stdout",
     "output_type": "stream",
     "text": [
      "Number of bins: 24\n"
     ]
    },
    {
     "data": {
      "image/png": "[encoded data removed]",
      "text/plain": [
       "<Figure size 640x480 with 1 Axes>"
      ]
     },
     "metadata": {},
     "output_type": "display_data"
    },
    {
     "name": "stdout",
     "output_type": "stream",
     "text": [
      "\n",
      "\n",
      "Log scale\n",
      "Number of bins: 24\n"
     ]
    },
    {
     "data": {
      "image/png": "[encoded data removed]",
      "text/plain": [
       "<Figure size 640x480 with 1 Axes>"
      ]
     },
     "metadata": {},
     "output_type": "display_data"
    },
    {
     "name": "stdout",
     "output_type": "stream",
     "text": [
      "\n",
      "\n",
      "Median: 0.0\n"
     ]
    }
   ],
   "source": [
    "median = analyze_column(df_tweets, \"num_urls\")"
   ]
  },
  {
   "cell_type": "code",
   "execution_count": 28,
   "metadata": {},
   "outputs": [
    {
     "name": "stdout",
     "output_type": "stream",
     "text": [
      "Missing value before:  360373\n"
     ]
    },
    {
     "name": "stderr",
     "output_type": "stream",
     "text": [
      "/home/dferraro/.local/lib/python3.10/site-packages/numpy/lib/nanfunctions.py:1217: RuntimeWarning: All-NaN slice encountered\n",
      "  r, k = function_base._ureduce(a, func=_nanmedian, axis=axis, out=out,\n"
     ]
    },
    {
     "name": "stdout",
     "output_type": "stream",
     "text": [
      "Missing value after:  0\n"
     ]
    }
   ],
   "source": [
    "fillna_grouby_userid(df_tweets, \"num_urls\", median)"
   ]
  },
  {
   "cell_type": "markdown",
   "metadata": {},
   "source": [
    "## num_mentions"
   ]
  },
  {
   "cell_type": "code",
   "execution_count": 29,
   "metadata": {},
   "outputs": [
    {
     "name": "stdout",
     "output_type": "stream",
     "text": [
      "Number of bins: 24\n"
     ]
    },
    {
     "data": {
      "image/png": "[encoded data removed]",
      "text/plain": [
       "<Figure size 640x480 with 1 Axes>"
      ]
     },
     "metadata": {},
     "output_type": "display_data"
    },
    {
     "name": "stdout",
     "output_type": "stream",
     "text": [
      "\n",
      "\n",
      "Log scale\n",
      "Number of bins: 24\n"
     ]
    },
    {
     "data": {
      "image/png": "[encoded data removed]",
      "text/plain": [
       "<Figure size 640x480 with 1 Axes>"
      ]
     },
     "metadata": {},
     "output_type": "display_data"
    },
    {
     "name": "stdout",
     "output_type": "stream",
     "text": [
      "\n",
      "\n",
      "Median: 0.0\n"
     ]
    }
   ],
   "source": [
    "median = analyze_column(df_tweets, \"num_mentions\")"
   ]
  },
  {
   "cell_type": "code",
   "execution_count": 30,
   "metadata": {},
   "outputs": [
    {
     "name": "stdout",
     "output_type": "stream",
     "text": [
      "Missing value before:  417474\n"
     ]
    },
    {
     "name": "stderr",
     "output_type": "stream",
     "text": [
      "/home/dferraro/.local/lib/python3.10/site-packages/numpy/lib/nanfunctions.py:1217: RuntimeWarning: All-NaN slice encountered\n",
      "  r, k = function_base._ureduce(a, func=_nanmedian, axis=axis, out=out,\n"
     ]
    },
    {
     "name": "stdout",
     "output_type": "stream",
     "text": [
      "Missing value after:  0\n"
     ]
    }
   ],
   "source": [
    "fillna_grouby_userid(df_tweets, \"num_mentions\", median)"
   ]
  },
  {
   "cell_type": "markdown",
   "metadata": {},
   "source": [
    "## text"
   ]
  },
  {
   "cell_type": "code",
   "execution_count": 31,
   "metadata": {},
   "outputs": [],
   "source": [
    "df_tweets.text.fillna(\"\", inplace=True)"
   ]
  },
  {
   "cell_type": "markdown",
   "metadata": {},
   "source": [
    "## created_at"
   ]
  },
  {
   "cell_type": "code",
   "execution_count": 32,
   "metadata": {},
   "outputs": [
    {
     "data": {
      "text/plain": [
       "96700"
      ]
     },
     "execution_count": 32,
     "metadata": {},
     "output_type": "execute_result"
    }
   ],
   "source": [
    "df_tweets.created_at.isna().sum()"
   ]
  },
  {
   "cell_type": "code",
   "execution_count": 44,
   "metadata": {},
   "outputs": [],
   "source": [
    "df_tweets.fillna(\"1900-12-12 12:12:12\", inplace=True)"
   ]
  },
  {
   "cell_type": "code",
   "execution_count": 45,
   "metadata": {},
   "outputs": [
    {
     "data": {
      "text/plain": [
       "Timestamp('1900-12-12 12:12:12')"
      ]
     },
     "execution_count": 45,
     "metadata": {},
     "output_type": "execute_result"
    }
   ],
   "source": [
    "df_tweets.created_at.min()"
   ]
  },
  {
   "cell_type": "code",
   "execution_count": null,
   "metadata": {},
   "outputs": [],
   "source": [
    "# join tweets with users\n",
    "# check how many tweets with missing created_at are created by our users"
   ]
  },
  {
   "cell_type": "markdown",
   "metadata": {},
   "source": [
    "## Change data type"
   ]
  },
  {
   "cell_type": "code",
   "execution_count": 33,
   "metadata": {},
   "outputs": [],
   "source": [
    "df_tweets.text = df_tweets.text.astype(str)"
   ]
  },
  {
   "cell_type": "code",
   "execution_count": 34,
   "metadata": {},
   "outputs": [],
   "source": [
    "def to_int64(df, column):\n",
    "    print(\"Before conversion\")\n",
    "    print(\"Max:\", df[column].max(), \"   Min:\", df[column].min())\n",
    "    df[column] = df[column].astype(np.int64)\n",
    "    print(\"After conversion\")\n",
    "    print(\"Max:\", df[column].max(), \"   Min:\", df[column].min())"
   ]
  },
  {
   "cell_type": "code",
   "execution_count": 35,
   "metadata": {},
   "outputs": [
    {
     "name": "stdout",
     "output_type": "stream",
     "text": [
      "Before conversion\n",
      "Max: 3350111.0    Min: 0.0\n",
      "After conversion\n",
      "Max: 3350111    Min: 0\n"
     ]
    }
   ],
   "source": [
    "to_int64(df_tweets, \"retweet_count\")"
   ]
  },
  {
   "cell_type": "code",
   "execution_count": 36,
   "metadata": {},
   "outputs": [
    {
     "name": "stdout",
     "output_type": "stream",
     "text": [
      "Before conversion\n",
      "Max: 200000.0    Min: 0.0\n",
      "After conversion\n",
      "Max: 200000    Min: 0\n"
     ]
    }
   ],
   "source": [
    "to_int64(df_tweets, \"reply_count\")"
   ]
  },
  {
   "cell_type": "code",
   "execution_count": 37,
   "metadata": {},
   "outputs": [
    {
     "name": "stdout",
     "output_type": "stream",
     "text": [
      "Before conversion\n",
      "Max: 922462.0    Min: 0.0\n",
      "After conversion\n",
      "Max: 922462    Min: 0\n"
     ]
    }
   ],
   "source": [
    "to_int64(df_tweets, \"favorite_count\")"
   ]
  },
  {
   "cell_type": "code",
   "execution_count": 38,
   "metadata": {},
   "outputs": [
    {
     "name": "stdout",
     "output_type": "stream",
     "text": [
      "Before conversion\n",
      "Max: 38.0    Min: 0.0\n",
      "After conversion\n",
      "Max: 38    Min: 0\n"
     ]
    }
   ],
   "source": [
    "to_int64(df_tweets, \"num_hashtags\")"
   ]
  },
  {
   "cell_type": "code",
   "execution_count": 39,
   "metadata": {},
   "outputs": [
    {
     "name": "stdout",
     "output_type": "stream",
     "text": [
      "Before conversion\n",
      "Max: 40.0    Min: 0.0\n",
      "After conversion\n",
      "Max: 40    Min: 0\n"
     ]
    }
   ],
   "source": [
    "to_int64(df_tweets, \"num_urls\")"
   ]
  },
  {
   "cell_type": "code",
   "execution_count": 40,
   "metadata": {},
   "outputs": [
    {
     "name": "stdout",
     "output_type": "stream",
     "text": [
      "Before conversion\n",
      "Max: 40.0    Min: 0.0\n",
      "After conversion\n",
      "Max: 40    Min: 0\n"
     ]
    }
   ],
   "source": [
    "to_int64(df_tweets, \"num_mentions\")"
   ]
  },
  {
   "cell_type": "code",
   "execution_count": 41,
   "metadata": {},
   "outputs": [
    {
     "data": {
      "text/plain": [
       "user_id                  float64\n",
       "retweet_count              int64\n",
       "reply_count                int64\n",
       "favorite_count             int64\n",
       "num_hashtags               int64\n",
       "num_urls                   int64\n",
       "num_mentions               int64\n",
       "created_at        datetime64[ns]\n",
       "text                      object\n",
       "dtype: object"
      ]
     },
     "execution_count": 41,
     "metadata": {},
     "output_type": "execute_result"
    }
   ],
   "source": [
    "df_tweets.dtypes"
   ]
  },
  {
   "cell_type": "code",
   "execution_count": 49,
   "metadata": {},
   "outputs": [
    {
     "data": {
      "text/plain": [
       "user_id           0\n",
       "retweet_count     0\n",
       "reply_count       0\n",
       "favorite_count    0\n",
       "num_hashtags      0\n",
       "num_urls          0\n",
       "num_mentions      0\n",
       "created_at        0\n",
       "text              0\n",
       "dtype: int64"
      ]
     },
     "execution_count": 49,
     "metadata": {},
     "output_type": "execute_result"
    }
   ],
   "source": [
    "df_tweets.isna().sum()"
   ]
  },
  {
   "cell_type": "markdown",
   "metadata": {},
   "source": [
    "# Save to file"
   ]
  },
  {
   "cell_type": "code",
   "execution_count": 46,
   "metadata": {},
   "outputs": [],
   "source": [
    "df_tweets.to_hdf(resultDatasetPath, 'df_tweets', mode='w')"
   ]
  },
  {
   "cell_type": "code",
   "execution_count": null,
   "metadata": {},
   "outputs": [],
   "source": []
  }
 ],
 "metadata": {
  "kernelspec": {
   "display_name": "Python 3.10.6 64-bit",
   "language": "python",
   "name": "python3"
  },
  "language_info": {
   "codemirror_mode": {
    "name": "ipython",
    "version": 3
   },
   "file_extension": ".py",
   "mimetype": "text/x-python",
   "name": "python",
   "nbconvert_exporter": "python",
   "pygments_lexer": "ipython3",
   "version": "3.10.6"
  },
  "orig_nbformat": 4,
  "vscode": {
   "interpreter": {
    "hash": "916dbcbb3f70747c44a77c7bcd40155683ae19c65e1c03b4aa3499c5328201f1"
   }
  }
 },
 "nbformat": 4,
 "nbformat_minor": 2
}
