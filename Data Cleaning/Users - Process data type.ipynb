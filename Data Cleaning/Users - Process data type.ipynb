{
 "cells": [
  {
   "cell_type": "code",
   "execution_count": 1,
   "metadata": {},
   "outputs": [],
   "source": [
    "%matplotlib inline\n",
    "import math\n",
    "import numpy as np\n",
    "import pandas as pd\n",
    "import matplotlib.pyplot as plt"
   ]
  },
  {
   "cell_type": "code",
   "execution_count": 52,
   "metadata": {},
   "outputs": [],
   "source": [
    "datasetUsersCSVPath  = \"../dataset/users.csv\"\n",
    "resultDatasetPath = \"../dataset/users_clean_with_outliers.h5\""
   ]
  },
  {
   "cell_type": "code",
   "execution_count": 3,
   "metadata": {},
   "outputs": [
    {
     "name": "stdout",
     "output_type": "stream",
     "text": [
      "CPU times: user 25.4 ms, sys: 3.39 ms, total: 28.8 ms\n",
      "Wall time: 27.2 ms\n"
     ]
    }
   ],
   "source": [
    "%%time\n",
    "df_users_orig = pd.read_csv(datasetUsersCSVPath, sep=',', index_col=0)\n",
    "df_users = df_users_orig.copy()"
   ]
  },
  {
   "cell_type": "code",
   "execution_count": 4,
   "metadata": {},
   "outputs": [],
   "source": [
    "# Make all the strings lower case and trim leading and trailing spaces\n",
    "df_users = df_users.applymap(lambda x:x.lower().strip() if type(x) == str else x)\n",
    "df_users = df_users.replace(r\"\\s{2,}\", \" \", regex=True)"
   ]
  },
  {
   "cell_type": "markdown",
   "metadata": {},
   "source": [
    "## Name"
   ]
  },
  {
   "cell_type": "code",
   "execution_count": 44,
   "metadata": {},
   "outputs": [
    {
     "data": {
      "text/plain": [
       "0"
      ]
     },
     "execution_count": 44,
     "metadata": {},
     "output_type": "execute_result"
    }
   ],
   "source": [
    "len(df_users[df_users.name == \"unknown\"])"
   ]
  },
  {
   "cell_type": "code",
   "execution_count": 45,
   "metadata": {},
   "outputs": [
    {
     "data": {
      "text/html": [
       "<div>\n",
       "<style scoped>\n",
       "    .dataframe tbody tr th:only-of-type {\n",
       "        vertical-align: middle;\n",
       "    }\n",
       "\n",
       "    .dataframe tbody tr th {\n",
       "        vertical-align: top;\n",
       "    }\n",
       "\n",
       "    .dataframe thead th {\n",
       "        text-align: right;\n",
       "    }\n",
       "</style>\n",
       "<table border=\"1\" class=\"dataframe\">\n",
       "  <thead>\n",
       "    <tr style=\"text-align: right;\">\n",
       "      <th></th>\n",
       "      <th>name</th>\n",
       "      <th>lang</th>\n",
       "      <th>bot</th>\n",
       "      <th>created_at</th>\n",
       "      <th>statuses_count</th>\n",
       "    </tr>\n",
       "    <tr>\n",
       "      <th>id</th>\n",
       "      <th></th>\n",
       "      <th></th>\n",
       "      <th></th>\n",
       "      <th></th>\n",
       "      <th></th>\n",
       "    </tr>\n",
       "  </thead>\n",
       "  <tbody>\n",
       "    <tr>\n",
       "      <th>2166124159</th>\n",
       "      <td>NaN</td>\n",
       "      <td>en</td>\n",
       "      <td>0</td>\n",
       "      <td>2018-11-02 06:39:14</td>\n",
       "      <td>6566.0</td>\n",
       "    </tr>\n",
       "  </tbody>\n",
       "</table>\n",
       "</div>"
      ],
      "text/plain": [
       "           name lang  bot          created_at  statuses_count\n",
       "id                                                           \n",
       "2166124159  NaN   en    0 2018-11-02 06:39:14          6566.0"
      ]
     },
     "execution_count": 45,
     "metadata": {},
     "output_type": "execute_result"
    }
   ],
   "source": [
    "df_users[df_users.name.isna()]"
   ]
  },
  {
   "cell_type": "code",
   "execution_count": 46,
   "metadata": {},
   "outputs": [],
   "source": [
    "df_users.loc[df_users.name.isna(), \"name\"] = \"unknown\""
   ]
  },
  {
   "cell_type": "markdown",
   "metadata": {},
   "source": [
    "## Lang"
   ]
  },
  {
   "cell_type": "code",
   "execution_count": 6,
   "metadata": {},
   "outputs": [
    {
     "name": "stdout",
     "output_type": "stream",
     "text": [
      "Languages: ['en' 'it' 'fr' 'ru' 'es' 'tr' 'en-gb' 'pt' 'nl' 'id' 'zh-tw' 'ja' 'de'\n",
      " 'ko' 'en-au' 'da' 'ar' 'select language...' 'zh-cn' 'pl' 'el' 'fil' 'sv'\n",
      " 'xx-lc']\n",
      "24 unique languages\n",
      "0 missing languages\n"
     ]
    }
   ],
   "source": [
    "uniqueLanguages = df_users.lang.unique()\n",
    "print(\"Languages:\", uniqueLanguages)\n",
    "print(len(uniqueLanguages), \"unique languages\")\n",
    "print(df_users.lang.isna().sum(), \"missing languages\")"
   ]
  },
  {
   "cell_type": "code",
   "execution_count": 7,
   "metadata": {},
   "outputs": [
    {
     "name": "stdout",
     "output_type": "stream",
     "text": [
      "There are 2 invalid languages, 'Select Language...' and 'xx-lc'. There is a total of 3 users with invalid entries\n"
     ]
    }
   ],
   "source": [
    "languages_count = df_users.lang.value_counts()\n",
    "invalidLanguageUsers = languages_count['select language...'] + languages_count['xx-lc']\n",
    "print(\"There are 2 invalid languages, 'Select Language...' and 'xx-lc'. There is a total of\", invalidLanguageUsers, \"users with invalid entries\")"
   ]
  },
  {
   "cell_type": "code",
   "execution_count": 8,
   "metadata": {},
   "outputs": [
    {
     "data": {
      "text/html": [
       "<div>\n",
       "<style scoped>\n",
       "    .dataframe tbody tr th:only-of-type {\n",
       "        vertical-align: middle;\n",
       "    }\n",
       "\n",
       "    .dataframe tbody tr th {\n",
       "        vertical-align: top;\n",
       "    }\n",
       "\n",
       "    .dataframe thead th {\n",
       "        text-align: right;\n",
       "    }\n",
       "</style>\n",
       "<table border=\"1\" class=\"dataframe\">\n",
       "  <thead>\n",
       "    <tr style=\"text-align: right;\">\n",
       "      <th></th>\n",
       "      <th>name</th>\n",
       "      <th>lang</th>\n",
       "      <th>bot</th>\n",
       "      <th>created_at</th>\n",
       "      <th>statuses_count</th>\n",
       "    </tr>\n",
       "    <tr>\n",
       "      <th>id</th>\n",
       "      <th></th>\n",
       "      <th></th>\n",
       "      <th></th>\n",
       "      <th></th>\n",
       "      <th></th>\n",
       "    </tr>\n",
       "  </thead>\n",
       "  <tbody>\n",
       "    <tr>\n",
       "      <th>2956613720</th>\n",
       "      <td>leanne arker</td>\n",
       "      <td>select language...</td>\n",
       "      <td>0</td>\n",
       "      <td>2020-01-05 00:09:59</td>\n",
       "      <td>57.0</td>\n",
       "    </tr>\n",
       "    <tr>\n",
       "      <th>2904858613</th>\n",
       "      <td>brooke</td>\n",
       "      <td>select language...</td>\n",
       "      <td>0</td>\n",
       "      <td>2019-11-22 05:44:46</td>\n",
       "      <td>85.0</td>\n",
       "    </tr>\n",
       "  </tbody>\n",
       "</table>\n",
       "</div>"
      ],
      "text/plain": [
       "                    name                lang  bot           created_at  \\\n",
       "id                                                                       \n",
       "2956613720  leanne arker  select language...    0  2020-01-05 00:09:59   \n",
       "2904858613        brooke  select language...    0  2019-11-22 05:44:46   \n",
       "\n",
       "            statuses_count  \n",
       "id                          \n",
       "2956613720            57.0  \n",
       "2904858613            85.0  "
      ]
     },
     "execution_count": 8,
     "metadata": {},
     "output_type": "execute_result"
    }
   ],
   "source": [
    "df_users[df_users.lang == 'select language...']"
   ]
  },
  {
   "cell_type": "code",
   "execution_count": 9,
   "metadata": {},
   "outputs": [
    {
     "data": {
      "text/html": [
       "<div>\n",
       "<style scoped>\n",
       "    .dataframe tbody tr th:only-of-type {\n",
       "        vertical-align: middle;\n",
       "    }\n",
       "\n",
       "    .dataframe tbody tr th {\n",
       "        vertical-align: top;\n",
       "    }\n",
       "\n",
       "    .dataframe thead th {\n",
       "        text-align: right;\n",
       "    }\n",
       "</style>\n",
       "<table border=\"1\" class=\"dataframe\">\n",
       "  <thead>\n",
       "    <tr style=\"text-align: right;\">\n",
       "      <th></th>\n",
       "      <th>name</th>\n",
       "      <th>lang</th>\n",
       "      <th>bot</th>\n",
       "      <th>created_at</th>\n",
       "      <th>statuses_count</th>\n",
       "    </tr>\n",
       "    <tr>\n",
       "      <th>id</th>\n",
       "      <th></th>\n",
       "      <th></th>\n",
       "      <th></th>\n",
       "      <th></th>\n",
       "      <th></th>\n",
       "    </tr>\n",
       "  </thead>\n",
       "  <tbody>\n",
       "    <tr>\n",
       "      <th>29552151</th>\n",
       "      <td>chloe</td>\n",
       "      <td>xx-lc</td>\n",
       "      <td>0</td>\n",
       "      <td>2014-04-09 21:36:02</td>\n",
       "      <td>15398.0</td>\n",
       "    </tr>\n",
       "  </tbody>\n",
       "</table>\n",
       "</div>"
      ],
      "text/plain": [
       "           name   lang  bot           created_at  statuses_count\n",
       "id                                                              \n",
       "29552151  chloe  xx-lc    0  2014-04-09 21:36:02         15398.0"
      ]
     },
     "execution_count": 9,
     "metadata": {},
     "output_type": "execute_result"
    }
   ],
   "source": [
    "df_users[df_users.lang == 'xx-lc']"
   ]
  },
  {
   "cell_type": "code",
   "execution_count": 11,
   "metadata": {},
   "outputs": [],
   "source": [
    "# the tweets of these users are in english\n",
    "df_users.loc[df_users.lang == 'select language...', \"lang\"] = \"en\"\n",
    "df_users.loc[df_users.lang == 'xx-lc', \"lang\"] = \"en\""
   ]
  },
  {
   "cell_type": "code",
   "execution_count": 15,
   "metadata": {},
   "outputs": [],
   "source": [
    "df_users.loc[df_users.lang == 'en-gb', \"lang\"] = \"en\"\n",
    "df_users.loc[df_users.lang == 'en-au', \"lang\"] = \"en\"\n",
    "df_users.loc[df_users.lang == 'zh-cn', \"lang\"] = \"zh\"\n",
    "df_users.loc[df_users.lang == 'zh-tw', \"lang\"] = \"zh\""
   ]
  },
  {
   "cell_type": "markdown",
   "metadata": {},
   "source": [
    "## Created_at"
   ]
  },
  {
   "cell_type": "code",
   "execution_count": 16,
   "metadata": {},
   "outputs": [
    {
     "data": {
      "text/plain": [
       "name                      object\n",
       "lang                      object\n",
       "bot                        int64\n",
       "created_at        datetime64[ns]\n",
       "statuses_count           float64\n",
       "dtype: object"
      ]
     },
     "execution_count": 16,
     "metadata": {},
     "output_type": "execute_result"
    }
   ],
   "source": [
    "df_users.created_at = pd.to_datetime(df_users.created_at, format='%Y-%m-%d %H:%M:%S')\n",
    "df_users.dtypes"
   ]
  },
  {
   "cell_type": "markdown",
   "metadata": {},
   "source": [
    "## Statuses_count"
   ]
  },
  {
   "cell_type": "code",
   "execution_count": 17,
   "metadata": {},
   "outputs": [
    {
     "name": "stdout",
     "output_type": "stream",
     "text": [
      "399 missing statuses_count values\n"
     ]
    }
   ],
   "source": [
    "print(df_users.statuses_count.isna().sum(), \"missing statuses_count values\")"
   ]
  },
  {
   "cell_type": "code",
   "execution_count": 19,
   "metadata": {},
   "outputs": [
    {
     "data": {
      "text/html": [
       "<div>\n",
       "<style scoped>\n",
       "    .dataframe tbody tr th:only-of-type {\n",
       "        vertical-align: middle;\n",
       "    }\n",
       "\n",
       "    .dataframe tbody tr th {\n",
       "        vertical-align: top;\n",
       "    }\n",
       "\n",
       "    .dataframe thead th {\n",
       "        text-align: right;\n",
       "    }\n",
       "</style>\n",
       "<table border=\"1\" class=\"dataframe\">\n",
       "  <thead>\n",
       "    <tr style=\"text-align: right;\">\n",
       "      <th></th>\n",
       "      <th>name</th>\n",
       "      <th>lang</th>\n",
       "      <th>bot</th>\n",
       "      <th>created_at</th>\n",
       "      <th>statuses_count</th>\n",
       "    </tr>\n",
       "    <tr>\n",
       "      <th>id</th>\n",
       "      <th></th>\n",
       "      <th></th>\n",
       "      <th></th>\n",
       "      <th></th>\n",
       "      <th></th>\n",
       "    </tr>\n",
       "  </thead>\n",
       "  <tbody>\n",
       "    <tr>\n",
       "      <th>616225564</th>\n",
       "      <td>anisha williams</td>\n",
       "      <td>en</td>\n",
       "      <td>0</td>\n",
       "      <td>2017-06-25 15:49:36</td>\n",
       "      <td>NaN</td>\n",
       "    </tr>\n",
       "    <tr>\n",
       "      <th>1370348599</th>\n",
       "      <td>robert brown</td>\n",
       "      <td>en</td>\n",
       "      <td>0</td>\n",
       "      <td>2018-04-23 19:05:48</td>\n",
       "      <td>NaN</td>\n",
       "    </tr>\n",
       "    <tr>\n",
       "      <th>617369459</th>\n",
       "      <td>sage pennington</td>\n",
       "      <td>en</td>\n",
       "      <td>0</td>\n",
       "      <td>2017-06-26 18:50:48</td>\n",
       "      <td>NaN</td>\n",
       "    </tr>\n",
       "    <tr>\n",
       "      <th>2362195375</th>\n",
       "      <td>delaine nock</td>\n",
       "      <td>en</td>\n",
       "      <td>0</td>\n",
       "      <td>2019-02-28 05:35:38</td>\n",
       "      <td>NaN</td>\n",
       "    </tr>\n",
       "    <tr>\n",
       "      <th>2351047069</th>\n",
       "      <td>tosha pacitti</td>\n",
       "      <td>en</td>\n",
       "      <td>0</td>\n",
       "      <td>2019-02-21 03:14:40</td>\n",
       "      <td>NaN</td>\n",
       "    </tr>\n",
       "    <tr>\n",
       "      <th>...</th>\n",
       "      <td>...</td>\n",
       "      <td>...</td>\n",
       "      <td>...</td>\n",
       "      <td>...</td>\n",
       "      <td>...</td>\n",
       "    </tr>\n",
       "    <tr>\n",
       "      <th>2352903248</th>\n",
       "      <td>margherita dass</td>\n",
       "      <td>en</td>\n",
       "      <td>0</td>\n",
       "      <td>2019-02-22 07:59:20</td>\n",
       "      <td>NaN</td>\n",
       "    </tr>\n",
       "    <tr>\n",
       "      <th>2366095543</th>\n",
       "      <td>annmarie willoby</td>\n",
       "      <td>en</td>\n",
       "      <td>0</td>\n",
       "      <td>2019-03-02 20:53:35</td>\n",
       "      <td>NaN</td>\n",
       "    </tr>\n",
       "    <tr>\n",
       "      <th>1176282888</th>\n",
       "      <td>blanch mobley</td>\n",
       "      <td>en</td>\n",
       "      <td>0</td>\n",
       "      <td>2018-02-15 17:38:55</td>\n",
       "      <td>NaN</td>\n",
       "    </tr>\n",
       "    <tr>\n",
       "      <th>1175005345</th>\n",
       "      <td>marna lemley</td>\n",
       "      <td>en</td>\n",
       "      <td>0</td>\n",
       "      <td>2018-02-15 11:27:01</td>\n",
       "      <td>NaN</td>\n",
       "    </tr>\n",
       "    <tr>\n",
       "      <th>2352911527</th>\n",
       "      <td>alysia khang</td>\n",
       "      <td>en</td>\n",
       "      <td>0</td>\n",
       "      <td>2019-02-22 08:01:21</td>\n",
       "      <td>NaN</td>\n",
       "    </tr>\n",
       "  </tbody>\n",
       "</table>\n",
       "<p>399 rows × 5 columns</p>\n",
       "</div>"
      ],
      "text/plain": [
       "                        name lang  bot          created_at  statuses_count\n",
       "id                                                                        \n",
       "616225564    anisha williams   en    0 2017-06-25 15:49:36             NaN\n",
       "1370348599      robert brown   en    0 2018-04-23 19:05:48             NaN\n",
       "617369459    sage pennington   en    0 2017-06-26 18:50:48             NaN\n",
       "2362195375      delaine nock   en    0 2019-02-28 05:35:38             NaN\n",
       "2351047069     tosha pacitti   en    0 2019-02-21 03:14:40             NaN\n",
       "...                      ...  ...  ...                 ...             ...\n",
       "2352903248   margherita dass   en    0 2019-02-22 07:59:20             NaN\n",
       "2366095543  annmarie willoby   en    0 2019-03-02 20:53:35             NaN\n",
       "1176282888     blanch mobley   en    0 2018-02-15 17:38:55             NaN\n",
       "1175005345      marna lemley   en    0 2018-02-15 11:27:01             NaN\n",
       "2352911527      alysia khang   en    0 2019-02-22 08:01:21             NaN\n",
       "\n",
       "[399 rows x 5 columns]"
      ]
     },
     "execution_count": 19,
     "metadata": {},
     "output_type": "execute_result"
    }
   ],
   "source": [
    "df_users[df_users.statuses_count.isna()]"
   ]
  },
  {
   "cell_type": "code",
   "execution_count": 36,
   "metadata": {},
   "outputs": [],
   "source": [
    "def hist(df, column):\n",
    "    numberOfBins = int(np.log2(len(df[column][df[column].notna()])) + 1)\n",
    "    print(\"Number of bins:\", numberOfBins)\n",
    "    df[column].plot(kind='hist', title=column, bins=numberOfBins)\n",
    "    plt.ylabel(\"count\")\n",
    "    plt.show()\n",
    "\n",
    "def boxplot(df, column):\n",
    "    df.boxplot(column=column)\n",
    "    plt.show()\n",
    "\n",
    "def log_scale(df, column):\n",
    "    return pd.DataFrame(np.log10(1+df[column][df[column].notna()]))\n",
    "\n",
    "def analyze_column(df, column):\n",
    "    hist(df, column)\n",
    "    \n",
    "    print(\"\\n\\nLog scale\")\n",
    "    column_log_scale = log_scale(df, column)\n",
    "    hist(column_log_scale, column)\n",
    "\n",
    "    median = df[column].median()\n",
    "    print(\"\\n\\nMedian:\", median)\n",
    "\n",
    "    return median\n",
    "\n",
    "def fillna_grouby_botcolumn(df, attr, global_median):\n",
    "    print(\"Missing value before: \", df[attr].isna().sum())\n",
    "    df[attr].fillna(df.groupby([\"bot\"])[attr].transform(lambda x: np.floor(np.nanmedian(x))), inplace=True)\n",
    "    df[attr].fillna(global_median, inplace=True)\n",
    "    print(\"Missing value after: \", df[attr].isna().sum())"
   ]
  },
  {
   "cell_type": "code",
   "execution_count": 39,
   "metadata": {},
   "outputs": [
    {
     "name": "stdout",
     "output_type": "stream",
     "text": [
      "Number of bins: 14\n"
     ]
    },
    {
     "data": {
      "image/png": "[encoded data removed]",
      "text/plain": [
       "<Figure size 640x480 with 1 Axes>"
      ]
     },
     "metadata": {},
     "output_type": "display_data"
    },
    {
     "name": "stdout",
     "output_type": "stream",
     "text": [
      "\n",
      "\n",
      "Log scale\n",
      "Number of bins: 14\n"
     ]
    },
    {
     "data": {
      "image/png": "[encoded data removed]",
      "text/plain": [
       "<Figure size 640x480 with 1 Axes>"
      ]
     },
     "metadata": {},
     "output_type": "display_data"
    },
    {
     "name": "stdout",
     "output_type": "stream",
     "text": [
      "\n",
      "\n",
      "Median: 71.0\n"
     ]
    }
   ],
   "source": [
    "global_median = analyze_column(df_users, \"statuses_count\")"
   ]
  },
  {
   "cell_type": "code",
   "execution_count": 23,
   "metadata": {},
   "outputs": [],
   "source": [
    "# split into bots and real users\n",
    "real_users = df_users[df_users.bot == 0]\n",
    "bots       = df_users[df_users.bot == 1]"
   ]
  },
  {
   "cell_type": "code",
   "execution_count": 26,
   "metadata": {},
   "outputs": [
    {
     "name": "stdout",
     "output_type": "stream",
     "text": [
      "Number of bins: 13\n"
     ]
    },
    {
     "data": {
      "image/png": "[encoded data removed]",
      "text/plain": [
       "<Figure size 640x480 with 1 Axes>"
      ]
     },
     "metadata": {},
     "output_type": "display_data"
    },
    {
     "name": "stdout",
     "output_type": "stream",
     "text": [
      "\n",
      "\n",
      "Log scale\n",
      "Number of bins: 13\n"
     ]
    },
    {
     "data": {
      "image/png": "[encoded data removed]",
      "text/plain": [
       "<Figure size 640x480 with 1 Axes>"
      ]
     },
     "metadata": {},
     "output_type": "display_data"
    },
    {
     "name": "stdout",
     "output_type": "stream",
     "text": [
      "\n",
      "\n",
      "Median: 2041.0\n"
     ]
    }
   ],
   "source": [
    "median = analyze_column(real_users, \"statuses_count\")"
   ]
  },
  {
   "cell_type": "markdown",
   "metadata": {},
   "source": [
    "### Bots"
   ]
  },
  {
   "cell_type": "code",
   "execution_count": 25,
   "metadata": {},
   "outputs": [
    {
     "name": "stdout",
     "output_type": "stream",
     "text": [
      "Number of bins: 13\n"
     ]
    },
    {
     "data": {
      "image/png": "[encoded data removed]",
      "text/plain": [
       "<Figure size 640x480 with 1 Axes>"
      ]
     },
     "metadata": {},
     "output_type": "display_data"
    },
    {
     "name": "stdout",
     "output_type": "stream",
     "text": [
      "\n",
      "\n",
      "Log scale\n",
      "Number of bins: 13\n"
     ]
    },
    {
     "data": {
      "image/png": "[encoded data removed]",
      "text/plain": [
       "<Figure size 640x480 with 1 Axes>"
      ]
     },
     "metadata": {},
     "output_type": "display_data"
    },
    {
     "name": "stdout",
     "output_type": "stream",
     "text": [
      "\n",
      "\n",
      "Median: 53.0\n"
     ]
    },
    {
     "data": {
      "text/plain": [
       "53.0"
      ]
     },
     "execution_count": 25,
     "metadata": {},
     "output_type": "execute_result"
    }
   ],
   "source": [
    "median = analyze_column(bots, \"statuses_count\")"
   ]
  },
  {
   "cell_type": "code",
   "execution_count": null,
   "metadata": {},
   "outputs": [
    {
     "name": "stdout",
     "output_type": "stream",
     "text": [
      "Missing value before:  399\n",
      "Missing value after:  0\n"
     ]
    }
   ],
   "source": [
    "fillna_grouby_botcolumn(df_users, \"statuses_count\", global_median)"
   ]
  },
  {
   "cell_type": "code",
   "execution_count": 40,
   "metadata": {},
   "outputs": [
    {
     "data": {
      "text/html": [
       "<div>\n",
       "<style scoped>\n",
       "    .dataframe tbody tr th:only-of-type {\n",
       "        vertical-align: middle;\n",
       "    }\n",
       "\n",
       "    .dataframe tbody tr th {\n",
       "        vertical-align: top;\n",
       "    }\n",
       "\n",
       "    .dataframe thead th {\n",
       "        text-align: right;\n",
       "    }\n",
       "</style>\n",
       "<table border=\"1\" class=\"dataframe\">\n",
       "  <thead>\n",
       "    <tr style=\"text-align: right;\">\n",
       "      <th></th>\n",
       "      <th>name</th>\n",
       "      <th>lang</th>\n",
       "      <th>bot</th>\n",
       "      <th>created_at</th>\n",
       "      <th>statuses_count</th>\n",
       "    </tr>\n",
       "    <tr>\n",
       "      <th>id</th>\n",
       "      <th></th>\n",
       "      <th></th>\n",
       "      <th></th>\n",
       "      <th></th>\n",
       "      <th></th>\n",
       "    </tr>\n",
       "  </thead>\n",
       "  <tbody>\n",
       "    <tr>\n",
       "      <th>2353593986</th>\n",
       "      <td>lamonica raborn</td>\n",
       "      <td>en</td>\n",
       "      <td>1</td>\n",
       "      <td>2019-02-22 18:00:42</td>\n",
       "      <td>76.0</td>\n",
       "    </tr>\n",
       "    <tr>\n",
       "      <th>2358850842</th>\n",
       "      <td>lourie botton</td>\n",
       "      <td>en</td>\n",
       "      <td>0</td>\n",
       "      <td>2019-02-26 03:02:32</td>\n",
       "      <td>54.0</td>\n",
       "    </tr>\n",
       "    <tr>\n",
       "      <th>137959629</th>\n",
       "      <td>dadan syarifudin</td>\n",
       "      <td>en</td>\n",
       "      <td>1</td>\n",
       "      <td>2015-04-30 07:09:56</td>\n",
       "      <td>3.0</td>\n",
       "    </tr>\n",
       "    <tr>\n",
       "      <th>466124818</th>\n",
       "      <td>carletto focia</td>\n",
       "      <td>it</td>\n",
       "      <td>1</td>\n",
       "      <td>2017-01-18 02:49:18</td>\n",
       "      <td>50.0</td>\n",
       "    </tr>\n",
       "    <tr>\n",
       "      <th>2571493866</th>\n",
       "      <td>mbk ebook</td>\n",
       "      <td>en</td>\n",
       "      <td>0</td>\n",
       "      <td>2019-06-18 19:30:21</td>\n",
       "      <td>7085.0</td>\n",
       "    </tr>\n",
       "    <tr>\n",
       "      <th>...</th>\n",
       "      <td>...</td>\n",
       "      <td>...</td>\n",
       "      <td>...</td>\n",
       "      <td>...</td>\n",
       "      <td>...</td>\n",
       "    </tr>\n",
       "    <tr>\n",
       "      <th>2911861962</th>\n",
       "      <td>madrid lae maika .</td>\n",
       "      <td>en</td>\n",
       "      <td>0</td>\n",
       "      <td>2019-11-29 13:16:02</td>\n",
       "      <td>1126.0</td>\n",
       "    </tr>\n",
       "    <tr>\n",
       "      <th>1378532629</th>\n",
       "      <td>clau sato</td>\n",
       "      <td>en</td>\n",
       "      <td>0</td>\n",
       "      <td>2018-04-27 03:01:58</td>\n",
       "      <td>3024.0</td>\n",
       "    </tr>\n",
       "    <tr>\n",
       "      <th>126984069</th>\n",
       "      <td>alma leticia nuño</td>\n",
       "      <td>es</td>\n",
       "      <td>0</td>\n",
       "      <td>2015-03-29 17:01:24</td>\n",
       "      <td>6.0</td>\n",
       "    </tr>\n",
       "    <tr>\n",
       "      <th>2383025796</th>\n",
       "      <td>minnie guadagno</td>\n",
       "      <td>en</td>\n",
       "      <td>1</td>\n",
       "      <td>2019-03-13 02:44:13</td>\n",
       "      <td>42.0</td>\n",
       "    </tr>\n",
       "    <tr>\n",
       "      <th>933183398</th>\n",
       "      <td>corvanna</td>\n",
       "      <td>en</td>\n",
       "      <td>0</td>\n",
       "      <td>2017-11-09 23:24:16</td>\n",
       "      <td>5279.0</td>\n",
       "    </tr>\n",
       "  </tbody>\n",
       "</table>\n",
       "<p>11508 rows × 5 columns</p>\n",
       "</div>"
      ],
      "text/plain": [
       "                          name lang  bot          created_at  statuses_count\n",
       "id                                                                          \n",
       "2353593986     lamonica raborn   en    1 2019-02-22 18:00:42            76.0\n",
       "2358850842       lourie botton   en    0 2019-02-26 03:02:32            54.0\n",
       "137959629     dadan syarifudin   en    1 2015-04-30 07:09:56             3.0\n",
       "466124818       carletto focia   it    1 2017-01-18 02:49:18            50.0\n",
       "2571493866           mbk ebook   en    0 2019-06-18 19:30:21          7085.0\n",
       "...                        ...  ...  ...                 ...             ...\n",
       "2911861962  madrid lae maika .   en    0 2019-11-29 13:16:02          1126.0\n",
       "1378532629           clau sato   en    0 2018-04-27 03:01:58          3024.0\n",
       "126984069    alma leticia nuño   es    0 2015-03-29 17:01:24             6.0\n",
       "2383025796     minnie guadagno   en    1 2019-03-13 02:44:13            42.0\n",
       "933183398             corvanna   en    0 2017-11-09 23:24:16          5279.0\n",
       "\n",
       "[11508 rows x 5 columns]"
      ]
     },
     "execution_count": 40,
     "metadata": {},
     "output_type": "execute_result"
    }
   ],
   "source": [
    "df_users"
   ]
  },
  {
   "cell_type": "code",
   "execution_count": 43,
   "metadata": {},
   "outputs": [
    {
     "data": {
      "text/plain": [
       "name                      object\n",
       "lang                      object\n",
       "bot                        int64\n",
       "created_at        datetime64[ns]\n",
       "statuses_count           float64\n",
       "dtype: object"
      ]
     },
     "execution_count": 43,
     "metadata": {},
     "output_type": "execute_result"
    }
   ],
   "source": [
    "df_users.dtypes"
   ]
  },
  {
   "cell_type": "code",
   "execution_count": 51,
   "metadata": {},
   "outputs": [
    {
     "name": "stdout",
     "output_type": "stream",
     "text": [
      "<class 'pandas.core.frame.DataFrame'>\n",
      "Int64Index: 11508 entries, 2353593986 to 933183398\n",
      "Data columns (total 5 columns):\n",
      " #   Column          Non-Null Count  Dtype         \n",
      "---  ------          --------------  -----         \n",
      " 0   name            11508 non-null  object        \n",
      " 1   lang            11508 non-null  object        \n",
      " 2   bot             11508 non-null  int64         \n",
      " 3   created_at      11508 non-null  datetime64[ns]\n",
      " 4   statuses_count  11508 non-null  float64       \n",
      "dtypes: datetime64[ns](1), float64(1), int64(1), object(2)\n",
      "memory usage: 797.5+ KB\n"
     ]
    }
   ],
   "source": [
    "df_users.info()"
   ]
  },
  {
   "cell_type": "markdown",
   "metadata": {},
   "source": [
    "# Save to file"
   ]
  },
  {
   "cell_type": "code",
   "execution_count": 53,
   "metadata": {},
   "outputs": [],
   "source": [
    "df_users.to_hdf(resultDatasetPath, 'df_users', mode='w')"
   ]
  }
 ],
 "metadata": {
  "kernelspec": {
   "display_name": "Python 3.10.6 64-bit",
   "language": "python",
   "name": "python3"
  },
  "language_info": {
   "codemirror_mode": {
    "name": "ipython",
    "version": 3
   },
   "file_extension": ".py",
   "mimetype": "text/x-python",
   "name": "python",
   "nbconvert_exporter": "python",
   "pygments_lexer": "ipython3",
   "version": "3.10.6"
  },
  "orig_nbformat": 4,
  "vscode": {
   "interpreter": {
    "hash": "916dbcbb3f70747c44a77c7bcd40155683ae19c65e1c03b4aa3499c5328201f1"
   }
  }
 },
 "nbformat": 4,
 "nbformat_minor": 2
}
