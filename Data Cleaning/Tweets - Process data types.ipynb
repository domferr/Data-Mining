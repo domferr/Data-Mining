{
 "cells": [
  {
   "cell_type": "code",
   "execution_count": 5,
   "id": "b6da6390-ffa7-42ed-8998-9037ffa97d36",
   "metadata": {},
   "outputs": [],
   "source": [
    "%matplotlib inline\n",
    "import math\n",
    "import numpy as np\n",
    "import pandas as pd\n",
    "import matplotlib.pyplot as plt\n",
    "import plotly.express as plt_ex\n",
    "\n",
    "def countMissingValues(df, attr):\n",
    "    count = df[attr].isna().sum()\n",
    "    print(count, \"missing\", attr, \"values\")\n",
    "    return count"
   ]
  },
  {
   "cell_type": "code",
   "execution_count": 6,
   "id": "be544daa-fbc7-4ee9-a2e1-248d700f8ab4",
   "metadata": {},
   "outputs": [],
   "source": [
    "datasetTweetsCSVPath = \"../dataset/tweets.csv\""
   ]
  },
  {
   "cell_type": "code",
   "execution_count": 7,
   "id": "0de67fe9-13fc-4140-91ed-d4d99fb0002e",
   "metadata": {},
   "outputs": [],
   "source": [
    "destCleanedDatasetPath = \"../dataset/clean_datatype_tweets.h5\""
   ]
  },
  {
   "cell_type": "code",
   "execution_count": 8,
   "id": "4f9420fe-3c8e-4d40-a71a-a0084a91a45e",
   "metadata": {},
   "outputs": [],
   "source": [
    "df_tweets = pd.read_csv(datasetTweetsCSVPath, sep=',', index_col=0)"
   ]
  },
  {
   "cell_type": "code",
   "execution_count": 9,
   "id": "b9ba40ec-d010-442b-8664-9b7d0c35abfb",
   "metadata": {},
   "outputs": [
    {
     "data": {
      "text/plain": [
       "(13664696, 9)"
      ]
     },
     "execution_count": 9,
     "metadata": {},
     "output_type": "execute_result"
    }
   ],
   "source": [
    "df_tweets.shape"
   ]
  },
  {
   "cell_type": "code",
   "execution_count": 10,
   "id": "dcae879c-337c-4889-8be0-f1297f7f7d07",
   "metadata": {},
   "outputs": [],
   "source": [
    "df_tweets.text = df_tweets.text.apply(lambda x:x.lower().strip() if type(x) == str else x)"
   ]
  },
  {
   "cell_type": "code",
   "execution_count": 11,
   "id": "c1610eb6-a928-432d-b6eb-2029ab8a15d7",
   "metadata": {},
   "outputs": [],
   "source": [
    "df_tweets = df_tweets.drop_duplicates(keep='first')"
   ]
  },
  {
   "cell_type": "code",
   "execution_count": 12,
   "id": "cd816e05-af84-4b2d-93c6-cfdc2646d016",
   "metadata": {},
   "outputs": [
    {
     "data": {
      "text/plain": [
       "(11712091, 9)"
      ]
     },
     "execution_count": 12,
     "metadata": {},
     "output_type": "execute_result"
    }
   ],
   "source": [
    "df_tweets.shape"
   ]
  },
  {
   "cell_type": "code",
   "execution_count": 13,
   "id": "1ad606a0-3eb9-431c-a3ed-e0b45c9876e2",
   "metadata": {},
   "outputs": [
    {
     "data": {
      "text/html": [
       "<div>\n",
       "<style scoped>\n",
       "    .dataframe tbody tr th:only-of-type {\n",
       "        vertical-align: middle;\n",
       "    }\n",
       "\n",
       "    .dataframe tbody tr th {\n",
       "        vertical-align: top;\n",
       "    }\n",
       "\n",
       "    .dataframe thead th {\n",
       "        text-align: right;\n",
       "    }\n",
       "</style>\n",
       "<table border=\"1\" class=\"dataframe\">\n",
       "  <thead>\n",
       "    <tr style=\"text-align: right;\">\n",
       "      <th></th>\n",
       "      <th>user_id</th>\n",
       "      <th>retweet_count</th>\n",
       "      <th>reply_count</th>\n",
       "      <th>favorite_count</th>\n",
       "      <th>num_hashtags</th>\n",
       "      <th>num_urls</th>\n",
       "      <th>num_mentions</th>\n",
       "      <th>created_at</th>\n",
       "      <th>text</th>\n",
       "    </tr>\n",
       "    <tr>\n",
       "      <th>id</th>\n",
       "      <th></th>\n",
       "      <th></th>\n",
       "      <th></th>\n",
       "      <th></th>\n",
       "      <th></th>\n",
       "      <th></th>\n",
       "      <th></th>\n",
       "      <th></th>\n",
       "      <th></th>\n",
       "    </tr>\n",
       "  </thead>\n",
       "  <tbody>\n",
       "    <tr>\n",
       "      <th>1197679862</th>\n",
       "      <td>19300510</td>\n",
       "      <td>0</td>\n",
       "      <td>0</td>\n",
       "      <td>0</td>\n",
       "      <td>0</td>\n",
       "      <td>0</td>\n",
       "      <td>0</td>\n",
       "      <td>2014-02-13 01:59:29</td>\n",
       "      <td></td>\n",
       "    </tr>\n",
       "  </tbody>\n",
       "</table>\n",
       "</div>"
      ],
      "text/plain": [
       "             user_id retweet_count reply_count favorite_count num_hashtags  \\\n",
       "id                                                                           \n",
       "1197679862  19300510             0           0              0            0   \n",
       "\n",
       "           num_urls num_mentions           created_at text  \n",
       "id                                                          \n",
       "1197679862        0            0  2014-02-13 01:59:29       "
      ]
     },
     "execution_count": 13,
     "metadata": {},
     "output_type": "execute_result"
    }
   ],
   "source": [
    "df_tweets[df_tweets.text == \"\"]"
   ]
  },
  {
   "cell_type": "code",
   "execution_count": 14,
   "id": "f911c40a-4683-4600-900f-5fa4454dd391",
   "metadata": {},
   "outputs": [],
   "source": [
    "df_tweets.loc[df_tweets.text == \"\", \"text\"] = np.nan"
   ]
  },
  {
   "cell_type": "code",
   "execution_count": 15,
   "id": "fa54bbf6-8d6b-4532-9d22-7b8767462394",
   "metadata": {},
   "outputs": [
    {
     "data": {
      "text/plain": [
       "user_id                      19300510\n",
       "retweet_count                       0\n",
       "reply_count                         0\n",
       "favorite_count                      0\n",
       "num_hashtags                        0\n",
       "num_urls                            0\n",
       "num_mentions                        0\n",
       "created_at        2014-02-13 01:59:29\n",
       "text                              NaN\n",
       "Name: 1197679862, dtype: object"
      ]
     },
     "execution_count": 15,
     "metadata": {},
     "output_type": "execute_result"
    }
   ],
   "source": [
    "df_tweets.loc[\"1197679862\"]"
   ]
  },
  {
   "cell_type": "code",
   "execution_count": 16,
   "id": "1d294e03-347b-42c0-bcb0-eb0b469361fe",
   "metadata": {},
   "outputs": [
    {
     "data": {
      "text/plain": [
       "530032"
      ]
     },
     "execution_count": 16,
     "metadata": {},
     "output_type": "execute_result"
    }
   ],
   "source": [
    "df_tweets.text.isna().sum()"
   ]
  },
  {
   "cell_type": "markdown",
   "id": "0e944541-58fd-48bf-87f0-c0a344e06385",
   "metadata": {},
   "source": [
    "## Index"
   ]
  },
  {
   "cell_type": "code",
   "execution_count": 17,
   "id": "3a217f63-1256-4f7f-b8d3-1fb1328f1991",
   "metadata": {},
   "outputs": [
    {
     "data": {
      "text/plain": [
       "dmy                   14\n",
       "qsa                   12\n",
       "jgm                   11\n",
       "nis                   11\n",
       "enl                   11\n",
       "                      ..\n",
       "472403921332613120     1\n",
       "583261659797426176     1\n",
       "361607898599657473     1\n",
       "582869903788634113     1\n",
       "486479812614451200     1\n",
       "Name: id, Length: 11671629, dtype: int64"
      ]
     },
     "execution_count": 17,
     "metadata": {},
     "output_type": "execute_result"
    }
   ],
   "source": [
    "df_tweets.index.value_counts()"
   ]
  },
  {
   "cell_type": "code",
   "execution_count": 18,
   "id": "332e44f1-3482-4595-9473-b8faedb6291e",
   "metadata": {},
   "outputs": [
    {
     "name": "stdout",
     "output_type": "stream",
     "text": [
      "<class 'pandas.core.frame.DataFrame'>\n",
      "Index: 11712091 entries, 509354017856950272 to 486479812614451200\n",
      "Data columns (total 9 columns):\n",
      " #   Column          Dtype \n",
      "---  ------          ----- \n",
      " 0   user_id         object\n",
      " 1   retweet_count   object\n",
      " 2   reply_count     object\n",
      " 3   favorite_count  object\n",
      " 4   num_hashtags    object\n",
      " 5   num_urls        object\n",
      " 6   num_mentions    object\n",
      " 7   created_at      object\n",
      " 8   text            object\n",
      "dtypes: object(9)\n",
      "memory usage: 1.1+ GB\n",
      "Missing indexes BEFORE conversion: 2\n",
      "Missing indexes AFTER conversion: 0\n",
      "Type after conversion: int64\n"
     ]
    },
    {
     "data": {
      "text/html": [
       "<div>\n",
       "<style scoped>\n",
       "    .dataframe tbody tr th:only-of-type {\n",
       "        vertical-align: middle;\n",
       "    }\n",
       "\n",
       "    .dataframe tbody tr th {\n",
       "        vertical-align: top;\n",
       "    }\n",
       "\n",
       "    .dataframe thead th {\n",
       "        text-align: right;\n",
       "    }\n",
       "</style>\n",
       "<table border=\"1\" class=\"dataframe\">\n",
       "  <thead>\n",
       "    <tr style=\"text-align: right;\">\n",
       "      <th></th>\n",
       "      <th>user_id</th>\n",
       "      <th>retweet_count</th>\n",
       "      <th>reply_count</th>\n",
       "      <th>favorite_count</th>\n",
       "      <th>num_hashtags</th>\n",
       "      <th>num_urls</th>\n",
       "      <th>num_mentions</th>\n",
       "      <th>created_at</th>\n",
       "      <th>text</th>\n",
       "    </tr>\n",
       "  </thead>\n",
       "  <tbody>\n",
       "    <tr>\n",
       "      <th>0</th>\n",
       "      <td>327746321</td>\n",
       "      <td>0</td>\n",
       "      <td>0</td>\n",
       "      <td>0</td>\n",
       "      <td>0</td>\n",
       "      <td>0</td>\n",
       "      <td>0</td>\n",
       "      <td>2019-09-11 14:53:55</td>\n",
       "      <td>if man is a little lower than angels, then ang...</td>\n",
       "    </tr>\n",
       "    <tr>\n",
       "      <th>1</th>\n",
       "      <td>333722906</td>\n",
       "      <td>1</td>\n",
       "      <td>0</td>\n",
       "      <td>0</td>\n",
       "      <td>0</td>\n",
       "      <td>0</td>\n",
       "      <td>1</td>\n",
       "      <td>2020-04-01 20:27:04</td>\n",
       "      <td>\"@bestwshhvids: how do you say these words wit...</td>\n",
       "    </tr>\n",
       "    <tr>\n",
       "      <th>2</th>\n",
       "      <td>2379755827</td>\n",
       "      <td>0</td>\n",
       "      <td>0</td>\n",
       "      <td>0</td>\n",
       "      <td>0</td>\n",
       "      <td>0</td>\n",
       "      <td>1</td>\n",
       "      <td>2019-05-02 13:34:31</td>\n",
       "      <td>@lolatcomedy awsome</td>\n",
       "    </tr>\n",
       "    <tr>\n",
       "      <th>3</th>\n",
       "      <td>466226882</td>\n",
       "      <td>0</td>\n",
       "      <td>0</td>\n",
       "      <td>0</td>\n",
       "      <td>0</td>\n",
       "      <td>0</td>\n",
       "      <td>0</td>\n",
       "      <td>2019-11-04 07:17:37</td>\n",
       "      <td>stephen hawkins: i buchi neri non esistono se ...</td>\n",
       "    </tr>\n",
       "    <tr>\n",
       "      <th>4</th>\n",
       "      <td>1355537995</td>\n",
       "      <td>114</td>\n",
       "      <td>0</td>\n",
       "      <td>0</td>\n",
       "      <td>1</td>\n",
       "      <td>0</td>\n",
       "      <td>1</td>\n",
       "      <td>2020-03-11 16:45:31</td>\n",
       "      <td>rt @tibbs_montris: so ready for wednesday!</td>\n",
       "    </tr>\n",
       "    <tr>\n",
       "      <th>...</th>\n",
       "      <td>...</td>\n",
       "      <td>...</td>\n",
       "      <td>...</td>\n",
       "      <td>...</td>\n",
       "      <td>...</td>\n",
       "      <td>...</td>\n",
       "      <td>...</td>\n",
       "      <td>...</td>\n",
       "      <td>...</td>\n",
       "    </tr>\n",
       "    <tr>\n",
       "      <th>11712086</th>\n",
       "      <td>220933018</td>\n",
       "      <td>0</td>\n",
       "      <td>0</td>\n",
       "      <td>0</td>\n",
       "      <td>0</td>\n",
       "      <td>0</td>\n",
       "      <td>0</td>\n",
       "      <td>2018-05-04 05:29:33</td>\n",
       "      <td>esta manana aun esta  muy frio ! miren esto ! ...</td>\n",
       "    </tr>\n",
       "    <tr>\n",
       "      <th>11712087</th>\n",
       "      <td>587491046</td>\n",
       "      <td>0</td>\n",
       "      <td>0</td>\n",
       "      <td>0</td>\n",
       "      <td>0</td>\n",
       "      <td>0</td>\n",
       "      <td>1</td>\n",
       "      <td>2020-04-17 02:51:53</td>\n",
       "      <td>@warriors congrats, maybe i'll be able to get ...</td>\n",
       "    </tr>\n",
       "    <tr>\n",
       "      <th>11712088</th>\n",
       "      <td>91781300</td>\n",
       "      <td>0</td>\n",
       "      <td>NaN</td>\n",
       "      <td>l25suv5</td>\n",
       "      <td>NaN</td>\n",
       "      <td>0.0</td>\n",
       "      <td>NaN</td>\n",
       "      <td>2016-07-10 22:43:09</td>\n",
       "      <td>NaN</td>\n",
       "    </tr>\n",
       "    <tr>\n",
       "      <th>11712089</th>\n",
       "      <td>127895572</td>\n",
       "      <td>0</td>\n",
       "      <td>0</td>\n",
       "      <td>1</td>\n",
       "      <td>1</td>\n",
       "      <td>0</td>\n",
       "      <td>0</td>\n",
       "      <td>2019-03-07 19:56:55</td>\n",
       "      <td>shooting crew of porn movies. #theworstjobtohave</td>\n",
       "    </tr>\n",
       "    <tr>\n",
       "      <th>11712090</th>\n",
       "      <td>465421036</td>\n",
       "      <td>3</td>\n",
       "      <td>0</td>\n",
       "      <td>4</td>\n",
       "      <td>0</td>\n",
       "      <td>0</td>\n",
       "      <td>0</td>\n",
       "      <td>2019-07-10 12:00:00</td>\n",
       "      <td>qualcuno dovrã  pur dire a quelli che \"twitter...</td>\n",
       "    </tr>\n",
       "  </tbody>\n",
       "</table>\n",
       "<p>11712091 rows × 9 columns</p>\n",
       "</div>"
      ],
      "text/plain": [
       "             user_id retweet_count reply_count favorite_count num_hashtags  \\\n",
       "0          327746321             0           0              0            0   \n",
       "1          333722906             1           0              0            0   \n",
       "2         2379755827             0           0              0            0   \n",
       "3          466226882             0           0              0            0   \n",
       "4         1355537995           114           0              0            1   \n",
       "...              ...           ...         ...            ...          ...   \n",
       "11712086   220933018             0           0              0            0   \n",
       "11712087   587491046             0           0              0            0   \n",
       "11712088    91781300             0         NaN        l25suv5          NaN   \n",
       "11712089   127895572             0           0              1            1   \n",
       "11712090   465421036             3           0              4            0   \n",
       "\n",
       "         num_urls num_mentions           created_at  \\\n",
       "0               0            0  2019-09-11 14:53:55   \n",
       "1               0            1  2020-04-01 20:27:04   \n",
       "2               0            1  2019-05-02 13:34:31   \n",
       "3               0            0  2019-11-04 07:17:37   \n",
       "4               0            1  2020-03-11 16:45:31   \n",
       "...           ...          ...                  ...   \n",
       "11712086        0            0  2018-05-04 05:29:33   \n",
       "11712087        0            1  2020-04-17 02:51:53   \n",
       "11712088      0.0          NaN  2016-07-10 22:43:09   \n",
       "11712089        0            0  2019-03-07 19:56:55   \n",
       "11712090        0            0  2019-07-10 12:00:00   \n",
       "\n",
       "                                                       text  \n",
       "0         if man is a little lower than angels, then ang...  \n",
       "1         \"@bestwshhvids: how do you say these words wit...  \n",
       "2                                       @lolatcomedy awsome  \n",
       "3         stephen hawkins: i buchi neri non esistono se ...  \n",
       "4                rt @tibbs_montris: so ready for wednesday!  \n",
       "...                                                     ...  \n",
       "11712086  esta manana aun esta  muy frio ! miren esto ! ...  \n",
       "11712087  @warriors congrats, maybe i'll be able to get ...  \n",
       "11712088                                                NaN  \n",
       "11712089   shooting crew of porn movies. #theworstjobtohave  \n",
       "11712090  qualcuno dovrã  pur dire a quelli che \"twitter...  \n",
       "\n",
       "[11712091 rows x 9 columns]"
      ]
     },
     "execution_count": 18,
     "metadata": {},
     "output_type": "execute_result"
    }
   ],
   "source": [
    "df_tweets.info()\n",
    "print(\"Missing indexes BEFORE conversion:\", df_tweets.index.isna().sum())\n",
    "df_tweets.reset_index(drop=True, inplace=True, names=[\"id\"])\n",
    "print(\"Missing indexes AFTER conversion:\", df_tweets.index.isna().sum())\n",
    "print(\"Type after conversion:\", df_tweets.index.dtype)\n",
    "df_tweets"
   ]
  },
  {
   "cell_type": "code",
   "execution_count": 19,
   "id": "86b41265-8afe-41ac-8f80-bb40547eae93",
   "metadata": {},
   "outputs": [],
   "source": [
    "def IsInteger(num):\n",
    "    try:\n",
    "        val = float(num)\n",
    "        return float.is_integer(val)\n",
    "    except ValueError:\n",
    "        return False\n",
    "\n",
    "def countIntegers(df, attr):\n",
    "    numbers = df[attr].apply(IsInteger).sum()\n",
    "    print(\"Number of not NaN integers\", numbers)\n",
    "    \n",
    "def object_to_numeric(df, attr):\n",
    "    print(\"Type before conversion:\", df[attr].dtype)\n",
    "    old_missingval = df[attr].isna().sum()\n",
    "    print(\"Missing values before conversion:\", old_missingval)\n",
    "    # coerces non-numeric junk to NaNs\n",
    "    df[attr] = pd.to_numeric(df[attr], errors='coerce', downcast='integer')\n",
    "    #df[attr].fillna(-1).astype(np.int64)\n",
    "    new_missingval = df[attr].isna().sum()\n",
    "    print(\"Missing values after conversion:\", new_missingval)\n",
    "    print(\"Type after conversion:\", df[attr].dtype)\n",
    "    print(\"Min:\", df[attr].min(), \"\\tMax:\", df[attr].max())\n",
    "\n",
    "def apply_bounds(df, column, upper_bound, lower_bound=0, inplace=True):\n",
    "    overUpperBound = df[df[column] > upper_bound]\n",
    "    belowLowerBound = df[df[column] < lower_bound]\n",
    "    print(\"There are\", len(overUpperBound), \"values of\", column, \"higher than\", upper_bound)\n",
    "    print(\"There are\", len(belowLowerBound), \"values of\", column, \"lower than\", upper_bound)\n",
    "    if not inplace:\n",
    "        return\n",
    "    df.loc[overUpperBound.index] = np.nan\n",
    "    df.loc[belowLowerBound.index] = np.nan\n",
    "    print(\"Missing values after applying bounds:\", df[column].isna().sum())\n",
    "    print(\"Min:\", df[column].min(), \"      Max:\", df[column].max())"
   ]
  },
  {
   "cell_type": "code",
   "execution_count": 20,
   "id": "4b10105b-ede5-4d90-916b-d4bdb4198e14",
   "metadata": {},
   "outputs": [
    {
     "name": "stdout",
     "output_type": "stream",
     "text": [
      "Number of not NaN integers 11278203\n"
     ]
    }
   ],
   "source": [
    "countIntegers(df_tweets, \"user_id\")"
   ]
  },
  {
   "cell_type": "code",
   "execution_count": 21,
   "id": "e4a6fdf3-7091-46ad-97b8-bcdc70026076",
   "metadata": {},
   "outputs": [
    {
     "name": "stdout",
     "output_type": "stream",
     "text": [
      "Type before conversion: object\n",
      "Missing values before conversion: 217276\n",
      "Missing values after conversion: 433888\n",
      "Type after conversion: float64\n",
      "Min: 0.0 \tMax: 2.9999999999999998e+296\n"
     ]
    }
   ],
   "source": [
    "object_to_numeric(df_tweets, \"user_id\")"
   ]
  },
  {
   "cell_type": "code",
   "execution_count": 22,
   "id": "52b0107e-7702-4855-a10b-45c2a2978920",
   "metadata": {},
   "outputs": [
    {
     "name": "stdout",
     "output_type": "stream",
     "text": [
      "Number of not NaN integers 11086634\n"
     ]
    }
   ],
   "source": [
    "countIntegers(df_tweets, \"retweet_count\")"
   ]
  },
  {
   "cell_type": "code",
   "execution_count": 23,
   "id": "ba4608c5-7880-4408-9bef-71ae7756fb6f",
   "metadata": {},
   "outputs": [
    {
     "name": "stdout",
     "output_type": "stream",
     "text": [
      "Type before conversion: object\n",
      "Missing values before conversion: 437134\n",
      "Missing values after conversion: 625456\n",
      "Type after conversion: float64\n",
      "Min: 0.0 \tMax: inf\n"
     ]
    }
   ],
   "source": [
    "object_to_numeric(df_tweets, \"retweet_count\")"
   ]
  },
  {
   "cell_type": "code",
   "execution_count": 24,
   "id": "38314ee2",
   "metadata": {},
   "outputs": [
    {
     "name": "stdout",
     "output_type": "stream",
     "text": [
      "There are 47 values of retweet_count higher than 4000000\n",
      "There are 0 values of retweet_count lower than 4000000\n",
      "Missing values after applying bounds: 625503\n",
      "Min: 0.0       Max: 3350111.0\n"
     ]
    }
   ],
   "source": [
    "apply_bounds(df_tweets, \"retweet_count\", 4000000)"
   ]
  },
  {
   "cell_type": "code",
   "execution_count": 25,
   "id": "2009ab9c-f342-42bc-815f-d367c54ea544",
   "metadata": {},
   "outputs": [
    {
     "data": {
      "text/html": [
       "<div>\n",
       "<style scoped>\n",
       "    .dataframe tbody tr th:only-of-type {\n",
       "        vertical-align: middle;\n",
       "    }\n",
       "\n",
       "    .dataframe tbody tr th {\n",
       "        vertical-align: top;\n",
       "    }\n",
       "\n",
       "    .dataframe thead th {\n",
       "        text-align: right;\n",
       "    }\n",
       "</style>\n",
       "<table border=\"1\" class=\"dataframe\">\n",
       "  <thead>\n",
       "    <tr style=\"text-align: right;\">\n",
       "      <th></th>\n",
       "      <th>user_id</th>\n",
       "      <th>retweet_count</th>\n",
       "      <th>reply_count</th>\n",
       "      <th>favorite_count</th>\n",
       "      <th>num_hashtags</th>\n",
       "      <th>num_urls</th>\n",
       "      <th>num_mentions</th>\n",
       "      <th>created_at</th>\n",
       "      <th>text</th>\n",
       "    </tr>\n",
       "  </thead>\n",
       "  <tbody>\n",
       "  </tbody>\n",
       "</table>\n",
       "</div>"
      ],
      "text/plain": [
       "Empty DataFrame\n",
       "Columns: [user_id, retweet_count, reply_count, favorite_count, num_hashtags, num_urls, num_mentions, created_at, text]\n",
       "Index: []"
      ]
     },
     "execution_count": 25,
     "metadata": {},
     "output_type": "execute_result"
    }
   ],
   "source": [
    "df_tweets[df_tweets.retweet_count == np.inf]"
   ]
  },
  {
   "cell_type": "code",
   "execution_count": 26,
   "id": "a2b8490c-12dc-419f-ae40-8272209d78cf",
   "metadata": {},
   "outputs": [
    {
     "name": "stdout",
     "output_type": "stream",
     "text": [
      "Number of not NaN integers 10902551\n"
     ]
    }
   ],
   "source": [
    "countIntegers(df_tweets, \"reply_count\")"
   ]
  },
  {
   "cell_type": "code",
   "execution_count": 27,
   "id": "c65f73be-c4fc-4e0c-989d-e7c7e5d64208",
   "metadata": {},
   "outputs": [
    {
     "name": "stdout",
     "output_type": "stream",
     "text": [
      "Type before conversion: object\n",
      "Missing values before conversion: 647914\n",
      "Missing values after conversion: 809539\n",
      "Type after conversion: float64\n",
      "Min: 0.0 \tMax: inf\n"
     ]
    }
   ],
   "source": [
    "object_to_numeric(df_tweets, \"reply_count\")"
   ]
  },
  {
   "cell_type": "code",
   "execution_count": 28,
   "id": "a344ea3c",
   "metadata": {},
   "outputs": [],
   "source": [
    "#apply_bounds(df_tweets, \"reply_count\", 4000000)"
   ]
  },
  {
   "cell_type": "code",
   "execution_count": 29,
   "id": "21238d1d-5da8-4606-bcba-104a9bf51f40",
   "metadata": {},
   "outputs": [
    {
     "data": {
      "text/html": [
       "<div>\n",
       "<style scoped>\n",
       "    .dataframe tbody tr th:only-of-type {\n",
       "        vertical-align: middle;\n",
       "    }\n",
       "\n",
       "    .dataframe tbody tr th {\n",
       "        vertical-align: top;\n",
       "    }\n",
       "\n",
       "    .dataframe thead th {\n",
       "        text-align: right;\n",
       "    }\n",
       "</style>\n",
       "<table border=\"1\" class=\"dataframe\">\n",
       "  <thead>\n",
       "    <tr style=\"text-align: right;\">\n",
       "      <th></th>\n",
       "      <th>user_id</th>\n",
       "      <th>retweet_count</th>\n",
       "      <th>reply_count</th>\n",
       "      <th>favorite_count</th>\n",
       "      <th>num_hashtags</th>\n",
       "      <th>num_urls</th>\n",
       "      <th>num_mentions</th>\n",
       "      <th>created_at</th>\n",
       "      <th>text</th>\n",
       "    </tr>\n",
       "  </thead>\n",
       "  <tbody>\n",
       "    <tr>\n",
       "      <th>3442226</th>\n",
       "      <td>466377491.0</td>\n",
       "      <td>0.0</td>\n",
       "      <td>inf</td>\n",
       "      <td>1.0</td>\n",
       "      <td>0.0</td>\n",
       "      <td>NaN</td>\n",
       "      <td>0</td>\n",
       "      <td>2019-08-29 13:04:45</td>\n",
       "      <td>prima di andare via sorridi un po' ma comunque...</td>\n",
       "    </tr>\n",
       "  </tbody>\n",
       "</table>\n",
       "</div>"
      ],
      "text/plain": [
       "             user_id  retweet_count  reply_count favorite_count num_hashtags  \\\n",
       "3442226  466377491.0            0.0          inf            1.0          0.0   \n",
       "\n",
       "        num_urls num_mentions           created_at  \\\n",
       "3442226      NaN            0  2019-08-29 13:04:45   \n",
       "\n",
       "                                                      text  \n",
       "3442226  prima di andare via sorridi un po' ma comunque...  "
      ]
     },
     "execution_count": 29,
     "metadata": {},
     "output_type": "execute_result"
    }
   ],
   "source": [
    "df_tweets[df_tweets.reply_count == np.inf]"
   ]
  },
  {
   "cell_type": "code",
   "execution_count": 30,
   "id": "307b7a26-e17d-452f-85db-e3a108cd09d4",
   "metadata": {},
   "outputs": [],
   "source": [
    "df_tweets.loc[df_tweets.reply_count == np.inf] = np.nan"
   ]
  },
  {
   "cell_type": "code",
   "execution_count": 31,
   "id": "5c6fa521-f1c3-4be5-b6b7-c00d2fef5cb1",
   "metadata": {},
   "outputs": [
    {
     "data": {
      "text/html": [
       "<div>\n",
       "<style scoped>\n",
       "    .dataframe tbody tr th:only-of-type {\n",
       "        vertical-align: middle;\n",
       "    }\n",
       "\n",
       "    .dataframe tbody tr th {\n",
       "        vertical-align: top;\n",
       "    }\n",
       "\n",
       "    .dataframe thead th {\n",
       "        text-align: right;\n",
       "    }\n",
       "</style>\n",
       "<table border=\"1\" class=\"dataframe\">\n",
       "  <thead>\n",
       "    <tr style=\"text-align: right;\">\n",
       "      <th></th>\n",
       "      <th>user_id</th>\n",
       "      <th>retweet_count</th>\n",
       "      <th>reply_count</th>\n",
       "      <th>favorite_count</th>\n",
       "      <th>num_hashtags</th>\n",
       "      <th>num_urls</th>\n",
       "      <th>num_mentions</th>\n",
       "      <th>created_at</th>\n",
       "      <th>text</th>\n",
       "    </tr>\n",
       "  </thead>\n",
       "  <tbody>\n",
       "  </tbody>\n",
       "</table>\n",
       "</div>"
      ],
      "text/plain": [
       "Empty DataFrame\n",
       "Columns: [user_id, retweet_count, reply_count, favorite_count, num_hashtags, num_urls, num_mentions, created_at, text]\n",
       "Index: []"
      ]
     },
     "execution_count": 31,
     "metadata": {},
     "output_type": "execute_result"
    }
   ],
   "source": [
    "df_tweets[df_tweets.reply_count == np.inf]"
   ]
  },
  {
   "cell_type": "code",
   "execution_count": 32,
   "id": "f976490a-a3d1-47a8-bd9f-266a3b7ce130",
   "metadata": {},
   "outputs": [
    {
     "name": "stdout",
     "output_type": "stream",
     "text": [
      "Number of not NaN integers 10903963\n"
     ]
    }
   ],
   "source": [
    "countIntegers(df_tweets, \"favorite_count\")"
   ]
  },
  {
   "cell_type": "code",
   "execution_count": 33,
   "id": "48952df0-f205-4e73-acee-9471b1a03ec7",
   "metadata": {},
   "outputs": [
    {
     "name": "stdout",
     "output_type": "stream",
     "text": [
      "Type before conversion: object\n",
      "Missing values before conversion: 647575\n",
      "Missing values after conversion: 808128\n",
      "Type after conversion: float64\n",
      "Min: -1.0 \tMax: 7e+211\n"
     ]
    }
   ],
   "source": [
    "object_to_numeric(df_tweets, \"favorite_count\")"
   ]
  },
  {
   "cell_type": "code",
   "execution_count": 34,
   "id": "990d430e",
   "metadata": {},
   "outputs": [
    {
     "name": "stdout",
     "output_type": "stream",
     "text": [
      "There are 49 values of favorite_count higher than 4100000\n",
      "There are 1 values of favorite_count lower than 4100000\n",
      "Missing values after applying bounds: 808178\n",
      "Min: 0.0       Max: 922462.0\n"
     ]
    }
   ],
   "source": [
    "apply_bounds(df_tweets, \"favorite_count\", 4100000)"
   ]
  },
  {
   "cell_type": "code",
   "execution_count": 35,
   "id": "4d4a0f92-d254-40bb-b4f0-c964e12178ac",
   "metadata": {},
   "outputs": [
    {
     "data": {
      "text/html": [
       "<div>\n",
       "<style scoped>\n",
       "    .dataframe tbody tr th:only-of-type {\n",
       "        vertical-align: middle;\n",
       "    }\n",
       "\n",
       "    .dataframe tbody tr th {\n",
       "        vertical-align: top;\n",
       "    }\n",
       "\n",
       "    .dataframe thead th {\n",
       "        text-align: right;\n",
       "    }\n",
       "</style>\n",
       "<table border=\"1\" class=\"dataframe\">\n",
       "  <thead>\n",
       "    <tr style=\"text-align: right;\">\n",
       "      <th></th>\n",
       "      <th>user_id</th>\n",
       "      <th>retweet_count</th>\n",
       "      <th>reply_count</th>\n",
       "      <th>favorite_count</th>\n",
       "      <th>num_hashtags</th>\n",
       "      <th>num_urls</th>\n",
       "      <th>num_mentions</th>\n",
       "      <th>created_at</th>\n",
       "      <th>text</th>\n",
       "    </tr>\n",
       "  </thead>\n",
       "  <tbody>\n",
       "  </tbody>\n",
       "</table>\n",
       "</div>"
      ],
      "text/plain": [
       "Empty DataFrame\n",
       "Columns: [user_id, retweet_count, reply_count, favorite_count, num_hashtags, num_urls, num_mentions, created_at, text]\n",
       "Index: []"
      ]
     },
     "execution_count": 35,
     "metadata": {},
     "output_type": "execute_result"
    }
   ],
   "source": [
    "df_tweets[df_tweets.favorite_count == -1]"
   ]
  },
  {
   "cell_type": "code",
   "execution_count": 36,
   "id": "94c99dc7-6843-45c4-b24c-b2688b294b63",
   "metadata": {},
   "outputs": [
    {
     "name": "stdout",
     "output_type": "stream",
     "text": [
      "Number of not NaN integers 10548377\n"
     ]
    }
   ],
   "source": [
    "countIntegers(df_tweets, \"num_hashtags\")"
   ]
  },
  {
   "cell_type": "code",
   "execution_count": 37,
   "id": "5c07f39a-92ef-4cd4-8842-048f1ee20b0c",
   "metadata": {},
   "outputs": [
    {
     "name": "stdout",
     "output_type": "stream",
     "text": [
      "Type before conversion: object\n",
      "Missing values before conversion: 1057566\n",
      "Missing values after conversion: 1163714\n",
      "Type after conversion: float64\n",
      "Min: 0.0 \tMax: 7e+153\n"
     ]
    }
   ],
   "source": [
    "object_to_numeric(df_tweets, \"num_hashtags\")"
   ]
  },
  {
   "cell_type": "code",
   "execution_count": 38,
   "id": "ccf81d8d",
   "metadata": {},
   "outputs": [
    {
     "name": "stdout",
     "output_type": "stream",
     "text": [
      "There are 349 values of num_hashtags higher than 200\n",
      "There are 0 values of num_hashtags lower than 200\n",
      "Missing values after applying bounds: 1164063\n",
      "Min: 0.0       Max: 199.0\n"
     ]
    }
   ],
   "source": [
    "apply_bounds(df_tweets, \"num_hashtags\", 200)"
   ]
  },
  {
   "cell_type": "code",
   "execution_count": 39,
   "id": "ab5b5ea8-bf9a-4645-bb3d-f81993aaf035",
   "metadata": {},
   "outputs": [
    {
     "name": "stdout",
     "output_type": "stream",
     "text": [
      "Number of not NaN integers 10902772\n"
     ]
    }
   ],
   "source": [
    "countIntegers(df_tweets, \"num_urls\")"
   ]
  },
  {
   "cell_type": "code",
   "execution_count": 40,
   "id": "b3118c30-eed4-46f3-b73d-222c228679b2",
   "metadata": {},
   "outputs": [
    {
     "name": "stdout",
     "output_type": "stream",
     "text": [
      "Type before conversion: object\n",
      "Missing values before conversion: 649011\n",
      "Missing values after conversion: 809319\n",
      "Type after conversion: float64\n",
      "Min: 0.0 \tMax: 1e+210\n"
     ]
    }
   ],
   "source": [
    "object_to_numeric(df_tweets, \"num_urls\")"
   ]
  },
  {
   "cell_type": "code",
   "execution_count": 41,
   "id": "9dab2c43",
   "metadata": {},
   "outputs": [
    {
     "name": "stdout",
     "output_type": "stream",
     "text": [
      "There are 543 values of num_urls higher than 200\n",
      "There are 0 values of num_urls lower than 200\n",
      "Missing values after applying bounds: 809862\n",
      "Min: 0.0       Max: 195.0\n"
     ]
    }
   ],
   "source": [
    "apply_bounds(df_tweets, \"num_urls\", 200)"
   ]
  },
  {
   "cell_type": "code",
   "execution_count": 42,
   "id": "5a59e49a-5e24-4021-b2a3-499fb8b99a90",
   "metadata": {},
   "outputs": [
    {
     "name": "stdout",
     "output_type": "stream",
     "text": [
      "Number of not NaN integers 10723377\n"
     ]
    }
   ],
   "source": [
    "countIntegers(df_tweets, \"num_mentions\")"
   ]
  },
  {
   "cell_type": "code",
   "execution_count": 43,
   "id": "6b1b8c0c-8659-4b6c-9d61-6b914034a6e4",
   "metadata": {},
   "outputs": [
    {
     "name": "stdout",
     "output_type": "stream",
     "text": [
      "Type before conversion: object\n",
      "Missing values before conversion: 854943\n",
      "Missing values after conversion: 988714\n",
      "Type after conversion: float64\n",
      "Min: 0.0 \tMax: 6.0000000000000004e+97\n"
     ]
    }
   ],
   "source": [
    "object_to_numeric(df_tweets, \"num_mentions\")"
   ]
  },
  {
   "cell_type": "code",
   "execution_count": 44,
   "id": "b5b765a6",
   "metadata": {},
   "outputs": [
    {
     "name": "stdout",
     "output_type": "stream",
     "text": [
      "There are 455 values of num_mentions higher than 200\n",
      "There are 0 values of num_mentions lower than 200\n",
      "Missing values after applying bounds: 989169\n",
      "Min: 0.0       Max: 200.0\n"
     ]
    }
   ],
   "source": [
    "apply_bounds(df_tweets, \"num_mentions\", 200)"
   ]
  },
  {
   "cell_type": "code",
   "execution_count": 45,
   "id": "22b8ec27-a028-4a62-aef9-b3d17669fc11",
   "metadata": {},
   "outputs": [
    {
     "name": "stdout",
     "output_type": "stream",
     "text": [
      "Min: 1953-04-17 12:24:33 \tMax: 2040-04-27 11:03:25\n"
     ]
    }
   ],
   "source": [
    "df_tweets.created_at = pd.to_datetime(df_tweets.created_at, format='%Y-%m-%d %H:%M:%S')\n",
    "print(\"Min:\", df_tweets.created_at.min(), \"\\tMax:\", df_tweets.created_at.max())"
   ]
  },
  {
   "cell_type": "code",
   "execution_count": 46,
   "id": "140e671d-b3da-409d-a09c-cd7fd6e0cbae",
   "metadata": {},
   "outputs": [
    {
     "data": {
      "text/html": [
       "<div>\n",
       "<style scoped>\n",
       "    .dataframe tbody tr th:only-of-type {\n",
       "        vertical-align: middle;\n",
       "    }\n",
       "\n",
       "    .dataframe tbody tr th {\n",
       "        vertical-align: top;\n",
       "    }\n",
       "\n",
       "    .dataframe thead th {\n",
       "        text-align: right;\n",
       "    }\n",
       "</style>\n",
       "<table border=\"1\" class=\"dataframe\">\n",
       "  <thead>\n",
       "    <tr style=\"text-align: right;\">\n",
       "      <th></th>\n",
       "      <th>user_id</th>\n",
       "      <th>retweet_count</th>\n",
       "      <th>reply_count</th>\n",
       "      <th>favorite_count</th>\n",
       "      <th>num_hashtags</th>\n",
       "      <th>num_urls</th>\n",
       "      <th>num_mentions</th>\n",
       "      <th>created_at</th>\n",
       "      <th>text</th>\n",
       "    </tr>\n",
       "  </thead>\n",
       "  <tbody>\n",
       "    <tr>\n",
       "      <th>223</th>\n",
       "      <td>1.482442e+07</td>\n",
       "      <td>0.0</td>\n",
       "      <td>0.0</td>\n",
       "      <td>0.0</td>\n",
       "      <td>1.0</td>\n",
       "      <td>0.0</td>\n",
       "      <td>1.0</td>\n",
       "      <td>1960-04-26 18:05:56</td>\n",
       "      <td>@arvixesupport shared ssl stopped working on a...</td>\n",
       "    </tr>\n",
       "    <tr>\n",
       "      <th>342</th>\n",
       "      <td>1.480228e+08</td>\n",
       "      <td>0.0</td>\n",
       "      <td>0.0</td>\n",
       "      <td>0.0</td>\n",
       "      <td>0.0</td>\n",
       "      <td>0.0</td>\n",
       "      <td>0.0</td>\n",
       "      <td>2038-06-22 08:28:55</td>\n",
       "      <td>faqat nabz se haal zaahir na hoga\\nmera dil bh...</td>\n",
       "    </tr>\n",
       "    <tr>\n",
       "      <th>421</th>\n",
       "      <td>1.462660e+07</td>\n",
       "      <td>0.0</td>\n",
       "      <td>0.0</td>\n",
       "      <td>0.0</td>\n",
       "      <td>0.0</td>\n",
       "      <td>0.0</td>\n",
       "      <td>1.0</td>\n",
       "      <td>1958-03-15 16:54:57</td>\n",
       "      <td>@nancyjensen harry &amp;amp; dwntwn 95% clear of s...</td>\n",
       "    </tr>\n",
       "    <tr>\n",
       "      <th>752</th>\n",
       "      <td>1.521942e+08</td>\n",
       "      <td>0.0</td>\n",
       "      <td>0.0</td>\n",
       "      <td>0.0</td>\n",
       "      <td>0.0</td>\n",
       "      <td>0.0</td>\n",
       "      <td>1.0</td>\n",
       "      <td>2040-02-29 13:20:29</td>\n",
       "      <td>@shuinkou ......./hopes senpie stay healthy......</td>\n",
       "    </tr>\n",
       "    <tr>\n",
       "      <th>959</th>\n",
       "      <td>1.852826e+09</td>\n",
       "      <td>0.0</td>\n",
       "      <td>0.0</td>\n",
       "      <td>0.0</td>\n",
       "      <td>1.0</td>\n",
       "      <td>0.0</td>\n",
       "      <td>0.0</td>\n",
       "      <td>1959-05-02 23:16:40</td>\n",
       "      <td>her tl is sooo dead omgg #herbff</td>\n",
       "    </tr>\n",
       "    <tr>\n",
       "      <th>...</th>\n",
       "      <td>...</td>\n",
       "      <td>...</td>\n",
       "      <td>...</td>\n",
       "      <td>...</td>\n",
       "      <td>...</td>\n",
       "      <td>...</td>\n",
       "      <td>...</td>\n",
       "      <td>...</td>\n",
       "      <td>...</td>\n",
       "    </tr>\n",
       "    <tr>\n",
       "      <th>11711637</th>\n",
       "      <td>1.494211e+08</td>\n",
       "      <td>1.0</td>\n",
       "      <td>0.0</td>\n",
       "      <td>0.0</td>\n",
       "      <td>0.0</td>\n",
       "      <td>0.0</td>\n",
       "      <td>2.0</td>\n",
       "      <td>2040-04-20 01:24:22</td>\n",
       "      <td>@yungtrello @rekofromthe5 yes you are</td>\n",
       "    </tr>\n",
       "    <tr>\n",
       "      <th>11711703</th>\n",
       "      <td>5.054330e+08</td>\n",
       "      <td>0.0</td>\n",
       "      <td>0.0</td>\n",
       "      <td>0.0</td>\n",
       "      <td>0.0</td>\n",
       "      <td>0.0</td>\n",
       "      <td>0.0</td>\n",
       "      <td>1960-03-17 01:36:18</td>\n",
       "      <td>i hate when people eat and they talk. then the...</td>\n",
       "    </tr>\n",
       "    <tr>\n",
       "      <th>11711855</th>\n",
       "      <td>1.858934e+09</td>\n",
       "      <td>1730.0</td>\n",
       "      <td>0.0</td>\n",
       "      <td>0.0</td>\n",
       "      <td>0.0</td>\n",
       "      <td>0.0</td>\n",
       "      <td>1.0</td>\n",
       "      <td>1960-03-18 12:53:14</td>\n",
       "      <td>rt @chiiiout: i want to do so much more in thi...</td>\n",
       "    </tr>\n",
       "    <tr>\n",
       "      <th>11711917</th>\n",
       "      <td>1.616349e+08</td>\n",
       "      <td>4.0</td>\n",
       "      <td>0.0</td>\n",
       "      <td>2.0</td>\n",
       "      <td>0.0</td>\n",
       "      <td>0.0</td>\n",
       "      <td>0.0</td>\n",
       "      <td>1960-05-16 15:11:04</td>\n",
       "      <td>11:11 for mary jane veloso's life to be comple...</td>\n",
       "    </tr>\n",
       "    <tr>\n",
       "      <th>11712078</th>\n",
       "      <td>4.861113e+08</td>\n",
       "      <td>0.0</td>\n",
       "      <td>0.0</td>\n",
       "      <td>1.0</td>\n",
       "      <td>0.0</td>\n",
       "      <td>0.0</td>\n",
       "      <td>2.0</td>\n",
       "      <td>2040-03-10 23:44:16</td>\n",
       "      <td>@cnrsocial4 @socialsensing im fine thank you f...</td>\n",
       "    </tr>\n",
       "  </tbody>\n",
       "</table>\n",
       "<p>97605 rows × 9 columns</p>\n",
       "</div>"
      ],
      "text/plain": [
       "               user_id  retweet_count  reply_count  favorite_count  \\\n",
       "223       1.482442e+07            0.0          0.0             0.0   \n",
       "342       1.480228e+08            0.0          0.0             0.0   \n",
       "421       1.462660e+07            0.0          0.0             0.0   \n",
       "752       1.521942e+08            0.0          0.0             0.0   \n",
       "959       1.852826e+09            0.0          0.0             0.0   \n",
       "...                ...            ...          ...             ...   \n",
       "11711637  1.494211e+08            1.0          0.0             0.0   \n",
       "11711703  5.054330e+08            0.0          0.0             0.0   \n",
       "11711855  1.858934e+09         1730.0          0.0             0.0   \n",
       "11711917  1.616349e+08            4.0          0.0             2.0   \n",
       "11712078  4.861113e+08            0.0          0.0             1.0   \n",
       "\n",
       "          num_hashtags  num_urls  num_mentions          created_at  \\\n",
       "223                1.0       0.0           1.0 1960-04-26 18:05:56   \n",
       "342                0.0       0.0           0.0 2038-06-22 08:28:55   \n",
       "421                0.0       0.0           1.0 1958-03-15 16:54:57   \n",
       "752                0.0       0.0           1.0 2040-02-29 13:20:29   \n",
       "959                1.0       0.0           0.0 1959-05-02 23:16:40   \n",
       "...                ...       ...           ...                 ...   \n",
       "11711637           0.0       0.0           2.0 2040-04-20 01:24:22   \n",
       "11711703           0.0       0.0           0.0 1960-03-17 01:36:18   \n",
       "11711855           0.0       0.0           1.0 1960-03-18 12:53:14   \n",
       "11711917           0.0       0.0           0.0 1960-05-16 15:11:04   \n",
       "11712078           0.0       0.0           2.0 2040-03-10 23:44:16   \n",
       "\n",
       "                                                       text  \n",
       "223       @arvixesupport shared ssl stopped working on a...  \n",
       "342       faqat nabz se haal zaahir na hoga\\nmera dil bh...  \n",
       "421       @nancyjensen harry &amp; dwntwn 95% clear of s...  \n",
       "752       @shuinkou ......./hopes senpie stay healthy......  \n",
       "959                        her tl is sooo dead omgg #herbff  \n",
       "...                                                     ...  \n",
       "11711637              @yungtrello @rekofromthe5 yes you are  \n",
       "11711703  i hate when people eat and they talk. then the...  \n",
       "11711855  rt @chiiiout: i want to do so much more in thi...  \n",
       "11711917  11:11 for mary jane veloso's life to be comple...  \n",
       "11712078  @cnrsocial4 @socialsensing im fine thank you f...  \n",
       "\n",
       "[97605 rows x 9 columns]"
      ]
     },
     "execution_count": 46,
     "metadata": {},
     "output_type": "execute_result"
    }
   ],
   "source": [
    "invalid_created_at = df_tweets.loc[(df_tweets[\"created_at\"] < '2012-01-01') | (df_tweets[\"created_at\"] > '2020-12-31')]\n",
    "invalid_created_at"
   ]
  },
  {
   "cell_type": "code",
   "execution_count": 47,
   "id": "84749c20-6f22-4db0-a08c-455882d08491",
   "metadata": {},
   "outputs": [],
   "source": [
    "df_tweets.loc[invalid_created_at.index, \"created_at\"] = np.nan"
   ]
  },
  {
   "cell_type": "code",
   "execution_count": 48,
   "id": "fc57e6d5-e3d4-469d-a8cf-9383502d0739",
   "metadata": {},
   "outputs": [
    {
     "data": {
      "text/plain": [
       "99050"
      ]
     },
     "execution_count": 48,
     "metadata": {},
     "output_type": "execute_result"
    }
   ],
   "source": [
    "df_tweets.created_at.isna().sum()"
   ]
  },
  {
   "cell_type": "code",
   "execution_count": 49,
   "id": "f8ba1267-aa50-4bef-814e-a182267f665e",
   "metadata": {},
   "outputs": [
    {
     "name": "stdout",
     "output_type": "stream",
     "text": [
      "Min: 2012-03-11 22:25:59 \tMax: 2020-05-03 10:36:12\n"
     ]
    }
   ],
   "source": [
    "print(\"Min:\", df_tweets.created_at.min(), \"\\tMax:\", df_tweets.created_at.max())"
   ]
  },
  {
   "cell_type": "code",
   "execution_count": 50,
   "id": "5ec5330c",
   "metadata": {},
   "outputs": [
    {
     "data": {
      "text/plain": [
       "15252"
      ]
     },
     "execution_count": 50,
     "metadata": {},
     "output_type": "execute_result"
    }
   ],
   "source": [
    "df_tweets.duplicated().sum()"
   ]
  },
  {
   "cell_type": "code",
   "execution_count": 51,
   "id": "8ebc84d3",
   "metadata": {},
   "outputs": [],
   "source": [
    "df_tweets = df_tweets.drop_duplicates(keep='first')"
   ]
  },
  {
   "cell_type": "code",
   "execution_count": 52,
   "id": "47a4fdd5-7239-4d90-8aa8-0c492a59298f",
   "metadata": {},
   "outputs": [
    {
     "data": {
      "text/plain": [
       "user_id                  float64\n",
       "retweet_count            float64\n",
       "reply_count              float64\n",
       "favorite_count           float64\n",
       "num_hashtags             float64\n",
       "num_urls                 float64\n",
       "num_mentions             float64\n",
       "created_at        datetime64[ns]\n",
       "text                      object\n",
       "dtype: object"
      ]
     },
     "execution_count": 52,
     "metadata": {},
     "output_type": "execute_result"
    }
   ],
   "source": [
    "df_tweets.dtypes"
   ]
  },
  {
   "cell_type": "code",
   "execution_count": 53,
   "id": "49c03ef8-9125-4a9c-b705-d3a2e1a85666",
   "metadata": {},
   "outputs": [
    {
     "name": "stdout",
     "output_type": "stream",
     "text": [
      "<class 'pandas.core.frame.DataFrame'>\n",
      "Int64Index: 11696839 entries, 0 to 11712090\n",
      "Data columns (total 9 columns):\n",
      " #   Column          Dtype         \n",
      "---  ------          -----         \n",
      " 0   user_id         float64       \n",
      " 1   retweet_count   float64       \n",
      " 2   reply_count     float64       \n",
      " 3   favorite_count  float64       \n",
      " 4   num_hashtags    float64       \n",
      " 5   num_urls        float64       \n",
      " 6   num_mentions    float64       \n",
      " 7   created_at      datetime64[ns]\n",
      " 8   text            object        \n",
      "dtypes: datetime64[ns](1), float64(7), object(1)\n",
      "memory usage: 892.4+ MB\n"
     ]
    }
   ],
   "source": [
    "df_tweets.info()"
   ]
  },
  {
   "cell_type": "markdown",
   "id": "3b62f843-14ee-4ee0-b21d-6148379c1d4e",
   "metadata": {},
   "source": [
    "# Save on file"
   ]
  },
  {
   "cell_type": "code",
   "execution_count": 54,
   "id": "d282cda4-668b-41c3-9e6c-d97a2077be7a",
   "metadata": {},
   "outputs": [
    {
     "name": "stderr",
     "output_type": "stream",
     "text": [
      "/tmp/ipykernel_11155/321830160.py:1: PerformanceWarning: \n",
      "your performance may suffer as PyTables will pickle object types that it cannot\n",
      "map directly to c-types [inferred_type->mixed,key->block1_values] [items->Index(['text'], dtype='object')]\n",
      "\n",
      "  df_tweets.to_hdf(destCleanedDatasetPath, 'df_tweets', mode='w')\n"
     ]
    }
   ],
   "source": [
    "df_tweets.to_hdf(destCleanedDatasetPath, 'df_tweets', mode='w')"
   ]
  }
 ],
 "metadata": {
  "kernelspec": {
   "display_name": "Python 3.10.6 64-bit",
   "language": "python",
   "name": "python3"
  },
  "language_info": {
   "codemirror_mode": {
    "name": "ipython",
    "version": 3
   },
   "file_extension": ".py",
   "mimetype": "text/x-python",
   "name": "python",
   "nbconvert_exporter": "python",
   "pygments_lexer": "ipython3",
   "version": "3.10.6"
  },
  "vscode": {
   "interpreter": {
    "hash": "916dbcbb3f70747c44a77c7bcd40155683ae19c65e1c03b4aa3499c5328201f1"
   }
  }
 },
 "nbformat": 4,
 "nbformat_minor": 5
}
