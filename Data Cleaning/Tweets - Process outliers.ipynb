{
 "cells": [
  {
   "cell_type": "code",
   "execution_count": 1,
   "id": "ff425035-e906-4afd-9cd4-71231cac15b0",
   "metadata": {},
   "outputs": [],
   "source": [
    "%matplotlib inline\n",
    "import math\n",
    "import numpy as np\n",
    "import pandas as pd\n",
    "import matplotlib.pyplot as plt"
   ]
  },
  {
   "cell_type": "code",
   "execution_count": 2,
   "id": "c8a7f566",
   "metadata": {},
   "outputs": [],
   "source": [
    "resultDatasetPath = \"../dataset/no_outliers_tweets.h5\""
   ]
  },
  {
   "cell_type": "code",
   "execution_count": 3,
   "id": "6bccaa39-89de-47e1-8ef9-af6ea27da981",
   "metadata": {},
   "outputs": [
    {
     "name": "stdout",
     "output_type": "stream",
     "text": [
      "CPU times: user 5.2 s, sys: 5 s, total: 10.2 s\n",
      "Wall time: 10.6 s\n"
     ]
    }
   ],
   "source": [
    "%%time\n",
    "datasetTweetsCleanedPath = \"../dataset/clean_datatype_tweets.h5\"\n",
    "df_tweets = pd.read_hdf(datasetTweetsCleanedPath)"
   ]
  },
  {
   "cell_type": "code",
   "execution_count": 4,
   "id": "9ac2f73b-5a1e-4079-80a3-df7108f8d25f",
   "metadata": {},
   "outputs": [
    {
     "name": "stdout",
     "output_type": "stream",
     "text": [
      "user_id                  float64\n",
      "retweet_count            float64\n",
      "reply_count              float64\n",
      "favorite_count           float64\n",
      "num_hashtags             float64\n",
      "num_urls                 float64\n",
      "num_mentions             float64\n",
      "created_at        datetime64[ns]\n",
      "text                      object\n",
      "dtype: object\n"
     ]
    },
    {
     "data": {
      "text/html": [
       "<div>\n",
       "<style scoped>\n",
       "    .dataframe tbody tr th:only-of-type {\n",
       "        vertical-align: middle;\n",
       "    }\n",
       "\n",
       "    .dataframe tbody tr th {\n",
       "        vertical-align: top;\n",
       "    }\n",
       "\n",
       "    .dataframe thead th {\n",
       "        text-align: right;\n",
       "    }\n",
       "</style>\n",
       "<table border=\"1\" class=\"dataframe\">\n",
       "  <thead>\n",
       "    <tr style=\"text-align: right;\">\n",
       "      <th></th>\n",
       "      <th>user_id</th>\n",
       "      <th>retweet_count</th>\n",
       "      <th>reply_count</th>\n",
       "      <th>favorite_count</th>\n",
       "      <th>num_hashtags</th>\n",
       "      <th>num_urls</th>\n",
       "      <th>num_mentions</th>\n",
       "      <th>created_at</th>\n",
       "      <th>text</th>\n",
       "    </tr>\n",
       "  </thead>\n",
       "  <tbody>\n",
       "    <tr>\n",
       "      <th>0</th>\n",
       "      <td>3.277463e+08</td>\n",
       "      <td>0.0</td>\n",
       "      <td>0.0</td>\n",
       "      <td>0.0</td>\n",
       "      <td>0.0</td>\n",
       "      <td>0.0</td>\n",
       "      <td>0.0</td>\n",
       "      <td>2019-09-11 14:53:55</td>\n",
       "      <td>if man is a little lower than angels, then ang...</td>\n",
       "    </tr>\n",
       "    <tr>\n",
       "      <th>1</th>\n",
       "      <td>3.337229e+08</td>\n",
       "      <td>1.0</td>\n",
       "      <td>0.0</td>\n",
       "      <td>0.0</td>\n",
       "      <td>0.0</td>\n",
       "      <td>0.0</td>\n",
       "      <td>1.0</td>\n",
       "      <td>2020-04-01 20:27:04</td>\n",
       "      <td>\"@bestwshhvids: how do you say these words wit...</td>\n",
       "    </tr>\n",
       "    <tr>\n",
       "      <th>2</th>\n",
       "      <td>2.379756e+09</td>\n",
       "      <td>0.0</td>\n",
       "      <td>0.0</td>\n",
       "      <td>0.0</td>\n",
       "      <td>0.0</td>\n",
       "      <td>0.0</td>\n",
       "      <td>1.0</td>\n",
       "      <td>2019-05-02 13:34:31</td>\n",
       "      <td>@lolatcomedy awsome</td>\n",
       "    </tr>\n",
       "    <tr>\n",
       "      <th>3</th>\n",
       "      <td>4.662269e+08</td>\n",
       "      <td>0.0</td>\n",
       "      <td>0.0</td>\n",
       "      <td>0.0</td>\n",
       "      <td>0.0</td>\n",
       "      <td>0.0</td>\n",
       "      <td>0.0</td>\n",
       "      <td>2019-11-04 07:17:37</td>\n",
       "      <td>stephen hawkins: i buchi neri non esistono se ...</td>\n",
       "    </tr>\n",
       "    <tr>\n",
       "      <th>4</th>\n",
       "      <td>1.355538e+09</td>\n",
       "      <td>114.0</td>\n",
       "      <td>0.0</td>\n",
       "      <td>0.0</td>\n",
       "      <td>1.0</td>\n",
       "      <td>0.0</td>\n",
       "      <td>1.0</td>\n",
       "      <td>2020-03-11 16:45:31</td>\n",
       "      <td>rt @tibbs_montris: so ready for wednesday!</td>\n",
       "    </tr>\n",
       "    <tr>\n",
       "      <th>...</th>\n",
       "      <td>...</td>\n",
       "      <td>...</td>\n",
       "      <td>...</td>\n",
       "      <td>...</td>\n",
       "      <td>...</td>\n",
       "      <td>...</td>\n",
       "      <td>...</td>\n",
       "      <td>...</td>\n",
       "      <td>...</td>\n",
       "    </tr>\n",
       "    <tr>\n",
       "      <th>11712086</th>\n",
       "      <td>2.209330e+08</td>\n",
       "      <td>0.0</td>\n",
       "      <td>0.0</td>\n",
       "      <td>0.0</td>\n",
       "      <td>0.0</td>\n",
       "      <td>0.0</td>\n",
       "      <td>0.0</td>\n",
       "      <td>2018-05-04 05:29:33</td>\n",
       "      <td>esta manana aun esta  muy frio ! miren esto ! ...</td>\n",
       "    </tr>\n",
       "    <tr>\n",
       "      <th>11712087</th>\n",
       "      <td>5.874910e+08</td>\n",
       "      <td>0.0</td>\n",
       "      <td>0.0</td>\n",
       "      <td>0.0</td>\n",
       "      <td>0.0</td>\n",
       "      <td>0.0</td>\n",
       "      <td>1.0</td>\n",
       "      <td>2020-04-17 02:51:53</td>\n",
       "      <td>@warriors congrats, maybe i'll be able to get ...</td>\n",
       "    </tr>\n",
       "    <tr>\n",
       "      <th>11712088</th>\n",
       "      <td>9.178130e+07</td>\n",
       "      <td>0.0</td>\n",
       "      <td>NaN</td>\n",
       "      <td>NaN</td>\n",
       "      <td>NaN</td>\n",
       "      <td>0.0</td>\n",
       "      <td>NaN</td>\n",
       "      <td>2016-07-10 22:43:09</td>\n",
       "      <td>NaN</td>\n",
       "    </tr>\n",
       "    <tr>\n",
       "      <th>11712089</th>\n",
       "      <td>1.278956e+08</td>\n",
       "      <td>0.0</td>\n",
       "      <td>0.0</td>\n",
       "      <td>1.0</td>\n",
       "      <td>1.0</td>\n",
       "      <td>0.0</td>\n",
       "      <td>0.0</td>\n",
       "      <td>2019-03-07 19:56:55</td>\n",
       "      <td>shooting crew of porn movies. #theworstjobtohave</td>\n",
       "    </tr>\n",
       "    <tr>\n",
       "      <th>11712090</th>\n",
       "      <td>4.654210e+08</td>\n",
       "      <td>3.0</td>\n",
       "      <td>0.0</td>\n",
       "      <td>4.0</td>\n",
       "      <td>0.0</td>\n",
       "      <td>0.0</td>\n",
       "      <td>0.0</td>\n",
       "      <td>2019-07-10 12:00:00</td>\n",
       "      <td>qualcuno dovrã  pur dire a quelli che \"twitter...</td>\n",
       "    </tr>\n",
       "  </tbody>\n",
       "</table>\n",
       "<p>11696839 rows × 9 columns</p>\n",
       "</div>"
      ],
      "text/plain": [
       "               user_id  retweet_count  reply_count  favorite_count  \\\n",
       "0         3.277463e+08            0.0          0.0             0.0   \n",
       "1         3.337229e+08            1.0          0.0             0.0   \n",
       "2         2.379756e+09            0.0          0.0             0.0   \n",
       "3         4.662269e+08            0.0          0.0             0.0   \n",
       "4         1.355538e+09          114.0          0.0             0.0   \n",
       "...                ...            ...          ...             ...   \n",
       "11712086  2.209330e+08            0.0          0.0             0.0   \n",
       "11712087  5.874910e+08            0.0          0.0             0.0   \n",
       "11712088  9.178130e+07            0.0          NaN             NaN   \n",
       "11712089  1.278956e+08            0.0          0.0             1.0   \n",
       "11712090  4.654210e+08            3.0          0.0             4.0   \n",
       "\n",
       "          num_hashtags  num_urls  num_mentions          created_at  \\\n",
       "0                  0.0       0.0           0.0 2019-09-11 14:53:55   \n",
       "1                  0.0       0.0           1.0 2020-04-01 20:27:04   \n",
       "2                  0.0       0.0           1.0 2019-05-02 13:34:31   \n",
       "3                  0.0       0.0           0.0 2019-11-04 07:17:37   \n",
       "4                  1.0       0.0           1.0 2020-03-11 16:45:31   \n",
       "...                ...       ...           ...                 ...   \n",
       "11712086           0.0       0.0           0.0 2018-05-04 05:29:33   \n",
       "11712087           0.0       0.0           1.0 2020-04-17 02:51:53   \n",
       "11712088           NaN       0.0           NaN 2016-07-10 22:43:09   \n",
       "11712089           1.0       0.0           0.0 2019-03-07 19:56:55   \n",
       "11712090           0.0       0.0           0.0 2019-07-10 12:00:00   \n",
       "\n",
       "                                                       text  \n",
       "0         if man is a little lower than angels, then ang...  \n",
       "1         \"@bestwshhvids: how do you say these words wit...  \n",
       "2                                       @lolatcomedy awsome  \n",
       "3         stephen hawkins: i buchi neri non esistono se ...  \n",
       "4                rt @tibbs_montris: so ready for wednesday!  \n",
       "...                                                     ...  \n",
       "11712086  esta manana aun esta  muy frio ! miren esto ! ...  \n",
       "11712087  @warriors congrats, maybe i'll be able to get ...  \n",
       "11712088                                                NaN  \n",
       "11712089   shooting crew of porn movies. #theworstjobtohave  \n",
       "11712090  qualcuno dovrã  pur dire a quelli che \"twitter...  \n",
       "\n",
       "[11696839 rows x 9 columns]"
      ]
     },
     "execution_count": 4,
     "metadata": {},
     "output_type": "execute_result"
    }
   ],
   "source": [
    "print(df_tweets.dtypes)\n",
    "df_tweets"
   ]
  },
  {
   "cell_type": "code",
   "execution_count": 5,
   "id": "98cbf596",
   "metadata": {},
   "outputs": [],
   "source": [
    "# compute the interquartile range and set the median to df.attr of the outliers \n",
    "def compute_outliers(df, attr):\n",
    "    Q1 = df[attr].quantile(0.25)\n",
    "    Q3 = df[attr].quantile(0.75)\n",
    "    IQR = Q3 - Q1    #IQR is interquartile range\n",
    "    print(\"Q1:\", Q1, \"Q3:\", Q3, \"IQR:\", IQR)\n",
    "    #filter = (df[attr] >= Q1 - 1.5 * IQR) & (df[attr] <= Q3 + 1.5 * IQR)\n",
    "    #valid = df.loc[filter]\n",
    "    filter = (df[attr] < Q1 - 1.5 * IQR) | (df[attr] > Q3 + 1.5 * IQR)\n",
    "    outliers = df.loc[filter]\n",
    "    \n",
    "    print(\"We have\", len(outliers), \"outliers over\", len(df), \"entries (\", (len(outliers) / len(df)) * 100, \"%)\")\n",
    "    \n",
    "    return outliers"
   ]
  },
  {
   "cell_type": "code",
   "execution_count": 6,
   "id": "bc37f239-55ad-4167-a7fe-9dcd35c97d11",
   "metadata": {},
   "outputs": [],
   "source": [
    "def hist(df, column):\n",
    "    numberOfBins = int(np.log2(len(df[column][df[column].notna()])) + 1)\n",
    "    print(\"Number of bins:\", numberOfBins)\n",
    "    df[column].plot(kind='hist', title=column, bins=numberOfBins)\n",
    "    plt.ylabel(\"count\")\n",
    "    plt.show()\n",
    "\n",
    "def boxplot(df, column):\n",
    "    df.boxplot(column=column)\n",
    "    plt.show()\n",
    "\n",
    "def log_scale(df, column):\n",
    "    return pd.DataFrame(np.log10(1+df[column][df[column].notna()]))\n",
    "\n",
    "def analyze_outliers(df, column, upper_bound):\n",
    "    hist(df, column)\n",
    "    boxplot(df, column)\n",
    "    \n",
    "    print(\"\\n\\nLog scale\")\n",
    "    column_log_scale = log_scale(df, column)\n",
    "    hist(column_log_scale, column)\n",
    "    boxplot(column_log_scale, column)\n",
    "    \n",
    "    print(\"\\n\\nUpper bound:\", upper_bound)\n",
    "    limited = df[df[column] <= upper_bound]\n",
    "    hist(limited, column)\n",
    "    boxplot(limited, column)\n",
    "    \n",
    "    print(\"\\n\\nLog scale with upper bound:\", upper_bound)\n",
    "    limited_log_scale = log_scale(limited, column)\n",
    "    hist(limited_log_scale, column)\n",
    "    boxplot(limited_log_scale, column)\n",
    "\n",
    "    # compute outliers from limited log scale\n",
    "    outliers = compute_outliers(limited_log_scale, column)\n",
    "    minOutlierValue = df.loc[outliers.index][column].min()\n",
    "    maxOutlierValue = df.loc[outliers.index][column].max()\n",
    "    print(\"Min outlier:\", minOutlierValue, \"   Max outlier:\", maxOutlierValue)\n",
    "\n",
    "    return outliers\n",
    "\n",
    "def fillna_grouby_userid(df, attr):\n",
    "    df[attr].fillna(df.groupby([\"user_id\"])[attr].transform(lambda x: np.nanmedian(x)), inplace=True)"
   ]
  },
  {
   "cell_type": "code",
   "execution_count": 7,
   "id": "64d04edf-73c9-4500-9a81-a49465cc15b3",
   "metadata": {},
   "outputs": [
    {
     "name": "stdout",
     "output_type": "stream",
     "text": [
      "Number of bins: 24\n"
     ]
    },
    {
     "data": {
      "image/png": "[encoded data removed]",
      "text/plain": [
       "<Figure size 640x480 with 1 Axes>"
      ]
     },
     "metadata": {},
     "output_type": "display_data"
    },
    {
     "data": {
      "image/png": "[encoded data removed]",
      "text/plain": [
       "<Figure size 640x480 with 1 Axes>"
      ]
     },
     "metadata": {},
     "output_type": "display_data"
    },
    {
     "name": "stdout",
     "output_type": "stream",
     "text": [
      "\n",
      "\n",
      "Log scale\n",
      "Number of bins: 24\n"
     ]
    },
    {
     "data": {
      "image/png": "[encoded data removed]",
      "text/plain": [
       "<Figure size 640x480 with 1 Axes>"
      ]
     },
     "metadata": {},
     "output_type": "display_data"
    },
    {
     "data": {
      "image/png": "[encoded data removed]",
      "text/plain": [
       "<Figure size 640x480 with 1 Axes>"
      ]
     },
     "metadata": {},
     "output_type": "display_data"
    },
    {
     "name": "stdout",
     "output_type": "stream",
     "text": [
      "\n",
      "\n",
      "Upper bound: 4000000\n",
      "Number of bins: 24\n"
     ]
    },
    {
     "data": {
      "image/png": "[encoded data removed]",
      "text/plain": [
       "<Figure size 640x480 with 1 Axes>"
      ]
     },
     "metadata": {},
     "output_type": "display_data"
    },
    {
     "data": {
      "image/png": "[encoded data removed]",
      "text/plain": [
       "<Figure size 640x480 with 1 Axes>"
      ]
     },
     "metadata": {},
     "output_type": "display_data"
    },
    {
     "name": "stdout",
     "output_type": "stream",
     "text": [
      "\n",
      "\n",
      "Log scale with upper bound: 4000000\n",
      "Number of bins: 24\n"
     ]
    },
    {
     "data": {
      "image/png": "[encoded data removed]",
      "text/plain": [
       "<Figure size 640x480 with 1 Axes>"
      ]
     },
     "metadata": {},
     "output_type": "display_data"
    },
    {
     "data": {
      "image/png": "[encoded data removed]",
      "text/plain": [
       "<Figure size 640x480 with 1 Axes>"
      ]
     },
     "metadata": {},
     "output_type": "display_data"
    },
    {
     "name": "stdout",
     "output_type": "stream",
     "text": [
      "Q1: 0.0 Q3: 0.3010299956639812 IQR: 0.3010299956639812\n",
      "We have 1527557 outliers over 11071721 entries ( 13.796924615423384 %)\n",
      "Min outlier: 5.0    Max outlier: 3350111.0\n"
     ]
    }
   ],
   "source": [
    "outliers = analyze_outliers(df_tweets, \"retweet_count\", 4000000)"
   ]
  },
  {
   "cell_type": "code",
   "execution_count": 8,
   "id": "78f8feb5",
   "metadata": {},
   "outputs": [],
   "source": [
    "df_tweets.loc[outliers.index, \"retweet_count\"] = np.nan"
   ]
  },
  {
   "cell_type": "code",
   "execution_count": 9,
   "id": "156c4da0",
   "metadata": {},
   "outputs": [
    {
     "name": "stderr",
     "output_type": "stream",
     "text": [
      "/home/dferraro/.local/lib/python3.10/site-packages/numpy/lib/nanfunctions.py:1217: RuntimeWarning: All-NaN slice encountered\n",
      "  r, k = function_base._ureduce(a, func=_nanmedian, axis=axis, out=out,\n"
     ]
    }
   ],
   "source": [
    "fillna_grouby_userid(df_tweets, \"retweet_count\")"
   ]
  },
  {
   "cell_type": "code",
   "execution_count": 10,
   "id": "247d44f6",
   "metadata": {},
   "outputs": [
    {
     "data": {
      "text/html": [
       "<div>\n",
       "<style scoped>\n",
       "    .dataframe tbody tr th:only-of-type {\n",
       "        vertical-align: middle;\n",
       "    }\n",
       "\n",
       "    .dataframe tbody tr th {\n",
       "        vertical-align: top;\n",
       "    }\n",
       "\n",
       "    .dataframe thead th {\n",
       "        text-align: right;\n",
       "    }\n",
       "</style>\n",
       "<table border=\"1\" class=\"dataframe\">\n",
       "  <thead>\n",
       "    <tr style=\"text-align: right;\">\n",
       "      <th></th>\n",
       "      <th>user_id</th>\n",
       "      <th>retweet_count</th>\n",
       "      <th>reply_count</th>\n",
       "      <th>favorite_count</th>\n",
       "      <th>num_hashtags</th>\n",
       "      <th>num_urls</th>\n",
       "      <th>num_mentions</th>\n",
       "    </tr>\n",
       "  </thead>\n",
       "  <tbody>\n",
       "    <tr>\n",
       "      <th>count</th>\n",
       "      <td>1.126316e+07</td>\n",
       "      <td>1.154586e+07</td>\n",
       "      <td>1.088779e+07</td>\n",
       "      <td>1.088909e+07</td>\n",
       "      <td>1.053363e+07</td>\n",
       "      <td>1.088803e+07</td>\n",
       "      <td>1.070914e+07</td>\n",
       "    </tr>\n",
       "    <tr>\n",
       "      <th>mean</th>\n",
       "      <td>2.663551e+289</td>\n",
       "      <td>2.348686e-01</td>\n",
       "      <td>1.836921e+103</td>\n",
       "      <td>2.466510e+00</td>\n",
       "      <td>1.766668e-01</td>\n",
       "      <td>1.652920e-01</td>\n",
       "      <td>5.262895e-01</td>\n",
       "    </tr>\n",
       "    <tr>\n",
       "      <th>std</th>\n",
       "      <td>inf</td>\n",
       "      <td>6.503741e-01</td>\n",
       "      <td>6.061222e+106</td>\n",
       "      <td>6.132943e+02</td>\n",
       "      <td>6.759432e-01</td>\n",
       "      <td>4.963056e-01</td>\n",
       "      <td>8.678002e-01</td>\n",
       "    </tr>\n",
       "    <tr>\n",
       "      <th>min</th>\n",
       "      <td>0.000000e+00</td>\n",
       "      <td>0.000000e+00</td>\n",
       "      <td>0.000000e+00</td>\n",
       "      <td>0.000000e+00</td>\n",
       "      <td>0.000000e+00</td>\n",
       "      <td>0.000000e+00</td>\n",
       "      <td>0.000000e+00</td>\n",
       "    </tr>\n",
       "    <tr>\n",
       "      <th>25%</th>\n",
       "      <td>2.328048e+08</td>\n",
       "      <td>0.000000e+00</td>\n",
       "      <td>0.000000e+00</td>\n",
       "      <td>0.000000e+00</td>\n",
       "      <td>0.000000e+00</td>\n",
       "      <td>0.000000e+00</td>\n",
       "      <td>0.000000e+00</td>\n",
       "    </tr>\n",
       "    <tr>\n",
       "      <th>50%</th>\n",
       "      <td>4.680803e+08</td>\n",
       "      <td>0.000000e+00</td>\n",
       "      <td>0.000000e+00</td>\n",
       "      <td>0.000000e+00</td>\n",
       "      <td>0.000000e+00</td>\n",
       "      <td>0.000000e+00</td>\n",
       "      <td>0.000000e+00</td>\n",
       "    </tr>\n",
       "    <tr>\n",
       "      <th>75%</th>\n",
       "      <td>1.232535e+09</td>\n",
       "      <td>0.000000e+00</td>\n",
       "      <td>0.000000e+00</td>\n",
       "      <td>0.000000e+00</td>\n",
       "      <td>0.000000e+00</td>\n",
       "      <td>0.000000e+00</td>\n",
       "      <td>1.000000e+00</td>\n",
       "    </tr>\n",
       "    <tr>\n",
       "      <th>max</th>\n",
       "      <td>3.000000e+296</td>\n",
       "      <td>4.000000e+00</td>\n",
       "      <td>2.000000e+110</td>\n",
       "      <td>9.224620e+05</td>\n",
       "      <td>1.990000e+02</td>\n",
       "      <td>1.950000e+02</td>\n",
       "      <td>2.000000e+02</td>\n",
       "    </tr>\n",
       "  </tbody>\n",
       "</table>\n",
       "</div>"
      ],
      "text/plain": [
       "             user_id  retweet_count    reply_count  favorite_count  \\\n",
       "count   1.126316e+07   1.154586e+07   1.088779e+07    1.088909e+07   \n",
       "mean   2.663551e+289   2.348686e-01  1.836921e+103    2.466510e+00   \n",
       "std              inf   6.503741e-01  6.061222e+106    6.132943e+02   \n",
       "min     0.000000e+00   0.000000e+00   0.000000e+00    0.000000e+00   \n",
       "25%     2.328048e+08   0.000000e+00   0.000000e+00    0.000000e+00   \n",
       "50%     4.680803e+08   0.000000e+00   0.000000e+00    0.000000e+00   \n",
       "75%     1.232535e+09   0.000000e+00   0.000000e+00    0.000000e+00   \n",
       "max    3.000000e+296   4.000000e+00  2.000000e+110    9.224620e+05   \n",
       "\n",
       "       num_hashtags      num_urls  num_mentions  \n",
       "count  1.053363e+07  1.088803e+07  1.070914e+07  \n",
       "mean   1.766668e-01  1.652920e-01  5.262895e-01  \n",
       "std    6.759432e-01  4.963056e-01  8.678002e-01  \n",
       "min    0.000000e+00  0.000000e+00  0.000000e+00  \n",
       "25%    0.000000e+00  0.000000e+00  0.000000e+00  \n",
       "50%    0.000000e+00  0.000000e+00  0.000000e+00  \n",
       "75%    0.000000e+00  0.000000e+00  1.000000e+00  \n",
       "max    1.990000e+02  1.950000e+02  2.000000e+02  "
      ]
     },
     "execution_count": 10,
     "metadata": {},
     "output_type": "execute_result"
    }
   ],
   "source": [
    "df_tweets.describe()"
   ]
  },
  {
   "cell_type": "markdown",
   "id": "f7219d16",
   "metadata": {},
   "source": [
    "# Save on file"
   ]
  },
  {
   "cell_type": "code",
   "execution_count": 11,
   "id": "6ecc000e",
   "metadata": {},
   "outputs": [
    {
     "name": "stderr",
     "output_type": "stream",
     "text": [
      "/tmp/ipykernel_10537/87023771.py:1: PerformanceWarning: \n",
      "your performance may suffer as PyTables will pickle object types that it cannot\n",
      "map directly to c-types [inferred_type->mixed,key->block2_values] [items->Index(['text'], dtype='object')]\n",
      "\n",
      "  df_tweets.to_hdf(resultDatasetPath, 'df_tweets', mode='w')\n"
     ]
    }
   ],
   "source": [
    "df_tweets.to_hdf(resultDatasetPath, 'df_tweets', mode='w')"
   ]
  }
 ],
 "metadata": {
  "kernelspec": {
   "display_name": "Python 3.10.6 64-bit",
   "language": "python",
   "name": "python3"
  },
  "language_info": {
   "codemirror_mode": {
    "name": "ipython",
    "version": 3
   },
   "file_extension": ".py",
   "mimetype": "text/x-python",
   "name": "python",
   "nbconvert_exporter": "python",
   "pygments_lexer": "ipython3",
   "version": "3.10.6"
  },
  "vscode": {
   "interpreter": {
    "hash": "916dbcbb3f70747c44a77c7bcd40155683ae19c65e1c03b4aa3499c5328201f1"
   }
  }
 },
 "nbformat": 4,
 "nbformat_minor": 5
}
