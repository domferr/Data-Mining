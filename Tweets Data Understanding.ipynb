{
 "cells": [
  {
   "cell_type": "code",
   "execution_count": 1,
   "id": "bbe798ef-93e6-4b06-af55-d1d0d1a4a1d0",
   "metadata": {},
   "outputs": [],
   "source": [
    "%matplotlib inline\n",
    "import math\n",
    "import numpy as np\n",
    "import pandas as pd\n",
    "import matplotlib.pyplot as plt\n",
    "import seaborn as sn\n",
    "\n",
    "sn.set_theme()\n",
    "\n",
    "def countMissingValues(df, attr):\n",
    "    count = df[attr].isna().sum()\n",
    "    print(count, \"missing\", attr, \"values\")\n",
    "    return count\n",
    "\n",
    "def convert_numeric(x):\n",
    "    try:\n",
    "        return pd.to_numeric(x)\n",
    "    except:\n",
    "        return x\n",
    "\n",
    "def object_to_multitype(df, attr):\n",
    "    numerical_conversion = df[attr].apply(convert_numeric)\n",
    "    # float.is_integer(np.nan) returns False\n",
    "    # float.is_integer(5.4) returns False\n",
    "    # float.is_integer(5.0) returns True\n",
    "\n",
    "    are_floats = numerical_conversion.apply(lambda x:not float.is_integer(x) if type(x) == np.float64 else False)\n",
    "    print(\"Number of floats:   \", are_floats.sum())\n",
    "    \n",
    "    are_integers = numerical_conversion.apply(lambda x:float.is_integer(x) if type(x) == np.float64 else type(x) == np.int64)\n",
    "    print(\"Number of integers: \", are_integers.sum())\n",
    "    \n",
    "    are_strings = numerical_conversion.apply(lambda x:type(x) == str)\n",
    "    print(\"Number of strings:  \", are_strings.sum())\n",
    "    \n",
    "    return are_floats, are_integers, are_strings"
   ]
  },
  {
   "cell_type": "code",
   "execution_count": 2,
   "id": "ab6b5f52-472b-41ed-b452-baf74e5aa1ba",
   "metadata": {},
   "outputs": [],
   "source": [
    "datasetTweetsCSVPath = \"./dataset/tweets.csv\""
   ]
  },
  {
   "cell_type": "markdown",
   "id": "0b433024-56f8-4aec-8484-47e1007f3648",
   "metadata": {},
   "source": [
    "# Tweets: Overview"
   ]
  },
  {
   "cell_type": "code",
   "execution_count": 3,
   "id": "b83c178f-e511-4a95-8371-93d154bf08a9",
   "metadata": {},
   "outputs": [],
   "source": [
    "df_tweets = pd.read_csv(datasetTweetsCSVPath, sep=',', index_col=0)"
   ]
  },
  {
   "cell_type": "code",
   "execution_count": 4,
   "id": "42a1eb20-3624-42ec-bb7b-9c046e860de4",
   "metadata": {},
   "outputs": [
    {
     "name": "stdout",
     "output_type": "stream",
     "text": [
      "rows = 13664696\n",
      "columns = 9\n"
     ]
    }
   ],
   "source": [
    "numberOfRows, numberOfColumns = df_tweets.shape\n",
    "print(\"rows =\", numberOfRows)\n",
    "print(\"columns =\", numberOfColumns)"
   ]
  },
  {
   "cell_type": "code",
   "execution_count": 5,
   "id": "e5a12ae3-fdb4-44e9-8681-540d85cb4f2e",
   "metadata": {},
   "outputs": [
    {
     "data": {
      "text/html": [
       "<div>\n",
       "<style scoped>\n",
       "    .dataframe tbody tr th:only-of-type {\n",
       "        vertical-align: middle;\n",
       "    }\n",
       "\n",
       "    .dataframe tbody tr th {\n",
       "        vertical-align: top;\n",
       "    }\n",
       "\n",
       "    .dataframe thead th {\n",
       "        text-align: right;\n",
       "    }\n",
       "</style>\n",
       "<table border=\"1\" class=\"dataframe\">\n",
       "  <thead>\n",
       "    <tr style=\"text-align: right;\">\n",
       "      <th></th>\n",
       "      <th>user_id</th>\n",
       "      <th>retweet_count</th>\n",
       "      <th>reply_count</th>\n",
       "      <th>favorite_count</th>\n",
       "      <th>num_hashtags</th>\n",
       "      <th>num_urls</th>\n",
       "      <th>num_mentions</th>\n",
       "      <th>created_at</th>\n",
       "      <th>text</th>\n",
       "    </tr>\n",
       "    <tr>\n",
       "      <th>id</th>\n",
       "      <th></th>\n",
       "      <th></th>\n",
       "      <th></th>\n",
       "      <th></th>\n",
       "      <th></th>\n",
       "      <th></th>\n",
       "      <th></th>\n",
       "      <th></th>\n",
       "      <th></th>\n",
       "    </tr>\n",
       "  </thead>\n",
       "  <tbody>\n",
       "    <tr>\n",
       "      <th>509354017856950272</th>\n",
       "      <td>327746321</td>\n",
       "      <td>0</td>\n",
       "      <td>0</td>\n",
       "      <td>0</td>\n",
       "      <td>0</td>\n",
       "      <td>0</td>\n",
       "      <td>0</td>\n",
       "      <td>2019-09-11 14:53:55</td>\n",
       "      <td>If man is a little lower than angels, then ang...</td>\n",
       "    </tr>\n",
       "    <tr>\n",
       "      <th>583002592529121280</th>\n",
       "      <td>333722906</td>\n",
       "      <td>1</td>\n",
       "      <td>0</td>\n",
       "      <td>0</td>\n",
       "      <td>0</td>\n",
       "      <td>0</td>\n",
       "      <td>1</td>\n",
       "      <td>2020-04-01 20:27:04</td>\n",
       "      <td>\"@BestWSHHVids: how do you say these words wit...</td>\n",
       "    </tr>\n",
       "    <tr>\n",
       "      <th>461498835362013185</th>\n",
       "      <td>2379755827</td>\n",
       "      <td>0</td>\n",
       "      <td>0</td>\n",
       "      <td>0</td>\n",
       "      <td>0</td>\n",
       "      <td>0</td>\n",
       "      <td>1</td>\n",
       "      <td>2019-05-02 13:34:31</td>\n",
       "      <td>@LOLatComedy awsome</td>\n",
       "    </tr>\n",
       "    <tr>\n",
       "      <th>528808127366692864</th>\n",
       "      <td>466226882</td>\n",
       "      <td>0</td>\n",
       "      <td>0</td>\n",
       "      <td>0</td>\n",
       "      <td>0</td>\n",
       "      <td>0</td>\n",
       "      <td>0</td>\n",
       "      <td>2019-11-04 07:17:37</td>\n",
       "      <td>Stephen Hawkins: i buchi neri non esistono se ...</td>\n",
       "    </tr>\n",
       "    <tr>\n",
       "      <th>575336690904006656</th>\n",
       "      <td>1355537995</td>\n",
       "      <td>114</td>\n",
       "      <td>0</td>\n",
       "      <td>0</td>\n",
       "      <td>1</td>\n",
       "      <td>0</td>\n",
       "      <td>1</td>\n",
       "      <td>2020-03-11 16:45:31</td>\n",
       "      <td>RT @tibbs_montris: So ready for Wednesday!</td>\n",
       "    </tr>\n",
       "  </tbody>\n",
       "</table>\n",
       "</div>"
      ],
      "text/plain": [
       "                       user_id retweet_count reply_count favorite_count  \\\n",
       "id                                                                        \n",
       "509354017856950272   327746321             0           0              0   \n",
       "583002592529121280   333722906             1           0              0   \n",
       "461498835362013185  2379755827             0           0              0   \n",
       "528808127366692864   466226882             0           0              0   \n",
       "575336690904006656  1355537995           114           0              0   \n",
       "\n",
       "                   num_hashtags num_urls num_mentions           created_at  \\\n",
       "id                                                                           \n",
       "509354017856950272            0        0            0  2019-09-11 14:53:55   \n",
       "583002592529121280            0        0            1  2020-04-01 20:27:04   \n",
       "461498835362013185            0        0            1  2019-05-02 13:34:31   \n",
       "528808127366692864            0        0            0  2019-11-04 07:17:37   \n",
       "575336690904006656            1        0            1  2020-03-11 16:45:31   \n",
       "\n",
       "                                                                 text  \n",
       "id                                                                     \n",
       "509354017856950272  If man is a little lower than angels, then ang...  \n",
       "583002592529121280  \"@BestWSHHVids: how do you say these words wit...  \n",
       "461498835362013185                                @LOLatComedy awsome  \n",
       "528808127366692864  Stephen Hawkins: i buchi neri non esistono se ...  \n",
       "575336690904006656        RT @tibbs_montris: So ready for Wednesday!   "
      ]
     },
     "execution_count": 5,
     "metadata": {},
     "output_type": "execute_result"
    }
   ],
   "source": [
    "df_tweets.head()"
   ]
  },
  {
   "cell_type": "code",
   "execution_count": 6,
   "id": "71c67dce-e21d-44af-b45f-dac41e14bee5",
   "metadata": {},
   "outputs": [
    {
     "data": {
      "text/plain": [
       "user_id           object\n",
       "retweet_count     object\n",
       "reply_count       object\n",
       "favorite_count    object\n",
       "num_hashtags      object\n",
       "num_urls          object\n",
       "num_mentions      object\n",
       "created_at        object\n",
       "text              object\n",
       "dtype: object"
      ]
     },
     "execution_count": 6,
     "metadata": {},
     "output_type": "execute_result"
    }
   ],
   "source": [
    "df_tweets.dtypes"
   ]
  },
  {
   "cell_type": "markdown",
   "id": "971a7508",
   "metadata": {},
   "source": [
    "## Plot missing values"
   ]
  },
  {
   "cell_type": "code",
   "execution_count": 18,
   "id": "d14e9cf5",
   "metadata": {},
   "outputs": [
    {
     "data": {
      "image/png": "[encoded data removed]",
      "text/plain": [
       "<Figure size 640x480 with 1 Axes>"
      ]
     },
     "metadata": {},
     "output_type": "display_data"
    }
   ],
   "source": [
    "df_tweets.isna().sum().plot(kind='bar', title='Number of missing values')\n",
    "#plt.yscale('log')\n",
    "plt.savefig(\"images/hist_tweets_numberof_missing_values.png\")\n",
    "plt.show()"
   ]
  },
  {
   "cell_type": "markdown",
   "id": "c413887a-1f27-49bf-8307-de8e6ec67de9",
   "metadata": {},
   "source": [
    "# Tweets: Attributes analysis"
   ]
  },
  {
   "cell_type": "markdown",
   "id": "844d174f-8607-47c5-bf26-c012a628b94c",
   "metadata": {},
   "source": [
    "## Index"
   ]
  },
  {
   "cell_type": "code",
   "execution_count": 7,
   "id": "6809e1f4-1659-40a4-8116-959de928347f",
   "metadata": {},
   "outputs": [
    {
     "name": "stdout",
     "output_type": "stream",
     "text": [
      "11672136 / 13664696 \t\t\n"
     ]
    }
   ],
   "source": [
    "uniqueTweetsCount = len(df_tweets.index.unique())\n",
    "print(uniqueTweetsCount, \"/\", numberOfRows, \"\\t\\t\")"
   ]
  },
  {
   "cell_type": "code",
   "execution_count": 8,
   "id": "aee3eed5-9b90-481e-9856-abe642e76aee",
   "metadata": {},
   "outputs": [
    {
     "name": "stdout",
     "output_type": "stream",
     "text": [
      "2 missing indexes\n"
     ]
    },
    {
     "data": {
      "text/html": [
       "<div>\n",
       "<style scoped>\n",
       "    .dataframe tbody tr th:only-of-type {\n",
       "        vertical-align: middle;\n",
       "    }\n",
       "\n",
       "    .dataframe tbody tr th {\n",
       "        vertical-align: top;\n",
       "    }\n",
       "\n",
       "    .dataframe thead th {\n",
       "        text-align: right;\n",
       "    }\n",
       "</style>\n",
       "<table border=\"1\" class=\"dataframe\">\n",
       "  <thead>\n",
       "    <tr style=\"text-align: right;\">\n",
       "      <th></th>\n",
       "      <th>user_id</th>\n",
       "      <th>retweet_count</th>\n",
       "      <th>reply_count</th>\n",
       "      <th>favorite_count</th>\n",
       "      <th>num_hashtags</th>\n",
       "      <th>num_urls</th>\n",
       "      <th>num_mentions</th>\n",
       "      <th>created_at</th>\n",
       "      <th>text</th>\n",
       "    </tr>\n",
       "    <tr>\n",
       "      <th>id</th>\n",
       "      <th></th>\n",
       "      <th></th>\n",
       "      <th></th>\n",
       "      <th></th>\n",
       "      <th></th>\n",
       "      <th></th>\n",
       "      <th></th>\n",
       "      <th></th>\n",
       "      <th></th>\n",
       "    </tr>\n",
       "  </thead>\n",
       "  <tbody>\n",
       "    <tr>\n",
       "      <th>NaN</th>\n",
       "      <td>466475273</td>\n",
       "      <td>NaN</td>\n",
       "      <td>NaN</td>\n",
       "      <td>NaN</td>\n",
       "      <td>NaN</td>\n",
       "      <td>NaN</td>\n",
       "      <td>NaN</td>\n",
       "      <td>2019-09-08 07:09:46</td>\n",
       "      <td>NaN</td>\n",
       "    </tr>\n",
       "    <tr>\n",
       "      <th>NaN</th>\n",
       "      <td>87334609</td>\n",
       "      <td>NaN</td>\n",
       "      <td>NaN</td>\n",
       "      <td>NaN</td>\n",
       "      <td>NaN</td>\n",
       "      <td>NaN</td>\n",
       "      <td>NaN</td>\n",
       "      <td>2019-04-13 01:10:44</td>\n",
       "      <td>NaN</td>\n",
       "    </tr>\n",
       "  </tbody>\n",
       "</table>\n",
       "</div>"
      ],
      "text/plain": [
       "       user_id retweet_count reply_count favorite_count num_hashtags num_urls  \\\n",
       "id                                                                              \n",
       "NaN  466475273           NaN         NaN            NaN          NaN      NaN   \n",
       "NaN   87334609           NaN         NaN            NaN          NaN      NaN   \n",
       "\n",
       "    num_mentions           created_at text  \n",
       "id                                          \n",
       "NaN          NaN  2019-09-08 07:09:46  NaN  \n",
       "NaN          NaN  2019-04-13 01:10:44  NaN  "
      ]
     },
     "execution_count": 8,
     "metadata": {},
     "output_type": "execute_result"
    }
   ],
   "source": [
    "print(df_tweets.index.isna().sum(), \"missing indexes\")\n",
    "df_tweets[df_tweets.index.isna()]"
   ]
  },
  {
   "cell_type": "code",
   "execution_count": 12,
   "id": "40d511cf-05f4-424f-a24a-8c4db3a73c41",
   "metadata": {},
   "outputs": [
    {
     "data": {
      "text/plain": [
       "1992560"
      ]
     },
     "execution_count": 12,
     "metadata": {},
     "output_type": "execute_result"
    }
   ],
   "source": [
    "df_tweets.index.duplicated(keep='first').sum()"
   ]
  },
  {
   "cell_type": "markdown",
   "id": "2d6c0c81-4c4c-4ea4-b20d-1f5282f27c04",
   "metadata": {},
   "source": [
    "## User_id"
   ]
  },
  {
   "cell_type": "code",
   "execution_count": 13,
   "id": "4d9969f8-0039-4274-9829-f9532b2056d2",
   "metadata": {},
   "outputs": [
    {
     "data": {
      "text/plain": [
       "222286"
      ]
     },
     "execution_count": 13,
     "metadata": {},
     "output_type": "execute_result"
    }
   ],
   "source": [
    "len(df_tweets.user_id.unique())"
   ]
  },
  {
   "cell_type": "code",
   "execution_count": 14,
   "id": "ccb44490-3e2d-4ce7-ad1e-ad343c85b096",
   "metadata": {},
   "outputs": [
    {
     "name": "stdout",
     "output_type": "stream",
     "text": [
      "217283 missing user_id values\n"
     ]
    },
    {
     "data": {
      "text/plain": [
       "217283"
      ]
     },
     "execution_count": 14,
     "metadata": {},
     "output_type": "execute_result"
    }
   ],
   "source": [
    "countMissingValues(df_tweets, \"user_id\")"
   ]
  },
  {
   "cell_type": "code",
   "execution_count": 15,
   "id": "e0f1aaf6-cbb6-4413-902b-fa1f1da14cfd",
   "metadata": {},
   "outputs": [
    {
     "name": "stdout",
     "output_type": "stream",
     "text": [
      "Number of floats:    0\n",
      "Number of integers:  13230801\n",
      "Number of strings:   216612\n"
     ]
    }
   ],
   "source": [
    "are_floats, are_integers, are_strings = object_to_multitype(df_tweets, \"user_id\")"
   ]
  },
  {
   "cell_type": "markdown",
   "id": "b7e4635d-e7ab-433e-90bc-3715ab530a4b",
   "metadata": {},
   "source": [
    "## Retweet_count"
   ]
  },
  {
   "cell_type": "code",
   "execution_count": 16,
   "id": "4d6a372c-9131-42f9-9ddf-9e10a8a05bbb",
   "metadata": {},
   "outputs": [
    {
     "name": "stdout",
     "output_type": "stream",
     "text": [
      "437134 missing retweet_count values\n"
     ]
    },
    {
     "data": {
      "text/plain": [
       "437134"
      ]
     },
     "execution_count": 16,
     "metadata": {},
     "output_type": "execute_result"
    }
   ],
   "source": [
    "missingRetweetCount = countMissingValues(df_tweets, \"retweet_count\")\n",
    "missingRetweetCount"
   ]
  },
  {
   "cell_type": "code",
   "execution_count": 17,
   "id": "47ed6231-79f7-4802-9823-dd95a7e92bf1",
   "metadata": {},
   "outputs": [
    {
     "name": "stdout",
     "output_type": "stream",
     "text": [
      "Number of floats:    1\n",
      "Number of integers:  13039239\n",
      "Number of strings:   188322\n"
     ]
    }
   ],
   "source": [
    "are_floats, are_integers, are_strings = object_to_multitype(df_tweets, \"retweet_count\")"
   ]
  },
  {
   "cell_type": "code",
   "execution_count": 5,
   "id": "f93b2f67-379c-46b8-a1f5-9c2125633e43",
   "metadata": {},
   "outputs": [
    {
     "data": {
      "text/html": [
       "<div>\n",
       "<style scoped>\n",
       "    .dataframe tbody tr th:only-of-type {\n",
       "        vertical-align: middle;\n",
       "    }\n",
       "\n",
       "    .dataframe tbody tr th {\n",
       "        vertical-align: top;\n",
       "    }\n",
       "\n",
       "    .dataframe thead th {\n",
       "        text-align: right;\n",
       "    }\n",
       "</style>\n",
       "<table border=\"1\" class=\"dataframe\">\n",
       "  <thead>\n",
       "    <tr style=\"text-align: right;\">\n",
       "      <th></th>\n",
       "      <th>user_id</th>\n",
       "      <th>retweet_count</th>\n",
       "      <th>reply_count</th>\n",
       "      <th>favorite_count</th>\n",
       "      <th>num_hashtags</th>\n",
       "      <th>num_urls</th>\n",
       "      <th>num_mentions</th>\n",
       "      <th>created_at</th>\n",
       "      <th>text</th>\n",
       "    </tr>\n",
       "    <tr>\n",
       "      <th>id</th>\n",
       "      <th></th>\n",
       "      <th></th>\n",
       "      <th></th>\n",
       "      <th></th>\n",
       "      <th></th>\n",
       "      <th></th>\n",
       "      <th></th>\n",
       "      <th></th>\n",
       "      <th></th>\n",
       "    </tr>\n",
       "  </thead>\n",
       "  <tbody>\n",
       "    <tr>\n",
       "      <th>25722144302443379</th>\n",
       "      <td>201350011</td>\n",
       "      <td>inf</td>\n",
       "      <td>NaN</td>\n",
       "      <td>NaN</td>\n",
       "      <td>NaN</td>\n",
       "      <td>NaN</td>\n",
       "      <td>NaN</td>\n",
       "      <td>2018-05-05 15:15:05</td>\n",
       "      <td>@EnlajugadaRCN @casaleantonio @jorgebermudezh ...</td>\n",
       "    </tr>\n",
       "  </tbody>\n",
       "</table>\n",
       "</div>"
      ],
      "text/plain": [
       "                     user_id retweet_count reply_count favorite_count  \\\n",
       "id                                                                      \n",
       "25722144302443379  201350011           inf         NaN            NaN   \n",
       "\n",
       "                  num_hashtags num_urls num_mentions           created_at  \\\n",
       "id                                                                          \n",
       "25722144302443379          NaN      NaN          NaN  2018-05-05 15:15:05   \n",
       "\n",
       "                                                                text  \n",
       "id                                                                    \n",
       "25722144302443379  @EnlajugadaRCN @casaleantonio @jorgebermudezh ...  "
      ]
     },
     "execution_count": 5,
     "metadata": {},
     "output_type": "execute_result"
    }
   ],
   "source": [
    "df_tweets[are_floats]"
   ]
  },
  {
   "cell_type": "code",
   "execution_count": 21,
   "id": "78148353-0f29-4aaf-949c-16f726f88d68",
   "metadata": {},
   "outputs": [
    {
     "name": "stdout",
     "output_type": "stream",
     "text": [
      "Number of not nan integers or floats: 13039245\n",
      "Number of NaN values or strings: 625451\n",
      "Number of strings: 188317\n"
     ]
    }
   ],
   "source": [
    "def IsNumber(num):\n",
    "    try:\n",
    "        val = float(num)\n",
    "        return not math.isnan(val)# and not float.is_integer(val)\n",
    "    except ValueError:\n",
    "        return False\n",
    "\n",
    "numbers = df_tweets.retweet_count.apply(IsNumber).sum()\n",
    "print(\"Number of not nan integers or floats:\", numbers)\n",
    "print(\"Number of NaN values or strings:\", numberOfRows-numbers)\n",
    "print(\"Number of strings:\", numberOfRows-numbers-missingRetweetCount)"
   ]
  },
  {
   "cell_type": "markdown",
   "id": "a572448d-4be4-46e6-b592-f2006a6f6742",
   "metadata": {},
   "source": [
    "## Reply_count"
   ]
  },
  {
   "cell_type": "code",
   "execution_count": 22,
   "id": "1dd9defb-7d50-4e68-9db8-e51581207bb7",
   "metadata": {},
   "outputs": [
    {
     "name": "stdout",
     "output_type": "stream",
     "text": [
      "647878 missing reply_count values\n"
     ]
    },
    {
     "data": {
      "text/plain": [
       "647878"
      ]
     },
     "execution_count": 22,
     "metadata": {},
     "output_type": "execute_result"
    }
   ],
   "source": [
    "countMissingValues(df_tweets, \"reply_count\")"
   ]
  },
  {
   "cell_type": "code",
   "execution_count": 6,
   "id": "c2143541-f675-4428-bdb4-c7fd3aeb3e2b",
   "metadata": {},
   "outputs": [
    {
     "name": "stdout",
     "output_type": "stream",
     "text": [
      "Number of floats:    1\n",
      "Number of integers:  12855191\n",
      "Number of strings:   161626\n"
     ]
    }
   ],
   "source": [
    "are_floats, are_integers, are_strings = object_to_multitype(df_tweets, \"reply_count\")"
   ]
  },
  {
   "cell_type": "code",
   "execution_count": 8,
   "id": "4934fbce-5e50-4a05-bb65-9ba528705038",
   "metadata": {},
   "outputs": [
    {
     "data": {
      "text/html": [
       "<div>\n",
       "<style scoped>\n",
       "    .dataframe tbody tr th:only-of-type {\n",
       "        vertical-align: middle;\n",
       "    }\n",
       "\n",
       "    .dataframe tbody tr th {\n",
       "        vertical-align: top;\n",
       "    }\n",
       "\n",
       "    .dataframe thead th {\n",
       "        text-align: right;\n",
       "    }\n",
       "</style>\n",
       "<table border=\"1\" class=\"dataframe\">\n",
       "  <thead>\n",
       "    <tr style=\"text-align: right;\">\n",
       "      <th></th>\n",
       "      <th>user_id</th>\n",
       "      <th>retweet_count</th>\n",
       "      <th>reply_count</th>\n",
       "      <th>favorite_count</th>\n",
       "      <th>num_hashtags</th>\n",
       "      <th>num_urls</th>\n",
       "      <th>num_mentions</th>\n",
       "      <th>created_at</th>\n",
       "      <th>text</th>\n",
       "    </tr>\n",
       "    <tr>\n",
       "      <th>id</th>\n",
       "      <th></th>\n",
       "      <th></th>\n",
       "      <th></th>\n",
       "      <th></th>\n",
       "      <th></th>\n",
       "      <th></th>\n",
       "      <th></th>\n",
       "      <th></th>\n",
       "      <th></th>\n",
       "    </tr>\n",
       "  </thead>\n",
       "  <tbody>\n",
       "    <tr>\n",
       "      <th>732386427</th>\n",
       "      <td>466377491</td>\n",
       "      <td>0</td>\n",
       "      <td>inf</td>\n",
       "      <td>1.0</td>\n",
       "      <td>0.0</td>\n",
       "      <td>NaN</td>\n",
       "      <td>0</td>\n",
       "      <td>2019-08-29 13:04:45</td>\n",
       "      <td>Prima di andare via sorridi un po' ma comunque...</td>\n",
       "    </tr>\n",
       "  </tbody>\n",
       "</table>\n",
       "</div>"
      ],
      "text/plain": [
       "             user_id retweet_count reply_count favorite_count num_hashtags  \\\n",
       "id                                                                           \n",
       "732386427  466377491             0         inf            1.0          0.0   \n",
       "\n",
       "          num_urls num_mentions           created_at  \\\n",
       "id                                                     \n",
       "732386427      NaN            0  2019-08-29 13:04:45   \n",
       "\n",
       "                                                        text  \n",
       "id                                                            \n",
       "732386427  Prima di andare via sorridi un po' ma comunque...  "
      ]
     },
     "execution_count": 8,
     "metadata": {},
     "output_type": "execute_result"
    }
   ],
   "source": [
    "df_tweets[are_floats]"
   ]
  },
  {
   "cell_type": "code",
   "execution_count": 10,
   "id": "9413ced2-2eb8-4bb6-a67b-b8a66c718135",
   "metadata": {},
   "outputs": [
    {
     "data": {
      "text/html": [
       "<div>\n",
       "<style scoped>\n",
       "    .dataframe tbody tr th:only-of-type {\n",
       "        vertical-align: middle;\n",
       "    }\n",
       "\n",
       "    .dataframe tbody tr th {\n",
       "        vertical-align: top;\n",
       "    }\n",
       "\n",
       "    .dataframe thead th {\n",
       "        text-align: right;\n",
       "    }\n",
       "</style>\n",
       "<table border=\"1\" class=\"dataframe\">\n",
       "  <thead>\n",
       "    <tr style=\"text-align: right;\">\n",
       "      <th></th>\n",
       "      <th>user_id</th>\n",
       "      <th>retweet_count</th>\n",
       "      <th>reply_count</th>\n",
       "      <th>favorite_count</th>\n",
       "      <th>num_hashtags</th>\n",
       "      <th>num_urls</th>\n",
       "      <th>num_mentions</th>\n",
       "      <th>created_at</th>\n",
       "      <th>text</th>\n",
       "    </tr>\n",
       "    <tr>\n",
       "      <th>id</th>\n",
       "      <th></th>\n",
       "      <th></th>\n",
       "      <th></th>\n",
       "      <th></th>\n",
       "      <th></th>\n",
       "      <th></th>\n",
       "      <th></th>\n",
       "      <th></th>\n",
       "      <th></th>\n",
       "    </tr>\n",
       "  </thead>\n",
       "  <tbody>\n",
       "    <tr>\n",
       "      <th>880585309694729</th>\n",
       "      <td>467154855</td>\n",
       "      <td>1</td>\n",
       "      <td>0ngi</td>\n",
       "      <td>NaN</td>\n",
       "      <td>0.0</td>\n",
       "      <td>0.0</td>\n",
       "      <td>0</td>\n",
       "      <td>2019-09-30 18:43:28</td>\n",
       "      <td>Non ce l'ho particolarmente coi bimbominkia, m...</td>\n",
       "    </tr>\n",
       "    <tr>\n",
       "      <th>584866617486297</th>\n",
       "      <td>1297673149</td>\n",
       "      <td>0</td>\n",
       "      <td>ggbdk7byp</td>\n",
       "      <td>0.0</td>\n",
       "      <td>0.0</td>\n",
       "      <td>0.0</td>\n",
       "      <td>NaN</td>\n",
       "      <td>2020-02-18 04:58:02</td>\n",
       "      <td>Home to pack new set of things...</td>\n",
       "    </tr>\n",
       "    <tr>\n",
       "      <th>50833457415</th>\n",
       "      <td>2585393083</td>\n",
       "      <td>4d7</td>\n",
       "      <td>wnkz8</td>\n",
       "      <td>0.0</td>\n",
       "      <td>0.0</td>\n",
       "      <td>0.0</td>\n",
       "      <td>1</td>\n",
       "      <td>2020-04-24 05:16:47</td>\n",
       "      <td>@MallikaYa</td>\n",
       "    </tr>\n",
       "    <tr>\n",
       "      <th>141660196835082</th>\n",
       "      <td>h5a67</td>\n",
       "      <td>0</td>\n",
       "      <td>2kzlx</td>\n",
       "      <td>0.0</td>\n",
       "      <td>0.0</td>\n",
       "      <td>0.0</td>\n",
       "      <td>0</td>\n",
       "      <td>2019-11-02 13:14:15</td>\n",
       "      <td>Aiutati che Dio se ne frega.</td>\n",
       "    </tr>\n",
       "    <tr>\n",
       "      <th>115054719</th>\n",
       "      <td>468055750</td>\n",
       "      <td>0</td>\n",
       "      <td>bre</td>\n",
       "      <td>0.0</td>\n",
       "      <td>0.0</td>\n",
       "      <td>0.0</td>\n",
       "      <td>NaN</td>\n",
       "      <td>2019-08-01 17:15:27</td>\n",
       "      <td>MAGLIONE=Indumento che I BAMBINI devono indoss...</td>\n",
       "    </tr>\n",
       "  </tbody>\n",
       "</table>\n",
       "</div>"
      ],
      "text/plain": [
       "                    user_id retweet_count reply_count favorite_count  \\\n",
       "id                                                                     \n",
       "880585309694729   467154855             1        0ngi            NaN   \n",
       "584866617486297  1297673149             0   ggbdk7byp            0.0   \n",
       "50833457415      2585393083           4d7       wnkz8            0.0   \n",
       "141660196835082       h5a67             0       2kzlx            0.0   \n",
       "115054719         468055750             0         bre            0.0   \n",
       "\n",
       "                num_hashtags num_urls num_mentions           created_at  \\\n",
       "id                                                                        \n",
       "880585309694729          0.0      0.0            0  2019-09-30 18:43:28   \n",
       "584866617486297          0.0      0.0          NaN  2020-02-18 04:58:02   \n",
       "50833457415              0.0      0.0            1  2020-04-24 05:16:47   \n",
       "141660196835082          0.0      0.0            0  2019-11-02 13:14:15   \n",
       "115054719                0.0      0.0          NaN  2019-08-01 17:15:27   \n",
       "\n",
       "                                                              text  \n",
       "id                                                                  \n",
       "880585309694729  Non ce l'ho particolarmente coi bimbominkia, m...  \n",
       "584866617486297                  Home to pack new set of things...  \n",
       "50833457415                                            @MallikaYa   \n",
       "141660196835082                       Aiutati che Dio se ne frega.  \n",
       "115054719        MAGLIONE=Indumento che I BAMBINI devono indoss...  "
      ]
     },
     "execution_count": 10,
     "metadata": {},
     "output_type": "execute_result"
    }
   ],
   "source": [
    "df_tweets[are_strings].head()"
   ]
  },
  {
   "cell_type": "code",
   "execution_count": 11,
   "id": "d7b84344-be29-4259-b255-eeda50dfa110",
   "metadata": {},
   "outputs": [
    {
     "data": {
      "text/html": [
       "<div>\n",
       "<style scoped>\n",
       "    .dataframe tbody tr th:only-of-type {\n",
       "        vertical-align: middle;\n",
       "    }\n",
       "\n",
       "    .dataframe tbody tr th {\n",
       "        vertical-align: top;\n",
       "    }\n",
       "\n",
       "    .dataframe thead th {\n",
       "        text-align: right;\n",
       "    }\n",
       "</style>\n",
       "<table border=\"1\" class=\"dataframe\">\n",
       "  <thead>\n",
       "    <tr style=\"text-align: right;\">\n",
       "      <th></th>\n",
       "      <th>user_id</th>\n",
       "      <th>retweet_count</th>\n",
       "      <th>reply_count</th>\n",
       "      <th>favorite_count</th>\n",
       "      <th>num_hashtags</th>\n",
       "      <th>num_urls</th>\n",
       "      <th>num_mentions</th>\n",
       "      <th>created_at</th>\n",
       "      <th>text</th>\n",
       "    </tr>\n",
       "    <tr>\n",
       "      <th>id</th>\n",
       "      <th></th>\n",
       "      <th></th>\n",
       "      <th></th>\n",
       "      <th></th>\n",
       "      <th></th>\n",
       "      <th></th>\n",
       "      <th></th>\n",
       "      <th></th>\n",
       "      <th></th>\n",
       "    </tr>\n",
       "  </thead>\n",
       "  <tbody>\n",
       "    <tr>\n",
       "      <th>509354017856950272</th>\n",
       "      <td>327746321</td>\n",
       "      <td>0</td>\n",
       "      <td>0</td>\n",
       "      <td>0</td>\n",
       "      <td>0</td>\n",
       "      <td>0</td>\n",
       "      <td>0</td>\n",
       "      <td>2019-09-11 14:53:55</td>\n",
       "      <td>If man is a little lower than angels, then ang...</td>\n",
       "    </tr>\n",
       "    <tr>\n",
       "      <th>583002592529121280</th>\n",
       "      <td>333722906</td>\n",
       "      <td>1</td>\n",
       "      <td>0</td>\n",
       "      <td>0</td>\n",
       "      <td>0</td>\n",
       "      <td>0</td>\n",
       "      <td>1</td>\n",
       "      <td>2020-04-01 20:27:04</td>\n",
       "      <td>\"@BestWSHHVids: how do you say these words wit...</td>\n",
       "    </tr>\n",
       "    <tr>\n",
       "      <th>461498835362013185</th>\n",
       "      <td>2379755827</td>\n",
       "      <td>0</td>\n",
       "      <td>0</td>\n",
       "      <td>0</td>\n",
       "      <td>0</td>\n",
       "      <td>0</td>\n",
       "      <td>1</td>\n",
       "      <td>2019-05-02 13:34:31</td>\n",
       "      <td>@LOLatComedy awsome</td>\n",
       "    </tr>\n",
       "    <tr>\n",
       "      <th>528808127366692864</th>\n",
       "      <td>466226882</td>\n",
       "      <td>0</td>\n",
       "      <td>0</td>\n",
       "      <td>0</td>\n",
       "      <td>0</td>\n",
       "      <td>0</td>\n",
       "      <td>0</td>\n",
       "      <td>2019-11-04 07:17:37</td>\n",
       "      <td>Stephen Hawkins: i buchi neri non esistono se ...</td>\n",
       "    </tr>\n",
       "    <tr>\n",
       "      <th>575336690904006656</th>\n",
       "      <td>1355537995</td>\n",
       "      <td>114</td>\n",
       "      <td>0</td>\n",
       "      <td>0</td>\n",
       "      <td>1</td>\n",
       "      <td>0</td>\n",
       "      <td>1</td>\n",
       "      <td>2020-03-11 16:45:31</td>\n",
       "      <td>RT @tibbs_montris: So ready for Wednesday!</td>\n",
       "    </tr>\n",
       "  </tbody>\n",
       "</table>\n",
       "</div>"
      ],
      "text/plain": [
       "                       user_id retweet_count reply_count favorite_count  \\\n",
       "id                                                                        \n",
       "509354017856950272   327746321             0           0              0   \n",
       "583002592529121280   333722906             1           0              0   \n",
       "461498835362013185  2379755827             0           0              0   \n",
       "528808127366692864   466226882             0           0              0   \n",
       "575336690904006656  1355537995           114           0              0   \n",
       "\n",
       "                   num_hashtags num_urls num_mentions           created_at  \\\n",
       "id                                                                           \n",
       "509354017856950272            0        0            0  2019-09-11 14:53:55   \n",
       "583002592529121280            0        0            1  2020-04-01 20:27:04   \n",
       "461498835362013185            0        0            1  2019-05-02 13:34:31   \n",
       "528808127366692864            0        0            0  2019-11-04 07:17:37   \n",
       "575336690904006656            1        0            1  2020-03-11 16:45:31   \n",
       "\n",
       "                                                                 text  \n",
       "id                                                                     \n",
       "509354017856950272  If man is a little lower than angels, then ang...  \n",
       "583002592529121280  \"@BestWSHHVids: how do you say these words wit...  \n",
       "461498835362013185                                @LOLatComedy awsome  \n",
       "528808127366692864  Stephen Hawkins: i buchi neri non esistono se ...  \n",
       "575336690904006656        RT @tibbs_montris: So ready for Wednesday!   "
      ]
     },
     "execution_count": 11,
     "metadata": {},
     "output_type": "execute_result"
    }
   ],
   "source": [
    "df_tweets[are_integers].head()"
   ]
  },
  {
   "cell_type": "markdown",
   "id": "18fde54c-d950-4d31-94ab-8e88290acc96",
   "metadata": {},
   "source": [
    "## Favorite_count"
   ]
  },
  {
   "cell_type": "code",
   "execution_count": 23,
   "id": "37dda912-8267-44d8-a46b-1920b215f81a",
   "metadata": {},
   "outputs": [
    {
     "name": "stdout",
     "output_type": "stream",
     "text": [
      "647542 missing favorite_count values\n"
     ]
    },
    {
     "data": {
      "text/plain": [
       "647542"
      ]
     },
     "execution_count": 23,
     "metadata": {},
     "output_type": "execute_result"
    }
   ],
   "source": [
    "countMissingValues(df_tweets, \"favorite_count\")"
   ]
  },
  {
   "cell_type": "code",
   "execution_count": 12,
   "id": "8d066967-de6c-4eb4-ae14-5a6a8ec13110",
   "metadata": {},
   "outputs": [
    {
     "name": "stdout",
     "output_type": "stream",
     "text": [
      "Number of floats:    0\n",
      "Number of integers:  12856599\n",
      "Number of strings:   160555\n"
     ]
    }
   ],
   "source": [
    "are_floats, are_integers, are_strings = object_to_multitype(df_tweets, \"favorite_count\")"
   ]
  },
  {
   "cell_type": "code",
   "execution_count": 13,
   "id": "def39655-ec74-4609-91fe-11c57cd38436",
   "metadata": {},
   "outputs": [
    {
     "data": {
      "text/html": [
       "<div>\n",
       "<style scoped>\n",
       "    .dataframe tbody tr th:only-of-type {\n",
       "        vertical-align: middle;\n",
       "    }\n",
       "\n",
       "    .dataframe tbody tr th {\n",
       "        vertical-align: top;\n",
       "    }\n",
       "\n",
       "    .dataframe thead th {\n",
       "        text-align: right;\n",
       "    }\n",
       "</style>\n",
       "<table border=\"1\" class=\"dataframe\">\n",
       "  <thead>\n",
       "    <tr style=\"text-align: right;\">\n",
       "      <th></th>\n",
       "      <th>user_id</th>\n",
       "      <th>retweet_count</th>\n",
       "      <th>reply_count</th>\n",
       "      <th>favorite_count</th>\n",
       "      <th>num_hashtags</th>\n",
       "      <th>num_urls</th>\n",
       "      <th>num_mentions</th>\n",
       "      <th>created_at</th>\n",
       "      <th>text</th>\n",
       "    </tr>\n",
       "    <tr>\n",
       "      <th>id</th>\n",
       "      <th></th>\n",
       "      <th></th>\n",
       "      <th></th>\n",
       "      <th></th>\n",
       "      <th></th>\n",
       "      <th></th>\n",
       "      <th></th>\n",
       "      <th></th>\n",
       "      <th></th>\n",
       "    </tr>\n",
       "  </thead>\n",
       "  <tbody>\n",
       "    <tr>\n",
       "      <th>487190144</th>\n",
       "      <td>NaN</td>\n",
       "      <td>1</td>\n",
       "      <td>NaN</td>\n",
       "      <td>ai6</td>\n",
       "      <td>NaN</td>\n",
       "      <td>0.0</td>\n",
       "      <td>NaN</td>\n",
       "      <td>2019-10-30 06:11:12</td>\n",
       "      <td>NaN</td>\n",
       "    </tr>\n",
       "    <tr>\n",
       "      <th>820421044889959764</th>\n",
       "      <td>220602388</td>\n",
       "      <td>4345</td>\n",
       "      <td>NaN</td>\n",
       "      <td>laco</td>\n",
       "      <td>0.0</td>\n",
       "      <td>0.0</td>\n",
       "      <td>1</td>\n",
       "      <td>2018-06-30 21:18:08</td>\n",
       "      <td>RT @TheBatman: WE ARE NOT ADDING HASHTAGS TO T...</td>\n",
       "    </tr>\n",
       "    <tr>\n",
       "      <th>160242657</th>\n",
       "      <td>347579782</td>\n",
       "      <td>0</td>\n",
       "      <td>0.0</td>\n",
       "      <td>6q3i9</td>\n",
       "      <td>0.0</td>\n",
       "      <td>NaN</td>\n",
       "      <td>0</td>\n",
       "      <td>2019-10-25 22:22:29</td>\n",
       "      <td>You must begin to think of yourself as becomin...</td>\n",
       "    </tr>\n",
       "    <tr>\n",
       "      <th>64829674</th>\n",
       "      <td>72196532</td>\n",
       "      <td>0</td>\n",
       "      <td>0.0</td>\n",
       "      <td>iujpyhwi</td>\n",
       "      <td>NaN</td>\n",
       "      <td>0.0</td>\n",
       "      <td>0</td>\n",
       "      <td>2020-03-28 14:39:17</td>\n",
       "      <td>Simula bukas may hihintayin na ako. Sana hindi...</td>\n",
       "    </tr>\n",
       "    <tr>\n",
       "      <th>319356420</th>\n",
       "      <td>538904290</td>\n",
       "      <td>2</td>\n",
       "      <td>0.0</td>\n",
       "      <td>n25521</td>\n",
       "      <td>s2oww</td>\n",
       "      <td>0.0</td>\n",
       "      <td>0</td>\n",
       "      <td>2019-07-24 07:36:52</td>\n",
       "      <td>âabituato al fatto che tutto va male.â</td>\n",
       "    </tr>\n",
       "  </tbody>\n",
       "</table>\n",
       "</div>"
      ],
      "text/plain": [
       "                      user_id retweet_count reply_count favorite_count  \\\n",
       "id                                                                       \n",
       "487190144                 NaN             1         NaN            ai6   \n",
       "820421044889959764  220602388          4345         NaN           laco   \n",
       "160242657           347579782             0         0.0          6q3i9   \n",
       "64829674             72196532             0         0.0       iujpyhwi   \n",
       "319356420           538904290             2         0.0         n25521   \n",
       "\n",
       "                   num_hashtags num_urls num_mentions           created_at  \\\n",
       "id                                                                           \n",
       "487190144                   NaN      0.0          NaN  2019-10-30 06:11:12   \n",
       "820421044889959764          0.0      0.0            1  2018-06-30 21:18:08   \n",
       "160242657                   0.0      NaN            0  2019-10-25 22:22:29   \n",
       "64829674                    NaN      0.0            0  2020-03-28 14:39:17   \n",
       "319356420                 s2oww      0.0            0  2019-07-24 07:36:52   \n",
       "\n",
       "                                                                 text  \n",
       "id                                                                     \n",
       "487190144                                                         NaN  \n",
       "820421044889959764  RT @TheBatman: WE ARE NOT ADDING HASHTAGS TO T...  \n",
       "160242657           You must begin to think of yourself as becomin...  \n",
       "64829674            Simula bukas may hihintayin na ako. Sana hindi...  \n",
       "319356420                  âabituato al fatto che tutto va male.â  "
      ]
     },
     "execution_count": 13,
     "metadata": {},
     "output_type": "execute_result"
    }
   ],
   "source": [
    "df_tweets[are_strings].head()"
   ]
  },
  {
   "cell_type": "markdown",
   "id": "249c3fb9-866c-406f-b94f-c356dac6e879",
   "metadata": {},
   "source": [
    "## Num_hashtags"
   ]
  },
  {
   "cell_type": "code",
   "execution_count": 24,
   "id": "3332ac21-1a3d-4c0f-830b-7d62315d78d6",
   "metadata": {},
   "outputs": [
    {
     "name": "stdout",
     "output_type": "stream",
     "text": [
      "1057524 missing num_hashtags values\n"
     ]
    },
    {
     "data": {
      "text/plain": [
       "1057524"
      ]
     },
     "execution_count": 24,
     "metadata": {},
     "output_type": "execute_result"
    }
   ],
   "source": [
    "countMissingValues(df_tweets, \"num_hashtags\")"
   ]
  },
  {
   "cell_type": "code",
   "execution_count": 14,
   "id": "7a32564d-d5ac-4323-a243-c13360ea21ae",
   "metadata": {},
   "outputs": [
    {
     "name": "stdout",
     "output_type": "stream",
     "text": [
      "Number of floats:    0\n",
      "Number of integers:  12501019\n",
      "Number of strings:   106153\n"
     ]
    }
   ],
   "source": [
    "are_floats, are_integers, are_strings = object_to_multitype(df_tweets, \"num_hashtags\")"
   ]
  },
  {
   "cell_type": "code",
   "execution_count": 15,
   "id": "aa7a9928-5769-4d07-b9e4-eae23ac832ee",
   "metadata": {},
   "outputs": [
    {
     "data": {
      "text/html": [
       "<div>\n",
       "<style scoped>\n",
       "    .dataframe tbody tr th:only-of-type {\n",
       "        vertical-align: middle;\n",
       "    }\n",
       "\n",
       "    .dataframe tbody tr th {\n",
       "        vertical-align: top;\n",
       "    }\n",
       "\n",
       "    .dataframe thead th {\n",
       "        text-align: right;\n",
       "    }\n",
       "</style>\n",
       "<table border=\"1\" class=\"dataframe\">\n",
       "  <thead>\n",
       "    <tr style=\"text-align: right;\">\n",
       "      <th></th>\n",
       "      <th>user_id</th>\n",
       "      <th>retweet_count</th>\n",
       "      <th>reply_count</th>\n",
       "      <th>favorite_count</th>\n",
       "      <th>num_hashtags</th>\n",
       "      <th>num_urls</th>\n",
       "      <th>num_mentions</th>\n",
       "      <th>created_at</th>\n",
       "      <th>text</th>\n",
       "    </tr>\n",
       "    <tr>\n",
       "      <th>id</th>\n",
       "      <th></th>\n",
       "      <th></th>\n",
       "      <th></th>\n",
       "      <th></th>\n",
       "      <th></th>\n",
       "      <th></th>\n",
       "      <th></th>\n",
       "      <th></th>\n",
       "      <th></th>\n",
       "    </tr>\n",
       "  </thead>\n",
       "  <tbody>\n",
       "    <tr>\n",
       "      <th>889911492460117211</th>\n",
       "      <td>999662546</td>\n",
       "      <td>0</td>\n",
       "      <td>0.0</td>\n",
       "      <td>NaN</td>\n",
       "      <td>2wtmdqfavz</td>\n",
       "      <td>0.0</td>\n",
       "      <td>1</td>\n",
       "      <td>2019-04-30 16:49:07</td>\n",
       "      <td>@lothomason_</td>\n",
       "    </tr>\n",
       "    <tr>\n",
       "      <th>86292257</th>\n",
       "      <td>926785916</td>\n",
       "      <td>0</td>\n",
       "      <td>NaN</td>\n",
       "      <td>0.0</td>\n",
       "      <td>uawehdge</td>\n",
       "      <td>0.0</td>\n",
       "      <td>1</td>\n",
       "      <td>2020-02-06 04:44:11</td>\n",
       "      <td>@alohatomlin youre the trash!</td>\n",
       "    </tr>\n",
       "    <tr>\n",
       "      <th>59506645605</th>\n",
       "      <td>NaN</td>\n",
       "      <td>0</td>\n",
       "      <td>0.0</td>\n",
       "      <td>0.0</td>\n",
       "      <td>6r5ak3</td>\n",
       "      <td>0.0</td>\n",
       "      <td>0</td>\n",
       "      <td>2019-10-02 17:25:04</td>\n",
       "      <td>I get to go to a lot of overseas places, like ...</td>\n",
       "    </tr>\n",
       "    <tr>\n",
       "      <th>166256377543106969</th>\n",
       "      <td>938206194</td>\n",
       "      <td>1</td>\n",
       "      <td>0.0</td>\n",
       "      <td>NaN</td>\n",
       "      <td>kd7</td>\n",
       "      <td>0.0</td>\n",
       "      <td>2</td>\n",
       "      <td>2020-04-28 04:39:46</td>\n",
       "      <td>RT @092Melis: @FelipePineda_  OMG youcould hav...</td>\n",
       "    </tr>\n",
       "    <tr>\n",
       "      <th>319356420</th>\n",
       "      <td>538904290</td>\n",
       "      <td>2</td>\n",
       "      <td>0.0</td>\n",
       "      <td>n25521</td>\n",
       "      <td>s2oww</td>\n",
       "      <td>0.0</td>\n",
       "      <td>0</td>\n",
       "      <td>2019-07-24 07:36:52</td>\n",
       "      <td>âabituato al fatto che tutto va male.â</td>\n",
       "    </tr>\n",
       "  </tbody>\n",
       "</table>\n",
       "</div>"
      ],
      "text/plain": [
       "                      user_id retweet_count reply_count favorite_count  \\\n",
       "id                                                                       \n",
       "889911492460117211  999662546             0         0.0            NaN   \n",
       "86292257            926785916             0         NaN            0.0   \n",
       "59506645605               NaN             0         0.0            0.0   \n",
       "166256377543106969  938206194             1         0.0            NaN   \n",
       "319356420           538904290             2         0.0         n25521   \n",
       "\n",
       "                   num_hashtags num_urls num_mentions           created_at  \\\n",
       "id                                                                           \n",
       "889911492460117211   2wtmdqfavz      0.0            1  2019-04-30 16:49:07   \n",
       "86292257               uawehdge      0.0            1  2020-02-06 04:44:11   \n",
       "59506645605              6r5ak3      0.0            0  2019-10-02 17:25:04   \n",
       "166256377543106969          kd7      0.0            2  2020-04-28 04:39:46   \n",
       "319356420                 s2oww      0.0            0  2019-07-24 07:36:52   \n",
       "\n",
       "                                                                 text  \n",
       "id                                                                     \n",
       "889911492460117211                                      @lothomason_   \n",
       "86292257                                @alohatomlin youre the trash!  \n",
       "59506645605         I get to go to a lot of overseas places, like ...  \n",
       "166256377543106969  RT @092Melis: @FelipePineda_  OMG youcould hav...  \n",
       "319356420                  âabituato al fatto che tutto va male.â  "
      ]
     },
     "execution_count": 15,
     "metadata": {},
     "output_type": "execute_result"
    }
   ],
   "source": [
    "df_tweets[are_strings].head()"
   ]
  },
  {
   "cell_type": "markdown",
   "id": "2c022d93-dad9-492a-9318-50fe25eaac7e",
   "metadata": {},
   "source": [
    "## Num_urls"
   ]
  },
  {
   "cell_type": "code",
   "execution_count": 25,
   "id": "d5d6988d-04d3-499b-8b10-f87942b93c9f",
   "metadata": {},
   "outputs": [
    {
     "name": "stdout",
     "output_type": "stream",
     "text": [
      "648623 missing num_urls values\n"
     ]
    },
    {
     "data": {
      "text/plain": [
       "648623"
      ]
     },
     "execution_count": 25,
     "metadata": {},
     "output_type": "execute_result"
    }
   ],
   "source": [
    "countMissingValues(df_tweets, \"num_urls\")"
   ]
  },
  {
   "cell_type": "code",
   "execution_count": 16,
   "id": "b63944a0-650f-4580-b53d-199d58d19db7",
   "metadata": {},
   "outputs": [
    {
     "name": "stdout",
     "output_type": "stream",
     "text": [
      "Number of floats:    0\n",
      "Number of integers:  12855743\n",
      "Number of strings:   160330\n"
     ]
    }
   ],
   "source": [
    "are_floats, are_integers, are_strings = object_to_multitype(df_tweets, \"num_urls\")"
   ]
  },
  {
   "cell_type": "markdown",
   "id": "ba688465-847d-47f9-86dd-ac3a295731b4",
   "metadata": {},
   "source": [
    "## Num_mentions"
   ]
  },
  {
   "cell_type": "code",
   "execution_count": 26,
   "id": "08d3622d-05ee-4247-b8fc-950cd9ea182f",
   "metadata": {},
   "outputs": [
    {
     "name": "stdout",
     "output_type": "stream",
     "text": [
      "854165 missing num_mentions values\n"
     ]
    },
    {
     "data": {
      "text/plain": [
       "854165"
      ]
     },
     "execution_count": 26,
     "metadata": {},
     "output_type": "execute_result"
    }
   ],
   "source": [
    "countMissingValues(df_tweets, \"num_mentions\")"
   ]
  },
  {
   "cell_type": "code",
   "execution_count": 17,
   "id": "2f163fdd-7914-499b-a8c5-2daec7b9f406",
   "metadata": {},
   "outputs": [
    {
     "name": "stdout",
     "output_type": "stream",
     "text": [
      "Number of floats:    0\n",
      "Number of integers:  12676706\n",
      "Number of strings:   133825\n"
     ]
    }
   ],
   "source": [
    "are_floats, are_integers, are_strings = object_to_multitype(df_tweets, \"num_mentions\")"
   ]
  },
  {
   "cell_type": "markdown",
   "id": "21bc0019-930d-4512-a370-776f7566d55c",
   "metadata": {},
   "source": [
    "## Created_at"
   ]
  },
  {
   "cell_type": "code",
   "execution_count": 19,
   "id": "f93745aa-121c-47e9-a7f7-a9e0a14077ef",
   "metadata": {},
   "outputs": [
    {
     "name": "stdout",
     "output_type": "stream",
     "text": [
      "0 missing created_at values\n"
     ]
    },
    {
     "data": {
      "text/plain": [
       "0"
      ]
     },
     "execution_count": 19,
     "metadata": {},
     "output_type": "execute_result"
    }
   ],
   "source": [
    "countMissingValues(df_tweets, \"created_at\")"
   ]
  },
  {
   "cell_type": "code",
   "execution_count": 20,
   "id": "c444eb6f-27c9-4a48-ac3c-6d36af23d184",
   "metadata": {},
   "outputs": [
    {
     "name": "stdout",
     "output_type": "stream",
     "text": [
      "Number of floats:    0\n",
      "Number of integers:  0\n",
      "Number of strings:   13664696\n"
     ]
    }
   ],
   "source": [
    "are_floats, are_integers, are_strings = object_to_multitype(df_tweets, \"created_at\")"
   ]
  },
  {
   "cell_type": "code",
   "execution_count": 21,
   "id": "fc4ebfce-3db8-4fb7-9fd9-d2ead5d2e5a3",
   "metadata": {},
   "outputs": [
    {
     "data": {
      "text/plain": [
       "user_id                   object\n",
       "retweet_count             object\n",
       "reply_count               object\n",
       "favorite_count            object\n",
       "num_hashtags              object\n",
       "num_urls                  object\n",
       "num_mentions              object\n",
       "created_at        datetime64[ns]\n",
       "text                      object\n",
       "dtype: object"
      ]
     },
     "execution_count": 21,
     "metadata": {},
     "output_type": "execute_result"
    }
   ],
   "source": [
    "df_tweets.created_at = pd.to_datetime(df_tweets.created_at, format='%Y-%m-%d %H:%M:%S')\n",
    "df_tweets.dtypes"
   ]
  },
  {
   "cell_type": "code",
   "execution_count": 22,
   "id": "1e56d07f-d827-4335-bf5b-092bba18d51f",
   "metadata": {},
   "outputs": [
    {
     "data": {
      "text/plain": [
       "Timestamp('2040-04-27 11:03:25')"
      ]
     },
     "execution_count": 22,
     "metadata": {},
     "output_type": "execute_result"
    }
   ],
   "source": [
    "df_tweets.created_at.max()"
   ]
  },
  {
   "cell_type": "code",
   "execution_count": 23,
   "id": "430e7134-dcfa-45fa-9c63-9e9746ceb0c2",
   "metadata": {},
   "outputs": [
    {
     "data": {
      "text/plain": [
       "Timestamp('1953-04-17 12:24:33')"
      ]
     },
     "execution_count": 23,
     "metadata": {},
     "output_type": "execute_result"
    }
   ],
   "source": [
    "df_tweets.created_at.min()"
   ]
  },
  {
   "cell_type": "code",
   "execution_count": 24,
   "id": "301f1c38-613d-42e1-bfba-cac359bbdf55",
   "metadata": {},
   "outputs": [
    {
     "data": {
      "image/png": "[encoded data removed]",
      "text/plain": [
       "<Figure size 640x480 with 1 Axes>"
      ]
     },
     "metadata": {},
     "output_type": "display_data"
    }
   ],
   "source": [
    "# Group by year\n",
    "created_at_by_year = df_tweets.groupby([df_tweets.created_at.dt.year.rename(\"year\")]).created_at.agg(count=\"count\").reset_index()\n",
    "created_at_by_year.plot(kind='bar', title='Year', x=\"year\", y=\"count\")\n",
    "plt.yscale('log')\n",
    "plt.ylabel(\"count\")\n",
    "plt.xlabel(\"Year\")\n",
    "plt.savefig(\"images/hist_tweets_created_at_year.png\")\n",
    "plt.show()"
   ]
  },
  {
   "cell_type": "code",
   "execution_count": 25,
   "id": "e02f5501",
   "metadata": {},
   "outputs": [
    {
     "data": {
      "image/png": "[encoded data removed]",
      "text/plain": [
       "<Figure size 640x480 with 1 Axes>"
      ]
     },
     "metadata": {},
     "output_type": "display_data"
    }
   ],
   "source": [
    "# Group by month\n",
    "created_at_by_month = df_tweets.groupby([df_tweets.created_at.dt.month_name().rename(\"month\")]).created_at.agg(count=\"count\").reset_index()\n",
    "created_at_by_month.plot(kind='bar', title='Month', x=\"month\", y=\"count\")\n",
    "plt.ylabel(\"count\")\n",
    "plt.xlabel(\"Month\")\n",
    "plt.savefig(\"images/hist_tweets_created_at_month.png\")\n",
    "plt.show()"
   ]
  },
  {
   "cell_type": "code",
   "execution_count": 26,
   "id": "e980dffe",
   "metadata": {},
   "outputs": [
    {
     "data": {
      "image/png": "[encoded data removed]",
      "text/plain": [
       "<Figure size 640x480 with 1 Axes>"
      ]
     },
     "metadata": {},
     "output_type": "display_data"
    }
   ],
   "source": [
    "# Group by day of the week\n",
    "created_at_by_day = df_tweets.groupby([df_tweets.created_at.dt.day_name().rename(\"day\")]).created_at.agg(count=\"count\").reset_index()\n",
    "created_at_by_day.plot(kind='bar', title='Day of the week', x=\"day\", y=\"count\")\n",
    "plt.ylabel(\"count\")\n",
    "plt.xlabel(\"Day\")\n",
    "plt.savefig(\"images/hist_tweets_created_at_dayoftheweek.png\")\n",
    "plt.show()"
   ]
  },
  {
   "cell_type": "markdown",
   "id": "f86be4e9-3273-46d4-8ad7-50305b4e181d",
   "metadata": {},
   "source": [
    "## Text"
   ]
  },
  {
   "cell_type": "code",
   "execution_count": 28,
   "id": "3fdfcbf3-2a25-401f-974a-c1265834c51a",
   "metadata": {},
   "outputs": [
    {
     "name": "stdout",
     "output_type": "stream",
     "text": [
      "537721 missing text values\n"
     ]
    },
    {
     "data": {
      "text/plain": [
       "537721"
      ]
     },
     "execution_count": 28,
     "metadata": {},
     "output_type": "execute_result"
    }
   ],
   "source": [
    "countMissingValues(df_tweets, \"text\")"
   ]
  },
  {
   "cell_type": "code",
   "execution_count": 45,
   "id": "9a3406ee-498d-4ae4-8c3f-51440d6894de",
   "metadata": {},
   "outputs": [
    {
     "data": {
      "text/html": [
       "<div>\n",
       "<style scoped>\n",
       "    .dataframe tbody tr th:only-of-type {\n",
       "        vertical-align: middle;\n",
       "    }\n",
       "\n",
       "    .dataframe tbody tr th {\n",
       "        vertical-align: top;\n",
       "    }\n",
       "\n",
       "    .dataframe thead th {\n",
       "        text-align: right;\n",
       "    }\n",
       "</style>\n",
       "<table border=\"1\" class=\"dataframe\">\n",
       "  <thead>\n",
       "    <tr style=\"text-align: right;\">\n",
       "      <th></th>\n",
       "      <th>user_id</th>\n",
       "      <th>retweet_count</th>\n",
       "      <th>reply_count</th>\n",
       "      <th>favorite_count</th>\n",
       "      <th>num_hashtags</th>\n",
       "      <th>num_urls</th>\n",
       "      <th>num_mentions</th>\n",
       "      <th>created_at</th>\n",
       "      <th>text</th>\n",
       "    </tr>\n",
       "    <tr>\n",
       "      <th>id</th>\n",
       "      <th></th>\n",
       "      <th></th>\n",
       "      <th></th>\n",
       "      <th></th>\n",
       "      <th></th>\n",
       "      <th></th>\n",
       "      <th></th>\n",
       "      <th></th>\n",
       "      <th></th>\n",
       "    </tr>\n",
       "  </thead>\n",
       "  <tbody>\n",
       "    <tr>\n",
       "      <th>491274532679081984</th>\n",
       "      <td>29552151</td>\n",
       "      <td>0</td>\n",
       "      <td>0</td>\n",
       "      <td>0</td>\n",
       "      <td>0</td>\n",
       "      <td>0</td>\n",
       "      <td>0</td>\n",
       "      <td>2019-07-23 17:32:30</td>\n",
       "      <td>Spent the majority of my day drawing around, c...</td>\n",
       "    </tr>\n",
       "    <tr>\n",
       "      <th>488693001456463872</th>\n",
       "      <td>29552151</td>\n",
       "      <td>0</td>\n",
       "      <td>0</td>\n",
       "      <td>0</td>\n",
       "      <td>0</td>\n",
       "      <td>0</td>\n",
       "      <td>0</td>\n",
       "      <td>2019-07-16 14:34:25</td>\n",
       "      <td>We all love dem cuddles. http://t.co/fPrcnUfacS</td>\n",
       "    </tr>\n",
       "  </tbody>\n",
       "</table>\n",
       "</div>"
      ],
      "text/plain": [
       "                     user_id retweet_count reply_count favorite_count  \\\n",
       "id                                                                      \n",
       "491274532679081984  29552151             0           0              0   \n",
       "488693001456463872  29552151             0           0              0   \n",
       "\n",
       "                   num_hashtags num_urls num_mentions          created_at  \\\n",
       "id                                                                          \n",
       "491274532679081984            0        0            0 2019-07-23 17:32:30   \n",
       "488693001456463872            0        0            0 2019-07-16 14:34:25   \n",
       "\n",
       "                                                                 text  \n",
       "id                                                                     \n",
       "491274532679081984  Spent the majority of my day drawing around, c...  \n",
       "488693001456463872    We all love dem cuddles. http://t.co/fPrcnUfacS  "
      ]
     },
     "execution_count": 45,
     "metadata": {},
     "output_type": "execute_result"
    }
   ],
   "source": [
    "df_tweets[df_tweets.user_id == \"29552151\"].head(2)"
   ]
  },
  {
   "cell_type": "code",
   "execution_count": 44,
   "id": "5df342d6-5be0-4e5b-93e3-11cb6cc033c1",
   "metadata": {},
   "outputs": [
    {
     "data": {
      "text/html": [
       "<div>\n",
       "<style scoped>\n",
       "    .dataframe tbody tr th:only-of-type {\n",
       "        vertical-align: middle;\n",
       "    }\n",
       "\n",
       "    .dataframe tbody tr th {\n",
       "        vertical-align: top;\n",
       "    }\n",
       "\n",
       "    .dataframe thead th {\n",
       "        text-align: right;\n",
       "    }\n",
       "</style>\n",
       "<table border=\"1\" class=\"dataframe\">\n",
       "  <thead>\n",
       "    <tr style=\"text-align: right;\">\n",
       "      <th></th>\n",
       "      <th>user_id</th>\n",
       "      <th>retweet_count</th>\n",
       "      <th>reply_count</th>\n",
       "      <th>favorite_count</th>\n",
       "      <th>num_hashtags</th>\n",
       "      <th>num_urls</th>\n",
       "      <th>num_mentions</th>\n",
       "      <th>created_at</th>\n",
       "      <th>text</th>\n",
       "    </tr>\n",
       "    <tr>\n",
       "      <th>id</th>\n",
       "      <th></th>\n",
       "      <th></th>\n",
       "      <th></th>\n",
       "      <th></th>\n",
       "      <th></th>\n",
       "      <th></th>\n",
       "      <th></th>\n",
       "      <th></th>\n",
       "      <th></th>\n",
       "    </tr>\n",
       "  </thead>\n",
       "  <tbody>\n",
       "    <tr>\n",
       "      <th>586696968333725696</th>\n",
       "      <td>2956613720</td>\n",
       "      <td>0</td>\n",
       "      <td>0</td>\n",
       "      <td>0</td>\n",
       "      <td>0</td>\n",
       "      <td>0</td>\n",
       "      <td>1</td>\n",
       "      <td>2020-04-12 01:07:12</td>\n",
       "      <td>@bernardchickey I've heard of something called...</td>\n",
       "    </tr>\n",
       "    <tr>\n",
       "      <th>560136340663070720</th>\n",
       "      <td>2956613720</td>\n",
       "      <td>13933</td>\n",
       "      <td>0</td>\n",
       "      <td>0</td>\n",
       "      <td>0</td>\n",
       "      <td>0</td>\n",
       "      <td>2</td>\n",
       "      <td>2020-01-29 18:04:45</td>\n",
       "      <td>RT @stephenfry: If physical diseases were trea...</td>\n",
       "    </tr>\n",
       "  </tbody>\n",
       "</table>\n",
       "</div>"
      ],
      "text/plain": [
       "                       user_id retweet_count reply_count favorite_count  \\\n",
       "id                                                                        \n",
       "586696968333725696  2956613720             0           0              0   \n",
       "560136340663070720  2956613720         13933           0              0   \n",
       "\n",
       "                   num_hashtags num_urls num_mentions          created_at  \\\n",
       "id                                                                          \n",
       "586696968333725696            0        0            1 2020-04-12 01:07:12   \n",
       "560136340663070720            0        0            2 2020-01-29 18:04:45   \n",
       "\n",
       "                                                                 text  \n",
       "id                                                                     \n",
       "586696968333725696  @bernardchickey I've heard of something called...  \n",
       "560136340663070720  RT @stephenfry: If physical diseases were trea...  "
      ]
     },
     "execution_count": 44,
     "metadata": {},
     "output_type": "execute_result"
    }
   ],
   "source": [
    "df_tweets[df_tweets.user_id == \"2956613720\"].head(2)"
   ]
  },
  {
   "cell_type": "code",
   "execution_count": 43,
   "id": "5bed259c-13b5-4880-9172-f05cb474e8a0",
   "metadata": {},
   "outputs": [
    {
     "data": {
      "text/html": [
       "<div>\n",
       "<style scoped>\n",
       "    .dataframe tbody tr th:only-of-type {\n",
       "        vertical-align: middle;\n",
       "    }\n",
       "\n",
       "    .dataframe tbody tr th {\n",
       "        vertical-align: top;\n",
       "    }\n",
       "\n",
       "    .dataframe thead th {\n",
       "        text-align: right;\n",
       "    }\n",
       "</style>\n",
       "<table border=\"1\" class=\"dataframe\">\n",
       "  <thead>\n",
       "    <tr style=\"text-align: right;\">\n",
       "      <th></th>\n",
       "      <th>user_id</th>\n",
       "      <th>retweet_count</th>\n",
       "      <th>reply_count</th>\n",
       "      <th>favorite_count</th>\n",
       "      <th>num_hashtags</th>\n",
       "      <th>num_urls</th>\n",
       "      <th>num_mentions</th>\n",
       "      <th>created_at</th>\n",
       "      <th>text</th>\n",
       "    </tr>\n",
       "    <tr>\n",
       "      <th>id</th>\n",
       "      <th></th>\n",
       "      <th></th>\n",
       "      <th></th>\n",
       "      <th></th>\n",
       "      <th></th>\n",
       "      <th></th>\n",
       "      <th></th>\n",
       "      <th></th>\n",
       "      <th></th>\n",
       "    </tr>\n",
       "  </thead>\n",
       "  <tbody>\n",
       "    <tr>\n",
       "      <th>577066752946794496</th>\n",
       "      <td>2904858613</td>\n",
       "      <td>0</td>\n",
       "      <td>0</td>\n",
       "      <td>0</td>\n",
       "      <td>0</td>\n",
       "      <td>0</td>\n",
       "      <td>1</td>\n",
       "      <td>2020-03-16 11:20:09</td>\n",
       "      <td>@GinnyBlackmore fucking sad</td>\n",
       "    </tr>\n",
       "    <tr>\n",
       "      <th>577046340795957248</th>\n",
       "      <td>2904858613</td>\n",
       "      <td>0</td>\n",
       "      <td>0</td>\n",
       "      <td>0</td>\n",
       "      <td>0</td>\n",
       "      <td>0</td>\n",
       "      <td>1</td>\n",
       "      <td>2020-03-16 09:59:03</td>\n",
       "      <td>@NataliaKills had the right to an opinion mean...</td>\n",
       "    </tr>\n",
       "  </tbody>\n",
       "</table>\n",
       "</div>"
      ],
      "text/plain": [
       "                       user_id retweet_count reply_count favorite_count  \\\n",
       "id                                                                        \n",
       "577066752946794496  2904858613             0           0              0   \n",
       "577046340795957248  2904858613             0           0              0   \n",
       "\n",
       "                   num_hashtags num_urls num_mentions          created_at  \\\n",
       "id                                                                          \n",
       "577066752946794496            0        0            1 2020-03-16 11:20:09   \n",
       "577046340795957248            0        0            1 2020-03-16 09:59:03   \n",
       "\n",
       "                                                                 text  \n",
       "id                                                                     \n",
       "577066752946794496                        @GinnyBlackmore fucking sad  \n",
       "577046340795957248  @NataliaKills had the right to an opinion mean...  "
      ]
     },
     "execution_count": 43,
     "metadata": {},
     "output_type": "execute_result"
    }
   ],
   "source": [
    "df_tweets[df_tweets.user_id == \"2904858613\"].head(2)"
   ]
  },
  {
   "cell_type": "code",
   "execution_count": null,
   "id": "15a90e62-7ebb-434d-b033-dee23ce7a011",
   "metadata": {},
   "outputs": [],
   "source": []
  }
 ],
 "metadata": {
  "kernelspec": {
   "display_name": "Python 3.9.7 64-bit",
   "language": "python",
   "name": "python3"
  },
  "language_info": {
   "codemirror_mode": {
    "name": "ipython",
    "version": 3
   },
   "file_extension": ".py",
   "mimetype": "text/x-python",
   "name": "python",
   "nbconvert_exporter": "python",
   "pygments_lexer": "ipython3",
   "version": "3.9.7"
  },
  "vscode": {
   "interpreter": {
    "hash": "52f9e5fb104abb86985542e340745a7848af4e25021bc2422cc3c824cc2c2e3b"
   }
  }
 },
 "nbformat": 4,
 "nbformat_minor": 5
}
