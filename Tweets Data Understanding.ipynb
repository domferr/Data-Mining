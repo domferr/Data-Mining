{
 "cells": [
  {
   "cell_type": "code",
   "execution_count": 1,
   "id": "bbe798ef-93e6-4b06-af55-d1d0d1a4a1d0",
   "metadata": {},
   "outputs": [],
   "source": [
    "%matplotlib inline\n",
    "import math\n",
    "import numpy as np\n",
    "import pandas as pd\n",
    "import matplotlib.pyplot as plt\n",
    "import plotly.express as plt_ex"
   ]
  },
  {
   "cell_type": "code",
   "execution_count": 2,
   "id": "ab6b5f52-472b-41ed-b452-baf74e5aa1ba",
   "metadata": {},
   "outputs": [],
   "source": [
    "datasetTweetsCSVPath = \"./dataset/tweets.csv\""
   ]
  },
  {
   "cell_type": "markdown",
   "id": "0b433024-56f8-4aec-8484-47e1007f3648",
   "metadata": {},
   "source": [
    "# Tweets: Overview"
   ]
  },
  {
   "cell_type": "code",
   "execution_count": 3,
   "id": "b83c178f-e511-4a95-8371-93d154bf08a9",
   "metadata": {},
   "outputs": [],
   "source": [
    "df_tweets = pd.read_csv(datasetTweetsCSVPath, sep=',', index_col=0)"
   ]
  },
  {
   "cell_type": "code",
   "execution_count": 4,
   "id": "42a1eb20-3624-42ec-bb7b-9c046e860de4",
   "metadata": {},
   "outputs": [
    {
     "name": "stdout",
     "output_type": "stream",
     "text": [
      "rows = 13664696\n",
      "columns = 9\n"
     ]
    }
   ],
   "source": [
    "numberOfRows, numberOfColumns = df_tweets.shape\n",
    "print(\"rows =\", numberOfRows)\n",
    "print(\"columns =\", numberOfColumns)"
   ]
  },
  {
   "cell_type": "code",
   "execution_count": 5,
   "id": "e5a12ae3-fdb4-44e9-8681-540d85cb4f2e",
   "metadata": {},
   "outputs": [
    {
     "data": {
      "text/html": [
       "<div>\n",
       "<style scoped>\n",
       "    .dataframe tbody tr th:only-of-type {\n",
       "        vertical-align: middle;\n",
       "    }\n",
       "\n",
       "    .dataframe tbody tr th {\n",
       "        vertical-align: top;\n",
       "    }\n",
       "\n",
       "    .dataframe thead th {\n",
       "        text-align: right;\n",
       "    }\n",
       "</style>\n",
       "<table border=\"1\" class=\"dataframe\">\n",
       "  <thead>\n",
       "    <tr style=\"text-align: right;\">\n",
       "      <th></th>\n",
       "      <th>user_id</th>\n",
       "      <th>retweet_count</th>\n",
       "      <th>reply_count</th>\n",
       "      <th>favorite_count</th>\n",
       "      <th>num_hashtags</th>\n",
       "      <th>num_urls</th>\n",
       "      <th>num_mentions</th>\n",
       "      <th>created_at</th>\n",
       "      <th>text</th>\n",
       "    </tr>\n",
       "    <tr>\n",
       "      <th>id</th>\n",
       "      <th></th>\n",
       "      <th></th>\n",
       "      <th></th>\n",
       "      <th></th>\n",
       "      <th></th>\n",
       "      <th></th>\n",
       "      <th></th>\n",
       "      <th></th>\n",
       "      <th></th>\n",
       "    </tr>\n",
       "  </thead>\n",
       "  <tbody>\n",
       "    <tr>\n",
       "      <th>509354017856950272</th>\n",
       "      <td>327746321</td>\n",
       "      <td>0</td>\n",
       "      <td>0</td>\n",
       "      <td>0</td>\n",
       "      <td>0</td>\n",
       "      <td>0</td>\n",
       "      <td>0</td>\n",
       "      <td>2019-09-11 14:53:55</td>\n",
       "      <td>If man is a little lower than angels, then ang...</td>\n",
       "    </tr>\n",
       "    <tr>\n",
       "      <th>583002592529121280</th>\n",
       "      <td>333722906</td>\n",
       "      <td>1</td>\n",
       "      <td>0</td>\n",
       "      <td>0</td>\n",
       "      <td>0</td>\n",
       "      <td>0</td>\n",
       "      <td>1</td>\n",
       "      <td>2020-04-01 20:27:04</td>\n",
       "      <td>\"@BestWSHHVids: how do you say these words wit...</td>\n",
       "    </tr>\n",
       "    <tr>\n",
       "      <th>461498835362013185</th>\n",
       "      <td>2379755827</td>\n",
       "      <td>0</td>\n",
       "      <td>0</td>\n",
       "      <td>0</td>\n",
       "      <td>0</td>\n",
       "      <td>0</td>\n",
       "      <td>1</td>\n",
       "      <td>2019-05-02 13:34:31</td>\n",
       "      <td>@LOLatComedy awsome</td>\n",
       "    </tr>\n",
       "    <tr>\n",
       "      <th>528808127366692864</th>\n",
       "      <td>466226882</td>\n",
       "      <td>0</td>\n",
       "      <td>0</td>\n",
       "      <td>0</td>\n",
       "      <td>0</td>\n",
       "      <td>0</td>\n",
       "      <td>0</td>\n",
       "      <td>2019-11-04 07:17:37</td>\n",
       "      <td>Stephen Hawkins: i buchi neri non esistono se ...</td>\n",
       "    </tr>\n",
       "    <tr>\n",
       "      <th>575336690904006656</th>\n",
       "      <td>1355537995</td>\n",
       "      <td>114</td>\n",
       "      <td>0</td>\n",
       "      <td>0</td>\n",
       "      <td>1</td>\n",
       "      <td>0</td>\n",
       "      <td>1</td>\n",
       "      <td>2020-03-11 16:45:31</td>\n",
       "      <td>RT @tibbs_montris: So ready for Wednesday!</td>\n",
       "    </tr>\n",
       "  </tbody>\n",
       "</table>\n",
       "</div>"
      ],
      "text/plain": [
       "                       user_id retweet_count reply_count favorite_count  \\\n",
       "id                                                                        \n",
       "509354017856950272   327746321             0           0              0   \n",
       "583002592529121280   333722906             1           0              0   \n",
       "461498835362013185  2379755827             0           0              0   \n",
       "528808127366692864   466226882             0           0              0   \n",
       "575336690904006656  1355537995           114           0              0   \n",
       "\n",
       "                   num_hashtags num_urls num_mentions           created_at  \\\n",
       "id                                                                           \n",
       "509354017856950272            0        0            0  2019-09-11 14:53:55   \n",
       "583002592529121280            0        0            1  2020-04-01 20:27:04   \n",
       "461498835362013185            0        0            1  2019-05-02 13:34:31   \n",
       "528808127366692864            0        0            0  2019-11-04 07:17:37   \n",
       "575336690904006656            1        0            1  2020-03-11 16:45:31   \n",
       "\n",
       "                                                                 text  \n",
       "id                                                                     \n",
       "509354017856950272  If man is a little lower than angels, then ang...  \n",
       "583002592529121280  \"@BestWSHHVids: how do you say these words wit...  \n",
       "461498835362013185                                @LOLatComedy awsome  \n",
       "528808127366692864  Stephen Hawkins: i buchi neri non esistono se ...  \n",
       "575336690904006656        RT @tibbs_montris: So ready for Wednesday!   "
      ]
     },
     "execution_count": 5,
     "metadata": {},
     "output_type": "execute_result"
    }
   ],
   "source": [
    "df_tweets.head()"
   ]
  },
  {
   "cell_type": "code",
   "execution_count": 6,
   "id": "71c67dce-e21d-44af-b45f-dac41e14bee5",
   "metadata": {},
   "outputs": [
    {
     "data": {
      "text/plain": [
       "user_id           object\n",
       "retweet_count     object\n",
       "reply_count       object\n",
       "favorite_count    object\n",
       "num_hashtags      object\n",
       "num_urls          object\n",
       "num_mentions      object\n",
       "created_at        object\n",
       "text              object\n",
       "dtype: object"
      ]
     },
     "execution_count": 6,
     "metadata": {},
     "output_type": "execute_result"
    }
   ],
   "source": [
    "df_tweets.dtypes"
   ]
  },
  {
   "cell_type": "code",
   "execution_count": 7,
   "id": "33741144-d0be-424a-9adf-5415ee676f09",
   "metadata": {},
   "outputs": [
    {
     "data": {
      "text/plain": [
       "dtype('O')"
      ]
     },
     "execution_count": 7,
     "metadata": {},
     "output_type": "execute_result"
    }
   ],
   "source": [
    "df_tweets.index.dtype"
   ]
  },
  {
   "cell_type": "code",
   "execution_count": 8,
   "id": "88d263ed-c94b-494d-bb18-7a56969fc6ac",
   "metadata": {},
   "outputs": [
    {
     "name": "stdout",
     "output_type": "stream",
     "text": [
      "<class 'pandas.core.frame.DataFrame'>\n",
      "Index: 13664696 entries, 509354017856950272 to 486479812614451200\n",
      "Data columns (total 9 columns):\n",
      " #   Column          Dtype \n",
      "---  ------          ----- \n",
      " 0   user_id         object\n",
      " 1   retweet_count   object\n",
      " 2   reply_count     object\n",
      " 3   favorite_count  object\n",
      " 4   num_hashtags    object\n",
      " 5   num_urls        object\n",
      " 6   num_mentions    object\n",
      " 7   created_at      object\n",
      " 8   text            object\n",
      "dtypes: object(9)\n",
      "memory usage: 1.0+ GB\n"
     ]
    }
   ],
   "source": [
    "df_tweets.info()"
   ]
  },
  {
   "cell_type": "code",
   "execution_count": 9,
   "id": "77bf43ab-0515-4928-b551-30e1f78bbd00",
   "metadata": {},
   "outputs": [
    {
     "data": {
      "text/plain": [
       "user_id            True\n",
       "retweet_count      True\n",
       "reply_count        True\n",
       "favorite_count     True\n",
       "num_hashtags       True\n",
       "num_urls           True\n",
       "num_mentions       True\n",
       "created_at        False\n",
       "text               True\n",
       "dtype: bool"
      ]
     },
     "execution_count": 9,
     "metadata": {},
     "output_type": "execute_result"
    }
   ],
   "source": [
    "df_tweets.isnull().any()"
   ]
  },
  {
   "cell_type": "code",
   "execution_count": null,
   "id": "b1a67e9f-e070-44d8-aff6-a8cdd0df68cb",
   "metadata": {},
   "outputs": [
    {
     "name": "stdout",
     "output_type": "stream",
     "text": [
      "Number of distinct values in user_id: \t\t 222286 / 13664696\n",
      "Number of distinct values in retweet_count:\t 229168 / 13664696\n",
      "Number of distinct values in reply_count: \t 158620 / 13664696\n",
      "Number of distinct values in favorite_count: \t 158764 / 13664696\n",
      "Number of distinct values in num_hashtags: \t 104780 / 13664696\n",
      "Number of distinct values in num_urls: \t\t 157146 / 13664696\n",
      "Number of distinct values in num_mentions: \t 131539 / 13664696\n"
     ]
    }
   ],
   "source": [
    "print(\"Number of distinct values in user_id: \\t\\t\", len(df_tweets.user_id.unique()), \"/\", numberOfRows)\n",
    "print(\"Number of distinct values in retweet_count:\\t\", len(df_tweets.retweet_count.unique()), \"/\", numberOfRows)\n",
    "print(\"Number of distinct values in reply_count: \\t\", len(df_tweets.reply_count.unique()), \"/\", numberOfRows)\n",
    "print(\"Number of distinct values in favorite_count: \\t\", len(df_tweets.favorite_count.unique()), \"/\", numberOfRows)\n",
    "print(\"Number of distinct values in num_hashtags: \\t\", len(df_tweets.num_hashtags.unique()), \"/\", numberOfRows)\n",
    "print(\"Number of distinct values in num_urls: \\t\\t\", len(df_tweets.num_urls.unique()), \"/\", numberOfRows)\n",
    "print(\"Number of distinct values in num_mentions: \\t\", len(df_tweets.num_mentions.unique()), \"/\", numberOfRows)\n",
    "print(\"Number of distinct values in created_at: \\t\", len(df_tweets.created_at.unique()), \"/\", numberOfRows)\n",
    "print(\"Number of distinct values in text: \\t\\t\", len(df_tweets.text.unique()), \"/\", numberOfRows)"
   ]
  },
  {
   "cell_type": "code",
   "execution_count": null,
   "id": "13119de3-8313-4f55-a4fd-a2fcf988cc40",
   "metadata": {},
   "outputs": [],
   "source": [
    "df_tweets.describe()"
   ]
  },
  {
   "cell_type": "code",
   "execution_count": null,
   "id": "e1524809-7b7e-43cb-9bb4-5f8eacdb9690",
   "metadata": {},
   "outputs": [],
   "source": [
    "distinct_number_of_tweets = len(df_tweets.text.unique())\n",
    "total_number_of_tweets    = numberOfRows\n",
    "if (distinct_number_of_tweets == total_number_of_tweets):\n",
    "    print(\"There aren't duplicate tweets\")\n",
    "else:\n",
    "    print(\"There are duplicate tweets, maybe some missing tweets\")"
   ]
  },
  {
   "cell_type": "markdown",
   "id": "c413887a-1f27-49bf-8307-de8e6ec67de9",
   "metadata": {},
   "source": [
    "# Tweets: Attributes analysis"
   ]
  },
  {
   "cell_type": "code",
   "execution_count": null,
   "id": "c2e2e703-9d78-4ac6-80cb-6674f1403f9d",
   "metadata": {},
   "outputs": [],
   "source": []
  }
 ],
 "metadata": {
  "kernelspec": {
   "display_name": "Python 3 (ipykernel)",
   "language": "python",
   "name": "python3"
  },
  "language_info": {
   "codemirror_mode": {
    "name": "ipython",
    "version": 3
   },
   "file_extension": ".py",
   "mimetype": "text/x-python",
   "name": "python",
   "nbconvert_exporter": "python",
   "pygments_lexer": "ipython3",
   "version": "3.10.6"
  }
 },
 "nbformat": 4,
 "nbformat_minor": 5
}
