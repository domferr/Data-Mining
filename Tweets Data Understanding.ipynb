{
 "cells": [
  {
   "cell_type": "code",
   "execution_count": 1,
   "id": "bbe798ef-93e6-4b06-af55-d1d0d1a4a1d0",
   "metadata": {},
   "outputs": [],
   "source": [
    "%matplotlib inline\n",
    "import math\n",
    "import numpy as np\n",
    "import pandas as pd\n",
    "import matplotlib.pyplot as plt\n",
    "import plotly.express as plt_ex"
   ]
  },
  {
   "cell_type": "code",
   "execution_count": 2,
   "id": "ab6b5f52-472b-41ed-b452-baf74e5aa1ba",
   "metadata": {},
   "outputs": [],
   "source": [
    "datasetTweetsCSVPath = \"./dataset/tweets.csv\""
   ]
  },
  {
   "cell_type": "markdown",
   "id": "0b433024-56f8-4aec-8484-47e1007f3648",
   "metadata": {},
   "source": [
    "# Tweets: Overview"
   ]
  },
  {
   "cell_type": "code",
   "execution_count": 3,
   "id": "b83c178f-e511-4a95-8371-93d154bf08a9",
   "metadata": {},
   "outputs": [],
   "source": [
    "df_tweets = pd.read_csv(datasetTweetsCSVPath, sep=',', index_col=0)"
   ]
  },
  {
   "cell_type": "code",
   "execution_count": 4,
   "id": "42a1eb20-3624-42ec-bb7b-9c046e860de4",
   "metadata": {},
   "outputs": [
    {
     "name": "stdout",
     "output_type": "stream",
     "text": [
      "rows = 13664696\n",
      "columns = 9\n"
     ]
    }
   ],
   "source": [
    "numberOfRows, numberOfColumns = df_tweets.shape\n",
    "print(\"rows =\", numberOfRows)\n",
    "print(\"columns =\", numberOfColumns)"
   ]
  },
  {
   "cell_type": "code",
   "execution_count": 5,
   "id": "e5a12ae3-fdb4-44e9-8681-540d85cb4f2e",
   "metadata": {},
   "outputs": [
    {
     "data": {
      "text/html": [
       "<div>\n",
       "<style scoped>\n",
       "    .dataframe tbody tr th:only-of-type {\n",
       "        vertical-align: middle;\n",
       "    }\n",
       "\n",
       "    .dataframe tbody tr th {\n",
       "        vertical-align: top;\n",
       "    }\n",
       "\n",
       "    .dataframe thead th {\n",
       "        text-align: right;\n",
       "    }\n",
       "</style>\n",
       "<table border=\"1\" class=\"dataframe\">\n",
       "  <thead>\n",
       "    <tr style=\"text-align: right;\">\n",
       "      <th></th>\n",
       "      <th>user_id</th>\n",
       "      <th>retweet_count</th>\n",
       "      <th>reply_count</th>\n",
       "      <th>favorite_count</th>\n",
       "      <th>num_hashtags</th>\n",
       "      <th>num_urls</th>\n",
       "      <th>num_mentions</th>\n",
       "      <th>created_at</th>\n",
       "      <th>text</th>\n",
       "    </tr>\n",
       "    <tr>\n",
       "      <th>id</th>\n",
       "      <th></th>\n",
       "      <th></th>\n",
       "      <th></th>\n",
       "      <th></th>\n",
       "      <th></th>\n",
       "      <th></th>\n",
       "      <th></th>\n",
       "      <th></th>\n",
       "      <th></th>\n",
       "    </tr>\n",
       "  </thead>\n",
       "  <tbody>\n",
       "    <tr>\n",
       "      <th>509354017856950272</th>\n",
       "      <td>327746321</td>\n",
       "      <td>0</td>\n",
       "      <td>0</td>\n",
       "      <td>0</td>\n",
       "      <td>0</td>\n",
       "      <td>0</td>\n",
       "      <td>0</td>\n",
       "      <td>2019-09-11 14:53:55</td>\n",
       "      <td>If man is a little lower than angels, then ang...</td>\n",
       "    </tr>\n",
       "    <tr>\n",
       "      <th>583002592529121280</th>\n",
       "      <td>333722906</td>\n",
       "      <td>1</td>\n",
       "      <td>0</td>\n",
       "      <td>0</td>\n",
       "      <td>0</td>\n",
       "      <td>0</td>\n",
       "      <td>1</td>\n",
       "      <td>2020-04-01 20:27:04</td>\n",
       "      <td>\"@BestWSHHVids: how do you say these words wit...</td>\n",
       "    </tr>\n",
       "    <tr>\n",
       "      <th>461498835362013185</th>\n",
       "      <td>2379755827</td>\n",
       "      <td>0</td>\n",
       "      <td>0</td>\n",
       "      <td>0</td>\n",
       "      <td>0</td>\n",
       "      <td>0</td>\n",
       "      <td>1</td>\n",
       "      <td>2019-05-02 13:34:31</td>\n",
       "      <td>@LOLatComedy awsome</td>\n",
       "    </tr>\n",
       "    <tr>\n",
       "      <th>528808127366692864</th>\n",
       "      <td>466226882</td>\n",
       "      <td>0</td>\n",
       "      <td>0</td>\n",
       "      <td>0</td>\n",
       "      <td>0</td>\n",
       "      <td>0</td>\n",
       "      <td>0</td>\n",
       "      <td>2019-11-04 07:17:37</td>\n",
       "      <td>Stephen Hawkins: i buchi neri non esistono se ...</td>\n",
       "    </tr>\n",
       "    <tr>\n",
       "      <th>575336690904006656</th>\n",
       "      <td>1355537995</td>\n",
       "      <td>114</td>\n",
       "      <td>0</td>\n",
       "      <td>0</td>\n",
       "      <td>1</td>\n",
       "      <td>0</td>\n",
       "      <td>1</td>\n",
       "      <td>2020-03-11 16:45:31</td>\n",
       "      <td>RT @tibbs_montris: So ready for Wednesday!</td>\n",
       "    </tr>\n",
       "  </tbody>\n",
       "</table>\n",
       "</div>"
      ],
      "text/plain": [
       "                       user_id retweet_count reply_count favorite_count  \\\n",
       "id                                                                        \n",
       "509354017856950272   327746321             0           0              0   \n",
       "583002592529121280   333722906             1           0              0   \n",
       "461498835362013185  2379755827             0           0              0   \n",
       "528808127366692864   466226882             0           0              0   \n",
       "575336690904006656  1355537995           114           0              0   \n",
       "\n",
       "                   num_hashtags num_urls num_mentions           created_at  \\\n",
       "id                                                                           \n",
       "509354017856950272            0        0            0  2019-09-11 14:53:55   \n",
       "583002592529121280            0        0            1  2020-04-01 20:27:04   \n",
       "461498835362013185            0        0            1  2019-05-02 13:34:31   \n",
       "528808127366692864            0        0            0  2019-11-04 07:17:37   \n",
       "575336690904006656            1        0            1  2020-03-11 16:45:31   \n",
       "\n",
       "                                                                 text  \n",
       "id                                                                     \n",
       "509354017856950272  If man is a little lower than angels, then ang...  \n",
       "583002592529121280  \"@BestWSHHVids: how do you say these words wit...  \n",
       "461498835362013185                                @LOLatComedy awsome  \n",
       "528808127366692864  Stephen Hawkins: i buchi neri non esistono se ...  \n",
       "575336690904006656        RT @tibbs_montris: So ready for Wednesday!   "
      ]
     },
     "execution_count": 5,
     "metadata": {},
     "output_type": "execute_result"
    }
   ],
   "source": [
    "df_tweets.head()"
   ]
  },
  {
   "cell_type": "code",
   "execution_count": 6,
   "id": "71c67dce-e21d-44af-b45f-dac41e14bee5",
   "metadata": {},
   "outputs": [
    {
     "data": {
      "text/plain": [
       "user_id           object\n",
       "retweet_count     object\n",
       "reply_count       object\n",
       "favorite_count    object\n",
       "num_hashtags      object\n",
       "num_urls          object\n",
       "num_mentions      object\n",
       "created_at        object\n",
       "text              object\n",
       "dtype: object"
      ]
     },
     "execution_count": 6,
     "metadata": {},
     "output_type": "execute_result"
    }
   ],
   "source": [
    "df_tweets.dtypes"
   ]
  },
  {
   "cell_type": "code",
   "execution_count": 7,
   "id": "88d263ed-c94b-494d-bb18-7a56969fc6ac",
   "metadata": {},
   "outputs": [
    {
     "name": "stdout",
     "output_type": "stream",
     "text": [
      "<class 'pandas.core.frame.DataFrame'>\n",
      "Index: 13664696 entries, 509354017856950272 to 486479812614451200\n",
      "Data columns (total 9 columns):\n",
      " #   Column          Dtype \n",
      "---  ------          ----- \n",
      " 0   user_id         object\n",
      " 1   retweet_count   object\n",
      " 2   reply_count     object\n",
      " 3   favorite_count  object\n",
      " 4   num_hashtags    object\n",
      " 5   num_urls        object\n",
      " 6   num_mentions    object\n",
      " 7   created_at      object\n",
      " 8   text            object\n",
      "dtypes: object(9)\n",
      "memory usage: 1.0+ GB\n"
     ]
    }
   ],
   "source": [
    "df_tweets.info()"
   ]
  },
  {
   "cell_type": "code",
   "execution_count": 9,
   "id": "b1a67e9f-e070-44d8-aff6-a8cdd0df68cb",
   "metadata": {},
   "outputs": [
    {
     "name": "stdout",
     "output_type": "stream",
     "text": [
      "Number of distinct values in user_id: \t\t 222286 / 13664696\n",
      "Number of distinct values in retweet_count:\t 229168 / 13664696\n",
      "Number of distinct values in reply_count: \t 158620 / 13664696\n",
      "Number of distinct values in favorite_count: \t 158764 / 13664696\n",
      "Number of distinct values in num_hashtags: \t 104780 / 13664696\n",
      "Number of distinct values in num_urls: \t\t 157146 / 13664696\n",
      "Number of distinct values in num_mentions: \t 131539 / 13664696\n",
      "Number of distinct values in created_at: \t 8127084 / 13664696\n",
      "Number of distinct values in text: \t\t 6778479 / 13664696\n"
     ]
    }
   ],
   "source": [
    "print(\"Number of distinct values in user_id: \\t\\t\", len(df_tweets.user_id.unique()), \"/\", numberOfRows)\n",
    "print(\"Number of distinct values in retweet_count:\\t\", len(df_tweets.retweet_count.unique()), \"/\", numberOfRows)\n",
    "print(\"Number of distinct values in reply_count: \\t\", len(df_tweets.reply_count.unique()), \"/\", numberOfRows)\n",
    "print(\"Number of distinct values in favorite_count: \\t\", len(df_tweets.favorite_count.unique()), \"/\", numberOfRows)\n",
    "print(\"Number of distinct values in num_hashtags: \\t\", len(df_tweets.num_hashtags.unique()), \"/\", numberOfRows)\n",
    "print(\"Number of distinct values in num_urls: \\t\\t\", len(df_tweets.num_urls.unique()), \"/\", numberOfRows)\n",
    "print(\"Number of distinct values in num_mentions: \\t\", len(df_tweets.num_mentions.unique()), \"/\", numberOfRows)\n",
    "print(\"Number of distinct values in created_at: \\t\", len(df_tweets.created_at.unique()), \"/\", numberOfRows)\n",
    "print(\"Number of distinct values in text: \\t\\t\", len(df_tweets.text.unique()), \"/\", numberOfRows)"
   ]
  },
  {
   "cell_type": "code",
   "execution_count": 20,
   "id": "5e2e403c-c1e8-4465-bb5b-518bfacea637",
   "metadata": {},
   "outputs": [],
   "source": [
    "df_tweets_duplicated = df_tweets.duplicated(keep='first')"
   ]
  },
  {
   "cell_type": "code",
   "execution_count": 21,
   "id": "4b798af7-288f-4b6f-8f57-5fadda1a5593",
   "metadata": {},
   "outputs": [
    {
     "data": {
      "text/plain": [
       "1952603"
      ]
     },
     "execution_count": 21,
     "metadata": {},
     "output_type": "execute_result"
    }
   ],
   "source": [
    "df_tweets_duplicated.sum()"
   ]
  },
  {
   "cell_type": "code",
   "execution_count": 28,
   "id": "6a3aed8c-4825-4849-adf2-730283a02904",
   "metadata": {},
   "outputs": [],
   "source": [
    "df_tweets_drop_duplicates = df_tweets.drop_duplicates(keep='first')"
   ]
  },
  {
   "cell_type": "code",
   "execution_count": 29,
   "id": "f859ca69-991f-4d83-8cf9-1ea1fab1db47",
   "metadata": {},
   "outputs": [
    {
     "data": {
      "text/plain": [
       "(11712093, 9)"
      ]
     },
     "execution_count": 29,
     "metadata": {},
     "output_type": "execute_result"
    }
   ],
   "source": [
    "df_tweets_drop_duplicates.shape"
   ]
  },
  {
   "cell_type": "markdown",
   "id": "c413887a-1f27-49bf-8307-de8e6ec67de9",
   "metadata": {},
   "source": [
    "# Tweets: Attributes analysis"
   ]
  },
  {
   "cell_type": "markdown",
   "id": "844d174f-8607-47c5-bf26-c012a628b94c",
   "metadata": {},
   "source": [
    "## Index"
   ]
  },
  {
   "cell_type": "code",
   "execution_count": 13,
   "id": "be1e2bf0-57d4-47cf-8a5a-25aae20e9c34",
   "metadata": {},
   "outputs": [
    {
     "data": {
      "text/plain": [
       "dtype('O')"
      ]
     },
     "execution_count": 13,
     "metadata": {},
     "output_type": "execute_result"
    }
   ],
   "source": [
    "df_tweets.index.dtype"
   ]
  },
  {
   "cell_type": "code",
   "execution_count": 24,
   "id": "6809e1f4-1659-40a4-8116-959de928347f",
   "metadata": {},
   "outputs": [
    {
     "name": "stdout",
     "output_type": "stream",
     "text": [
      "11672136 / 13664696 \t\t\n"
     ]
    }
   ],
   "source": [
    "uniqueTweetsCount = len(df_tweets.index.unique())\n",
    "print(uniqueTweetsCount, \"/\", numberOfRows, \"\\t\\t\")"
   ]
  },
  {
   "cell_type": "code",
   "execution_count": 15,
   "id": "aee3eed5-9b90-481e-9856-abe642e76aee",
   "metadata": {},
   "outputs": [
    {
     "name": "stdout",
     "output_type": "stream",
     "text": [
      "2 missing indexes\n"
     ]
    },
    {
     "data": {
      "text/html": [
       "<div>\n",
       "<style scoped>\n",
       "    .dataframe tbody tr th:only-of-type {\n",
       "        vertical-align: middle;\n",
       "    }\n",
       "\n",
       "    .dataframe tbody tr th {\n",
       "        vertical-align: top;\n",
       "    }\n",
       "\n",
       "    .dataframe thead th {\n",
       "        text-align: right;\n",
       "    }\n",
       "</style>\n",
       "<table border=\"1\" class=\"dataframe\">\n",
       "  <thead>\n",
       "    <tr style=\"text-align: right;\">\n",
       "      <th></th>\n",
       "      <th>user_id</th>\n",
       "      <th>retweet_count</th>\n",
       "      <th>reply_count</th>\n",
       "      <th>favorite_count</th>\n",
       "      <th>num_hashtags</th>\n",
       "      <th>num_urls</th>\n",
       "      <th>num_mentions</th>\n",
       "      <th>created_at</th>\n",
       "      <th>text</th>\n",
       "    </tr>\n",
       "    <tr>\n",
       "      <th>id</th>\n",
       "      <th></th>\n",
       "      <th></th>\n",
       "      <th></th>\n",
       "      <th></th>\n",
       "      <th></th>\n",
       "      <th></th>\n",
       "      <th></th>\n",
       "      <th></th>\n",
       "      <th></th>\n",
       "    </tr>\n",
       "  </thead>\n",
       "  <tbody>\n",
       "    <tr>\n",
       "      <th>NaN</th>\n",
       "      <td>466475273</td>\n",
       "      <td>NaN</td>\n",
       "      <td>NaN</td>\n",
       "      <td>NaN</td>\n",
       "      <td>NaN</td>\n",
       "      <td>NaN</td>\n",
       "      <td>NaN</td>\n",
       "      <td>2019-09-08 07:09:46</td>\n",
       "      <td>NaN</td>\n",
       "    </tr>\n",
       "    <tr>\n",
       "      <th>NaN</th>\n",
       "      <td>87334609</td>\n",
       "      <td>NaN</td>\n",
       "      <td>NaN</td>\n",
       "      <td>NaN</td>\n",
       "      <td>NaN</td>\n",
       "      <td>NaN</td>\n",
       "      <td>NaN</td>\n",
       "      <td>2019-04-13 01:10:44</td>\n",
       "      <td>NaN</td>\n",
       "    </tr>\n",
       "  </tbody>\n",
       "</table>\n",
       "</div>"
      ],
      "text/plain": [
       "       user_id retweet_count reply_count favorite_count num_hashtags num_urls  \\\n",
       "id                                                                              \n",
       "NaN  466475273           NaN         NaN            NaN          NaN      NaN   \n",
       "NaN   87334609           NaN         NaN            NaN          NaN      NaN   \n",
       "\n",
       "    num_mentions           created_at text  \n",
       "id                                          \n",
       "NaN          NaN  2019-09-08 07:09:46  NaN  \n",
       "NaN          NaN  2019-04-13 01:10:44  NaN  "
      ]
     },
     "execution_count": 15,
     "metadata": {},
     "output_type": "execute_result"
    }
   ],
   "source": [
    "print(df_tweets.index.isna().sum(), \"missing indexes\")\n",
    "df_tweets[df_tweets.index.isna()]"
   ]
  },
  {
   "cell_type": "code",
   "execution_count": 23,
   "id": "40d511cf-05f4-424f-a24a-8c4db3a73c41",
   "metadata": {},
   "outputs": [
    {
     "data": {
      "text/plain": [
       "1992560"
      ]
     },
     "execution_count": 23,
     "metadata": {},
     "output_type": "execute_result"
    }
   ],
   "source": [
    "df_tweets.index.duplicated(keep='first').sum()"
   ]
  },
  {
   "cell_type": "code",
   "execution_count": 33,
   "id": "a96bad0f-e116-4bd4-9fed-64c604be8170",
   "metadata": {},
   "outputs": [
    {
     "data": {
      "text/plain": [
       "40461"
      ]
     },
     "execution_count": 33,
     "metadata": {},
     "output_type": "execute_result"
    }
   ],
   "source": [
    "df_tweets_duplicated_index = df_tweets_drop_duplicates.index.duplicated(keep='first')\n",
    "df_tweets_duplicated_index.sum()"
   ]
  },
  {
   "cell_type": "markdown",
   "id": "2d6c0c81-4c4c-4ea4-b20d-1f5282f27c04",
   "metadata": {},
   "source": [
    "## User_id"
   ]
  },
  {
   "cell_type": "code",
   "execution_count": 31,
   "id": "4d9969f8-0039-4274-9829-f9532b2056d2",
   "metadata": {},
   "outputs": [
    {
     "data": {
      "text/plain": [
       "222286"
      ]
     },
     "execution_count": 31,
     "metadata": {},
     "output_type": "execute_result"
    }
   ],
   "source": [
    "len(df_tweets_drop_duplicates.user_id.unique())"
   ]
  },
  {
   "cell_type": "code",
   "execution_count": 35,
   "id": "ccb44490-3e2d-4ce7-ad1e-ad343c85b096",
   "metadata": {},
   "outputs": [
    {
     "data": {
      "text/html": [
       "<div>\n",
       "<style scoped>\n",
       "    .dataframe tbody tr th:only-of-type {\n",
       "        vertical-align: middle;\n",
       "    }\n",
       "\n",
       "    .dataframe tbody tr th {\n",
       "        vertical-align: top;\n",
       "    }\n",
       "\n",
       "    .dataframe thead th {\n",
       "        text-align: right;\n",
       "    }\n",
       "</style>\n",
       "<table border=\"1\" class=\"dataframe\">\n",
       "  <thead>\n",
       "    <tr style=\"text-align: right;\">\n",
       "      <th></th>\n",
       "      <th>user_id</th>\n",
       "      <th>retweet_count</th>\n",
       "      <th>reply_count</th>\n",
       "      <th>favorite_count</th>\n",
       "      <th>num_hashtags</th>\n",
       "      <th>num_urls</th>\n",
       "      <th>num_mentions</th>\n",
       "      <th>created_at</th>\n",
       "      <th>text</th>\n",
       "    </tr>\n",
       "    <tr>\n",
       "      <th>id</th>\n",
       "      <th></th>\n",
       "      <th></th>\n",
       "      <th></th>\n",
       "      <th></th>\n",
       "      <th></th>\n",
       "      <th></th>\n",
       "      <th></th>\n",
       "      <th></th>\n",
       "      <th></th>\n",
       "    </tr>\n",
       "  </thead>\n",
       "  <tbody>\n",
       "    <tr>\n",
       "      <th>pyj</th>\n",
       "      <td>2266494228</td>\n",
       "      <td>NaN</td>\n",
       "      <td>NaN</td>\n",
       "      <td>NaN</td>\n",
       "      <td>NaN</td>\n",
       "      <td>0.0</td>\n",
       "      <td>0</td>\n",
       "      <td>2019-04-03 23:11:44</td>\n",
       "      <td>Seriously don't know what happened one minute ...</td>\n",
       "    </tr>\n",
       "    <tr>\n",
       "      <th>ixi</th>\n",
       "      <td>30jfd7yr</td>\n",
       "      <td>0</td>\n",
       "      <td>NaN</td>\n",
       "      <td>NaN</td>\n",
       "      <td>NaN</td>\n",
       "      <td>NaN</td>\n",
       "      <td>NaN</td>\n",
       "      <td>2019-10-29 21:21:04</td>\n",
       "      <td>NaN</td>\n",
       "    </tr>\n",
       "    <tr>\n",
       "      <th>isj</th>\n",
       "      <td>242746743</td>\n",
       "      <td>0</td>\n",
       "      <td>NaN</td>\n",
       "      <td>NaN</td>\n",
       "      <td>NaN</td>\n",
       "      <td>NaN</td>\n",
       "      <td>NaN</td>\n",
       "      <td>2020-04-26 14:47:54</td>\n",
       "      <td>NaN</td>\n",
       "    </tr>\n",
       "    <tr>\n",
       "      <th>tlw</th>\n",
       "      <td>531143012</td>\n",
       "      <td>NaN</td>\n",
       "      <td>NaN</td>\n",
       "      <td>NaN</td>\n",
       "      <td>NaN</td>\n",
       "      <td>NaN</td>\n",
       "      <td>NaN</td>\n",
       "      <td>2019-09-17 14:56:01</td>\n",
       "      <td>NaN</td>\n",
       "    </tr>\n",
       "    <tr>\n",
       "      <th>hjw</th>\n",
       "      <td>198656514</td>\n",
       "      <td>0</td>\n",
       "      <td>0.0</td>\n",
       "      <td>NaN</td>\n",
       "      <td>NaN</td>\n",
       "      <td>NaN</td>\n",
       "      <td>NaN</td>\n",
       "      <td>2019-05-17 19:38:39</td>\n",
       "      <td>NaN</td>\n",
       "    </tr>\n",
       "    <tr>\n",
       "      <th>...</th>\n",
       "      <td>...</td>\n",
       "      <td>...</td>\n",
       "      <td>...</td>\n",
       "      <td>...</td>\n",
       "      <td>...</td>\n",
       "      <td>...</td>\n",
       "      <td>...</td>\n",
       "      <td>...</td>\n",
       "      <td>...</td>\n",
       "    </tr>\n",
       "    <tr>\n",
       "      <th>hgjz</th>\n",
       "      <td>181191283</td>\n",
       "      <td>0</td>\n",
       "      <td>0.0</td>\n",
       "      <td>0.0</td>\n",
       "      <td>0.0</td>\n",
       "      <td>NaN</td>\n",
       "      <td>1</td>\n",
       "      <td>2020-03-28 23:07:31</td>\n",
       "      <td>@whitequark what would I check on my 3V supply?</td>\n",
       "    </tr>\n",
       "    <tr>\n",
       "      <th>cgx</th>\n",
       "      <td>NaN</td>\n",
       "      <td>NaN</td>\n",
       "      <td>NaN</td>\n",
       "      <td>NaN</td>\n",
       "      <td>NaN</td>\n",
       "      <td>1.0</td>\n",
       "      <td>NaN</td>\n",
       "      <td>2019-02-01 09:49:26</td>\n",
       "      <td>NaN</td>\n",
       "    </tr>\n",
       "    <tr>\n",
       "      <th>tqn</th>\n",
       "      <td>2649554102</td>\n",
       "      <td>0</td>\n",
       "      <td>0.0</td>\n",
       "      <td>0.0</td>\n",
       "      <td>NaN</td>\n",
       "      <td>NaN</td>\n",
       "      <td>NaN</td>\n",
       "      <td>2020-04-12 15:10:20</td>\n",
       "      <td>NaN</td>\n",
       "    </tr>\n",
       "    <tr>\n",
       "      <th>lhfu</th>\n",
       "      <td>fi5u</td>\n",
       "      <td>0</td>\n",
       "      <td>0.0</td>\n",
       "      <td>0.0</td>\n",
       "      <td>1.0</td>\n",
       "      <td>0.0</td>\n",
       "      <td>0</td>\n",
       "      <td>2018-04-23 19:55:43</td>\n",
       "      <td>That was video game passing! #SPURSvLAKERS</td>\n",
       "    </tr>\n",
       "    <tr>\n",
       "      <th>twu</th>\n",
       "      <td>546096491</td>\n",
       "      <td>1</td>\n",
       "      <td>0.0</td>\n",
       "      <td>3.0</td>\n",
       "      <td>NaN</td>\n",
       "      <td>NaN</td>\n",
       "      <td>NaN</td>\n",
       "      <td>2020-04-29 17:46:57</td>\n",
       "      <td>NaN</td>\n",
       "    </tr>\n",
       "  </tbody>\n",
       "</table>\n",
       "<p>40461 rows × 9 columns</p>\n",
       "</div>"
      ],
      "text/plain": [
       "         user_id retweet_count reply_count favorite_count num_hashtags  \\\n",
       "id                                                                       \n",
       "pyj   2266494228           NaN         NaN            NaN          NaN   \n",
       "ixi     30jfd7yr             0         NaN            NaN          NaN   \n",
       "isj    242746743             0         NaN            NaN          NaN   \n",
       "tlw    531143012           NaN         NaN            NaN          NaN   \n",
       "hjw    198656514             0         0.0            NaN          NaN   \n",
       "...          ...           ...         ...            ...          ...   \n",
       "hgjz   181191283             0         0.0            0.0          0.0   \n",
       "cgx          NaN           NaN         NaN            NaN          NaN   \n",
       "tqn   2649554102             0         0.0            0.0          NaN   \n",
       "lhfu        fi5u             0         0.0            0.0          1.0   \n",
       "twu    546096491             1         0.0            3.0          NaN   \n",
       "\n",
       "     num_urls num_mentions           created_at  \\\n",
       "id                                                \n",
       "pyj       0.0            0  2019-04-03 23:11:44   \n",
       "ixi       NaN          NaN  2019-10-29 21:21:04   \n",
       "isj       NaN          NaN  2020-04-26 14:47:54   \n",
       "tlw       NaN          NaN  2019-09-17 14:56:01   \n",
       "hjw       NaN          NaN  2019-05-17 19:38:39   \n",
       "...       ...          ...                  ...   \n",
       "hgjz      NaN            1  2020-03-28 23:07:31   \n",
       "cgx       1.0          NaN  2019-02-01 09:49:26   \n",
       "tqn       NaN          NaN  2020-04-12 15:10:20   \n",
       "lhfu      0.0            0  2018-04-23 19:55:43   \n",
       "twu       NaN          NaN  2020-04-29 17:46:57   \n",
       "\n",
       "                                                   text  \n",
       "id                                                       \n",
       "pyj   Seriously don't know what happened one minute ...  \n",
       "ixi                                                 NaN  \n",
       "isj                                                 NaN  \n",
       "tlw                                                 NaN  \n",
       "hjw                                                 NaN  \n",
       "...                                                 ...  \n",
       "hgjz    @whitequark what would I check on my 3V supply?  \n",
       "cgx                                                 NaN  \n",
       "tqn                                                 NaN  \n",
       "lhfu         That was video game passing! #SPURSvLAKERS  \n",
       "twu                                                 NaN  \n",
       "\n",
       "[40461 rows x 9 columns]"
      ]
     },
     "execution_count": 35,
     "metadata": {},
     "output_type": "execute_result"
    }
   ],
   "source": [
    "df_tweets_drop_duplicates[df_tweets_duplicated_index]"
   ]
  },
  {
   "cell_type": "code",
   "execution_count": null,
   "id": "5e47e319-3f29-4715-b467-e6f593e2a9e2",
   "metadata": {},
   "outputs": [],
   "source": []
  }
 ],
 "metadata": {
  "kernelspec": {
   "display_name": "Python 3 (ipykernel)",
   "language": "python",
   "name": "python3"
  },
  "language_info": {
   "codemirror_mode": {
    "name": "ipython",
    "version": 3
   },
   "file_extension": ".py",
   "mimetype": "text/x-python",
   "name": "python",
   "nbconvert_exporter": "python",
   "pygments_lexer": "ipython3",
   "version": "3.10.6"
  }
 },
 "nbformat": 4,
 "nbformat_minor": 5
}
