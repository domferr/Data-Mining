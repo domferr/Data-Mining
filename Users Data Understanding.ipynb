{
 "cells": [
  {
   "cell_type": "code",
   "execution_count": 1,
   "id": "49754e41-f63d-4fd7-860a-de901b3eecb9",
   "metadata": {
    "tags": []
   },
   "outputs": [
    {
     "ename": "ModuleNotFoundError",
     "evalue": "No module named 'plotly'",
     "output_type": "error",
     "traceback": [
      "\u001b[1;31m---------------------------------------------------------------------------\u001b[0m",
      "\u001b[1;31mModuleNotFoundError\u001b[0m                       Traceback (most recent call last)",
      "Cell \u001b[1;32mIn [1], line 6\u001b[0m\n\u001b[0;32m      4\u001b[0m \u001b[39mimport\u001b[39;00m \u001b[39mpandas\u001b[39;00m \u001b[39mas\u001b[39;00m \u001b[39mpd\u001b[39;00m\n\u001b[0;32m      5\u001b[0m \u001b[39mimport\u001b[39;00m \u001b[39mmatplotlib\u001b[39;00m\u001b[39m.\u001b[39;00m\u001b[39mpyplot\u001b[39;00m \u001b[39mas\u001b[39;00m \u001b[39mplt\u001b[39;00m\n\u001b[1;32m----> 6\u001b[0m \u001b[39mimport\u001b[39;00m \u001b[39mplotly\u001b[39;00m\u001b[39m.\u001b[39;00m\u001b[39mexpress\u001b[39;00m \u001b[39mas\u001b[39;00m \u001b[39mplt_ex\u001b[39;00m\n\u001b[0;32m      7\u001b[0m \u001b[39mimport\u001b[39;00m \u001b[39mseaborn\u001b[39;00m \u001b[39mas\u001b[39;00m \u001b[39msn\u001b[39;00m\n\u001b[0;32m      9\u001b[0m sn\u001b[39m.\u001b[39mset_theme()\n",
      "\u001b[1;31mModuleNotFoundError\u001b[0m: No module named 'plotly'"
     ]
    }
   ],
   "source": [
    "%matplotlib inline\n",
    "import math\n",
    "import numpy as np\n",
    "import pandas as pd\n",
    "import matplotlib.pyplot as plt\n",
    "import seaborn as sn\n",
    "\n",
    "sn.set_theme()"
   ]
  },
  {
   "cell_type": "code",
   "execution_count": null,
   "id": "46ca64dd",
   "metadata": {},
   "outputs": [],
   "source": [
    "def hist(df, column, filename):\n",
    "    numberOfBins = int(np.log2(len(df[column][df[column].notna()])) + 1)\n",
    "    print(\"Number of bins:\", numberOfBins)\n",
    "    df[column].hist(stacked=True, bins=numberOfBins)\n",
    "    plt.yscale('log')\n",
    "    plt.ylabel(\"count\")\n",
    "    plt.title(column)\n",
    "    plt.savefig(filename)\n",
    "    plt.show()\n",
    "\n",
    "def boxplot(df, column, filename):\n",
    "    df.boxplot(column=column)\n",
    "    plt.savefig(filename)\n",
    "    plt.show()"
   ]
  },
  {
   "cell_type": "code",
   "execution_count": 3,
   "id": "679f9741-d306-4a4e-8672-dc53ce977a14",
   "metadata": {
    "tags": []
   },
   "outputs": [],
   "source": [
    "datasetUsersCSVPath  = \"./dataset/users.csv\""
   ]
  },
  {
   "cell_type": "markdown",
   "id": "af633d32-3eed-4985-8d51-8de5a5a8af76",
   "metadata": {},
   "source": [
    "# Users: Overview"
   ]
  },
  {
   "cell_type": "markdown",
   "id": "7d76f649-f242-4ab6-93df-8d05aa345a1a",
   "metadata": {},
   "source": [
    "For each attribute\n",
    "- check correlation we have with other attributes. Above 0.75 you should drop a column\n",
    "- watch distribution (bars for categorical, instograms for numbers)\n",
    "- scatter plots for numerical attributes\n",
    "- boxplots to see outliers. suggestion: group them if needed"
   ]
  },
  {
   "cell_type": "code",
   "execution_count": 4,
   "id": "de1e96c1-ec3b-454b-95fd-c24ff14b1029",
   "metadata": {},
   "outputs": [
    {
     "name": "stdout",
     "output_type": "stream",
     "text": [
      "CPU times: user 27.7 ms, sys: 1.74 ms, total: 29.4 ms\n",
      "Wall time: 40.2 ms\n"
     ]
    }
   ],
   "source": [
    "%%time\n",
    "df_users = pd.read_csv(datasetUsersCSVPath, sep=',', index_col=0)"
   ]
  },
  {
   "cell_type": "code",
   "execution_count": 5,
   "id": "c2325ecc-c286-41e0-915c-9c04b998f42b",
   "metadata": {},
   "outputs": [
    {
     "data": {
      "text/html": [
       "<div>\n",
       "<style scoped>\n",
       "    .dataframe tbody tr th:only-of-type {\n",
       "        vertical-align: middle;\n",
       "    }\n",
       "\n",
       "    .dataframe tbody tr th {\n",
       "        vertical-align: top;\n",
       "    }\n",
       "\n",
       "    .dataframe thead th {\n",
       "        text-align: right;\n",
       "    }\n",
       "</style>\n",
       "<table border=\"1\" class=\"dataframe\">\n",
       "  <thead>\n",
       "    <tr style=\"text-align: right;\">\n",
       "      <th></th>\n",
       "      <th>name</th>\n",
       "      <th>lang</th>\n",
       "      <th>bot</th>\n",
       "      <th>created_at</th>\n",
       "      <th>statuses_count</th>\n",
       "    </tr>\n",
       "    <tr>\n",
       "      <th>id</th>\n",
       "      <th></th>\n",
       "      <th></th>\n",
       "      <th></th>\n",
       "      <th></th>\n",
       "      <th></th>\n",
       "    </tr>\n",
       "  </thead>\n",
       "  <tbody>\n",
       "    <tr>\n",
       "      <th>2353593986</th>\n",
       "      <td>Lamonica Raborn</td>\n",
       "      <td>en</td>\n",
       "      <td>1</td>\n",
       "      <td>2019-02-22 18:00:42</td>\n",
       "      <td>76.0</td>\n",
       "    </tr>\n",
       "    <tr>\n",
       "      <th>2358850842</th>\n",
       "      <td>Lourie Botton</td>\n",
       "      <td>en</td>\n",
       "      <td>0</td>\n",
       "      <td>2019-02-26 03:02:32</td>\n",
       "      <td>54.0</td>\n",
       "    </tr>\n",
       "    <tr>\n",
       "      <th>137959629</th>\n",
       "      <td>Dadan Syarifudin</td>\n",
       "      <td>en</td>\n",
       "      <td>1</td>\n",
       "      <td>2015-04-30 07:09:56</td>\n",
       "      <td>3.0</td>\n",
       "    </tr>\n",
       "    <tr>\n",
       "      <th>466124818</th>\n",
       "      <td>Carletto Focia</td>\n",
       "      <td>it</td>\n",
       "      <td>1</td>\n",
       "      <td>2017-01-18 02:49:18</td>\n",
       "      <td>50.0</td>\n",
       "    </tr>\n",
       "    <tr>\n",
       "      <th>2571493866</th>\n",
       "      <td>MBK Ebook</td>\n",
       "      <td>en</td>\n",
       "      <td>0</td>\n",
       "      <td>2019-06-18 19:30:21</td>\n",
       "      <td>7085.0</td>\n",
       "    </tr>\n",
       "  </tbody>\n",
       "</table>\n",
       "</div>"
      ],
      "text/plain": [
       "                        name lang  bot           created_at  statuses_count\n",
       "id                                                                         \n",
       "2353593986   Lamonica Raborn   en    1  2019-02-22 18:00:42            76.0\n",
       "2358850842     Lourie Botton   en    0  2019-02-26 03:02:32            54.0\n",
       "137959629   Dadan Syarifudin   en    1  2015-04-30 07:09:56             3.0\n",
       "466124818     Carletto Focia   it    1  2017-01-18 02:49:18            50.0\n",
       "2571493866         MBK Ebook   en    0  2019-06-18 19:30:21          7085.0"
      ]
     },
     "execution_count": 5,
     "metadata": {},
     "output_type": "execute_result"
    }
   ],
   "source": [
    "df_users.head()"
   ]
  },
  {
   "cell_type": "code",
   "execution_count": 6,
   "id": "639a2158-3fd6-4c94-a19a-6a24bdc526b1",
   "metadata": {},
   "outputs": [
    {
     "name": "stdout",
     "output_type": "stream",
     "text": [
      "<class 'pandas.core.frame.DataFrame'>\n",
      "Int64Index: 11508 entries, 2353593986 to 933183398\n",
      "Data columns (total 5 columns):\n",
      " #   Column          Non-Null Count  Dtype  \n",
      "---  ------          --------------  -----  \n",
      " 0   name            11507 non-null  object \n",
      " 1   lang            11508 non-null  object \n",
      " 2   bot             11508 non-null  int64  \n",
      " 3   created_at      11508 non-null  object \n",
      " 4   statuses_count  11109 non-null  float64\n",
      "dtypes: float64(1), int64(1), object(3)\n",
      "memory usage: 539.4+ KB\n"
     ]
    }
   ],
   "source": [
    "df_users.info()"
   ]
  },
  {
   "cell_type": "code",
   "execution_count": 7,
   "id": "58046b7a-4d2c-450b-a00a-12916eaa3ffe",
   "metadata": {},
   "outputs": [
    {
     "data": {
      "text/plain": [
       "name               object\n",
       "lang               object\n",
       "bot                 int64\n",
       "created_at         object\n",
       "statuses_count    float64\n",
       "dtype: object"
      ]
     },
     "execution_count": 7,
     "metadata": {},
     "output_type": "execute_result"
    }
   ],
   "source": [
    "df_users.dtypes"
   ]
  },
  {
   "cell_type": "code",
   "execution_count": 8,
   "id": "a4c758b3-1980-48a6-8ead-533dbc4bf27b",
   "metadata": {},
   "outputs": [
    {
     "data": {
      "text/html": [
       "<div>\n",
       "<style scoped>\n",
       "    .dataframe tbody tr th:only-of-type {\n",
       "        vertical-align: middle;\n",
       "    }\n",
       "\n",
       "    .dataframe tbody tr th {\n",
       "        vertical-align: top;\n",
       "    }\n",
       "\n",
       "    .dataframe thead th {\n",
       "        text-align: right;\n",
       "    }\n",
       "</style>\n",
       "<table border=\"1\" class=\"dataframe\">\n",
       "  <thead>\n",
       "    <tr style=\"text-align: right;\">\n",
       "      <th></th>\n",
       "      <th>name</th>\n",
       "      <th>lang</th>\n",
       "      <th>bot</th>\n",
       "      <th>created_at</th>\n",
       "      <th>statuses_count</th>\n",
       "    </tr>\n",
       "  </thead>\n",
       "  <tbody>\n",
       "    <tr>\n",
       "      <th>0</th>\n",
       "      <td>Sara</td>\n",
       "      <td>en</td>\n",
       "      <td>1</td>\n",
       "      <td>2017-06-25 15:33:05</td>\n",
       "      <td>43.0</td>\n",
       "    </tr>\n",
       "  </tbody>\n",
       "</table>\n",
       "</div>"
      ],
      "text/plain": [
       "   name lang  bot           created_at  statuses_count\n",
       "0  Sara   en    1  2017-06-25 15:33:05            43.0"
      ]
     },
     "execution_count": 8,
     "metadata": {},
     "output_type": "execute_result"
    }
   ],
   "source": [
    "df_users.mode()"
   ]
  },
  {
   "cell_type": "markdown",
   "id": "dce8ca5c-57b7-41d8-8fae-252c67be45a5",
   "metadata": {},
   "source": [
    "# Users: Attributes analysis"
   ]
  },
  {
   "cell_type": "markdown",
   "id": "86215f31-97db-4538-8213-c931d6178e72",
   "metadata": {},
   "source": [
    "## Index"
   ]
  },
  {
   "cell_type": "code",
   "execution_count": 10,
   "id": "cc230a13-8460-459b-80c8-ade873042d9c",
   "metadata": {},
   "outputs": [
    {
     "data": {
      "text/plain": [
       "11508"
      ]
     },
     "execution_count": 10,
     "metadata": {},
     "output_type": "execute_result"
    }
   ],
   "source": [
    "len(df_users.index.unique())"
   ]
  },
  {
   "cell_type": "code",
   "execution_count": 11,
   "id": "7e8bd85c-4179-4d29-9292-d94c888a823e",
   "metadata": {},
   "outputs": [
    {
     "data": {
      "text/plain": [
       "dtype('int64')"
      ]
     },
     "execution_count": 11,
     "metadata": {},
     "output_type": "execute_result"
    }
   ],
   "source": [
    "df_users.index.dtype"
   ]
  },
  {
   "cell_type": "code",
   "execution_count": 63,
   "id": "4cefb905-e358-4302-81a0-c942d932e876",
   "metadata": {},
   "outputs": [
    {
     "data": {
      "text/plain": [
       "0"
      ]
     },
     "execution_count": 63,
     "metadata": {},
     "output_type": "execute_result"
    }
   ],
   "source": [
    "df_users.index.duplicated().sum()"
   ]
  },
  {
   "cell_type": "markdown",
   "id": "3a48bf6b-7c5c-4e32-b7e3-413ab6951f86",
   "metadata": {},
   "source": [
    "## Name"
   ]
  },
  {
   "cell_type": "code",
   "execution_count": 12,
   "id": "95d87b73-8d11-4455-8957-4b9e2448ccab",
   "metadata": {},
   "outputs": [
    {
     "name": "stdout",
     "output_type": "stream",
     "text": [
      "11361 unique names\n"
     ]
    }
   ],
   "source": [
    "print(len(df_users.name.unique()), \"unique names\") # please remember to do correlation between id and name and drop column if needed"
   ]
  },
  {
   "cell_type": "code",
   "execution_count": 13,
   "id": "7d239980-12ef-4752-85d6-0c56875a0ac9",
   "metadata": {},
   "outputs": [
    {
     "name": "stdout",
     "output_type": "stream",
     "text": [
      "1 missing names\n"
     ]
    },
    {
     "data": {
      "text/html": [
       "<div>\n",
       "<style scoped>\n",
       "    .dataframe tbody tr th:only-of-type {\n",
       "        vertical-align: middle;\n",
       "    }\n",
       "\n",
       "    .dataframe tbody tr th {\n",
       "        vertical-align: top;\n",
       "    }\n",
       "\n",
       "    .dataframe thead th {\n",
       "        text-align: right;\n",
       "    }\n",
       "</style>\n",
       "<table border=\"1\" class=\"dataframe\">\n",
       "  <thead>\n",
       "    <tr style=\"text-align: right;\">\n",
       "      <th></th>\n",
       "      <th>name</th>\n",
       "      <th>lang</th>\n",
       "      <th>bot</th>\n",
       "      <th>created_at</th>\n",
       "      <th>statuses_count</th>\n",
       "    </tr>\n",
       "    <tr>\n",
       "      <th>id</th>\n",
       "      <th></th>\n",
       "      <th></th>\n",
       "      <th></th>\n",
       "      <th></th>\n",
       "      <th></th>\n",
       "    </tr>\n",
       "  </thead>\n",
       "  <tbody>\n",
       "    <tr>\n",
       "      <th>2166124159</th>\n",
       "      <td>NaN</td>\n",
       "      <td>en</td>\n",
       "      <td>0</td>\n",
       "      <td>2018-11-02 06:39:14</td>\n",
       "      <td>6566.0</td>\n",
       "    </tr>\n",
       "  </tbody>\n",
       "</table>\n",
       "</div>"
      ],
      "text/plain": [
       "           name lang  bot           created_at  statuses_count\n",
       "id                                                            \n",
       "2166124159  NaN   en    0  2018-11-02 06:39:14          6566.0"
      ]
     },
     "execution_count": 13,
     "metadata": {},
     "output_type": "execute_result"
    }
   ],
   "source": [
    "print(df_users.name.isna().sum(), \"missing names\")\n",
    "df_users[df_users.name.isna()]"
   ]
  },
  {
   "cell_type": "markdown",
   "id": "2c0383c6-7010-44f5-b2d3-0aac9e97ecf4",
   "metadata": {},
   "source": [
    "## Lang"
   ]
  },
  {
   "cell_type": "code",
   "execution_count": 14,
   "id": "56401ec5-90f2-447e-a128-1f10a655c945",
   "metadata": {},
   "outputs": [
    {
     "name": "stdout",
     "output_type": "stream",
     "text": [
      "Languages: ['en' 'it' 'fr' 'ru' 'es' 'tr' 'en-gb' 'pt' 'nl' 'id' 'zh-tw' 'ja' 'de'\n",
      " 'ko' 'en-AU' 'da' 'ar' 'en-GB' 'Select Language...' 'zh-TW' 'zh-cn' 'pl'\n",
      " 'el' 'fil' 'sv' 'xx-lc']\n",
      "26 unique languages\n",
      "0 missing languages\n"
     ]
    }
   ],
   "source": [
    "uniqueLanguages = df_users.lang.unique()\n",
    "print(\"Languages:\", uniqueLanguages)\n",
    "print(len(uniqueLanguages), \"unique languages\")\n",
    "print(df_users.lang.isna().sum(), \"missing languages\")"
   ]
  },
  {
   "cell_type": "code",
   "execution_count": 16,
   "id": "e99b4962-1ca8-4be6-8293-3a19e806eaaf",
   "metadata": {},
   "outputs": [
    {
     "data": {
      "image/png": "[encoded data removed]",
      "text/plain": [
       "<Figure size 640x480 with 1 Axes>"
      ]
     },
     "metadata": {},
     "output_type": "display_data"
    }
   ],
   "source": [
    "df_users.lang.value_counts().plot(kind='bar', title='lang') \n",
    "plt.show()"
   ]
  },
  {
   "cell_type": "code",
   "execution_count": 17,
   "id": "72d9a82b-e3e0-40dd-9ccb-d9ba3d7109df",
   "metadata": {},
   "outputs": [
    {
     "data": {
      "text/plain": [
       "en                    9970\n",
       "it                     906\n",
       "es                     319\n",
       "pt                      65\n",
       "en-gb                   50\n",
       "ru                      42\n",
       "fr                      36\n",
       "ja                      33\n",
       "zh-tw                   17\n",
       "tr                      14\n",
       "id                      12\n",
       "ko                       9\n",
       "de                       8\n",
       "nl                       6\n",
       "en-GB                    4\n",
       "ar                       3\n",
       "zh-TW                    3\n",
       "da                       2\n",
       "Select Language...       2\n",
       "en-AU                    1\n",
       "zh-cn                    1\n",
       "pl                       1\n",
       "el                       1\n",
       "fil                      1\n",
       "sv                       1\n",
       "xx-lc                    1\n",
       "Name: lang, dtype: int64"
      ]
     },
     "execution_count": 17,
     "metadata": {},
     "output_type": "execute_result"
    }
   ],
   "source": [
    "languages_count = df_users.lang.value_counts()\n",
    "languages_count"
   ]
  },
  {
   "cell_type": "code",
   "execution_count": 19,
   "id": "3def8074-7e4c-4879-b895-9c320f0b23e8",
   "metadata": {},
   "outputs": [
    {
     "name": "stdout",
     "output_type": "stream",
     "text": [
      "There are 2 invalid languages, 'Select Language...' and 'xx-lc'. There is a total of 3 users with invalid entries\n"
     ]
    }
   ],
   "source": [
    "invalidLanguageUsers = languages_count['Select Language...'] + languages_count['xx-lc']\n",
    "print(\"There are 2 invalid languages, 'Select Language...' and 'xx-lc'. There is a total of\", invalidLanguageUsers, \"users with invalid entries\")"
   ]
  },
  {
   "cell_type": "code",
   "execution_count": 21,
   "id": "2fa35261-748f-4032-9cdd-7988bb21094e",
   "metadata": {},
   "outputs": [
    {
     "data": {
      "text/html": [
       "<div>\n",
       "<style scoped>\n",
       "    .dataframe tbody tr th:only-of-type {\n",
       "        vertical-align: middle;\n",
       "    }\n",
       "\n",
       "    .dataframe tbody tr th {\n",
       "        vertical-align: top;\n",
       "    }\n",
       "\n",
       "    .dataframe thead th {\n",
       "        text-align: right;\n",
       "    }\n",
       "</style>\n",
       "<table border=\"1\" class=\"dataframe\">\n",
       "  <thead>\n",
       "    <tr style=\"text-align: right;\">\n",
       "      <th></th>\n",
       "      <th>name</th>\n",
       "      <th>lang</th>\n",
       "      <th>bot</th>\n",
       "      <th>created_at</th>\n",
       "      <th>statuses_count</th>\n",
       "    </tr>\n",
       "    <tr>\n",
       "      <th>id</th>\n",
       "      <th></th>\n",
       "      <th></th>\n",
       "      <th></th>\n",
       "      <th></th>\n",
       "      <th></th>\n",
       "    </tr>\n",
       "  </thead>\n",
       "  <tbody>\n",
       "    <tr>\n",
       "      <th>2956613720</th>\n",
       "      <td>Leanne Arker</td>\n",
       "      <td>Select Language...</td>\n",
       "      <td>0</td>\n",
       "      <td>2020-01-05 00:09:59</td>\n",
       "      <td>57.0</td>\n",
       "    </tr>\n",
       "    <tr>\n",
       "      <th>2904858613</th>\n",
       "      <td>Brooke</td>\n",
       "      <td>Select Language...</td>\n",
       "      <td>0</td>\n",
       "      <td>2019-11-22 05:44:46</td>\n",
       "      <td>85.0</td>\n",
       "    </tr>\n",
       "    <tr>\n",
       "      <th>29552151</th>\n",
       "      <td>Chloe</td>\n",
       "      <td>xx-lc</td>\n",
       "      <td>0</td>\n",
       "      <td>2014-04-09 21:36:02</td>\n",
       "      <td>15398.0</td>\n",
       "    </tr>\n",
       "  </tbody>\n",
       "</table>\n",
       "</div>"
      ],
      "text/plain": [
       "                    name                lang  bot           created_at  \\\n",
       "id                                                                       \n",
       "2956613720  Leanne Arker  Select Language...    0  2020-01-05 00:09:59   \n",
       "2904858613        Brooke  Select Language...    0  2019-11-22 05:44:46   \n",
       "29552151          Chloe                xx-lc    0  2014-04-09 21:36:02   \n",
       "\n",
       "            statuses_count  \n",
       "id                          \n",
       "2956613720            57.0  \n",
       "2904858613            85.0  \n",
       "29552151           15398.0  "
      ]
     },
     "execution_count": 21,
     "metadata": {},
     "output_type": "execute_result"
    }
   ],
   "source": [
    "usersWithInvalidLanguage = df_users.query(\"lang == 'Select Language...' | lang == 'xx-lc'\")\n",
    "usersWithInvalidLanguage"
   ]
  },
  {
   "cell_type": "markdown",
   "id": "7bbe5427-c521-40a7-b88e-d330b7c1a920",
   "metadata": {},
   "source": [
    "## Bot"
   ]
  },
  {
   "cell_type": "code",
   "execution_count": 22,
   "id": "07e393e2-7768-4089-bf0d-0af007582c29",
   "metadata": {},
   "outputs": [
    {
     "data": {
      "text/plain": [
       "array([1, 0])"
      ]
     },
     "execution_count": 22,
     "metadata": {},
     "output_type": "execute_result"
    }
   ],
   "source": [
    "df_users.bot.unique()"
   ]
  },
  {
   "cell_type": "code",
   "execution_count": 23,
   "id": "806200ec-4cb9-4ffa-8fd5-9217f691d206",
   "metadata": {},
   "outputs": [
    {
     "data": {
      "text/plain": [
       "1    6116\n",
       "0    5392\n",
       "Name: bot, dtype: int64"
      ]
     },
     "execution_count": 23,
     "metadata": {},
     "output_type": "execute_result"
    }
   ],
   "source": [
    "df_users.bot.value_counts()"
   ]
  },
  {
   "cell_type": "code",
   "execution_count": 24,
   "id": "5aa1083c-9e9e-408d-b918-2458755bf408",
   "metadata": {},
   "outputs": [
    {
     "name": "stdout",
     "output_type": "stream",
     "text": [
      "0 missing bot attributes\n"
     ]
    }
   ],
   "source": [
    "print(df_users.bot.isna().sum(), \"missing bot attributes\")"
   ]
  },
  {
   "cell_type": "code",
   "execution_count": 33,
   "id": "6a0de52c-efdc-40db-9539-b4e59e029729",
   "metadata": {},
   "outputs": [
    {
     "name": "stdout",
     "output_type": "stream",
     "text": [
      "14 languages 'spoken' by bots: ['en' 'it' 'fr' 'ru' 'es' 'pt' 'tr' 'ko' 'de' 'id' 'ja' 'nl' 'zh-cn'\n",
      " 'en-gb']\n"
     ]
    }
   ],
   "source": [
    "bots=df_users[df_users.bot==1]\n",
    "real_users=df_users[df_users.bot==0]\n",
    "print(len(bots.lang.unique()), \"languages 'spoken' by bots:\", bots.lang.unique())"
   ]
  },
  {
   "cell_type": "code",
   "execution_count": 27,
   "id": "4c21544a-fb1f-408c-ab93-6ecb3b8c6403",
   "metadata": {},
   "outputs": [
    {
     "data": {
      "image/png": "[encoded data removed]",
      "text/plain": [
       "<Figure size 640x480 with 1 Axes>"
      ]
     },
     "metadata": {},
     "output_type": "display_data"
    }
   ],
   "source": [
    "bots.lang.value_counts().plot(kind='bar', title='Bot language') \n",
    "plt.show()"
   ]
  },
  {
   "cell_type": "markdown",
   "id": "34cb4a51-6ae9-45a5-84c6-980ae32f8db9",
   "metadata": {},
   "source": [
    "## Created_at"
   ]
  },
  {
   "cell_type": "code",
   "execution_count": 28,
   "id": "bac3d8c4-b6a8-4f55-959e-822cd92c0a29",
   "metadata": {},
   "outputs": [
    {
     "name": "stdout",
     "output_type": "stream",
     "text": [
      "0 missing created_at attributes\n"
     ]
    }
   ],
   "source": [
    "print(df_users.created_at.isna().sum(), \"missing created_at attributes\")"
   ]
  },
  {
   "cell_type": "code",
   "execution_count": 30,
   "id": "58edf647-43e1-443c-a1b0-7dd2fdbc772d",
   "metadata": {},
   "outputs": [
    {
     "data": {
      "text/plain": [
       "name                      object\n",
       "lang                      object\n",
       "bot                        int64\n",
       "created_at        datetime64[ns]\n",
       "statuses_count           float64\n",
       "dtype: object"
      ]
     },
     "execution_count": 30,
     "metadata": {},
     "output_type": "execute_result"
    }
   ],
   "source": [
    "df_users.created_at = pd.to_datetime(df_users.created_at, format='%Y-%m-%d %H:%M:%S')\n",
    "df_users.dtypes"
   ]
  },
  {
   "cell_type": "code",
   "execution_count": 31,
   "id": "ed9a96ed-f890-4d9c-8aac-ac2cb656b8d9",
   "metadata": {},
   "outputs": [
    {
     "data": {
      "text/plain": [
       "array(['2019-02-22T18:00:42.000000000', '2019-02-26T03:02:32.000000000',\n",
       "       '2015-04-30T07:09:56.000000000', ...,\n",
       "       '2015-03-29T17:01:24.000000000', '2019-03-13T02:44:13.000000000',\n",
       "       '2017-11-09T23:24:16.000000000'], dtype='datetime64[ns]')"
      ]
     },
     "execution_count": 31,
     "metadata": {},
     "output_type": "execute_result"
    }
   ],
   "source": [
    "df_users.created_at.unique()"
   ]
  },
  {
   "cell_type": "code",
   "execution_count": 32,
   "id": "1f715dc8-77c7-4ae7-917f-e7ea70055b07",
   "metadata": {},
   "outputs": [
    {
     "data": {
      "text/plain": [
       "2017-06-25 15:33:05    5\n",
       "2017-06-25 15:46:48    4\n",
       "2017-06-25 15:46:43    4\n",
       "2017-06-25 15:48:32    3\n",
       "2017-06-25 15:49:23    2\n",
       "                      ..\n",
       "2018-02-15 08:33:00    1\n",
       "2014-08-08 12:47:25    1\n",
       "2017-06-26 07:20:41    1\n",
       "2019-02-22 05:36:50    1\n",
       "2017-11-09 23:24:16    1\n",
       "Name: created_at, Length: 11423, dtype: int64"
      ]
     },
     "execution_count": 32,
     "metadata": {},
     "output_type": "execute_result"
    }
   ],
   "source": [
    "df_users.created_at.value_counts()"
   ]
  },
  {
   "cell_type": "code",
   "execution_count": 34,
   "id": "48a0e667-42d4-4997-8d79-21dd22703b23",
   "metadata": {},
   "outputs": [
    {
     "data": {
      "text/plain": [
       "2017-06-25 15:48:32    2\n",
       "2018-02-15 09:57:21    2\n",
       "2017-06-25 15:47:49    2\n",
       "2018-02-15 08:10:57    2\n",
       "2019-02-26 03:02:32    1\n",
       "                      ..\n",
       "2018-04-15 22:21:01    1\n",
       "2018-07-27 14:25:40    1\n",
       "2015-06-25 19:01:20    1\n",
       "2019-03-14 02:32:29    1\n",
       "2017-11-09 23:24:16    1\n",
       "Name: created_at, Length: 5388, dtype: int64"
      ]
     },
     "execution_count": 34,
     "metadata": {},
     "output_type": "execute_result"
    }
   ],
   "source": [
    "real_users.created_at.value_counts()"
   ]
  },
  {
   "cell_type": "code",
   "execution_count": 38,
   "id": "5d9606b7-7e8a-42f1-afbb-06cda7d47a1e",
   "metadata": {},
   "outputs": [
    {
     "data": {
      "text/html": [
       "<div>\n",
       "<style scoped>\n",
       "    .dataframe tbody tr th:only-of-type {\n",
       "        vertical-align: middle;\n",
       "    }\n",
       "\n",
       "    .dataframe tbody tr th {\n",
       "        vertical-align: top;\n",
       "    }\n",
       "\n",
       "    .dataframe thead th {\n",
       "        text-align: right;\n",
       "    }\n",
       "</style>\n",
       "<table border=\"1\" class=\"dataframe\">\n",
       "  <thead>\n",
       "    <tr style=\"text-align: right;\">\n",
       "      <th></th>\n",
       "      <th>day</th>\n",
       "      <th>count</th>\n",
       "    </tr>\n",
       "  </thead>\n",
       "  <tbody>\n",
       "    <tr>\n",
       "      <th>0</th>\n",
       "      <td>Friday</td>\n",
       "      <td>1341</td>\n",
       "    </tr>\n",
       "    <tr>\n",
       "      <th>1</th>\n",
       "      <td>Monday</td>\n",
       "      <td>1560</td>\n",
       "    </tr>\n",
       "    <tr>\n",
       "      <th>2</th>\n",
       "      <td>Saturday</td>\n",
       "      <td>1093</td>\n",
       "    </tr>\n",
       "    <tr>\n",
       "      <th>3</th>\n",
       "      <td>Sunday</td>\n",
       "      <td>1555</td>\n",
       "    </tr>\n",
       "    <tr>\n",
       "      <th>4</th>\n",
       "      <td>Thursday</td>\n",
       "      <td>2453</td>\n",
       "    </tr>\n",
       "    <tr>\n",
       "      <th>5</th>\n",
       "      <td>Tuesday</td>\n",
       "      <td>1731</td>\n",
       "    </tr>\n",
       "    <tr>\n",
       "      <th>6</th>\n",
       "      <td>Wednesday</td>\n",
       "      <td>1775</td>\n",
       "    </tr>\n",
       "  </tbody>\n",
       "</table>\n",
       "</div>"
      ],
      "text/plain": [
       "         day  count\n",
       "0     Friday   1341\n",
       "1     Monday   1560\n",
       "2   Saturday   1093\n",
       "3     Sunday   1555\n",
       "4   Thursday   2453\n",
       "5    Tuesday   1731\n",
       "6  Wednesday   1775"
      ]
     },
     "execution_count": 38,
     "metadata": {},
     "output_type": "execute_result"
    }
   ],
   "source": [
    "# Group by day of the week\n",
    "created_at_by_day = df_users.groupby([df_users.created_at.dt.day_name().rename(\"day\")]).created_at.agg(count=\"count\").reset_index()\n",
    "created_at_by_day"
   ]
  },
  {
   "cell_type": "code",
   "execution_count": 39,
   "id": "11a3e1de-6e8e-47e1-be6e-9bde26c48932",
   "metadata": {},
   "outputs": [
    {
     "data": {
      "image/png": "[encoded data removed]",
      "text/plain": [
       "<Figure size 640x480 with 1 Axes>"
      ]
     },
     "metadata": {},
     "output_type": "display_data"
    }
   ],
   "source": [
    "created_at_by_day.plot(kind='bar', title='Day of the week', x=\"day\", y=\"count\")\n",
    "plt.ylabel(\"count\")\n",
    "plt.show()"
   ]
  },
  {
   "cell_type": "code",
   "execution_count": 40,
   "id": "8a6b5574-15d3-4fba-9b97-c48abedcd556",
   "metadata": {},
   "outputs": [
    {
     "data": {
      "text/html": [
       "<div>\n",
       "<style scoped>\n",
       "    .dataframe tbody tr th:only-of-type {\n",
       "        vertical-align: middle;\n",
       "    }\n",
       "\n",
       "    .dataframe tbody tr th {\n",
       "        vertical-align: top;\n",
       "    }\n",
       "\n",
       "    .dataframe thead th {\n",
       "        text-align: right;\n",
       "    }\n",
       "</style>\n",
       "<table border=\"1\" class=\"dataframe\">\n",
       "  <thead>\n",
       "    <tr style=\"text-align: right;\">\n",
       "      <th></th>\n",
       "      <th>month</th>\n",
       "      <th>count</th>\n",
       "    </tr>\n",
       "  </thead>\n",
       "  <tbody>\n",
       "    <tr>\n",
       "      <th>0</th>\n",
       "      <td>April</td>\n",
       "      <td>489</td>\n",
       "    </tr>\n",
       "    <tr>\n",
       "      <th>1</th>\n",
       "      <td>August</td>\n",
       "      <td>344</td>\n",
       "    </tr>\n",
       "    <tr>\n",
       "      <th>2</th>\n",
       "      <td>December</td>\n",
       "      <td>360</td>\n",
       "    </tr>\n",
       "    <tr>\n",
       "      <th>3</th>\n",
       "      <td>February</td>\n",
       "      <td>3098</td>\n",
       "    </tr>\n",
       "    <tr>\n",
       "      <th>4</th>\n",
       "      <td>January</td>\n",
       "      <td>1483</td>\n",
       "    </tr>\n",
       "    <tr>\n",
       "      <th>5</th>\n",
       "      <td>July</td>\n",
       "      <td>539</td>\n",
       "    </tr>\n",
       "    <tr>\n",
       "      <th>6</th>\n",
       "      <td>June</td>\n",
       "      <td>1530</td>\n",
       "    </tr>\n",
       "    <tr>\n",
       "      <th>7</th>\n",
       "      <td>March</td>\n",
       "      <td>2178</td>\n",
       "    </tr>\n",
       "    <tr>\n",
       "      <th>8</th>\n",
       "      <td>May</td>\n",
       "      <td>459</td>\n",
       "    </tr>\n",
       "    <tr>\n",
       "      <th>9</th>\n",
       "      <td>November</td>\n",
       "      <td>354</td>\n",
       "    </tr>\n",
       "    <tr>\n",
       "      <th>10</th>\n",
       "      <td>October</td>\n",
       "      <td>334</td>\n",
       "    </tr>\n",
       "    <tr>\n",
       "      <th>11</th>\n",
       "      <td>September</td>\n",
       "      <td>340</td>\n",
       "    </tr>\n",
       "  </tbody>\n",
       "</table>\n",
       "</div>"
      ],
      "text/plain": [
       "        month  count\n",
       "0       April    489\n",
       "1      August    344\n",
       "2    December    360\n",
       "3    February   3098\n",
       "4     January   1483\n",
       "5        July    539\n",
       "6        June   1530\n",
       "7       March   2178\n",
       "8         May    459\n",
       "9    November    354\n",
       "10    October    334\n",
       "11  September    340"
      ]
     },
     "execution_count": 40,
     "metadata": {},
     "output_type": "execute_result"
    }
   ],
   "source": [
    "# Group by month\n",
    "created_at_by_month = df_users.groupby([df_users.created_at.dt.month_name().rename(\"month\")]).created_at.agg(count=\"count\").reset_index()\n",
    "created_at_by_month"
   ]
  },
  {
   "cell_type": "code",
   "execution_count": 41,
   "id": "f44cbbea-8334-4d9b-8b07-975cbe435651",
   "metadata": {},
   "outputs": [
    {
     "data": {
      "image/png": "[encoded data removed]",
      "text/plain": [
       "<Figure size 640x480 with 1 Axes>"
      ]
     },
     "metadata": {},
     "output_type": "display_data"
    }
   ],
   "source": [
    "created_at_by_month.plot(kind='bar', title='Month', x=\"month\", y=\"count\")\n",
    "plt.ylabel(\"count\")\n",
    "plt.show()"
   ]
  },
  {
   "cell_type": "code",
   "execution_count": 42,
   "id": "0cfdf1e0-4b25-4312-b2a0-07afa2798639",
   "metadata": {},
   "outputs": [
    {
     "data": {
      "text/html": [
       "<div>\n",
       "<style scoped>\n",
       "    .dataframe tbody tr th:only-of-type {\n",
       "        vertical-align: middle;\n",
       "    }\n",
       "\n",
       "    .dataframe tbody tr th {\n",
       "        vertical-align: top;\n",
       "    }\n",
       "\n",
       "    .dataframe thead th {\n",
       "        text-align: right;\n",
       "    }\n",
       "</style>\n",
       "<table border=\"1\" class=\"dataframe\">\n",
       "  <thead>\n",
       "    <tr style=\"text-align: right;\">\n",
       "      <th></th>\n",
       "      <th>year</th>\n",
       "      <th>count</th>\n",
       "    </tr>\n",
       "  </thead>\n",
       "  <tbody>\n",
       "    <tr>\n",
       "      <th>0</th>\n",
       "      <td>2012</td>\n",
       "      <td>35</td>\n",
       "    </tr>\n",
       "    <tr>\n",
       "      <th>1</th>\n",
       "      <td>2013</td>\n",
       "      <td>115</td>\n",
       "    </tr>\n",
       "    <tr>\n",
       "      <th>2</th>\n",
       "      <td>2014</td>\n",
       "      <td>720</td>\n",
       "    </tr>\n",
       "    <tr>\n",
       "      <th>3</th>\n",
       "      <td>2015</td>\n",
       "      <td>720</td>\n",
       "    </tr>\n",
       "    <tr>\n",
       "      <th>4</th>\n",
       "      <td>2016</td>\n",
       "      <td>979</td>\n",
       "    </tr>\n",
       "    <tr>\n",
       "      <th>5</th>\n",
       "      <td>2017</td>\n",
       "      <td>2872</td>\n",
       "    </tr>\n",
       "    <tr>\n",
       "      <th>6</th>\n",
       "      <td>2018</td>\n",
       "      <td>1994</td>\n",
       "    </tr>\n",
       "    <tr>\n",
       "      <th>7</th>\n",
       "      <td>2019</td>\n",
       "      <td>3935</td>\n",
       "    </tr>\n",
       "    <tr>\n",
       "      <th>8</th>\n",
       "      <td>2020</td>\n",
       "      <td>138</td>\n",
       "    </tr>\n",
       "  </tbody>\n",
       "</table>\n",
       "</div>"
      ],
      "text/plain": [
       "   year  count\n",
       "0  2012     35\n",
       "1  2013    115\n",
       "2  2014    720\n",
       "3  2015    720\n",
       "4  2016    979\n",
       "5  2017   2872\n",
       "6  2018   1994\n",
       "7  2019   3935\n",
       "8  2020    138"
      ]
     },
     "execution_count": 42,
     "metadata": {},
     "output_type": "execute_result"
    }
   ],
   "source": [
    "# Group by year\n",
    "created_at_by_year = df_users.groupby([df_users.created_at.dt.year.rename(\"year\")]).created_at.agg(count=\"count\").reset_index()\n",
    "created_at_by_year"
   ]
  },
  {
   "cell_type": "code",
   "execution_count": 43,
   "id": "692609d4-021c-4c65-9601-3d017e6ddd77",
   "metadata": {},
   "outputs": [
    {
     "data": {
      "image/png": "[encoded data removed]",
      "text/plain": [
       "<Figure size 640x480 with 1 Axes>"
      ]
     },
     "metadata": {},
     "output_type": "display_data"
    }
   ],
   "source": [
    "created_at_by_year.plot(kind='bar', title='Year', x=\"year\", y=\"count\")\n",
    "plt.ylabel(\"count\")\n",
    "plt.show()"
   ]
  },
  {
   "cell_type": "code",
   "execution_count": 44,
   "id": "6c5d55a8-c8c1-4f30-a36a-4068148f6ca7",
   "metadata": {},
   "outputs": [
    {
     "data": {
      "text/plain": [
       "Timestamp('2020-04-21 07:28:31')"
      ]
     },
     "execution_count": 44,
     "metadata": {},
     "output_type": "execute_result"
    }
   ],
   "source": [
    "df_users.created_at.max()"
   ]
  },
  {
   "cell_type": "code",
   "execution_count": 45,
   "id": "cba8019d-6d98-4559-b529-7be5df0fec65",
   "metadata": {},
   "outputs": [
    {
     "data": {
      "text/plain": [
       "Timestamp('2012-01-24 01:57:38')"
      ]
     },
     "execution_count": 45,
     "metadata": {},
     "output_type": "execute_result"
    }
   ],
   "source": [
    "df_users.created_at.min()"
   ]
  },
  {
   "cell_type": "markdown",
   "id": "b13aab71-df84-4a42-91b5-733eef6492ab",
   "metadata": {},
   "source": [
    "## Statuses_count"
   ]
  },
  {
   "cell_type": "code",
   "execution_count": 46,
   "id": "603b3ad1-28ee-45ee-993d-6a520ac66836",
   "metadata": {},
   "outputs": [
    {
     "name": "stdout",
     "output_type": "stream",
     "text": [
      "399 missing statuses_count values\n"
     ]
    }
   ],
   "source": [
    "print(df_users.statuses_count.isna().sum(), \"missing statuses_count values\")"
   ]
  },
  {
   "cell_type": "code",
   "execution_count": 47,
   "id": "8bb459a2-665f-42c2-9d28-1fbb4d6e15f6",
   "metadata": {},
   "outputs": [
    {
     "name": "stdout",
     "output_type": "stream",
     "text": [
      "Some records have float status_count attribute\n"
     ]
    }
   ],
   "source": [
    "if df_users.statuses_count.apply(float.is_integer).all():\n",
    "    print(\"All the records have integer status_count attribute\")\n",
    "else:\n",
    "    print(\"Some records have float status_count attribute\")"
   ]
  },
  {
   "cell_type": "code",
   "execution_count": 48,
   "id": "66fc7d7d-4c22-4639-bde9-7f62d69124a6",
   "metadata": {},
   "outputs": [
    {
     "data": {
      "text/plain": [
       "399555.0"
      ]
     },
     "execution_count": 48,
     "metadata": {},
     "output_type": "execute_result"
    }
   ],
   "source": [
    "df_users.statuses_count[df_users.statuses_count.notna()].max()"
   ]
  },
  {
   "cell_type": "code",
   "execution_count": 50,
   "id": "67413a38-9a23-493c-b3b8-ad8c5fed0112",
   "metadata": {},
   "outputs": [
    {
     "name": "stdout",
     "output_type": "stream",
     "text": [
      "Number of bins: 13\n"
     ]
    },
    {
     "data": {
      "image/png": "[encoded data removed]",
      "text/plain": [
       "<Figure size 640x480 with 1 Axes>"
      ]
     },
     "metadata": {},
     "output_type": "display_data"
    }
   ],
   "source": [
    "bots_log_statuses_count = pd.DataFrame(np.log10(1+bots.statuses_count[bots.statuses_count.notna()]))\n",
    "numberOfBins = int(np.log2(len(bots.statuses_count[bots.statuses_count.notna()])) + 1)\n",
    "print(\"Number of bins:\", numberOfBins)\n",
    "bots_log_statuses_count.statuses_count.plot(kind='hist', title='Bots: statuses_count', bins=numberOfBins)\n",
    "plt.ylabel(\"count\")\n",
    "plt.show()"
   ]
  },
  {
   "cell_type": "code",
   "execution_count": 51,
   "id": "a9571ff6-060a-4055-b5ea-18795a3fc983",
   "metadata": {},
   "outputs": [
    {
     "data": {
      "text/plain": [
       "<AxesSubplot: >"
      ]
     },
     "execution_count": 51,
     "metadata": {},
     "output_type": "execute_result"
    },
    {
     "data": {
      "image/png": "[encoded data removed]",
      "text/plain": [
       "<Figure size 640x480 with 1 Axes>"
      ]
     },
     "metadata": {},
     "output_type": "display_data"
    }
   ],
   "source": [
    "bots_log_statuses_count.boxplot(column='statuses_count')"
   ]
  },
  {
   "cell_type": "code",
   "execution_count": 52,
   "id": "30bd53a5-89a6-47c3-892b-8c5db04b709d",
   "metadata": {},
   "outputs": [
    {
     "name": "stdout",
     "output_type": "stream",
     "text": [
      "Number of bins: 13\n"
     ]
    },
    {
     "data": {
      "image/png": "[encoded data removed]",
      "text/plain": [
       "<Figure size 640x480 with 1 Axes>"
      ]
     },
     "metadata": {},
     "output_type": "display_data"
    }
   ],
   "source": [
    "real_users_log_statuses_count = pd.DataFrame(np.log10(1+real_users.statuses_count[real_users.statuses_count.notna()]))\n",
    "numberOfBins = int(np.log2(len(real_users.statuses_count[real_users.statuses_count.notna()])) + 1)\n",
    "print(\"Number of bins:\", numberOfBins)\n",
    "real_users_log_statuses_count.statuses_count.plot(kind='hist', title='Real users: statuses_count', bins=numberOfBins)\n",
    "plt.ylabel(\"count\")\n",
    "plt.show()"
   ]
  },
  {
   "cell_type": "code",
   "execution_count": 53,
   "id": "a334e0fe-db03-45f9-8e94-714d72a54f7c",
   "metadata": {},
   "outputs": [
    {
     "data": {
      "text/plain": [
       "<AxesSubplot: >"
      ]
     },
     "execution_count": 53,
     "metadata": {},
     "output_type": "execute_result"
    },
    {
     "data": {
      "image/png": "[encoded data removed]",
      "text/plain": [
       "<Figure size 640x480 with 1 Axes>"
      ]
     },
     "metadata": {},
     "output_type": "display_data"
    }
   ],
   "source": [
    "real_users_log_statuses_count.boxplot(column='statuses_count')"
   ]
  },
  {
   "cell_type": "code",
   "execution_count": 58,
   "id": "0be517e2-f7cc-4652-b4d1-c394b6c6498d",
   "metadata": {},
   "outputs": [
    {
     "name": "stdout",
     "output_type": "stream",
     "text": [
      "Number of bins: 14\n"
     ]
    },
    {
     "data": {
      "image/png": "[encoded data removed]",
      "text/plain": [
       "<Figure size 640x480 with 1 Axes>"
      ]
     },
     "metadata": {},
     "output_type": "display_data"
    }
   ],
   "source": [
    "log_statuses_count = pd.DataFrame(np.log10(1+df_users.statuses_count[df_users.statuses_count.notna()]))\n",
    "numberOfBins = int(np.log2(len(df_users.statuses_count[df_users.statuses_count.notna()])) + 1)\n",
    "print(\"Number of bins:\", numberOfBins)\n",
    "log_statuses_count.statuses_count.plot(kind='hist', title='Bots and real users: statuses_count', bins=numberOfBins)\n",
    "plt.ylabel(\"count\")\n",
    "plt.show()"
   ]
  },
  {
   "cell_type": "code",
   "execution_count": 55,
   "id": "bd9dae05-9e87-4b39-9f33-8eae5b4fbf5e",
   "metadata": {},
   "outputs": [
    {
     "data": {
      "text/plain": [
       "<AxesSubplot: >"
      ]
     },
     "execution_count": 55,
     "metadata": {},
     "output_type": "execute_result"
    },
    {
     "data": {
      "image/png": "[encoded data removed]",
      "text/plain": [
       "<Figure size 640x480 with 1 Axes>"
      ]
     },
     "metadata": {},
     "output_type": "display_data"
    }
   ],
   "source": [
    "log_statuses_count.boxplot(column='statuses_count')"
   ]
  },
  {
   "cell_type": "code",
   "execution_count": 60,
   "id": "19f927ee-823c-473d-96f1-ef5d33653baf",
   "metadata": {},
   "outputs": [
    {
     "data": {
      "text/plain": [
       "count      6116.000000\n",
       "mean       1185.102845\n",
       "std        5373.550630\n",
       "min           0.000000\n",
       "25%          32.000000\n",
       "50%          53.000000\n",
       "75%          78.000000\n",
       "max      214410.000000\n",
       "Name: statuses_count, dtype: float64"
      ]
     },
     "execution_count": 60,
     "metadata": {},
     "output_type": "execute_result"
    }
   ],
   "source": [
    "bots.statuses_count.describe()"
   ]
  },
  {
   "cell_type": "code",
   "execution_count": 59,
   "id": "e2b6c370-62a3-4a78-8071-2a553628edb6",
   "metadata": {},
   "outputs": [
    {
     "data": {
      "text/plain": [
       "count      4993.000000\n",
       "mean      11638.219107\n",
       "std       26719.438432\n",
       "min           0.000000\n",
       "25%          61.000000\n",
       "50%        2041.000000\n",
       "75%       11585.000000\n",
       "max      399555.000000\n",
       "Name: statuses_count, dtype: float64"
      ]
     },
     "execution_count": 59,
     "metadata": {},
     "output_type": "execute_result"
    }
   ],
   "source": [
    "real_users.statuses_count.describe()"
   ]
  }
 ],
 "metadata": {
  "kernelspec": {
   "display_name": "Python 3.9.7 64-bit",
   "language": "python",
   "name": "python3"
  },
  "language_info": {
   "codemirror_mode": {
    "name": "ipython",
    "version": 3
   },
   "file_extension": ".py",
   "mimetype": "text/x-python",
   "name": "python",
   "nbconvert_exporter": "python",
   "pygments_lexer": "ipython3",
   "version": "3.9.7"
  },
  "vscode": {
   "interpreter": {
    "hash": "52f9e5fb104abb86985542e340745a7848af4e25021bc2422cc3c824cc2c2e3b"
   }
  }
 },
 "nbformat": 4,
 "nbformat_minor": 5
}
